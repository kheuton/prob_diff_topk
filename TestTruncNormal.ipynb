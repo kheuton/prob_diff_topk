{
 "cells": [
  {
   "cell_type": "code",
   "execution_count": 1,
   "metadata": {},
   "outputs": [
    {
     "name": "stderr",
     "output_type": "stream",
     "text": [
      "2024-07-12 14:59:14.718227: I tensorflow/core/util/port.cc:113] oneDNN custom operations are on. You may see slightly different numerical results due to floating-point round-off errors from different computation orders. To turn them off, set the environment variable `TF_ENABLE_ONEDNN_OPTS=0`.\n",
      "2024-07-12 14:59:14.767742: E external/local_xla/xla/stream_executor/cuda/cuda_dnn.cc:9261] Unable to register cuDNN factory: Attempting to register factory for plugin cuDNN when one has already been registered\n",
      "2024-07-12 14:59:14.767777: E external/local_xla/xla/stream_executor/cuda/cuda_fft.cc:607] Unable to register cuFFT factory: Attempting to register factory for plugin cuFFT when one has already been registered\n",
      "2024-07-12 14:59:14.768807: E external/local_xla/xla/stream_executor/cuda/cuda_blas.cc:1515] Unable to register cuBLAS factory: Attempting to register factory for plugin cuBLAS when one has already been registered\n",
      "2024-07-12 14:59:14.776295: I tensorflow/core/platform/cpu_feature_guard.cc:182] This TensorFlow binary is optimized to use available CPU instructions in performance-critical operations.\n",
      "To enable the following instructions: AVX2 AVX512F AVX512_VNNI FMA, in other operations, rebuild TensorFlow with the appropriate compiler flags.\n",
      "2024-07-12 14:59:24.720087: W tensorflow/compiler/tf2tensorrt/utils/py_utils.cc:38] TF-TRT Warning: Could not find TensorRT\n"
     ]
    }
   ],
   "source": [
    "%load_ext autoreload\n",
    "%autoreload 2\n",
    "\n",
    "\n",
    "import torch\n",
    "\n",
    "import torch.nn as nn\n",
    "from torch.distributions import Categorical, Poisson, MixtureSameFamily\n",
    "from matplotlib import pyplot as plt\n",
    "\n",
    "\n",
    "# Cd to code\n",
    "import os\n",
    "import sys\n",
    "os.chdir('/cluster/home/kheuto01/code/prob_diff_topk')\n",
    "sys.path.append('/cluster/home/kheuto01/code/prob_diff_topk')\n",
    "\n",
    "from datasets import example_datasets, to_numpy\n",
    "from torch_perturb.torch_pert_topk import PerturbedTopK\n",
    "from torch_models import MixtureOfPoissonsModel, torch_bpr_uncurried\n",
    "from torch_distributions import TruncatedNormal"
   ]
  },
  {
   "cell_type": "code",
   "execution_count": 16,
   "metadata": {},
   "outputs": [],
   "source": [
    "mydist = TruncatedNormal(loc=0., scale=0.005, a=-0.2, b=.2)"
   ]
  },
  {
   "cell_type": "code",
   "execution_count": 17,
   "metadata": {},
   "outputs": [
    {
     "data": {
      "text/plain": [
       "(array([1.000e+00, 0.000e+00, 0.000e+00, 2.000e+00, 3.000e+00, 2.000e+00,\n",
       "        3.000e+00, 9.000e+00, 7.000e+00, 8.000e+00, 8.000e+00, 1.200e+01,\n",
       "        2.400e+01, 2.200e+01, 3.500e+01, 4.300e+01, 6.400e+01, 7.700e+01,\n",
       "        7.700e+01, 1.170e+02, 1.420e+02, 1.780e+02, 2.370e+02, 2.520e+02,\n",
       "        2.850e+02, 3.880e+02, 4.320e+02, 5.000e+02, 5.840e+02, 7.230e+02,\n",
       "        7.560e+02, 9.320e+02, 1.052e+03, 1.233e+03, 1.355e+03, 1.500e+03,\n",
       "        1.650e+03, 1.830e+03, 1.964e+03, 2.223e+03, 2.358e+03, 2.428e+03,\n",
       "        2.647e+03, 2.929e+03, 2.998e+03, 3.057e+03, 3.243e+03, 3.242e+03,\n",
       "        3.390e+03, 3.433e+03, 3.395e+03, 3.324e+03, 3.354e+03, 3.340e+03,\n",
       "        3.192e+03, 3.014e+03, 2.981e+03, 2.860e+03, 2.695e+03, 2.510e+03,\n",
       "        2.358e+03, 2.214e+03, 1.987e+03, 1.881e+03, 1.578e+03, 1.449e+03,\n",
       "        1.360e+03, 1.212e+03, 1.043e+03, 9.390e+02, 7.490e+02, 7.150e+02,\n",
       "        5.600e+02, 4.960e+02, 4.160e+02, 3.800e+02, 3.040e+02, 2.410e+02,\n",
       "        2.060e+02, 1.620e+02, 1.470e+02, 1.070e+02, 9.100e+01, 6.600e+01,\n",
       "        5.400e+01, 4.400e+01, 3.100e+01, 2.400e+01, 2.300e+01, 1.100e+01,\n",
       "        1.000e+01, 6.000e+00, 2.000e+00, 5.000e+00, 3.000e+00, 3.000e+00,\n",
       "        1.000e+00, 0.000e+00, 1.000e+00, 1.000e+00]),\n",
       " array([-0.02144174, -0.02101633, -0.02059092, -0.0201655 , -0.01974009,\n",
       "        -0.01931467, -0.01888926, -0.01846385, -0.01803843, -0.01761302,\n",
       "        -0.01718761, -0.01676219, -0.01633678, -0.01591136, -0.01548595,\n",
       "        -0.01506054, -0.01463512, -0.01420971, -0.01378429, -0.01335888,\n",
       "        -0.01293347, -0.01250805, -0.01208264, -0.01165722, -0.01123181,\n",
       "        -0.0108064 , -0.01038098, -0.00995557, -0.00953015, -0.00910474,\n",
       "        -0.00867933, -0.00825391, -0.0078285 , -0.00740309, -0.00697767,\n",
       "        -0.00655226, -0.00612684, -0.00570143, -0.00527602, -0.0048506 ,\n",
       "        -0.00442519, -0.00399977, -0.00357436, -0.00314895, -0.00272353,\n",
       "        -0.00229812, -0.00187271, -0.00144729, -0.00102188, -0.00059646,\n",
       "        -0.00017105,  0.00025436,  0.00067978,  0.00110519,  0.00153061,\n",
       "         0.00195602,  0.00238143,  0.00280685,  0.00323226,  0.00365768,\n",
       "         0.00408309,  0.0045085 ,  0.00493392,  0.00535933,  0.00578475,\n",
       "         0.00621016,  0.00663557,  0.00706099,  0.0074864 ,  0.00791181,\n",
       "         0.00833723,  0.00876264,  0.00918806,  0.00961347,  0.01003888,\n",
       "         0.0104643 ,  0.01088971,  0.01131513,  0.01174054,  0.01216595,\n",
       "         0.01259137,  0.01301678,  0.0134422 ,  0.01386761,  0.01429302,\n",
       "         0.01471844,  0.01514385,  0.01556927,  0.01599468,  0.01642009,\n",
       "         0.01684551,  0.01727092,  0.01769633,  0.01812175,  0.01854716,\n",
       "         0.01897258,  0.01939799,  0.0198234 ,  0.02024882,  0.02067423,\n",
       "         0.02109965]),\n",
       " <BarContainer object of 100 artists>)"
      ]
     },
     "execution_count": 17,
     "metadata": {},
     "output_type": "execute_result"
    },
    {
     "data": {
      "image/png": "[encoded data removed]",
      "text/plain": [
       "<Figure size 640x480 with 1 Axes>"
      ]
     },
     "metadata": {},
     "output_type": "display_data"
    }
   ],
   "source": [
    "plt.hist(mydist.sample((100000,)).numpy(), bins=100)"
   ]
  },
  {
   "cell_type": "code",
   "execution_count": null,
   "metadata": {},
   "outputs": [],
   "source": []
  },
  {
   "cell_type": "code",
   "execution_count": null,
   "metadata": {},
   "outputs": [],
   "source": []
  }
 ],
 "metadata": {
  "kernelspec": {
   "display_name": "pip_k3",
   "language": "python",
   "name": "python3"
  },
  "language_info": {
   "codemirror_mode": {
    "name": "ipython",
    "version": 3
   },
   "file_extension": ".py",
   "mimetype": "text/x-python",
   "name": "python",
   "nbconvert_exporter": "python",
   "pygments_lexer": "ipython3",
   "version": "3.11.8"
  }
 },
 "nbformat": 4,
 "nbformat_minor": 2
}
