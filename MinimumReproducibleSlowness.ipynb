{
 "cells": [
  {
   "cell_type": "code",
   "execution_count": 1,
   "metadata": {},
   "outputs": [],
   "source": [
    "import torch\n",
    "import pandas as pd\n",
    "\n",
    "import os\n",
    "import sys\n",
    "os.chdir('/cluster/home/kheuto01/code/prob_diff_topk')\n",
    "sys.path.append('/cluster/home/kheuto01/code/prob_diff_topk')\n",
    "from torch_perturb.torch_pert_topk import PerturbedTopK"
   ]
  },
  {
   "cell_type": "code",
   "execution_count": 2,
   "metadata": {},
   "outputs": [],
   "source": [
    "data_dir='/cluster/home/kheuto01/code/prob_diff_topk'\n",
    "deaths = pd.read_csv(os.path.join(data_dir,'deaths_band.csv'))\n",
    "deaths_TS = deaths.pivot(index='time', columns='geoid', values='death').values\n",
    "perturbed_noise=0.1\n",
    "num_pert_samples=50\n",
    "K=25\n",
    "perturbed_top_K_func = PerturbedTopK(k=K, sigma=perturbed_noise, num_samples=num_pert_samples)"
   ]
  },
  {
   "cell_type": "code",
   "execution_count": 3,
   "metadata": {},
   "outputs": [],
   "source": [
    "deaths = torch.tensor(deaths_TS)\n",
    "param = torch.tensor([0.2])\n",
    "param.requires_grad = True"
   ]
  },
  {
   "cell_type": "code",
   "execution_count": 4,
   "metadata": {},
   "outputs": [
    {
     "name": "stderr",
     "output_type": "stream",
     "text": [
      "STAGE:2024-09-11 07:02:24 297874:297874 ActivityProfilerController.cpp:314] Completed Stage: Warm Up\n",
      "STAGE:2024-09-11 07:03:07 297874:297874 ActivityProfilerController.cpp:320] Completed Stage: Collection\n",
      "STAGE:2024-09-11 07:03:07 297874:297874 ActivityProfilerController.cpp:324] Completed Stage: Post Processing\n"
     ]
    }
   ],
   "source": [
    "from torch.autograd import profiler\n",
    "\n",
    "with torch.profiler.profile(profile_memory=True,\n",
    "    activities=[\n",
    "        torch.profiler.ProfilerActivity.CPU,\n",
    "    ]\n",
    ") as p:\n",
    "    top_K_ids = perturbed_top_K_func(torch.ones_like(deaths)*param)\n",
    "\n",
    "    top_K_ids = top_K_ids.sum(-2)\n",
    "    loss = deaths - top_K_ids\n",
    "    loss = loss.sum()\n",
    "    loss.backward()"
   ]
  },
  {
   "cell_type": "code",
   "execution_count": 5,
   "metadata": {},
   "outputs": [
    {
     "name": "stdout",
     "output_type": "stream",
     "text": [
      "-------------------------------------------------------  ------------  ------------  ------------  ------------  ------------  ------------  ------------  ------------  \n",
      "                                                   Name    Self CPU %      Self CPU   CPU total %     CPU total  CPU time avg       CPU Mem  Self CPU Mem    # of Calls  \n",
      "-------------------------------------------------------  ------------  ------------  ------------  ------------  ------------  ------------  ------------  ------------  \n",
      "                                              aten::div        31.10%       13.449s        31.10%       13.449s        6.724s      31.29 Gb      31.29 Gb             2  \n",
      "                                              aten::bmm        21.50%        9.298s        21.50%        9.298s        4.649s      15.64 Gb      15.64 Gb             2  \n",
      "                                            aten::copy_        14.61%        6.315s        14.61%        6.315s     350.851ms           0 b           0 b            18  \n",
      "                                              aten::mul        14.05%        6.075s        14.05%        6.075s        1.519s      15.66 Gb      15.66 Gb             4  \n",
      "                          PerturbedTopKFunctionBackward        13.74%        5.942s        97.97%       42.362s       42.362s     405.00 Kb     -62.57 Gb             1  \n",
      "                                           aten::einsum         3.57%        1.542s        39.10%       16.907s        8.453s      15.64 Gb     -15.65 Gb             2  \n",
      "                                            aten::fill_         0.63%     272.715ms         0.63%     272.715ms      30.302ms           0 b           0 b             9  \n",
      "                                              aten::sum         0.39%     170.099ms         0.44%     188.090ms      47.023ms     405.02 Kb     404.98 Kb             4  \n",
      "                                          aten::normal_         0.22%      94.591ms         0.22%      94.591ms      94.591ms           0 b           0 b             1  \n",
      "                                             aten::topk         0.04%      19.126ms         0.04%      19.126ms      19.126ms       1.22 Mb       1.22 Mb             1  \n",
      "-------------------------------------------------------  ------------  ------------  ------------  ------------  ------------  ------------  ------------  ------------  \n",
      "Self CPU time total: 43.238s\n",
      "\n"
     ]
    }
   ],
   "source": [
    "print(p.key_averages().table(sort_by=\"self_cpu_time_total\", row_limit=10))"
   ]
  },
  {
   "cell_type": "code",
   "execution_count": 5,
   "metadata": {},
   "outputs": [],
   "source": [
    "ratio_rating_TS = torch.ones_like(torch.tensor(deaths_TS), dtype=torch.float32)*param\n",
    "top_K_ids = perturbed_top_K_func(ratio_rating_TS)\n",
    "# Sum over k dim\n",
    "top_K_ids = top_K_ids.sum(dim=-2)\n",
    "\n",
    "loss = top_K_ids.mean()\n"
   ]
  },
  {
   "cell_type": "code",
   "execution_count": 8,
   "metadata": {},
   "outputs": [],
   "source": [
    "loss.backward()"
   ]
  },
  {
   "cell_type": "code",
   "execution_count": 18,
   "metadata": {},
   "outputs": [
    {
     "data": {
      "text/plain": [
       "(64, 1620)"
      ]
     },
     "execution_count": 18,
     "metadata": {},
     "output_type": "execute_result"
    }
   ],
   "source": [
    "deaths_TS.shape"
   ]
  },
  {
   "cell_type": "code",
   "execution_count": 7,
   "metadata": {},
   "outputs": [
    {
     "data": {
      "text/plain": [
       "tensor([[[0., 1., 0.],\n",
       "         [0., 0., 1.]],\n",
       "\n",
       "        [[1., 0., 0.],\n",
       "         [0., 0., 1.]]])"
      ]
     },
     "execution_count": 7,
     "metadata": {},
     "output_type": "execute_result"
    }
   ],
   "source": [
    "perturbed_top_K_func = PerturbedTopK(k=2, sigma=perturbed_noise, num_samples=num_pert_samples)\n",
    "perturbed_top_K_func(torch.tensor([[1,2,3],[6,2,4]]))"
   ]
  },
  {
   "cell_type": "code",
   "execution_count": null,
   "metadata": {},
   "outputs": [],
   "source": []
  }
 ],
 "metadata": {
  "kernelspec": {
   "display_name": "pip_k3",
   "language": "python",
   "name": "python3"
  },
  "language_info": {
   "codemirror_mode": {
    "name": "ipython",
    "version": 3
   },
   "file_extension": ".py",
   "mimetype": "text/x-python",
   "name": "python",
   "nbconvert_exporter": "python",
   "pygments_lexer": "ipython3",
   "version": "3.11.8"
  }
 },
 "nbformat": 4,
 "nbformat_minor": 2
}
