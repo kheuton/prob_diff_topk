{
 "cells": [
  {
   "cell_type": "code",
   "execution_count": 5,
   "metadata": {},
   "outputs": [
    {
     "name": "stdout",
     "output_type": "stream",
     "text": [
      "The autoreload extension is already loaded. To reload it, use:\n",
      "  %reload_ext autoreload\n"
     ]
    }
   ],
   "source": [
    "%load_ext autoreload\n",
    "%autoreload 2\n",
    "\n",
    "import torch \n",
    "import os\n",
    "import glob\n",
    "from matplotlib import pyplot as plt\n",
    "\n",
    "import matplotlib.animation as animation\n",
    "import os\n",
    "import torch\n",
    "import numpy as np\n",
    "import pandas as pd\n",
    "# Cd to code\n",
    "import os\n",
    "import sys\n",
    "os.chdir('/cluster/home/kheuto01/code/prob_diff_topk')\n",
    "sys.path.append('/cluster/home/kheuto01/code/prob_diff_topk')\n",
    "\n",
    "\n",
    "from distributions import ZeroInflatedDist, QuantizedNormal\n",
    "from torch_models import MixtureOfTruncNormModel, SpatialWaves\n",
    "from torch_training import train_epoch\n",
    "from torch_perturb.torch_pert_topk import PerturbedTopK\n",
    "\n",
    "from torch_models import torch_bpr_uncurried, deterministic_bpr"
   ]
  },
  {
   "cell_type": "code",
   "execution_count": 6,
   "metadata": {},
   "outputs": [],
   "source": [
    "deaths = pd.read_csv('deaths1.csv')\n",
    "pop = pd.read_csv('pop1.csv')"
   ]
  },
  {
   "cell_type": "code",
   "execution_count": 7,
   "metadata": {},
   "outputs": [],
   "source": [
    "data_shape = (25, 56)"
   ]
  },
  {
   "cell_type": "code",
   "execution_count": null,
   "metadata": {},
   "outputs": [],
   "source": []
  },
  {
   "cell_type": "code",
   "execution_count": 8,
   "metadata": {},
   "outputs": [
    {
     "data": {
      "text/plain": [
       "<matplotlib.image.AxesImage at 0x14a8f4b5ee50>"
      ]
     },
     "execution_count": 8,
     "metadata": {},
     "output_type": "execute_result"
    },
    {
     "data": {
      "image/png": "[encoded data removed]",
      "text/plain": [
       "<Figure size 640x480 with 1 Axes>"
      ]
     },
     "metadata": {},
     "output_type": "display_data"
    }
   ],
   "source": [
    "plt.imshow(pop['pop'].values.reshape(data_shape))"
   ]
  },
  {
   "cell_type": "code",
   "execution_count": 10,
   "metadata": {},
   "outputs": [],
   "source": [
    "model = SpatialWaves(num_waves=1,low=0, high=1000000)"
   ]
  },
  {
   "cell_type": "code",
   "execution_count": 11,
   "metadata": {},
   "outputs": [],
   "source": [
    "# turn the death column into a time-by-geoid array\n",
    "deaths_TS = deaths.pivot(index='time', columns='geoid', values='death').values\n",
    "pop_S = pop['pop'].values\n",
    "\n",
    "# create latitude and longitude arrays corresponding to the row and column index of the geoids when reshaped into data_shape\n",
    "lat = np.linspace(25, 50, data_shape[0])\n",
    "lon = np.linspace(-125, -65, data_shape[1])\n",
    "lat_S, lon_S = np.meshgrid(lon, lat)\n",
    "lat_S = lat_S.flatten()\n",
    "lon_S = lon_S.flatten()\n",
    "# create column of time values\n",
    "time_T = np.arange(deaths_TS.shape[0])"
   ]
  },
  {
   "cell_type": "code",
   "execution_count": 12,
   "metadata": {},
   "outputs": [
    {
     "data": {
      "text/plain": [
       "<matplotlib.image.AxesImage at 0x14a8f4ad4fd0>"
      ]
     },
     "execution_count": 12,
     "metadata": {},
     "output_type": "execute_result"
    },
    {
     "data": {
      "image/png": "[encoded data removed]",
      "text/plain": [
       "<Figure size 640x480 with 1 Axes>"
      ]
     },
     "metadata": {},
     "output_type": "display_data"
    }
   ],
   "source": [
    "plt.imshow(lat_S.reshape(data_shape))"
   ]
  },
  {
   "cell_type": "code",
   "execution_count": 13,
   "metadata": {},
   "outputs": [],
   "source": [
    "time_T = torch.tensor(time_T, dtype=torch.float32)\n",
    "lat_S = torch.tensor(lat_S, dtype=torch.float32)\n",
    "lon_S = torch.tensor(lon_S, dtype=torch.float32)\n",
    "pop_S = torch.tensor(pop_S, dtype=torch.float32)\n",
    "S = pop_S.shape[0]\n",
    "T = time_T.shape[0]\n",
    "W = 2"
   ]
  },
  {
   "cell_type": "code",
   "execution_count": 14,
   "metadata": {},
   "outputs": [],
   "source": [
    "arrival_times_SW = model.arrival_intercepts.expand(S,W) +lat_S.unsqueeze(-1)*model.lat_coeff.expand(1,W) + lon_S.unsqueeze(-1)*model.lon_coeff.expand(1,W)\n",
    "# exponentiate time - arrival time / peak width\n",
    "time_diff_TSW = time_T.unsqueeze(-1).unsqueeze(-1) - arrival_times_SW.expand(1,S,W)\n",
    "# square time_diff/peak_width\n",
    "magnitudes_W = torch.nn.functional.softplus(model.softplusinv_magnitudes)\n",
    "peak_widths_W = torch.nn.functional.softplus(model.softplusinv_peak_widths) + model.min_peak_width\n",
    "waves_TSW = magnitudes_W.expand(1,1,W)*torch.exp(-(time_diff_TSW/peak_widths_W.expand(1,1,W))**2)\n",
    "death_rate_TS = torch.sum(waves_TSW, dim=-1)\n",
    "mean_deaths_TS = pop_S.expand(1,S)*death_rate_TS"
   ]
  },
  {
   "cell_type": "code",
   "execution_count": 15,
   "metadata": {},
   "outputs": [
    {
     "data": {
      "text/plain": [
       "tensor(1.0963, grad_fn=<MinBackward1>)"
      ]
     },
     "execution_count": 15,
     "metadata": {},
     "output_type": "execute_result"
    }
   ],
   "source": [
    "magnitudes_W.min()"
   ]
  },
  {
   "cell_type": "code",
   "execution_count": 16,
   "metadata": {},
   "outputs": [],
   "source": [
    "dist = model(time_T,pop_S, lat_S, lon_S)"
   ]
  },
  {
   "cell_type": "code",
   "execution_count": 17,
   "metadata": {},
   "outputs": [],
   "source": [
    "M_score_func = 20\n",
    "M_action = 20"
   ]
  },
  {
   "cell_type": "code",
   "execution_count": 18,
   "metadata": {},
   "outputs": [],
   "source": [
    "y_sample_TMS = dist.sample((M_score_func, )).permute(1, 0, 2)\n",
    "y_sample_action_TMS = dist.sample((M_action, )).permute(1, 0, 2)\n",
    "ratio_rating_TMS = y_sample_action_TMS/y_sample_action_TMS.sum(dim=-1, keepdim=True)\n",
    "ratio_rating_TS =  ratio_rating_TMS.mean(dim=1)\n",
    "ratio_rating_TS.requires_grad_(True)\n",
    "\n",
    "def get_log_probs_baked(param):\n",
    "    distribution = model.build_from_single_tensor(param, time_T, pop_S, lat_S, lon_S)\n",
    "    log_probs_TMS = distribution.log_prob(y_sample_TMS.permute(1, 0, 2)).permute(1, 0, 2)\n",
    "\n",
    "    return log_probs_TMS\n",
    "jac_TMSP = torch.autograd.functional.jacobian(get_log_probs_baked, (model.params_to_single_tensor()), strategy='forward-mode', vectorize=True)\n",
    "\n",
    "score_func_estimator_TMSP = jac_TMSP * ratio_rating_TMS.unsqueeze(-1)\n",
    "score_func_estimator_TSP = score_func_estimator_TMSP.mean(dim=1)    \n"
   ]
  },
  {
   "cell_type": "code",
   "execution_count": 19,
   "metadata": {},
   "outputs": [
    {
     "data": {
      "text/plain": [
       "tensor(416867.5938, grad_fn=<MaxBackward1>)"
      ]
     },
     "execution_count": 19,
     "metadata": {},
     "output_type": "execute_result"
    }
   ],
   "source": [
    "jac_TMSP.max()"
   ]
  },
  {
   "cell_type": "code",
   "execution_count": 20,
   "metadata": {},
   "outputs": [],
   "source": [
    "K=100\n",
    "threshold=0.8\n",
    "bpr_weight, nll_weight = 1,1"
   ]
  },
  {
   "cell_type": "code",
   "execution_count": 21,
   "metadata": {},
   "outputs": [],
   "source": [
    "perturbed_top_K_func = PerturbedTopK(k=K, sigma=0.05, num_samples=20)"
   ]
  },
  {
   "cell_type": "code",
   "execution_count": 22,
   "metadata": {},
   "outputs": [],
   "source": [
    "prob_topk_TKS = perturbed_top_K_func(ratio_rating_TS)"
   ]
  },
  {
   "cell_type": "code",
   "execution_count": 23,
   "metadata": {},
   "outputs": [],
   "source": [
    "# Apply perturbed_top_K_func  to each row of ratio_rating_TS in a loop\n",
    "prob_topk_TKS = torch.zeros(T, K, S)\n",
    "for t in range(T):\n",
    "    prob_topk_TKS[t] = perturbed_top_K_func(torch.unsqueeze(ratio_rating_TS[t,:],0))"
   ]
  },
  {
   "cell_type": "code",
   "execution_count": 24,
   "metadata": {},
   "outputs": [],
   "source": [
    "# Sum over k dim\n",
    "top_K_ids = prob_topk_TKS.sum(dim=-2)\n",
    "\n",
    "true_top_K_val, _  = torch.topk(torch.tensor(deaths_TS), K) \n",
    "denominator = torch.sum(true_top_K_val, dim=-1)\n",
    "numerator = torch.sum(top_K_ids * torch.tensor(deaths_TS), dim=-1)\n",
    "positive_bpr_T = numerator/denominator"
   ]
  },
  {
   "cell_type": "code",
   "execution_count": 25,
   "metadata": {},
   "outputs": [],
   "source": [
    "bpr_threshold_diff_T = positive_bpr_T - threshold\n",
    "violate_threshold_flag = bpr_threshold_diff_T < 0\n",
    "negative_bpr_loss = torch.mean(-bpr_threshold_diff_T*violate_threshold_flag)"
   ]
  },
  {
   "cell_type": "code",
   "execution_count": 26,
   "metadata": {},
   "outputs": [],
   "source": [
    "nll = torch.mean(-dist.log_prob( torch.tensor(deaths_TS)))"
   ]
  },
  {
   "cell_type": "code",
   "execution_count": 27,
   "metadata": {},
   "outputs": [],
   "source": [
    "loss = bpr_weight*negative_bpr_loss + nll_weight*nll\n",
    "loss.backward()\n"
   ]
  },
  {
   "cell_type": "code",
   "execution_count": null,
   "metadata": {},
   "outputs": [],
   "source": [
    "loss_grad_TS = ratio_rating_TS.grad"
   ]
  },
  {
   "cell_type": "code",
   "execution_count": null,
   "metadata": {},
   "outputs": [
    {
     "data": {
      "text/plain": [
       "tensor([[-1.0505e-02, -8.1449e-03,  9.2589e-03,  ..., -7.5080e-04,\n",
       "         -8.0343e-03,  1.2063e-02],\n",
       "        [ 4.8732e-04, -4.4626e-03,  7.2772e-03,  ...,  7.1460e-03,\n",
       "          4.3653e-05,  3.6807e-03],\n",
       "        [ 4.9690e-03, -1.3609e-03,  8.5682e-03,  ...,  4.9992e-03,\n",
       "          4.9711e-03, -7.8694e-03],\n",
       "        ...,\n",
       "        [ 1.0026e-02,  3.9086e-03, -5.7616e-03,  ...,  1.3390e-03,\n",
       "         -6.1598e-03,  6.2293e-03],\n",
       "        [ 2.1062e-03, -4.6391e-03, -3.7959e-03,  ...,  6.7627e-03,\n",
       "         -1.8589e-04, -1.8640e-02],\n",
       "        [-2.3724e-02, -1.0309e-02,  4.3863e-04,  ..., -1.4426e-02,\n",
       "         -7.0322e-03, -5.3227e-03]])"
      ]
     },
     "execution_count": 37,
     "metadata": {},
     "output_type": "execute_result"
    }
   ],
   "source": [
    "loss_grad_TS"
   ]
  },
  {
   "cell_type": "code",
   "execution_count": 24,
   "metadata": {},
   "outputs": [],
   "source": [
    "# find index where y_TMS is -inf\n",
    "inf_index = torch.isinf(y_sample_TMS)\n",
    "index_vals = torch.nonzero(inf_index, as_tuple=True)"
   ]
  },
  {
   "cell_type": "code",
   "execution_count": 16,
   "metadata": {},
   "outputs": [
    {
     "data": {
      "text/plain": [
       "tensor([0.2843, 0.0123, 0.3165, 0.2909, 0.0777, 0.0268, 0.0432, 0.1098, 0.2158,\n",
       "        0.1625, 0.0204, 0.0755, 0.0734, 0.0210, 0.1243, 0.2230, 0.0527, 0.0151,\n",
       "        0.1909, 0.2483])"
      ]
     },
     "execution_count": 16,
     "metadata": {},
     "output_type": "execute_result"
    }
   ],
   "source": [
    "y_sample_TMS[0,:,108]"
   ]
  },
  {
   "cell_type": "code",
   "execution_count": 256,
   "metadata": {},
   "outputs": [
    {
     "data": {
      "text/plain": [
       "tensor(0.0010, grad_fn=<SelectBackward0>)"
      ]
     },
     "execution_count": 256,
     "metadata": {},
     "output_type": "execute_result"
    }
   ],
   "source": [
    "mean_deaths_TS[0,108]"
   ]
  },
  {
   "cell_type": "code",
   "execution_count": null,
   "metadata": {},
   "outputs": [],
   "source": []
  },
  {
   "cell_type": "code",
   "execution_count": null,
   "metadata": {},
   "outputs": [],
   "source": []
  }
 ],
 "metadata": {
  "kernelspec": {
   "display_name": "pip_k3",
   "language": "python",
   "name": "python3"
  },
  "language_info": {
   "codemirror_mode": {
    "name": "ipython",
    "version": 3
   },
   "file_extension": ".py",
   "mimetype": "text/x-python",
   "name": "python",
   "nbconvert_exporter": "python",
   "pygments_lexer": "ipython3",
   "version": "3.11.8"
  }
 },
 "nbformat": 4,
 "nbformat_minor": 2
}
