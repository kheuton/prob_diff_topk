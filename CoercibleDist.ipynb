{
 "cells": [
  {
   "cell_type": "code",
   "execution_count": 2,
   "metadata": {},
   "outputs": [
    {
     "name": "stderr",
     "output_type": "stream",
     "text": [
      "2024-05-20 07:56:41.269069: I tensorflow/core/util/port.cc:113] oneDNN custom operations are on. You may see slightly different numerical results due to floating-point round-off errors from different computation orders. To turn them off, set the environment variable `TF_ENABLE_ONEDNN_OPTS=0`.\n",
      "2024-05-20 07:56:41.332575: E external/local_xla/xla/stream_executor/cuda/cuda_dnn.cc:9261] Unable to register cuDNN factory: Attempting to register factory for plugin cuDNN when one has already been registered\n",
      "2024-05-20 07:56:41.332602: E external/local_xla/xla/stream_executor/cuda/cuda_fft.cc:607] Unable to register cuFFT factory: Attempting to register factory for plugin cuFFT when one has already been registered\n",
      "2024-05-20 07:56:41.333683: E external/local_xla/xla/stream_executor/cuda/cuda_blas.cc:1515] Unable to register cuBLAS factory: Attempting to register factory for plugin cuBLAS when one has already been registered\n",
      "2024-05-20 07:56:41.341091: I tensorflow/core/platform/cpu_feature_guard.cc:182] This TensorFlow binary is optimized to use available CPU instructions in performance-critical operations.\n",
      "To enable the following instructions: AVX2 AVX512F AVX512_VNNI FMA, in other operations, rebuild TensorFlow with the appropriate compiler flags.\n",
      "2024-05-20 07:56:50.325619: W tensorflow/compiler/tf2tensorrt/utils/py_utils.cc:38] TF-TRT Warning: Could not find TensorRT\n"
     ]
    }
   ],
   "source": [
    "%load_ext autoreload\n",
    "%autoreload 2\n",
    "import tensorflow as tf\n",
    "import tensorflow_probability as tfp\n",
    "import scipy\n",
    "import numpy as np\n",
    "import keras\n",
    "import datetime"
   ]
  },
  {
   "cell_type": "code",
   "execution_count": 3,
   "metadata": {},
   "outputs": [],
   "source": [
    "num_locations_S=4\n",
    "# model these 4 locations with mixture of 4 components\n",
    "num_components_C=num_locations_S\n",
    "scale = 1\n",
    "means = [5.0, 15.0, 25.0, 35.0]\n",
    "\n",
    "# simulate data for each location\n",
    "data_distributions = [scipy.stats.norm(loc=mean, scale=scale) for mean in means]\n",
    "\n",
    "num_examples_T = 100\n",
    "y_TS = np.array([dist.rvs(num_examples_T) for dist in data_distributions]).T\n",
    "\n",
    "# x doesn't matter because we aren't actually learning\n",
    "num_features_F = 20\n",
    "x_TF = np.random.randn(num_examples_T, num_features_F)\n"
   ]
  },
  {
   "cell_type": "code",
   "execution_count": 4,
   "metadata": {},
   "outputs": [],
   "source": [
    "class MixtureWeightLayer(keras.layers.Layer):\n",
    "    \"\"\"Dumb layer that just returns mixture weights\n",
    "    Constrained to unit norm\n",
    "    \"\"\"\n",
    "    def __init__(self, num_locations, num_components=2, **kwargs):\n",
    "        super().__init__(**kwargs)\n",
    "        self.w = self.add_weight(shape=(1,num_locations, num_components ),\n",
    "            initializer=\"uniform\",\n",
    "            trainable=True,\n",
    "        )\n",
    "        \n",
    "        self.softmax = keras.layers.Softmax(axis=1)\n",
    "\n",
    "    def call(self, inputs):\n",
    "        return self.softmax(self.w)"
   ]
  },
  {
   "cell_type": "code",
   "execution_count": 38,
   "metadata": {},
   "outputs": [],
   "source": [
    "num_score_func_samples=50"
   ]
  },
  {
   "cell_type": "code",
   "execution_count": 39,
   "metadata": {},
   "outputs": [],
   "source": [
    "# build layers\n",
    "inputs = keras.Input(shape=num_features_F)\n",
    "component_layers = [keras.layers.Dense(1, activation='softplus') for _ in range(num_components_C)]\n",
    "mixture_weight_layer = MixtureWeightLayer(num_locations_S, num_components_C)\n",
    "mixture_weights = mixture_weight_layer(inputs)\n",
    "assert(mixture_weights.shape == (1,num_locations_S, num_components_C))\n",
    "\n",
    "# Add a component dimension to outputs of each component model\n",
    "reshape_layer = keras.layers.Reshape(name='mix_reshape', target_shape=(-1,1))\n",
    "# Concatenate components along new dimension\n",
    "concat_layer = keras.layers.Concatenate(name='mix_concat',axis=-1)\n",
    "\n",
    "# get tfp mixture model\n",
    "mixture_distribution_layer = tfp.layers.DistributionLambda(lambda params: \n",
    "        tfp.distributions.MixtureSameFamily(mixture_distribution=\n",
    "                                                tfp.distributions.Categorical(probs=params[0]),\n",
    "                                            components_distribution=\n",
    "                                                tfp.distributions.Normal(loc=params[1],\n",
    "                                                                        scale=scale,\n",
    "                                                                        validate_args=True)),\n",
    "                                                           convert_to_tensor_fn=lambda s: s.sample(num_score_func_samples))\n"
   ]
  },
  {
   "cell_type": "code",
   "execution_count": 40,
   "metadata": {},
   "outputs": [],
   "source": [
    "# build model\n",
    "component_predictions = [component(inputs) for component in component_layers]\n",
    "combined_components = concat_layer([reshape_layer(member) for member in component_predictions])\n",
    "output_distribution = mixture_distribution_layer([mixture_weights, combined_components])\n",
    "model = keras.Model(inputs=inputs,outputs=output_distribution)"
   ]
  },
  {
   "cell_type": "code",
   "execution_count": 41,
   "metadata": {},
   "outputs": [],
   "source": [
    "learning_rate = 1e-3\n",
    "optimizer = keras.optimizers.Adam(learning_rate=learning_rate)"
   ]
  },
  {
   "cell_type": "code",
   "execution_count": 42,
   "metadata": {},
   "outputs": [],
   "source": [
    "\n",
    "def overall_gradient_calculation(gradient_BSp, decision_gradient_BS):\n",
    "\n",
    "    # parameters have their own shape. Here we find that shape and add appropriate dimension to gradient so we can broadcast\n",
    "    num_param_dims = tf.rank(gradient_BSp)-2\n",
    "    num_param_dims_tf = tf.cast(num_param_dims, tf.int32)\n",
    "    new_shape = tf.concat([tf.shape(decision_gradient_BS), tf.ones([num_param_dims_tf], tf.int32)], axis=0)\n",
    "    decision_gradient_BSp=tf.reshape(decision_gradient_BS, new_shape)\n",
    "\n",
    "    # chain rule, multiply gradients\n",
    "    overall_gradient_BSp = gradient_BSp*decision_gradient_BSp\n",
    "\n",
    "    # sum over batch and location\n",
    "    overall_gradient = tf.reduce_sum(overall_gradient_BSp, axis=[0,1])\n",
    "    return overall_gradient\n",
    "\n",
    "def score_function_trick(jacobian_MBSp, decision_MBS):\n",
    "\n",
    "    num_param_dims = tf.rank(jacobian_MBSp)-3\n",
    "    \n",
    "    # expand decision to match jacobian\n",
    "    num_param_dims_tf = tf.cast(num_param_dims, tf.int32)\n",
    "    new_shape = tf.concat([tf.shape(decision_MBS), tf.ones([num_param_dims_tf], tf.int32)], axis=0)\n",
    "    decision_MBSp=tf.reshape(decision_MBS, new_shape)\n",
    "\n",
    "    # do score function trick, scale gradient of log probability our function\n",
    "    scaled_jacobian_MBSp = jacobian_MBSp*decision_MBSp\n",
    "\n",
    "    # average over sample dims\n",
    "    param_gradient_BSp = tf.reduce_mean(scaled_jacobian_MBSp, axis=0)\n",
    "    return param_gradient_BSp\n"
   ]
  },
  {
   "cell_type": "code",
   "execution_count": 43,
   "metadata": {},
   "outputs": [],
   "source": [
    "@tf.function\n",
    "def get_log_probs(mixture_model):\n",
    "    stopped_samples = tf.stop_gradient(mixture_model)\n",
    "    sample_log_probs_MBS = mixture_model.log_prob(stopped_samples)\n",
    "    return sample_log_probs_MBS"
   ]
  },
  {
   "cell_type": "code",
   "execution_count": 44,
   "metadata": {},
   "outputs": [
    {
     "name": "stderr",
     "output_type": "stream",
     "text": [
      "2024-05-20 08:23:58.941309: I external/local_tsl/tsl/profiler/lib/profiler_session.cc:104] Profiler session initializing.\n",
      "2024-05-20 08:23:58.941338: I external/local_tsl/tsl/profiler/lib/profiler_session.cc:119] Profiler session started.\n"
     ]
    }
   ],
   "source": [
    "\n",
    "logs = {}\n",
    "stamp = datetime.datetime.now().strftime(\"%Y%m%d-%H%M%S\")\n",
    "logdir = f'logs/func/{stamp}_coerce_tffuncsamp{num_score_func_samples}'\n",
    "writer = tf.summary.create_file_writer(logdir)\n",
    "tf.summary.trace_on(graph=True, profiler=True)\n",
    "with tf.GradientTape() as jacobian_tape, tf.GradientTape() as loss_tape:\n",
    "    mixture_model = model(x_TF, training=True)\n",
    "    #sample_y_MBS = mixture_model.sample(num_score_func_samples)\n",
    "    #stopped_samples = tf.stop_gradient(mixture_model)\n",
    "    #sample_log_probs_MBS = mixture_model.log_prob(stopped_samples)\n",
    "    sample_log_probs_MBS = get_log_probs(mixture_model)\n",
    "\n",
    "    sample_decisions_MBS = tf.identity(mixture_model)\n",
    "    expected_decisions_BS = tf.reduce_mean(sample_decisions_MBS, axis=0)\n",
    "    loss_B = keras.losses.mean_squared_error(y_TS, expected_decisions_BS)\n",
    "\n",
    "jacobian_pMBS = jacobian_tape.jacobian(sample_log_probs_MBS, model.trainable_weights)\n",
    "param_gradient_pBS = [score_function_trick(j, sample_decisions_MBS) for j in jacobian_pMBS]\n",
    "\n",
    "loss_gradients_BS = loss_tape.gradient(loss_B, expected_decisions_BS)\n",
    "overall_gradient = [overall_gradient_calculation(g, loss_gradients_BS) for g in param_gradient_pBS]\n",
    "\n",
    "optimizer.apply_gradients(zip(overall_gradient, model.trainable_weights))\n",
    "\n",
    "with writer.as_default():\n",
    "    tf.summary.trace_export(\n",
    "        name=\"my_func_trace\",\n",
    "        step=0,\n",
    "        profiler_outdir=logdir)\n",
    "    tf.summary.trace_off()"
   ]
  },
  {
   "cell_type": "code",
   "execution_count": 15,
   "metadata": {},
   "outputs": [
    {
     "data": {
      "text/plain": [
       "<tf.Tensor: shape=(100, 4), dtype=float32, numpy=\n",
       "array([[-1.0694184 , -1.3291337 , -1.059331  , -1.6327939 ],\n",
       "       [-4.17158   , -1.0699117 , -1.1160941 , -1.4857092 ],\n",
       "       [-1.4357271 , -1.2709595 , -1.1660409 , -3.5272446 ],\n",
       "       [-1.6549181 , -1.2147293 , -2.0589461 , -2.158225  ],\n",
       "       [-1.0923643 , -0.96904993, -1.8280009 , -0.93384254],\n",
       "       [-1.4407645 , -1.4145877 , -3.8095746 , -2.2560375 ],\n",
       "       [-1.2318821 , -1.1555796 , -1.1743959 , -1.4317412 ],\n",
       "       [-1.318476  , -2.421885  , -1.4265397 , -2.0935707 ],\n",
       "       [-1.8221313 , -1.1581162 , -1.4536357 , -1.2060163 ],\n",
       "       [-7.105071  , -1.0565109 , -1.0803047 , -1.2971982 ],\n",
       "       [-1.7958286 , -1.5772939 , -1.3834233 , -1.8899655 ],\n",
       "       [-1.1924962 , -1.4505279 , -0.9608245 , -0.96449506],\n",
       "       [-1.2257168 , -1.4363852 , -1.0039036 , -1.0558329 ],\n",
       "       [-1.4705768 , -1.0905652 , -1.0862833 , -1.0654685 ],\n",
       "       [-1.7284241 , -1.5138774 , -1.5474112 , -1.9084129 ],\n",
       "       [-1.0247228 , -1.5127444 , -1.6471088 , -2.6775296 ],\n",
       "       [-1.2724316 , -1.5853919 , -0.93606687, -1.5589086 ],\n",
       "       [-1.4574598 , -2.1968493 , -1.6944484 , -1.5354879 ],\n",
       "       [-1.0261747 , -1.8969313 , -0.9643365 , -0.95110524],\n",
       "       [-2.406347  , -1.0638088 , -1.2310505 , -1.1923009 ],\n",
       "       [-1.0798768 , -1.8659497 , -1.749751  , -1.0721868 ],\n",
       "       [-1.326972  , -1.1799375 , -2.6090016 , -1.3711982 ],\n",
       "       [-1.5781962 , -1.623527  , -1.6282687 , -1.1421095 ],\n",
       "       [-1.0445296 , -2.189054  , -6.1182632 , -1.8503735 ],\n",
       "       [-3.0312536 , -1.3546497 , -2.3580115 , -1.4603469 ],\n",
       "       [-2.1041057 , -1.2498875 , -1.4516752 , -2.1430569 ],\n",
       "       [-1.1655059 , -1.1571498 , -1.3812889 , -1.1562103 ],\n",
       "       [-1.0733389 , -1.5721092 , -2.4041839 , -1.3414187 ],\n",
       "       [-1.0276018 , -1.2935243 , -2.322081  , -1.5429761 ],\n",
       "       [-1.2409927 , -2.6566386 , -1.4749849 , -1.3146555 ],\n",
       "       [-1.1517912 , -2.9005704 , -4.1750584 , -2.8713224 ],\n",
       "       [-1.467029  , -0.96797824, -1.020309  , -1.0759497 ],\n",
       "       [-1.3959198 , -1.3278428 , -1.4293927 , -1.4980428 ],\n",
       "       [-1.367268  , -0.9736606 , -0.9665501 , -0.99767876],\n",
       "       [-1.2280943 , -0.94766474, -0.98581314, -1.6854405 ],\n",
       "       [-1.6424232 , -2.3056116 , -1.3500266 , -1.1178359 ],\n",
       "       [-0.9963274 , -1.227444  , -1.1903231 , -1.8957028 ],\n",
       "       [-1.1938105 , -0.9792998 , -1.3987648 , -1.9484398 ],\n",
       "       [-1.0312341 , -1.7436578 , -1.1765683 , -1.4771826 ],\n",
       "       [-1.0308217 , -0.97427547, -1.7224634 , -2.1962285 ],\n",
       "       [-1.056876  , -1.8730652 , -1.0321264 , -1.5972509 ],\n",
       "       [-1.2265602 , -2.5763521 , -1.1400815 , -1.192875  ],\n",
       "       [-1.5553426 , -1.1766862 , -1.1734979 , -1.4450973 ],\n",
       "       [-2.0290148 , -1.4309586 , -1.0831654 , -2.832272  ],\n",
       "       [-1.5307577 , -1.4052806 , -1.5085852 , -3.058886  ],\n",
       "       [-1.1633704 , -1.2516862 , -0.96111   , -1.1637043 ],\n",
       "       [-3.8621304 , -1.0797973 , -1.1132553 , -1.0716337 ],\n",
       "       [-1.857585  , -2.386194  , -1.9865046 , -1.3258768 ],\n",
       "       [-1.2693081 , -2.8857079 , -1.176074  , -1.0839578 ],\n",
       "       [-1.0642327 , -1.1092733 , -1.5861714 , -1.0670555 ],\n",
       "       [-1.1991425 , -1.5741905 , -1.7011082 , -1.2115378 ],\n",
       "       [-1.0797732 , -1.1709595 , -1.1330892 , -0.9942955 ],\n",
       "       [-1.9245923 , -1.37742   , -1.055972  , -3.0834317 ],\n",
       "       [-0.9937899 , -1.07978   , -1.0406449 , -1.004071  ],\n",
       "       [-0.9516821 , -1.0847274 , -1.4994901 , -0.96744025],\n",
       "       [-1.2091041 , -1.7512258 , -1.6783589 , -2.7267995 ],\n",
       "       [-3.9111035 , -1.7108568 , -1.1935093 , -1.1243473 ],\n",
       "       [-1.2358478 , -1.4102589 , -0.9600595 , -2.0043483 ],\n",
       "       [-1.0417508 , -1.0439166 , -1.6389002 , -0.94587827],\n",
       "       [-1.4212592 , -1.5584493 , -2.445752  , -1.4058079 ],\n",
       "       [-1.0775123 , -4.649468  , -1.0550542 , -1.4948726 ],\n",
       "       [-1.1848624 , -1.2449422 , -1.1970692 , -1.2158132 ],\n",
       "       [-1.346228  , -1.131504  , -1.2500823 , -1.3888055 ],\n",
       "       [-1.2411139 , -0.9353484 , -2.5001051 , -0.94824815],\n",
       "       [-9.35494   , -3.156269  , -1.5274719 , -0.9569794 ],\n",
       "       [-1.3916605 , -1.2074339 , -2.189128  , -1.3858011 ],\n",
       "       [-1.1910911 , -1.83638   , -1.2168188 , -1.1757128 ],\n",
       "       [-1.3592858 , -1.1215098 , -1.6458893 , -3.5377007 ],\n",
       "       [-3.9224453 , -0.99667525, -1.3042581 , -1.0346732 ],\n",
       "       [-0.9716661 , -3.5915232 , -1.0932119 , -1.0132861 ],\n",
       "       [-2.3419347 , -1.4536711 , -0.94899666, -1.1272266 ],\n",
       "       [-1.8898231 , -1.3250374 , -1.4175398 , -1.3105296 ],\n",
       "       [-2.6426413 , -1.581558  , -3.186211  , -0.9433912 ],\n",
       "       [-1.598929  , -1.3857775 , -1.2251394 , -1.5653893 ],\n",
       "       [-1.7610859 , -0.9601046 , -1.5936687 , -1.2650806 ],\n",
       "       [-4.043092  , -1.7854042 , -1.2369153 , -4.012789  ],\n",
       "       [-0.9890641 , -1.28387   , -2.0566113 , -1.0991495 ],\n",
       "       [-1.2655406 , -2.0376596 , -1.5579107 , -1.2890255 ],\n",
       "       [-3.316142  , -3.3241515 , -1.1573423 , -1.2522283 ],\n",
       "       [-1.0665227 , -1.0422632 , -1.1311896 , -1.1480079 ],\n",
       "       [-1.3528242 , -1.0114411 , -3.647232  , -1.0989281 ],\n",
       "       [-1.5450255 , -1.1151762 , -1.2528342 , -1.100803  ],\n",
       "       [-1.3007034 , -1.9740415 , -1.4609964 , -2.238449  ],\n",
       "       [-1.214529  , -1.3580884 , -1.5330843 , -1.2541058 ],\n",
       "       [-1.0726638 , -1.6318707 , -2.0663218 , -1.1370804 ],\n",
       "       [-1.1265619 , -0.9793452 , -0.9866004 , -1.7369694 ],\n",
       "       [-3.8061423 , -1.3903778 , -1.4288111 , -1.3670461 ],\n",
       "       [-1.5338244 , -1.2697953 , -0.9569584 , -1.5066373 ],\n",
       "       [-1.4874989 , -1.4765517 , -1.240519  , -1.2213619 ],\n",
       "       [-3.920105  , -2.8959293 , -1.8083721 , -1.2058723 ],\n",
       "       [-0.94323206, -0.97903085, -0.98075294, -1.5491881 ],\n",
       "       [-1.1518577 , -1.2575665 , -1.0841806 , -1.1103389 ],\n",
       "       [-2.146412  , -2.1916041 , -0.9614259 , -1.1298476 ],\n",
       "       [-1.5106497 , -1.2354872 , -1.5538477 , -1.4248137 ],\n",
       "       [-0.96298003, -1.9480428 , -1.2566204 , -0.97906125],\n",
       "       [-1.2841516 , -1.2079813 , -1.1855677 , -1.6418124 ],\n",
       "       [-1.05607   , -0.9651425 , -0.94722676, -0.94614446],\n",
       "       [-1.7350681 , -1.6653032 , -1.284601  , -1.1002423 ],\n",
       "       [-2.4418645 , -1.6363261 , -1.2397497 , -1.3778441 ],\n",
       "       [-1.1677803 , -1.3864465 , -1.1678623 , -1.5082047 ]],\n",
       "      dtype=float32)>"
      ]
     },
     "execution_count": 15,
     "metadata": {},
     "output_type": "execute_result"
    }
   ],
   "source": [
    "sample_log_probs_MBS.shape"
   ]
  },
  {
   "cell_type": "code",
   "execution_count": 17,
   "metadata": {},
   "outputs": [
    {
     "data": {
      "text/plain": [
       "TensorShape([100, 4])"
      ]
     },
     "execution_count": 17,
     "metadata": {},
     "output_type": "execute_result"
    }
   ],
   "source": [
    "stopped_samples.shape"
   ]
  },
  {
   "cell_type": "code",
   "execution_count": null,
   "metadata": {},
   "outputs": [],
   "source": []
  }
 ],
 "metadata": {
  "kernelspec": {
   "display_name": "pip_k2_tf",
   "language": "python",
   "name": "python3"
  },
  "language_info": {
   "codemirror_mode": {
    "name": "ipython",
    "version": 3
   },
   "file_extension": ".py",
   "mimetype": "text/x-python",
   "name": "python",
   "nbconvert_exporter": "python",
   "pygments_lexer": "ipython3",
   "version": "3.11.7"
  }
 },
 "nbformat": 4,
 "nbformat_minor": 2
}
