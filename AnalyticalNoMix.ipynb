{
 "cells": [
  {
   "cell_type": "code",
   "execution_count": 1,
   "metadata": {},
   "outputs": [
    {
     "name": "stderr",
     "output_type": "stream",
     "text": [
      "2024-05-23 11:42:31.809964: I external/local_tsl/tsl/cuda/cudart_stub.cc:31] Could not find cuda drivers on your machine, GPU will not be used.\n",
      "2024-05-23 11:42:31.955383: E external/local_xla/xla/stream_executor/cuda/cuda_dnn.cc:9261] Unable to register cuDNN factory: Attempting to register factory for plugin cuDNN when one has already been registered\n",
      "2024-05-23 11:42:31.955509: E external/local_xla/xla/stream_executor/cuda/cuda_fft.cc:607] Unable to register cuFFT factory: Attempting to register factory for plugin cuFFT when one has already been registered\n",
      "2024-05-23 11:42:31.974837: E external/local_xla/xla/stream_executor/cuda/cuda_blas.cc:1515] Unable to register cuBLAS factory: Attempting to register factory for plugin cuBLAS when one has already been registered\n",
      "2024-05-23 11:42:32.027648: I external/local_tsl/tsl/cuda/cudart_stub.cc:31] Could not find cuda drivers on your machine, GPU will not be used.\n",
      "2024-05-23 11:42:32.028957: I tensorflow/core/platform/cpu_feature_guard.cc:182] This TensorFlow binary is optimized to use available CPU instructions in performance-critical operations.\n",
      "To enable the following instructions: AVX2 FMA, in other operations, rebuild TensorFlow with the appropriate compiler flags.\n",
      "2024-05-23 11:42:33.023312: W tensorflow/compiler/tf2tensorrt/utils/py_utils.cc:38] TF-TRT Warning: Could not find TensorRT\n"
     ]
    }
   ],
   "source": [
    "%load_ext autoreload\n",
    "%autoreload 2\n",
    "import scipy\n",
    "import numpy as np\n",
    "import tensorflow as tf\n",
    "import tensorflow_probability as tfp\n",
    "import matplotlib.pyplot as plt\n",
    "import keras\n",
    "\n",
    "import time"
   ]
  },
  {
   "cell_type": "markdown",
   "metadata": {},
   "source": [
    "## Observations\n",
    "At each timestep $t$, we observe $S=4$ artificial locations. The observed value $y_{s,t}$ is realization of random variable $Y_s$, which is normally distributed with unit variance and a location-specific mean: $Y_{s,t} \\sim \\mathcal{N}(\\mu_s, 1)$. The means are $\\mu = [5, 15, 25, 35]$."
   ]
  },
  {
   "cell_type": "code",
   "execution_count": 2,
   "metadata": {},
   "outputs": [],
   "source": [
    "S=4\n",
    "scale = 1\n",
    "means = [5.0, 15.0, 25.0, 35.0]\n",
    "# simulate data for each location\n",
    "data_distributions = [scipy.stats.norm(loc=mean, scale=scale) for mean in means]"
   ]
  },
  {
   "cell_type": "markdown",
   "metadata": {},
   "source": [
    "In total, we observe $T=1000$ examples. We frame this as a machine learning problem and our goal is to train a model given some features $x$ to accurately predict $y$. However, we are unconcerned with learning here, and care only about our ability to calculate gradients. Here, we use $x \\in \\mathbb{R}^F$ as an $F=20$ dimensional feature vector, but the features are uninformative and sampled from a standard normal. "
   ]
  },
  {
   "cell_type": "code",
   "execution_count": 3,
   "metadata": {},
   "outputs": [],
   "source": [
    "T=1000\n",
    "# create random state for sampling\n",
    "seed=360\n",
    "rng = np.random.RandomState(seed)\n",
    "y_TS = np.array([dist.rvs(size=T, random_state=rng) for dist in data_distributions]).T\n",
    "assert(y_TS.shape == (T, S))\n",
    "\n",
    "F=20\n",
    "# x doesn't matter because we aren't learning\n",
    "x_TF = rng.standard_normal(size=(T, F))"
   ]
  },
  {
   "cell_type": "code",
   "execution_count": 4,
   "metadata": {},
   "outputs": [
    {
     "data": {
      "text/plain": [
       "<matplotlib.legend.Legend at 0x7f3f15bc2fa0>"
      ]
     },
     "execution_count": 4,
     "metadata": {},
     "output_type": "execute_result"
    },
    {
     "data": {
      "image/png": "[encoded data removed]",
      "text/plain": [
       "<Figure size 640x480 with 1 Axes>"
      ]
     },
     "metadata": {},
     "output_type": "display_data"
    }
   ],
   "source": [
    "plt.hist(tf.reshape(y_TS, [-1]).numpy(),alpha=0.5, bins=1000, label='y true')\n",
    "plt.legend()"
   ]
  },
  {
   "cell_type": "markdown",
   "metadata": {},
   "source": [
    "## Model\n",
    "We will model this with the true model: predictions $\\hat{y}_{s,t}$ will come from S, location-specific normal distributions, where the mean is determined by a function $f_{\\phi_s}(x)$ with location-specific parameters $\\phi_s$, and the variance is fixed to the true value of 1.\n",
    "\n",
    "$$p(\\hat{y}_{s,t}) = \\mathcal{N}(\\hat{y}_{s,t}| f_{\\phi_s}(x), 1)$$\n",
    "All locations are independent:\n",
    "$$p(\\hat{y}_{t}) = \\prod_{s=1}^S \\mathcal{N}(\\hat{y}_{s,t}| f_{\\phi_s}(x), 1)$$\n",
    "\n",
    "Our model is a simple linear model with an intercept:\n",
    "$$f_{\\phi_s}(x) = \\phi x + \\phi_0$$\n",
    "Our model can trivially recover the true data generating process by setting the coefficient terms of $\\phi_s$ to 0 and the intercept to the true mean $\\phi_{s,0} = \\mu_s$\n",
    "\n",
    "## Objective\n",
    "We will use our model's predictions $\\hat{y}$ in order to choose some action $\\theta$, which can be calculated by a deterministic but not necessarily differentiable function $a$ of $\\hat{y}$:\n",
    "$$\\theta_t = a(\\hat{y}_t)$$\n",
    "\n",
    "Given a decision $\\theta$, we can calculate a loss between our action and the observed outcome $\\mathcal{L}(\\theta_t, y_t)$. Our goal is to calculate gradients of that loss with respect to our model parameters. We can use the chain rule to decompose the gradient into two parts:\n",
    "$$ \\nabla_\\phi \\mathcal{L}(\\theta_t, y_t) = \\nabla_\\phi \\theta \\nabla_\\theta  \\mathcal{L}(\\theta_t, y_t)$$\n",
    "\n",
    "When $\\theta$ is non-differentiable, we can obtain gradients using the score-function trick, where we can approximate the gradient using $M$ samples from our probabilistic model $p$\n",
    "$$\\nabla_\\phi \\theta = \\frac{1}{M} \\sum_{m=1}^M \\nabla_\\phi \\log p(y^m) a(y)$$\n",
    "\n",
    "Our loss is mean-squared error and easy to differentiate: \n",
    "$$\\mathcal{L} (\\theta_t, y_t) = \\frac{1}{S}\\sum_{s=1}^S(y_t-\\theta_t)^2$$"
   ]
  },
  {
   "cell_type": "markdown",
   "metadata": {},
   "source": [
    "## Implementing the model"
   ]
  },
  {
   "cell_type": "code",
   "execution_count": 5,
   "metadata": {},
   "outputs": [],
   "source": [
    "inputs = keras.Input(shape=F)\n",
    "linear_layer = keras.layers.Dense(S, activation = None)\n",
    "distribution_layer = tfp.layers.DistributionLambda(lambda t: tfp.distributions.Normal(loc=t, scale=1))"
   ]
  },
  {
   "cell_type": "code",
   "execution_count": 6,
   "metadata": {},
   "outputs": [],
   "source": [
    "predicted_means = linear_layer(inputs)\n",
    "distributions = distribution_layer(predicted_means)\n",
    "model = keras.Model(inputs=inputs, outputs=distributions)"
   ]
  },
  {
   "cell_type": "code",
   "execution_count": 7,
   "metadata": {},
   "outputs": [
    {
     "name": "stdout",
     "output_type": "stream",
     "text": [
      "Model parameter shapes: [(20, 4), (4,)]\n"
     ]
    }
   ],
   "source": [
    "model_distributions = model(x_TF)\n",
    "print(f'Model parameter shapes: {[w.shape for w in model.get_weights()]}')"
   ]
  },
  {
   "cell_type": "markdown",
   "metadata": {},
   "source": [
    "### Set weights to true values\n",
    "We'll set the linear coefficients to 0 and the biases to the true means"
   ]
  },
  {
   "cell_type": "code",
   "execution_count": 8,
   "metadata": {},
   "outputs": [
    {
     "name": "stdout",
     "output_type": "stream",
     "text": [
      "Max linear weight magnitude 0.0\n",
      "Biases [ 5. 15. 25. 35.]\n"
     ]
    }
   ],
   "source": [
    "linear_weights = model.trainable_variables[0]\n",
    "linear_weights.assign(tf.zeros_like(linear_weights))\n",
    "\n",
    "biases = model.trainable_variables[1]\n",
    "biases.assign(means)\n",
    "\n",
    "print(f'Max linear weight magnitude {tf.reduce_max(tf.abs(model.trainable_variables[0]))}')\n",
    "print(f'Biases {model.get_weights()[1]}')"
   ]
  },
  {
   "cell_type": "code",
   "execution_count": 9,
   "metadata": {},
   "outputs": [],
   "source": [
    "M=500\n",
    "model_distributions = model(x_TF)\n",
    "sample_y_MTS = model_distributions.sample(M)\n",
    "assert(sample_y_MTS.shape == (M, T, S))\n",
    "\n",
    "sample_log_probs_MTS = model_distributions.log_prob(sample_y_MTS)\n",
    "sample_actions_MTS = tf.identity(sample_y_MTS)\n",
    "expected_actions_TS = tf.reduce_mean(sample_actions_MTS, axis=0)\n",
    "loss_T = keras.losses.mean_squared_error(y_TS, expected_actions_TS)\n",
    "loss = tf.reduce_mean(loss_T)"
   ]
  },
  {
   "cell_type": "code",
   "execution_count": 10,
   "metadata": {},
   "outputs": [
    {
     "data": {
      "text/plain": [
       "<matplotlib.legend.Legend at 0x7f3ee8172bb0>"
      ]
     },
     "execution_count": 10,
     "metadata": {},
     "output_type": "execute_result"
    },
    {
     "data": {
      "image/png": "[encoded data removed]",
      "text/plain": [
       "<Figure size 640x480 with 1 Axes>"
      ]
     },
     "metadata": {},
     "output_type": "display_data"
    }
   ],
   "source": [
    "plt.hist(tf.reshape(expected_actions_TS, [-1]).numpy(),alpha=0.5, bins=1000, label=f'expected decision {M} samples')\n",
    "plt.hist(tf.reshape(y_TS, [-1]).numpy(),alpha=0.5, bins=1000, label='y true')\n",
    "plt.legend()"
   ]
  },
  {
   "cell_type": "markdown",
   "metadata": {},
   "source": [
    "## Implement the score function trick\n"
   ]
  },
  {
   "cell_type": "code",
   "execution_count": 11,
   "metadata": {},
   "outputs": [],
   "source": [
    "def score_function_trick(jacobian_MTSp, actions_MTS):\n",
    "    \"\"\"Implement score function trick\n",
    "    \n",
    "    Args:\n",
    "    jacobian_MTSp: Gradient of the log probability of the samples of y given model parameter p\n",
    "        tf.Tensor of shape (M, T, S, p), where p is the shape of the parameter\n",
    "    actions_MTS: Action taken at each sampple\n",
    "    \"\"\"\n",
    "    # Solve for the rank of the parameter by subtracting the sample/time/location dimension\n",
    "    rank_P = tf.rank(jacobian_MTSp)-3\n",
    "    # add new size 1 dimensions so that the action broadcasts to the shape of the parameter\n",
    "    new_shape = tf.concat([tf.shape(actions_MTS), tf.ones([rank_P], tf.int32)], axis=0)\n",
    "    actions_MTSp = tf.reshape(actions_MTS, new_shape)\n",
    "\n",
    "    scaled_jacobian_MTSp = jacobian_MTSp*actions_MTSp\n",
    "\n",
    "    # average over sample dims\n",
    "    param_gradient_BSp = tf.reduce_mean(scaled_jacobian_MTSp, axis=0)\n",
    "\n",
    "    return param_gradient_BSp\n",
    "\n",
    "def overall_gradient_calculation(gradient_TSp, action_gradient_TS):\n",
    "    \"\"\"Calculate final loss gradeint\n",
    "    \n",
    "    Args:\n",
    "    gradient_BSp: Of the action w.r.t to parameter p\n",
    "        tf.Tensor of shape (M, T, S, p), where p is the shape of the parameter\n",
    "    action_gradient_TS: Gradient of loss w.r.t. to action\n",
    "    \"\"\"\n",
    "    # Solve for the rank of the parameter by subtracting the time/location dimension\n",
    "    rank_P = tf.rank(gradient_TSp)-2\n",
    "    # add new size 1 dimensions so that the action broadcasts to the shape of the parameter\n",
    "    new_shape = tf.concat([tf.shape(action_gradient_TS), tf.ones([rank_P], tf.int32)], axis=0)\n",
    "    action_gradient_TSp = tf.reshape(action_gradient_TS, new_shape)\n",
    "\n",
    "    overall_gradient_TSp = gradient_TSp*action_gradient_TSp\n",
    "\n",
    "    # Sum over spatial dimensions\n",
    "    overall_gradient_Tp = tf.reduce_sum(overall_gradient_TSp, axis=1)\n",
    "    # average over time\n",
    "    overall_gradient_p = tf.reduce_mean(overall_gradient_Tp, axis=0)\n",
    "\n",
    "    return overall_gradient_p"
   ]
  },
  {
   "cell_type": "markdown",
   "metadata": {},
   "source": [
    "### Differentiate the score function trick\n",
    "We'll take $M=5$ samples, and use the identity function as our action $a(y)=y$"
   ]
  },
  {
   "cell_type": "markdown",
   "metadata": {},
   "source": [
    "$$ \\nabla_\\phi \\mathcal{L}(\\theta_t, y_t) = \\nabla_\\phi \\theta \\nabla_\\theta  \\mathcal{L}(\\theta_t, y_t)$$\n",
    "\n",
    "When $\\theta$ is non-differentiable, we can obtain gradients using the score-function trick, where we can approximate the gradient using $M$ samples from our probabilistic model $p$\n",
    "$$\\nabla_\\phi \\theta = \\frac{1}{M} \\sum_{m=1}^M \\nabla_\\phi \\log p(y^m) a(y)$$\n",
    "\n",
    "Our loss is mean-squared error and easy to differentiate: \n",
    "$$\\mathcal{L} (\\theta_t, y_t) = \\frac{1}{S}\\sum_{s=1}^S(y_t-\\theta_t)^2$$"
   ]
  },
  {
   "cell_type": "markdown",
   "metadata": {},
   "source": [
    "$$\\nabla_\\phi \\log p(y^m) = \\nabla_\\phi \\left( -\\log (\\sigma) - \\frac{1}{2}\\log (2\\pi) - \\frac{1}{2}(\\frac{y^m-\\phi_\\mu}{\\sigma})^2 \\right)$$"
   ]
  },
  {
   "cell_type": "markdown",
   "metadata": {},
   "source": [
    "$$ \\nabla_\\phi \\log p(y^m) = \\frac{y^m-\\phi_\\mu}{\\sigma^2} = y^m -\\phi_\\mu$$"
   ]
  },
  {
   "cell_type": "markdown",
   "metadata": {},
   "source": [
    "$$\\nabla_\\phi \\theta = \\frac{1}{M} \\sum_{m=1}^M (y^m - \\phi_\\mu) a(y)$$"
   ]
  },
  {
   "cell_type": "markdown",
   "metadata": {},
   "source": [
    " $$\\nabla_\\theta  \\mathcal{L}(\\theta_t, y_t) =  \\nabla_\\theta   \\frac{1}{S}\\sum_{s=1}^S(y_t-\\theta_t)^2$$"
   ]
  },
  {
   "cell_type": "markdown",
   "metadata": {},
   "source": [
    "$$ = \\frac{1}{S}\\sum_{s=1}^S-2(y_t-\\theta_t)$$"
   ]
  },
  {
   "cell_type": "code",
   "execution_count": 45,
   "metadata": {},
   "outputs": [],
   "source": [
    "M=3\n",
    "model_distributions = model(x_TF)\n",
    "sample_y_MTS = model_distributions.sample(M)\n",
    "grad_theta_wrt_phi_TS = tf.reduce_mean((sample_y_MTS - model.trainable_variables[1])*sample_y_MTS, axis=0)\n",
    "\n",
    "sample_actions_MTS = tf.identity(sample_y_MTS)\n",
    "expected_actions_TS = tf.reduce_mean(sample_actions_MTS, axis=0)\n",
    "loss_T = keras.losses.mean_squared_error(y_TS, expected_actions_TS)\n",
    "loss = tf.reduce_mean(loss_T)\n",
    "grad_L_wrt_theta_TS = -2.0*(y_TS-expected_actions_TS)\n",
    "\n",
    "analytical_gradient_TS = grad_theta_wrt_phi_TS*grad_L_wrt_theta_TS"
   ]
  },
  {
   "cell_type": "code",
   "execution_count": 44,
   "metadata": {},
   "outputs": [
    {
     "data": {
      "text/plain": [
       "<tf.Tensor: shape=(1000, 4), dtype=float32, numpy=\n",
       "array([[  6.4703164 ,   3.0037193 , -12.423985  ,  12.632436  ],\n",
       "       [  1.0286243 ,  10.645972  ,   8.992711  ,  -8.953015  ],\n",
       "       [  0.47499323,   3.5912526 ,   0.31085506,  11.354911  ],\n",
       "       ...,\n",
       "       [  0.6432822 ,  18.98562   ,   1.1854235 , -48.1167    ],\n",
       "       [ -3.010149  ,   1.1026604 , -10.8927355 ,   1.0519905 ],\n",
       "       [  2.9530306 ,  24.70825   ,  -5.360645  ,   8.956947  ]],\n",
       "      dtype=float32)>"
      ]
     },
     "execution_count": 44,
     "metadata": {},
     "output_type": "execute_result"
    }
   ],
   "source": [
    "grad_theta_wrt_phi_TS"
   ]
  },
  {
   "cell_type": "code",
   "execution_count": 144,
   "metadata": {},
   "outputs": [
    {
     "name": "stdout",
     "output_type": "stream",
     "text": [
      "20.0\n",
      "Elapsed time 0.140028715133667\n",
      "21.11111\n",
      "Elapsed time 0.14912819862365723\n",
      "22.222221\n",
      "Elapsed time 0.14449477195739746\n",
      "23.333334\n",
      "Elapsed time 0.14118123054504395\n",
      "24.444445\n",
      "Elapsed time 0.14481735229492188\n",
      "25.555555\n",
      "Elapsed time 0.14337468147277832\n",
      "26.666666\n",
      "Elapsed time 0.1332406997680664\n",
      "27.777779\n",
      "Elapsed time 0.13511300086975098\n",
      "28.88889\n",
      "Elapsed time 0.13291358947753906\n",
      "30.0\n",
      "Elapsed time 0.13976788520812988\n"
     ]
    }
   ],
   "source": [
    "# We want 3 gradients, 2 for the gradients in the math above, and 1 for the overall gradient to check our math\n",
    "M=40\n",
    "model.trainable_variables[1].assign([5,15,20,35])\n",
    "\n",
    "analytical_grads, autodiff_grads, losses, param_vals = [], [], [], []\n",
    "\n",
    "\n",
    "for param_value in np.linspace(20, 30, 10, dtype=np.float32):\n",
    "    print(param_value)\n",
    "    mean_param = [5, 15, param_value, 35]\n",
    "    variable = model.trainable_variables[1]\n",
    "    variable.assign(mean_param)\n",
    "\n",
    "    start = time.time()\n",
    "\n",
    "    for trial in range(10):\n",
    "        with tf.GradientTape() as master_tape:\n",
    "            model_distributions = model(x_TF)\n",
    "            sample_y_MTS = model_distributions.sample(M)\n",
    "            stopped_samples_MTS = tf.stop_gradient(sample_y_MTS)\n",
    "            sample_log_probs_MTS = model_distributions.log_prob(stopped_samples_MTS)\n",
    "            grad_theta_wrt_phi_TS = tf.reduce_mean((sample_y_MTS - model.trainable_variables[1])*sample_y_MTS, axis=0)\n",
    "\n",
    "            sample_actions_MTS = tf.identity(sample_y_MTS)\n",
    "            expected_actions_TS = tf.reduce_mean(sample_actions_MTS, axis=0)\n",
    "            loss_T = keras.losses.mean_squared_error(y_TS, expected_actions_TS)\n",
    "            loss = tf.reduce_mean(loss_T)\n",
    "            grad_L_wrt_theta_TS = -2.0/S*(y_TS-expected_actions_TS)\n",
    "\n",
    "        analytical_gradient_TS = grad_theta_wrt_phi_TS*grad_L_wrt_theta_TS\n",
    "        master_gradient = master_tape.gradient(loss_T, model.trainable_weights)\n",
    "        autodiff_grads.append(master_gradient[1][2])\n",
    "        losses.append(loss)\n",
    "        analytical_grads.append(tf.reduce_mean(analytical_gradient_TS, axis=0)[2])\n",
    "        param_vals.append(param_value)\n",
    "    end = time.time()\n",
    "    elapsed = end - start\n",
    "    print(f'Elapsed time {elapsed}')"
   ]
  },
  {
   "cell_type": "code",
   "execution_count": 146,
   "metadata": {},
   "outputs": [
    {
     "data": {
      "image/png": "[encoded data removed]",
      "text/plain": [
       "<Figure size 640x480 with 1 Axes>"
      ]
     },
     "metadata": {},
     "output_type": "display_data"
    }
   ],
   "source": [
    "# plot with 2 different scales, 1 y axis for each graph:\n",
    "fig, ax1 = plt.subplots()\n",
    "\n",
    "# Plot the first line on ax1\n",
    "ax1.set_xlabel('3rd cluster mean')\n",
    "ax1.plot(param_vals, losses, label='loss')\n",
    "ax1.tick_params(axis='y')\n",
    "ax1.set_ylim([-10, 10])\n",
    "\n",
    "\n",
    "# divide by 1000 because autodiff is summing over samples\n",
    "ax1.plot(param_vals, [mag/T for mag in autodiff_grads], 'g-', label='autodiff gradient')\n",
    "ax1.plot(param_vals, analytical_grads,'k*',label='score func gradient', )\n",
    "ax1.tick_params(axis='y')\n",
    "#ax2.set_ylim([-10,10])\n",
    "\n",
    "#ax2.set_ylim([-1000, 1000])\n",
    "#plot vertical line at x=25\n",
    "plt.axvline(x=25, color='r', linestyle='--', label='true mean')\n",
    "plt.axhline(y=0, color='r', linestyle=':', label='0 gradient')\n",
    "fig.tight_layout()\n",
    "plt.legend()\n",
    "\n",
    "plt.title(f'Loss and gradients score_func samples M={M}')\n",
    "plt.show()\n"
   ]
  },
  {
   "cell_type": "code",
   "execution_count": 139,
   "metadata": {},
   "outputs": [],
   "source": [
    "def make_plot(M, fig, ax1):\n",
    "\n",
    "    model.trainable_variables[1].assign([5,15,20,35])\n",
    "\n",
    "    analytical_grads, autodiff_grads, losses, param_vals = [], [], [], []\n",
    "\n",
    "\n",
    "    for param_value in np.linspace(20, 30, 10, dtype=np.float32):\n",
    "        print(param_value)\n",
    "        mean_param = [5, 15, param_value, 35]\n",
    "        variable = model.trainable_variables[1]\n",
    "        variable.assign(mean_param)\n",
    "\n",
    "        start = time.time()\n",
    "\n",
    "        for trial in range(25):\n",
    "            with tf.GradientTape() as master_tape:\n",
    "                model_distributions = model(x_TF)\n",
    "                sample_y_MTS = model_distributions.sample(M)\n",
    "                stopped_samples_MTS = tf.stop_gradient(sample_y_MTS)\n",
    "                sample_log_probs_MTS = model_distributions.log_prob(stopped_samples_MTS)\n",
    "                grad_theta_wrt_phi_TS = tf.reduce_mean((sample_y_MTS - model.trainable_variables[1])*sample_y_MTS, axis=0)\n",
    "\n",
    "                sample_actions_MTS = tf.identity(sample_y_MTS)\n",
    "                expected_actions_TS = tf.reduce_mean(sample_actions_MTS, axis=0)\n",
    "                loss_T = keras.losses.mean_squared_error(y_TS, expected_actions_TS)\n",
    "                loss = tf.reduce_mean(loss_T)\n",
    "                grad_L_wrt_theta_TS = -2.0/S*(y_TS-expected_actions_TS)\n",
    "\n",
    "            analytical_gradient_TS = grad_theta_wrt_phi_TS*grad_L_wrt_theta_TS\n",
    "            master_gradient = master_tape.gradient(loss_T, model.trainable_weights)\n",
    "            autodiff_grads.append(master_gradient[1][2])\n",
    "            losses.append(loss)\n",
    "            analytical_grads.append(tf.reduce_mean(analytical_gradient_TS, axis=0)[2])\n",
    "            param_vals.append(param_value)\n",
    "        end = time.time()\n",
    "        elapsed = end - start\n",
    "        print(f'Elapsed time {elapsed}')    \n",
    "\n",
    "    # plot with 2 different scales, 1 y axis for each graph:\n",
    "    #fig, ax1 = plt.subplots()\n",
    "\n",
    "    # Plot the first line on ax1\n",
    "    ax1.set_xlabel('3rd cluster mean')\n",
    "    ax1.plot(param_vals, losses, label='loss')\n",
    "    ax1.tick_params(axis='y')\n",
    "    ax1.set_ylim([-10, 10])\n",
    "\n",
    "\n",
    "    # divide by 1000 because autodiff is summing over samples\n",
    "    ax1.plot(param_vals, [mag/T for mag in autodiff_grads], 'g-', label='autodiff gradient')\n",
    "    ax1.plot(param_vals, analytical_grads,'k*',label='score func gradient', )\n",
    "    ax1.tick_params(axis='y')\n",
    "    #ax2.set_ylim([-10,10])\n",
    "\n",
    "    #ax2.set_ylim([-1000, 1000])\n",
    "    #plot vertical line at x=25\n",
    "    plt.axvline(x=25, color='r', linestyle='--', label='true mean')\n",
    "    plt.axhline(y=0, color='r', linestyle=':', label='0 gradient')\n",
    "    fig.tight_layout()\n",
    "    plt.legend()\n",
    "\n",
    "    plt.title(f'Loss and gradients score_func samples M={M}')\n",
    "    #plt.show()\n"
   ]
  },
  {
   "cell_type": "code",
   "execution_count": 129,
   "metadata": {},
   "outputs": [
    {
     "data": {
      "image/png": "[encoded data removed]",
      "text/plain": [
       "<Figure size 640x480 with 1 Axes>"
      ]
     },
     "metadata": {},
     "output_type": "display_data"
    }
   ],
   "source": [
    "# make an animation using make_plot with M from 1 to 100\n",
    "import matplotlib.animation as animation\n",
    "\n",
    "fig, ax = plt.subplots()\n",
    "\n",
    "def update_plot(frame):\n",
    "    M = frame * 5\n",
    "    make_plot(M, fig, ax)\n",
    "\n",
    "ani = animation.FuncAnimation(fig, update_plot, frames=range(1, 21), interval=500)\n",
    "\n",
    "plt.show()"
   ]
  },
  {
   "cell_type": "code",
   "execution_count": 131,
   "metadata": {},
   "outputs": [
    {
     "name": "stdout",
     "output_type": "stream",
     "text": [
      "\u001b[0;31mSignature:\u001b[0m\n",
      "\u001b[0mani\u001b[0m\u001b[0;34m.\u001b[0m\u001b[0msave\u001b[0m\u001b[0;34m(\u001b[0m\u001b[0;34m\u001b[0m\n",
      "\u001b[0;34m\u001b[0m    \u001b[0mfilename\u001b[0m\u001b[0;34m,\u001b[0m\u001b[0;34m\u001b[0m\n",
      "\u001b[0;34m\u001b[0m    \u001b[0mwriter\u001b[0m\u001b[0;34m=\u001b[0m\u001b[0;32mNone\u001b[0m\u001b[0;34m,\u001b[0m\u001b[0;34m\u001b[0m\n",
      "\u001b[0;34m\u001b[0m    \u001b[0mfps\u001b[0m\u001b[0;34m=\u001b[0m\u001b[0;32mNone\u001b[0m\u001b[0;34m,\u001b[0m\u001b[0;34m\u001b[0m\n",
      "\u001b[0;34m\u001b[0m    \u001b[0mdpi\u001b[0m\u001b[0;34m=\u001b[0m\u001b[0;32mNone\u001b[0m\u001b[0;34m,\u001b[0m\u001b[0;34m\u001b[0m\n",
      "\u001b[0;34m\u001b[0m    \u001b[0mcodec\u001b[0m\u001b[0;34m=\u001b[0m\u001b[0;32mNone\u001b[0m\u001b[0;34m,\u001b[0m\u001b[0;34m\u001b[0m\n",
      "\u001b[0;34m\u001b[0m    \u001b[0mbitrate\u001b[0m\u001b[0;34m=\u001b[0m\u001b[0;32mNone\u001b[0m\u001b[0;34m,\u001b[0m\u001b[0;34m\u001b[0m\n",
      "\u001b[0;34m\u001b[0m    \u001b[0mextra_args\u001b[0m\u001b[0;34m=\u001b[0m\u001b[0;32mNone\u001b[0m\u001b[0;34m,\u001b[0m\u001b[0;34m\u001b[0m\n",
      "\u001b[0;34m\u001b[0m    \u001b[0mmetadata\u001b[0m\u001b[0;34m=\u001b[0m\u001b[0;32mNone\u001b[0m\u001b[0;34m,\u001b[0m\u001b[0;34m\u001b[0m\n",
      "\u001b[0;34m\u001b[0m    \u001b[0mextra_anim\u001b[0m\u001b[0;34m=\u001b[0m\u001b[0;32mNone\u001b[0m\u001b[0;34m,\u001b[0m\u001b[0;34m\u001b[0m\n",
      "\u001b[0;34m\u001b[0m    \u001b[0msavefig_kwargs\u001b[0m\u001b[0;34m=\u001b[0m\u001b[0;32mNone\u001b[0m\u001b[0;34m,\u001b[0m\u001b[0;34m\u001b[0m\n",
      "\u001b[0;34m\u001b[0m    \u001b[0;34m*\u001b[0m\u001b[0;34m,\u001b[0m\u001b[0;34m\u001b[0m\n",
      "\u001b[0;34m\u001b[0m    \u001b[0mprogress_callback\u001b[0m\u001b[0;34m=\u001b[0m\u001b[0;32mNone\u001b[0m\u001b[0;34m,\u001b[0m\u001b[0;34m\u001b[0m\n",
      "\u001b[0;34m\u001b[0m\u001b[0;34m)\u001b[0m\u001b[0;34m\u001b[0m\u001b[0;34m\u001b[0m\u001b[0m\n",
      "\u001b[0;31mDocstring:\u001b[0m\n",
      "Save the animation as a movie file by drawing every frame.\n",
      "\n",
      "Parameters\n",
      "----------\n",
      "filename : str\n",
      "    The output filename, e.g., :file:`mymovie.mp4`.\n",
      "\n",
      "writer : `MovieWriter` or str, default: :rc:`animation.writer`\n",
      "    A `MovieWriter` instance to use or a key that identifies a\n",
      "    class to use, such as 'ffmpeg'.\n",
      "\n",
      "fps : int, optional\n",
      "    Movie frame rate (per second).  If not set, the frame rate from the\n",
      "    animation's frame interval.\n",
      "\n",
      "dpi : float, default: :rc:`savefig.dpi`\n",
      "    Controls the dots per inch for the movie frames.  Together with\n",
      "    the figure's size in inches, this controls the size of the movie.\n",
      "\n",
      "codec : str, default: :rc:`animation.codec`.\n",
      "    The video codec to use.  Not all codecs are supported by a given\n",
      "    `MovieWriter`.\n",
      "\n",
      "bitrate : int, default: :rc:`animation.bitrate`\n",
      "    The bitrate of the movie, in kilobits per second.  Higher values\n",
      "    means higher quality movies, but increase the file size.  A value\n",
      "    of -1 lets the underlying movie encoder select the bitrate.\n",
      "\n",
      "extra_args : list of str or None, optional\n",
      "    Extra command-line arguments passed to the underlying movie encoder. These\n",
      "    arguments are passed last to the encoder, just before the output filename.\n",
      "    The default, None, means to use :rc:`animation.[name-of-encoder]_args` for\n",
      "    the builtin writers.\n",
      "\n",
      "metadata : dict[str, str], default: {}\n",
      "    Dictionary of keys and values for metadata to include in\n",
      "    the output file. Some keys that may be of use include:\n",
      "    title, artist, genre, subject, copyright, srcform, comment.\n",
      "\n",
      "extra_anim : list, default: []\n",
      "    Additional `Animation` objects that should be included\n",
      "    in the saved movie file. These need to be from the same\n",
      "    `.Figure` instance. Also, animation frames will\n",
      "    just be simply combined, so there should be a 1:1 correspondence\n",
      "    between the frames from the different animations.\n",
      "\n",
      "savefig_kwargs : dict, default: {}\n",
      "    Keyword arguments passed to each `~.Figure.savefig` call used to\n",
      "    save the individual frames.\n",
      "\n",
      "progress_callback : function, optional\n",
      "    A callback function that will be called for every frame to notify\n",
      "    the saving progress. It must have the signature ::\n",
      "\n",
      "        def func(current_frame: int, total_frames: int) -> Any\n",
      "\n",
      "    where *current_frame* is the current frame number and *total_frames* is the\n",
      "    total number of frames to be saved. *total_frames* is set to None, if the\n",
      "    total number of frames cannot be determined. Return values may exist but are\n",
      "    ignored.\n",
      "\n",
      "    Example code to write the progress to stdout::\n",
      "\n",
      "        progress_callback = lambda i, n: print(f'Saving frame {i}/{n}')\n",
      "\n",
      "Notes\n",
      "-----\n",
      "*fps*, *codec*, *bitrate*, *extra_args* and *metadata* are used to\n",
      "construct a `.MovieWriter` instance and can only be passed if\n",
      "*writer* is a string.  If they are passed as non-*None* and *writer*\n",
      "is a `.MovieWriter`, a `RuntimeError` will be raised.\n",
      "\u001b[0;31mFile:\u001b[0m      ~/miniforge3/envs/pip_k2_tf/lib/python3.9/site-packages/matplotlib/animation.py\n",
      "\u001b[0;31mType:\u001b[0m      method"
     ]
    }
   ],
   "source": [
    "ani.save?"
   ]
  },
  {
   "cell_type": "code",
   "execution_count": null,
   "metadata": {},
   "outputs": [],
   "source": []
  }
 ],
 "metadata": {
  "kernelspec": {
   "display_name": "pip_k2_tf",
   "language": "python",
   "name": "python3"
  },
  "language_info": {
   "codemirror_mode": {
    "name": "ipython",
    "version": 3
   },
   "file_extension": ".py",
   "mimetype": "text/x-python",
   "name": "python",
   "nbconvert_exporter": "python",
   "pygments_lexer": "ipython3",
   "version": "3.9.19"
  }
 },
 "nbformat": 4,
 "nbformat_minor": 2
}
