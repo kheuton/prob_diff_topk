{
 "cells": [
  {
   "cell_type": "code",
   "execution_count": 8,
   "metadata": {},
   "outputs": [
    {
     "name": "stdout",
     "output_type": "stream",
     "text": [
      "The autoreload extension is already loaded. To reload it, use:\n",
      "  %reload_ext autoreload\n"
     ]
    }
   ],
   "source": [
    "%load_ext autoreload\n",
    "%autoreload 2\n",
    "from functools import partial\n",
    "import os\n",
    "import keras\n",
    "\n",
    "from datasets import example_datasets, to_numpy, tensorflow_dataset, train_val_test_split\n",
    "from models import mixture_poissons,poisson_glm\n",
    "from metrics import mixture_poi_loss, get_bpr_loss_func, mix_bpr, get_penalized_bpr_loss_func_mix, get_unperturbed_bpr_loss_func\n",
    "from experiments import training_loop\n",
    "from plotting_funcs import plot_losses, plot_frontier, plot_component_histograms, plot_winners\n",
    "from bpr_trials import calc_bpr_many_trials\n",
    "\n",
    "from distributions import ZeroInflatedDist, QuantizedNormal\n",
    "\n",
    "import tensorflow as tf\n",
    "import tensorflow_probability as tfp\n",
    "import numpy as np\n",
    "from glob import glob\n",
    "import scipy\n",
    "\n",
    "import matplotlib.pyplot as plt"
   ]
  },
  {
   "cell_type": "code",
   "execution_count": 2,
   "metadata": {},
   "outputs": [],
   "source": [
    "# tracts/distributions\n",
    "S=12\n",
    "# history/features\n",
    "H = 3\n",
    "# total timepoints\n",
    "T= 15000\n",
    "# K for bpr\n",
    "K=4\n",
    "seed=12343"
   ]
  },
  {
   "cell_type": "code",
   "execution_count": 3,
   "metadata": {},
   "outputs": [],
   "source": [
    "train_dataset, val_dataset, test_dataset, dist_S = example_datasets(H, T, seed=seed, train_pct=1/3.0, test_pct=1/3, return_dists=True)"
   ]
  },
  {
   "cell_type": "code",
   "execution_count": 17,
   "metadata": {},
   "outputs": [],
   "source": [
    "consistent_4 = [QuantizedNormal(7, 0.1) for _ in range(4)]\n",
    "\n",
    "highvar_4 = [ZeroInflatedDist(QuantizedNormal(10, 0.1), 1-0.55) for _ in range(4)]\n",
    "\n",
    "powerball_4 = [ZeroInflatedDist(QuantizedNormal(100, 0.1), 0.9) for _ in range(4)]\n",
    "dist_S = consistent_4 + highvar_4 +powerball_4\n"
   ]
  },
  {
   "cell_type": "code",
   "execution_count": 4,
   "metadata": {},
   "outputs": [],
   "source": [
    "\n",
    "train_X_THS, train_y_TS = to_numpy(train_dataset)\n",
    "val_X_THS, val_y_TS = to_numpy(val_dataset)\n",
    "input_shape = (H,S)\n",
    "\n",
    "negative_bpr_K = get_bpr_loss_func(K)\n",
    "negative_bpr_K_unperturbed = get_unperturbed_bpr_loss_func(K)"
   ]
  },
  {
   "cell_type": "code",
   "execution_count": 5,
   "metadata": {},
   "outputs": [
    {
     "name": "stdout",
     "output_type": "stream",
     "text": [
      "WARNING:tensorflow:No training configuration found in save file, so the model was *not* compiled. Compile it manually.\n"
     ]
    },
    {
     "ename": "UnimplementedError",
     "evalue": "Exception encountered when calling layer 'poisson_conv' (type Conv1D).\n\n{{function_node __wrapped__Conv2D_device_/job:localhost/replica:0/task:0/device:CPU:0}} The Conv2D op currently only supports the NHWC tensor format on the CPU. The op was given the format: NCHW [Op:Conv2D] name: \n\nCall arguments received by layer 'poisson_conv' (type Conv1D):\n  • inputs=tf.Tensor(shape=(5000, 3, 12), dtype=float32)",
     "output_type": "error",
     "traceback": [
      "\u001b[0;31m---------------------------------------------------------------------------\u001b[0m",
      "\u001b[0;31mUnimplementedError\u001b[0m                        Traceback (most recent call last)",
      "Cell \u001b[0;32mIn[5], line 3\u001b[0m\n\u001b[1;32m      1\u001b[0m good_model_path \u001b[38;5;241m=\u001b[39m \u001b[38;5;124m'\u001b[39m\u001b[38;5;124m/cluster/tufts/hugheslab/kheuto01/synth_topk/save_long_plot_hist_H3/K4_thresh0.6_penalty50_lr0.05/penalized_model\u001b[39m\u001b[38;5;124m'\u001b[39m\n\u001b[1;32m      2\u001b[0m model \u001b[38;5;241m=\u001b[39m keras\u001b[38;5;241m.\u001b[39mmodels\u001b[38;5;241m.\u001b[39mload_model(good_model_path)\n\u001b[0;32m----> 3\u001b[0m y_preds \u001b[38;5;241m=\u001b[39m \u001b[43mmodel\u001b[49m\u001b[43m(\u001b[49m\u001b[43mval_X_THS\u001b[49m\u001b[43m)\u001b[49m\n",
      "File \u001b[0;32m/cluster/tufts/hugheslab/kheuto01/mambaforge/envs/pip_k2_tf/lib/python3.11/site-packages/keras/src/utils/traceback_utils.py:70\u001b[0m, in \u001b[0;36mfilter_traceback.<locals>.error_handler\u001b[0;34m(*args, **kwargs)\u001b[0m\n\u001b[1;32m     67\u001b[0m     filtered_tb \u001b[38;5;241m=\u001b[39m _process_traceback_frames(e\u001b[38;5;241m.\u001b[39m__traceback__)\n\u001b[1;32m     68\u001b[0m     \u001b[38;5;66;03m# To get the full stack trace, call:\u001b[39;00m\n\u001b[1;32m     69\u001b[0m     \u001b[38;5;66;03m# `tf.debugging.disable_traceback_filtering()`\u001b[39;00m\n\u001b[0;32m---> 70\u001b[0m     \u001b[38;5;28;01mraise\u001b[39;00m e\u001b[38;5;241m.\u001b[39mwith_traceback(filtered_tb) \u001b[38;5;28;01mfrom\u001b[39;00m \u001b[38;5;28;01mNone\u001b[39;00m\n\u001b[1;32m     71\u001b[0m \u001b[38;5;28;01mfinally\u001b[39;00m:\n\u001b[1;32m     72\u001b[0m     \u001b[38;5;28;01mdel\u001b[39;00m filtered_tb\n",
      "File \u001b[0;32m/cluster/tufts/hugheslab/kheuto01/mambaforge/envs/pip_k2_tf/lib/python3.11/site-packages/tensorflow/python/framework/ops.py:5883\u001b[0m, in \u001b[0;36mraise_from_not_ok_status\u001b[0;34m(e, name)\u001b[0m\n\u001b[1;32m   5881\u001b[0m \u001b[38;5;28;01mdef\u001b[39;00m \u001b[38;5;21mraise_from_not_ok_status\u001b[39m(e, name) \u001b[38;5;241m-\u001b[39m\u001b[38;5;241m>\u001b[39m NoReturn:\n\u001b[1;32m   5882\u001b[0m   e\u001b[38;5;241m.\u001b[39mmessage \u001b[38;5;241m+\u001b[39m\u001b[38;5;241m=\u001b[39m (\u001b[38;5;124m\"\u001b[39m\u001b[38;5;124m name: \u001b[39m\u001b[38;5;124m\"\u001b[39m \u001b[38;5;241m+\u001b[39m \u001b[38;5;28mstr\u001b[39m(name \u001b[38;5;28;01mif\u001b[39;00m name \u001b[38;5;129;01mis\u001b[39;00m \u001b[38;5;129;01mnot\u001b[39;00m \u001b[38;5;28;01mNone\u001b[39;00m \u001b[38;5;28;01melse\u001b[39;00m \u001b[38;5;124m\"\u001b[39m\u001b[38;5;124m\"\u001b[39m))\n\u001b[0;32m-> 5883\u001b[0m   \u001b[38;5;28;01mraise\u001b[39;00m core\u001b[38;5;241m.\u001b[39m_status_to_exception(e) \u001b[38;5;28;01mfrom\u001b[39;00m \u001b[38;5;28;01mNone\u001b[39;00m\n",
      "\u001b[0;31mUnimplementedError\u001b[0m: Exception encountered when calling layer 'poisson_conv' (type Conv1D).\n\n{{function_node __wrapped__Conv2D_device_/job:localhost/replica:0/task:0/device:CPU:0}} The Conv2D op currently only supports the NHWC tensor format on the CPU. The op was given the format: NCHW [Op:Conv2D] name: \n\nCall arguments received by layer 'poisson_conv' (type Conv1D):\n  • inputs=tf.Tensor(shape=(5000, 3, 12), dtype=float32)"
     ]
    }
   ],
   "source": [
    "good_model_path = '/cluster/tufts/hugheslab/kheuto01/synth_topk/save_long_plot_hist_H3/K4_thresh0.6_penalty50_lr0.05/penalized_model'\n",
    "model = keras.models.load_model(good_model_path)\n",
    "y_preds = model(val_X_THS)"
   ]
  },
  {
   "cell_type": "code",
   "execution_count": 6,
   "metadata": {},
   "outputs": [
    {
     "ename": "NameError",
     "evalue": "name 'y_preds' is not defined",
     "output_type": "error",
     "traceback": [
      "\u001b[0;31m---------------------------------------------------------------------------\u001b[0m",
      "\u001b[0;31mNameError\u001b[0m                                 Traceback (most recent call last)",
      "Cell \u001b[0;32mIn[6], line 1\u001b[0m\n\u001b[0;32m----> 1\u001b[0m component_preds, mixture_weights \u001b[38;5;241m=\u001b[39m \u001b[43my_preds\u001b[49m\n\u001b[1;32m      3\u001b[0m predict_constant, predict_variable, predict_lottery \u001b[38;5;241m=\u001b[39m np\u001b[38;5;241m.\u001b[39mzeros_like(component_preds), np\u001b[38;5;241m.\u001b[39mzeros_like(y_preds[\u001b[38;5;241m0\u001b[39m]) , np\u001b[38;5;241m.\u001b[39mzeros_like(y_preds[\u001b[38;5;241m0\u001b[39m])  \n\u001b[1;32m      4\u001b[0m predict_constant[:,\u001b[38;5;241m0\u001b[39m:\u001b[38;5;241m4\u001b[39m,:] \u001b[38;5;241m=\u001b[39m \u001b[38;5;241m1\u001b[39m\n",
      "\u001b[0;31mNameError\u001b[0m: name 'y_preds' is not defined"
     ]
    }
   ],
   "source": [
    "component_preds, mixture_weights = y_preds\n",
    "\n",
    "predict_constant, predict_variable, predict_lottery = np.zeros_like(component_preds), np.zeros_like(y_preds[0]) , np.zeros_like(y_preds[0])  \n",
    "predict_constant[:,0:4,:] = 1\n",
    "predict_variable[:,4:8,:] = 1\n",
    "predict_lottery[:,8:,:] = 1 \n",
    "\n",
    "\n",
    "bpr_constant = mix_bpr(val_y_TS, (predict_constant, mixture_weights),\n",
    "                       negative_bpr_K_func=negative_bpr_K)\n",
    "bpr_variable = mix_bpr(val_y_TS, (predict_variable, mixture_weights),\n",
    "                          negative_bpr_K_func=negative_bpr_K)\n",
    "bpr_lottery = mix_bpr(val_y_TS, (predict_lottery, mixture_weights),\n",
    "                            negative_bpr_K_func=negative_bpr_K)\n",
    "\n",
    "print(f\"Perturbed- 7's: {-bpr_constant*100:.1f}, 0 or 10: {-bpr_variable*100:.1f}, Lottery {-bpr_lottery*100:.1f}\")  \n",
    "\n",
    "bpr_constant = mix_bpr(val_y_TS, (predict_constant, mixture_weights),\n",
    "                       negative_bpr_K_func=negative_bpr_K_unperturbed)\n",
    "bpr_variable = mix_bpr(val_y_TS, (predict_variable, mixture_weights),\n",
    "                          negative_bpr_K_func=negative_bpr_K_unperturbed)\n",
    "bpr_lottery = mix_bpr(val_y_TS, (predict_lottery, mixture_weights),\n",
    "                            negative_bpr_K_func=negative_bpr_K_unperturbed)\n",
    "\n",
    "print(f\"Unperturbed- 7's: {-bpr_constant*100:.1f}, 0 or 10: {-bpr_variable*100:.1f}, Lottery: {-bpr_lottery*100:.1f}\")  "
   ]
  },
  {
   "cell_type": "code",
   "execution_count": null,
   "metadata": {},
   "outputs": [
    {
     "name": "stdout",
     "output_type": "stream",
     "text": [
      "WARNING:tensorflow:No training configuration found in save file, so the model was *not* compiled. Compile it manually.\n"
     ]
    }
   ],
   "source": [
    "component_preds, mixture_weights = y_preds\n",
    "\n",
    "predict_constant, predict_variable, predict_lottery = np.zeros_like(component_preds), np.zeros_like(y_preds[0]) , np.zeros_like(y_preds[0])  \n",
    "predict_constant[:,0:4,:] = 1\n",
    "predict_variable[:,4:8,:] = 1\n",
    "predict_lottery[:,8:,:] = 1 \n",
    "\n",
    "\n",
    "bpr_constant = mix_bpr(val_y_TS, (predict_constant, mixture_weights),\n",
    "                       negative_bpr_K_func=negative_bpr_K)\n",
    "bpr_variable = mix_bpr(val_y_TS, (predict_variable, mixture_weights),\n",
    "                          negative_bpr_K_func=negative_bpr_K)\n",
    "bpr_lottery = mix_bpr(val_y_TS, (predict_lottery, mixture_weights),\n",
    "                            negative_bpr_K_func=negative_bpr_K)\n",
    "\n",
    "print(f\"Perturbed- 7's: {-bpr_constant*100:.1f}, 0 or 10: {-bpr_variable*100:.1f}, Lottery {-bpr_lottery*100:.1f}\")  \n",
    "\n",
    "bpr_constant = mix_bpr(val_y_TS, (predict_constant, mixture_weights),\n",
    "                       negative_bpr_K_func=negative_bpr_K_unperturbed)\n",
    "bpr_variable = mix_bpr(val_y_TS, (predict_variable, mixture_weights),\n",
    "                          negative_bpr_K_func=negative_bpr_K_unperturbed)\n",
    "bpr_lottery = mix_bpr(val_y_TS, (predict_lottery, mixture_weights),\n",
    "                            negative_bpr_K_func=negative_bpr_K_unperturbed)\n",
    "\n",
    "print(f\"Unperturbed- 7's: {-bpr_constant*100:.1f}, 0 or 10: {-bpr_variable*100:.1f}, Lottery: {-bpr_lottery*100:.1f}\")  "
   ]
  },
  {
   "cell_type": "code",
   "execution_count": 18,
   "metadata": {},
   "outputs": [
    {
     "name": "stdout",
     "output_type": "stream",
     "text": [
      "K=4\n",
      "          pick_consistent E[BPR] 0.61 won  398794/1000000 trials\n",
      "              cross_ratio E[BPR] 0.61 won  398794/1000000 trials\n",
      "              pick_median E[BPR] 0.46 won  257585/1000000 trials\n",
      "            pick_variance E[BPR] 0.46 won  257585/1000000 trials\n",
      "             pick_lottery E[BPR] 0.28 won  343621/1000000 trials\n",
      "                pick_mean E[BPR] 0.28 won  343621/1000000 trials\n"
     ]
    }
   ],
   "source": [
    "mnames = ['pick_consistent','cross_ratio','pick_median','pick_variance','pick_lottery', 'pick_mean']\n",
    "R = 1000000\n",
    "S = 1\n",
    "K=4\n",
    "M = len(mnames)\n",
    "scores_MR = np.zeros((M, R))\n",
    "for mm, method in enumerate(mnames):\n",
    "    scores_MR[mm] = calc_bpr_many_trials(\n",
    "        dist_S, K=K, n_trials=R, s_samples=S, strategy=method)\n",
    "    \n",
    "winscore_1R = scores_MR.max(axis=0, keepdims=1)\n",
    "\n",
    "winners_MR = np.abs(scores_MR - winscore_1R) < 0.02\n",
    "\n",
    "print(f'K={K}')\n",
    "for mm, mname in enumerate(mnames):\n",
    "    print(\"%25s E[BPR] %0.2f won % 6d/%d trials\" % (mname, scores_MR[mm].mean(), winners_MR[mm].sum(), R))"
   ]
  },
  {
   "cell_type": "code",
   "execution_count": 45,
   "metadata": {},
   "outputs": [
    {
     "name": "stdout",
     "output_type": "stream",
     "text": [
      "Perturbed- 7's: 51.2, 0 or 10: 50.8, Lottery 39.8\n",
      "Unperturbed- 7's: 57.8, 0 or 10: 56.6, Lottery: 27.3\n"
     ]
    }
   ],
   "source": [
    "scores_MR[:,10]"
   ]
  },
  {
   "cell_type": "code",
   "execution_count": 19,
   "metadata": {},
   "outputs": [],
   "source": [
    "num_tracts_per_type = 4\n",
    "\n",
    "probability_of_10 = 0.55\n",
    "probability_of_100 = 0.1\n",
    "\n",
    "outcomes = []\n",
    "probabilities = []\n",
    "num_10s = []\n",
    "num_100s = []\n",
    "bpr_denominators = []\n",
    "\n",
    "for hit_10s in range(num_tracts_per_type+1):\n",
    "    probability_of_10s = (probability_of_10**hit_10s*(1-probability_of_10)**(num_tracts_per_type-hit_10s))*scipy.special.comb(num_tracts_per_type, hit_10s)\n",
    "\n",
    "    for hit_100s in range(num_tracts_per_type+1):\n",
    "\n",
    "        bpr_denominator = hit_100s*100\n",
    "        if K - hit_100s > 0:\n",
    "            bpr_denominator += min(hit_10s, K-hit_100s)*10\n",
    "        if K -hit_100s-hit_10s>0:\n",
    "            bpr_denominator += (K-hit_100s-hit_10s)*7 \n",
    "\n",
    "        probability_of_100s = (probability_of_100**hit_100s*(1-probability_of_100)**(num_tracts_per_type-hit_100s))*scipy.special.comb(num_tracts_per_type, hit_100s)\n",
    "        probabilities.append(probability_of_10s * probability_of_100s)\n",
    "        bpr_denominators.append(bpr_denominator)\n",
    "\n",
    "        num_10s.append(hit_10s)\n",
    "        num_100s.append(hit_100s)\n",
    "\n"
   ]
  },
  {
   "cell_type": "code",
   "execution_count": 20,
   "metadata": {},
   "outputs": [
    {
     "name": "stdout",
     "output_type": "stream",
     "text": [
      "E[%BPR] for pick 7: 60.57\n",
      "E[%BPR] for pick 10: 45.87\n",
      "E[%BPR] for pick 100: 27.71\n"
     ]
    }
   ],
   "source": [
    "pick_7_bprs = []\n",
    "pick_10_bprs = []\n",
    "pick_100_bprs = []\n",
    "\n",
    "for probability, denominator, hit_10s, hit_100s in zip(probabilities, bpr_denominators, num_10s, num_100s):\n",
    "    pick_7_bprs.append(K*7/denominator*probability)\n",
    "    pick_10_bprs.append(10*hit_10s/denominator*probability)\n",
    "    pick_100_bprs.append(100*hit_100s/denominator*probability)\n",
    "\n",
    "\n",
    "print(f'E[%BPR] for pick 7: {np.sum(pick_7_bprs)*100:.2f}')\n",
    "print(f'E[%BPR] for pick 10: {np.sum(pick_10_bprs)*100:.2f}')\n",
    "print(f'E[%BPR] for pick 100: {np.sum(pick_100_bprs)*100:.2f}')"
   ]
  },
  {
   "cell_type": "code",
   "execution_count": 130,
   "metadata": {},
   "outputs": [],
   "source": [
    "np.sum(pick_7_bprs)"
   ]
  },
  {
   "cell_type": "code",
   "execution_count": 133,
   "metadata": {},
   "outputs": [
    {
     "name": "stdout",
     "output_type": "stream",
     "text": [
      "E[%BPR] for pick 7: 57.77\n",
      "E[%BPR] for pick 10: 56.43\n",
      "E[%BPR] for pick 100: 27.45\n"
     ]
    }
   ],
   "source": [
    "from math import comb\n",
    "\n",
    "# Define the probabilities for each event\n",
    "probabilities = [0.7, 0.7, 0.7, 0.7, 0.1, 0.1, 0.1, 0.1]\n",
    "\n",
    "# Initialize the probability of all possible outcomes\n",
    "total_probability = 0\n",
    "\n",
    "# Iterate over the possible counts of successful events\n",
    "for successful_events in range(5):  # From 0 to 4 successful events\n",
    "    # Calculate the probability of this specific outcome\n",
    "    probability_of_outcome = 1\n",
    "    for prob_idx, prob in enumerate(probabilities):\n",
    "        if prob_idx < 4:\n",
    "            probability_of_outcome *= prob if prob_idx < successful_events else (1 - prob)\n",
    "        else:\n",
    "            probability_of_outcome *= prob if (4 - successful_events) <= prob_idx else (1 - prob)\n",
    "    # Multiply by the number of combinations of successful events\n",
    "    probability_of_outcome *= comb(4, successful_events) * comb(4, 4 - successful_events)\n",
    "    # Add to the total probability\n",
    "    total_probability += probability_of_outcome\n",
    "\n",
    "print(\"Total probability of all possible outcomes:\", total_probability)"
   ]
  },
  {
   "cell_type": "code",
   "execution_count": 129,
   "metadata": {},
   "outputs": [
    {
     "data": {
      "text/plain": [
       "0.5777087879633688"
      ]
     },
     "execution_count": 129,
     "metadata": {},
     "output_type": "execute_result"
    }
   ],
   "source": [
    "np.sum(pick_7_bprs)"
   ]
  },
  {
   "cell_type": "code",
   "execution_count": 105,
   "metadata": {},
   "outputs": [
    {
     "data": {
      "text/plain": [
       "4.0"
      ]
     },
     "execution_count": 105,
     "metadata": {},
     "output_type": "execute_result"
    }
   ],
   "source": [
    "scipy.special.comb(4, 1)"
   ]
  },
  {
   "cell_type": "code",
   "execution_count": 107,
   "metadata": {},
   "outputs": [
    {
     "data": {
      "text/plain": [
       "<itertools.product at 0x15233dcbeb00>"
      ]
     },
     "execution_count": 107,
     "metadata": {},
     "output_type": "execute_result"
    }
   ],
   "source": [
    "from itertools import product\n",
    "product([0, 1], repeat=8)"
   ]
  },
  {
   "cell_type": "code",
   "execution_count": 117,
   "metadata": {},
   "outputs": [
    {
     "name": "stdout",
     "output_type": "stream",
     "text": [
      "Total probability of all possible outcomes: 0.0003784600000000001\n"
     ]
    }
   ],
   "source": [
    "from math import comb\n",
    "\n",
    "# Define the probabilities for each event\n",
    "probabilities = [0.7, 0.7, 0.7, 0.7, 0.1, 0.1, 0.1, 0.1]\n",
    "\n",
    "# Initialize the probability of all possible outcomes\n",
    "total_probability = 0\n",
    "\n",
    "# Iterate over the possible counts of successful events\n",
    "for successful_events in range(5):  # From 0 to 4 successful events\n",
    "    # Calculate the probability of this specific outcome\n",
    "    probability_of_outcome = 1\n",
    "    for prob_idx, prob in enumerate(probabilities):\n",
    "        if prob_idx < 4:\n",
    "            probability_of_outcome *= prob if prob_idx < successful_events else (1 - prob)\n",
    "        else:\n",
    "            probability_of_outcome *= prob if (4 - successful_events) <= prob_idx else (1 - prob)\n",
    "    # Multiply by the number of combinations of successful events\n",
    "    probability_of_outcome *= comb(4, successful_events) * comb(4, 4 - successful_events)\n",
    "    # Add to the total probability\n",
    "    total_probability += probability_of_outcome\n",
    "\n",
    "print(\"Total probability of all possible outcomes:\", total_probability)"
   ]
  },
  {
   "cell_type": "code",
   "execution_count": null,
   "metadata": {},
   "outputs": [],
   "source": []
  }
 ],
 "metadata": {
  "kernelspec": {
   "display_name": "pip_k2_tf",
   "language": "python",
   "name": "python3"
  },
  "language_info": {
   "codemirror_mode": {
    "name": "ipython",
    "version": 3
   },
   "file_extension": ".py",
   "mimetype": "text/x-python",
   "name": "python",
   "nbconvert_exporter": "python",
   "pygments_lexer": "ipython3",
   "version": "3.11.7"
  }
 },
 "nbformat": 4,
 "nbformat_minor": 2
}
