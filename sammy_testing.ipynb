{
 "cells": [
  {
   "cell_type": "code",
   "execution_count": 10,
   "metadata": {},
   "outputs": [
    {
     "name": "stdout",
     "output_type": "stream",
     "text": [
      "Softplus of theta: tensor([0.7093], grad_fn=<SigmoidBackward0>)\n"
     ]
    }
   ],
   "source": [
    "import torch\n",
    "\n",
    "# Check if CUDA is available and set the device\n",
    "device = 'cuda:0' if torch.cuda.is_available() else 'cpu'\n",
    "\n",
    "# Initialize the tensor as a parameter with the given value\n",
    "theta_param = torch.nn.Parameter(torch.tensor([0.8921], device=device, requires_grad=True))\n",
    "\n",
    "# Apply the softplus function to the parameter\n",
    "def apply_softplus(t):\n",
    "    return torch.sigmoid(t)\n",
    "\n",
    "# Compute the softplus of theta\n",
    "theta = apply_softplus(theta_param)\n",
    "\n",
    "# Print the result\n",
    "print(\"Softplus of theta:\", theta)\n"
   ]
  }
 ],
 "metadata": {
  "kernelspec": {
   "display_name": "birds",
   "language": "python",
   "name": "python3"
  },
  "language_info": {
   "codemirror_mode": {
    "name": "ipython",
    "version": 3
   },
   "file_extension": ".py",
   "mimetype": "text/x-python",
   "name": "python",
   "nbconvert_exporter": "python",
   "pygments_lexer": "ipython3",
   "version": "3.11.11"
  }
 },
 "nbformat": 4,
 "nbformat_minor": 2
}
