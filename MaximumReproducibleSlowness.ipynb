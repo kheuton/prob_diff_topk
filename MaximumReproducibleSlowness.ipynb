{
 "cells": [
  {
   "cell_type": "code",
   "execution_count": 1,
   "metadata": {},
   "outputs": [],
   "source": [
    "%load_ext autoreload\n",
    "%autoreload 2\n",
    "\n",
    "import torch \n",
    "import os\n",
    "import glob\n",
    "from matplotlib import pyplot as plt\n",
    "\n",
    "import matplotlib.animation as animation\n",
    "import os\n",
    "import torch\n",
    "import numpy as np\n",
    "import pandas as pd\n",
    "# Cd to code\n",
    "import os\n",
    "import sys\n",
    "os.chdir('/cluster/home/kheuto01/code/prob_diff_topk')\n",
    "sys.path.append('/cluster/home/kheuto01/code/prob_diff_topk')\n",
    "\n",
    "\n",
    "from distributions import ZeroInflatedDist, QuantizedNormal\n",
    "from torch_models import MixtureOfTruncNormModel, SpatialWaves\n",
    "from torch_training import train_epoch\n",
    "from torch_perturb.torch_pert_topk import PerturbedTopK\n",
    "import time\n",
    "from torch_training import train_epoch_largesynth\n",
    "from torch_models import torch_bpr_uncurried, deterministic_bpr"
   ]
  },
  {
   "cell_type": "code",
   "execution_count": 13,
   "metadata": {},
   "outputs": [],
   "source": [
    "data_dir='/cluster/home/kheuto01/code/prob_diff_topk'\n",
    "\n",
    "step_size=0.1\n",
    "perturbed_noise=0.0001\n",
    "K=100\n",
    "threshold=0.5\n",
    "rows=27\n",
    "cols=60\n",
    "data_shape=(rows, cols)\n",
    "deaths = pd.read_csv(os.path.join(data_dir,'deaths_band.csv'))\n",
    "pop = pd.read_csv(os.path.join(data_dir, 'pop_band.csv'))\n",
    "num_score_samples = 50\n",
    "num_pert_samples = 50\n",
    "\n",
    "# turn the death column into a time-by-geoid array\n",
    "deaths_TS = deaths.pivot(index='time', columns='geoid', values='death').values\n",
    "pop_S = pop['pop'].values\n",
    "\n",
    "T, S = deaths_TS.shape\n",
    "# create latitude and longitude arrays corresponding to the row and column index of the geoids when reshaped into data_shape\n",
    "lat = np.linspace(-rows/2, rows/2, rows)\n",
    "lon = np.linspace(-cols/2, cols/2, cols)\n",
    "lat_S, lon_S = np.meshgrid(lon, lat)\n",
    "lat_S = lat_S.flatten()\n",
    "lon_S = lon_S.flatten()\n",
    "# create column of time values\n",
    "time_T = np.arange(deaths_TS.shape[0])\n",
    "time_T = torch.tensor(time_T, dtype=torch.float32)\n",
    "lat_S = torch.tensor(lat_S, dtype=torch.float32)\n",
    "lon_S = torch.tensor(lon_S, dtype=torch.float32)\n",
    "pop_S = torch.tensor(pop_S, dtype=torch.float32)\n",
    "S = pop_S.shape[0]\n",
    "T = time_T.shape[0]\n",
    "\n",
    "\n",
    "model  = SpatialWaves(num_waves=1,low=0, high=1000000)\n",
    "\n",
    "optimizer = torch.optim.Adam(model.parameters(), lr=step_size)\n",
    "\n",
    "M_score_func =  num_score_samples\n",
    "M_action = M_score_func\n",
    "train_y_TS = torch.tensor(deaths_TS)\n",
    "perturbed_top_K_func = PerturbedTopK(k=K, sigma=perturbed_noise, num_samples=num_pert_samples)"
   ]
  },
  {
   "cell_type": "code",
   "execution_count": 14,
   "metadata": {},
   "outputs": [
    {
     "name": "stderr",
     "output_type": "stream",
     "text": [
      "STAGE:2024-09-10 16:16:47 24685:24685 ActivityProfilerController.cpp:314] Completed Stage: Warm Up\n"
     ]
    }
   ],
   "source": [
    "from torch.autograd import profiler\n",
    "optimizer.zero_grad()\n",
    "with torch.profiler.profile(profile_memory=True,\n",
    "    activities=[\n",
    "        torch.profiler.ProfilerActivity.CPU,\n",
    "    ]\n",
    ") as p:\n",
    "        dist = model(time_T,pop_S, lat_S, lon_S)\n",
    "\n",
    "        y_sample_TMS = dist.sample((M_score_func,)).permute(1, 0, 2)\n",
    "        ratio_rating_TMS = y_sample_TMS/y_sample_TMS.sum(dim=-1, keepdim=True)\n",
    "        ratio_rating_TS =  ratio_rating_TMS.mean(dim=1)\n",
    "        ratio_rating_TS.requires_grad_(True)\n",
    "\n",
    "\n",
    "        positive_bpr_T = torch_bpr_uncurried(ratio_rating_TS, train_y_TS, K=K, perturbed_top_K_func=perturbed_top_K_func)\n",
    "        negative_bpr_loss = torch.mean(-positive_bpr_T)\n",
    "\n",
    "        loss = negative_bpr_loss\n",
    "\n",
    "        loss.backward()\n"
   ]
  },
  {
   "cell_type": "code",
   "execution_count": 12,
   "metadata": {},
   "outputs": [
    {
     "data": {
      "text/plain": [
       "torch.Size([64, 1620])"
      ]
     },
     "execution_count": 12,
     "metadata": {},
     "output_type": "execute_result"
    }
   ],
   "source": [
    "ratio_rating_TS.grad.shape"
   ]
  },
  {
   "cell_type": "code",
   "execution_count": null,
   "metadata": {},
   "outputs": [],
   "source": []
  }
 ],
 "metadata": {
  "kernelspec": {
   "display_name": "pip_k3",
   "language": "python",
   "name": "python3"
  },
  "language_info": {
   "codemirror_mode": {
    "name": "ipython",
    "version": 3
   },
   "file_extension": ".py",
   "mimetype": "text/x-python",
   "name": "python",
   "nbconvert_exporter": "python",
   "pygments_lexer": "ipython3",
   "version": "3.11.8"
  }
 },
 "nbformat": 4,
 "nbformat_minor": 2
}
