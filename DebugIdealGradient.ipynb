{
 "cells": [
  {
   "cell_type": "code",
   "execution_count": 1,
   "metadata": {},
   "outputs": [
    {
     "name": "stderr",
     "output_type": "stream",
     "text": [
      "2024-05-13 13:45:33.473661: I tensorflow/core/util/port.cc:113] oneDNN custom operations are on. You may see slightly different numerical results due to floating-point round-off errors from different computation orders. To turn them off, set the environment variable `TF_ENABLE_ONEDNN_OPTS=0`.\n",
      "2024-05-13 13:45:33.525587: E external/local_xla/xla/stream_executor/cuda/cuda_dnn.cc:9261] Unable to register cuDNN factory: Attempting to register factory for plugin cuDNN when one has already been registered\n",
      "2024-05-13 13:45:33.525622: E external/local_xla/xla/stream_executor/cuda/cuda_fft.cc:607] Unable to register cuFFT factory: Attempting to register factory for plugin cuFFT when one has already been registered\n",
      "2024-05-13 13:45:33.526661: E external/local_xla/xla/stream_executor/cuda/cuda_blas.cc:1515] Unable to register cuBLAS factory: Attempting to register factory for plugin cuBLAS when one has already been registered\n",
      "2024-05-13 13:45:33.534180: I tensorflow/core/platform/cpu_feature_guard.cc:182] This TensorFlow binary is optimized to use available CPU instructions in performance-critical operations.\n",
      "To enable the following instructions: AVX2 AVX512F AVX512_VNNI FMA, in other operations, rebuild TensorFlow with the appropriate compiler flags.\n",
      "2024-05-13 13:45:40.970977: W tensorflow/compiler/tf2tensorrt/utils/py_utils.cc:38] TF-TRT Warning: Could not find TensorRT\n"
     ]
    }
   ],
   "source": [
    "%load_ext autoreload\n",
    "%autoreload 2\n",
    "from functools import partial\n",
    "\n",
    "import keras\n",
    "\n",
    "from datasets import example_datasets, to_numpy\n",
    "from models import mixture_poissons,location_specific_linear, CustomPenalizedMixtureDecisionModel, get_mixture\n",
    "from metrics import mixture_poi_loss, get_bpr_loss_func, mix_bpr, get_penalized_bpr_loss_func_mix, cross_ratio_decision, get_perturbed_bpr_func\n",
    "from experiments import training_loop, training_loop_score_function_trick, score_function_trick, overall_gradient_calculation\n",
    "from plotting_funcs import plot_losses, plot_frontier\n",
    "\n",
    "import tensorflow as tf\n",
    "import tensorflow_probability as tfp\n",
    "import numpy as np\n",
    "\n",
    "import matplotlib.pyplot as plt\n",
    "import resource\n",
    "import datetime"
   ]
  },
  {
   "cell_type": "code",
   "execution_count": 2,
   "metadata": {},
   "outputs": [],
   "source": [
    "seed=360\n",
    "num_components=4\n",
    "learning_rate = 0.05\n",
    "epochs=200\n",
    "outdir = '/cluster/home/kheuto01/testdir'\n",
    "penalty = 5000\n",
    "threshold = 0.55\n",
    "K=4\n",
    "do_only=True\n",
    "# tracts/distributions\n",
    "S=12\n",
    "# history/features\n",
    "H = 3\n",
    "# total timepoints\n",
    "T= 500\n",
    "perturbed_sigma=0.1\n",
    "num_score_func_samples=25\n",
    "batch_size=300"
   ]
  },
  {
   "cell_type": "code",
   "execution_count": 3,
   "metadata": {},
   "outputs": [
    {
     "name": "stderr",
     "output_type": "stream",
     "text": [
      "2024-05-13 13:47:23.298419: E external/local_xla/xla/stream_executor/cuda/cuda_driver.cc:274] failed call to cuInit: CUDA_ERROR_NO_DEVICE: no CUDA-capable device is detected\n",
      "2024-05-13 13:47:23.298460: I external/local_xla/xla/stream_executor/cuda/cuda_diagnostics.cc:129] retrieving CUDA diagnostic information for host: s1cmp008.pax.tufts.edu\n",
      "2024-05-13 13:47:23.298467: I external/local_xla/xla/stream_executor/cuda/cuda_diagnostics.cc:136] hostname: s1cmp008.pax.tufts.edu\n",
      "2024-05-13 13:47:23.298576: I external/local_xla/xla/stream_executor/cuda/cuda_diagnostics.cc:159] libcuda reported version is: 535.129.3\n",
      "2024-05-13 13:47:23.298605: I external/local_xla/xla/stream_executor/cuda/cuda_diagnostics.cc:163] kernel reported version is: 535.129.3\n",
      "2024-05-13 13:47:23.298610: I external/local_xla/xla/stream_executor/cuda/cuda_diagnostics.cc:241] kernel version seems to match DSO: 535.129.3\n"
     ]
    }
   ],
   "source": [
    "train_dataset, val_dataset, test_dataset = example_datasets(H, T, seed=seed, batch_size=batch_size)\n",
    "train_X_THS, train_y_TS = to_numpy(train_dataset)\n",
    "val_X_THS, val_y_TS = to_numpy(val_dataset)\n",
    "input_shape = (H,S)\n",
    "\n",
    "bpr_K = get_perturbed_bpr_func(K, sigma=perturbed_sigma)\n",
    "optimizer = keras.optimizers.Adam(learning_rate=learning_rate)\n"
   ]
  },
  {
   "cell_type": "code",
   "execution_count": 4,
   "metadata": {},
   "outputs": [],
   "source": [
    "model  = get_mixture(location_specific_linear, input_shape, num_components=num_components)"
   ]
  },
  {
   "cell_type": "code",
   "execution_count": 5,
   "metadata": {},
   "outputs": [
    {
     "name": "stdout",
     "output_type": "stream",
     "text": [
      "Name: linear_convolution/kernel:0\n",
      "Shape: (1, 3, 1)\n",
      "Name: linear_convolution/kernel:0\n",
      "Shape: (1, 3, 1)\n",
      "Name: linear_convolution/kernel:0\n",
      "Shape: (1, 3, 1)\n",
      "Name: linear_convolution/kernel:0\n",
      "Shape: (1, 3, 1)\n"
     ]
    }
   ],
   "source": [
    "for index in [0, 2, 4, 6]:\n",
    "    variable = model.trainable_variables[index]\n",
    "    print(f'Name: {variable.name}')\n",
    "    print(f'Shape: {variable.shape}')\n",
    "\n",
    "    variable.assign(tf.zeros(variable.shape))"
   ]
  },
  {
   "cell_type": "code",
   "execution_count": 6,
   "metadata": {},
   "outputs": [
    {
     "name": "stdout",
     "output_type": "stream",
     "text": [
      "Name: linear_convolution/bias:0\n",
      "Shape: (1,)\n",
      "Name: linear_convolution/bias:0\n",
      "Shape: (1,)\n",
      "Name: linear_convolution/bias:0\n",
      "Shape: (1,)\n",
      "Name: linear_convolution/bias:0\n",
      "Shape: (1,)\n"
     ]
    }
   ],
   "source": [
    "for index, bias in zip([1, 3, 5, 7], [0.0+1e-13, 7.0, 10.0, 100.0]):\n",
    "    variable = model.trainable_variables[index]\n",
    "    print(f'Name: {variable.name}')\n",
    "    print(f'Shape: {variable.shape}')\n",
    "\n",
    "    variable.assign(tfp.math.softplus_inverse([bias]))"
   ]
  },
  {
   "cell_type": "code",
   "execution_count": 7,
   "metadata": {},
   "outputs": [
    {
     "name": "stdout",
     "output_type": "stream",
     "text": [
      "Name: shared_mix_weights:0\n",
      "Shape: (12, 4)\n"
     ]
    },
    {
     "data": {
      "text/plain": [
       "<tf.Variable 'UnreadVariable' shape=(12, 4) dtype=float32, numpy=\n",
       "array([[-29.933605  ,   0.        , -29.933605  , -29.933605  ],\n",
       "       [-29.933605  ,   0.        , -29.933605  , -29.933605  ],\n",
       "       [-29.933605  ,   0.        , -29.933605  , -29.933605  ],\n",
       "       [-29.933605  ,   0.        , -29.933605  , -29.933605  ],\n",
       "       [ -1.2039728 , -29.933605  ,  -0.35667497, -29.933605  ],\n",
       "       [ -1.2039728 , -29.933605  ,  -0.35667497, -29.933605  ],\n",
       "       [ -1.2039728 , -29.933605  ,  -0.35667497, -29.933605  ],\n",
       "       [ -1.2039728 , -29.933605  ,  -0.35667497, -29.933605  ],\n",
       "       [ -0.10536054, -29.933605  , -29.933605  ,  -2.3025851 ],\n",
       "       [ -0.10536054, -29.933605  , -29.933605  ,  -2.3025851 ],\n",
       "       [ -0.10536054, -29.933605  , -29.933605  ,  -2.3025851 ],\n",
       "       [ -0.10536054, -29.933605  , -29.933605  ,  -2.3025851 ]],\n",
       "      dtype=float32)>"
      ]
     },
     "execution_count": 7,
     "metadata": {},
     "output_type": "execute_result"
    }
   ],
   "source": [
    "index = -1\n",
    "variable = model.trainable_variables[index]\n",
    "print(f'Name: {variable.name}')\n",
    "print(f'Shape: {variable.shape}')\n",
    "\n",
    "# equal to 0\n",
    "component_1 = np.array([0,0,0,0, 0.3, 0.3, 0.3, 0.3, 0.9, 0.9, 0.9, 0.9], dtype=np.float32).T\n",
    "# equal to 7\n",
    "component_2 = np.array([1,1,1,1, 0, 0, 0, 0, 0, 0, 0, 0], dtype=np.float32).T\n",
    "# equal to 10\n",
    "component_3 = np.array([0,0,0,0, 0.7, 0.7, 0.7, 0.7, 0, 0, 0, 0], dtype=np.float32).T\n",
    "# equal to 10\n",
    "component_4 = np.array([0,0,0,0, 0,0,0,0, 0.1, 0.1, 0.1, 0.1], dtype=np.float32).T\n",
    "\n",
    "# make components columns of new weight matrix\n",
    "weights = np.stack([component_1, component_2, component_3, component_4], axis=1)\n",
    "\n",
    "variable.assign(tf.math.log(weights+1e-13))"
   ]
  },
  {
   "cell_type": "code",
   "execution_count": 8,
   "metadata": {},
   "outputs": [
    {
     "data": {
      "text/plain": [
       "[<tf.Variable 'linear_convolution/kernel:0' shape=(1, 3, 1) dtype=float32, numpy=\n",
       " array([[[0.],\n",
       "         [0.],\n",
       "         [0.]]], dtype=float32)>,\n",
       " <tf.Variable 'linear_convolution/bias:0' shape=(1,) dtype=float32, numpy=array([-29.933607], dtype=float32)>,\n",
       " <tf.Variable 'linear_convolution/kernel:0' shape=(1, 3, 1) dtype=float32, numpy=\n",
       " array([[[0.],\n",
       "         [0.],\n",
       "         [0.]]], dtype=float32)>,\n",
       " <tf.Variable 'linear_convolution/bias:0' shape=(1,) dtype=float32, numpy=array([6.999088], dtype=float32)>,\n",
       " <tf.Variable 'linear_convolution/kernel:0' shape=(1, 3, 1) dtype=float32, numpy=\n",
       " array([[[0.],\n",
       "         [0.],\n",
       "         [0.]]], dtype=float32)>,\n",
       " <tf.Variable 'linear_convolution/bias:0' shape=(1,) dtype=float32, numpy=array([9.999954], dtype=float32)>,\n",
       " <tf.Variable 'linear_convolution/kernel:0' shape=(1, 3, 1) dtype=float32, numpy=\n",
       " array([[[0.],\n",
       "         [0.],\n",
       "         [0.]]], dtype=float32)>,\n",
       " <tf.Variable 'linear_convolution/bias:0' shape=(1,) dtype=float32, numpy=array([100.], dtype=float32)>,\n",
       " <tf.Variable 'shared_mix_weights:0' shape=(12, 4) dtype=float32, numpy=\n",
       " array([[-29.933605  ,   0.        , -29.933605  , -29.933605  ],\n",
       "        [-29.933605  ,   0.        , -29.933605  , -29.933605  ],\n",
       "        [-29.933605  ,   0.        , -29.933605  , -29.933605  ],\n",
       "        [-29.933605  ,   0.        , -29.933605  , -29.933605  ],\n",
       "        [ -1.2039728 , -29.933605  ,  -0.35667497, -29.933605  ],\n",
       "        [ -1.2039728 , -29.933605  ,  -0.35667497, -29.933605  ],\n",
       "        [ -1.2039728 , -29.933605  ,  -0.35667497, -29.933605  ],\n",
       "        [ -1.2039728 , -29.933605  ,  -0.35667497, -29.933605  ],\n",
       "        [ -0.10536054, -29.933605  , -29.933605  ,  -2.3025851 ],\n",
       "        [ -0.10536054, -29.933605  , -29.933605  ,  -2.3025851 ],\n",
       "        [ -0.10536054, -29.933605  , -29.933605  ,  -2.3025851 ],\n",
       "        [ -0.10536054, -29.933605  , -29.933605  ,  -2.3025851 ]],\n",
       "       dtype=float32)>]"
      ]
     },
     "execution_count": 8,
     "metadata": {},
     "output_type": "execute_result"
    }
   ],
   "source": [
    "model.variables"
   ]
  },
  {
   "cell_type": "code",
   "execution_count": 8,
   "metadata": {},
   "outputs": [],
   "source": [
    "train_X_THS, train_y_TS = to_numpy(train_dataset)\n",
    "val_X_THS, val_y_TS = to_numpy(val_dataset)"
   ]
  },
  {
   "cell_type": "code",
   "execution_count": 9,
   "metadata": {},
   "outputs": [],
   "source": [
    "@tf.function\n",
    "def get_sample_log_probs(mixture, num_score_func_samples):\n",
    "    # todo concretize this\n",
    "    sample_y_MBS = mixture.sample(num_score_func_samples)+1e-9\n",
    "    sample_log_probs_MBS = mixture.log_prob(sample_y_MBS)\n",
    "\n",
    "    return sample_y_MBS, sample_log_probs_MBS\n",
    "\n",
    "@tf.function\n",
    "def get_expected_decisions(sample_y_MBS):\n",
    "    sample_decisions_MBS = cross_ratio_decision(sample_y_MBS)\n",
    "    expected_decisions_BS = tf.reduce_mean(sample_decisions_MBS, axis=0)\n",
    "\n",
    "    return sample_decisions_MBS, expected_decisions_BS\n",
    "\n",
    "@tf.function\n",
    "def get_loss(mixture, y_BS, expected_decisions_BS, bpr_K):\n",
    "    bpr_B = bpr_K(y_BS, expected_decisions_BS)\n",
    "    observed_log_prob_BS = mixture.log_prob(y_BS)\n",
    "\n",
    "    loss_B = -tf.reduce_sum(observed_log_prob_BS, axis=-1)\n",
    "    violate_threshold_flag_B = tf.cast(tf.greater(threshold,\n",
    "                                                bpr_B),\n",
    "                                        tf.float32)\n",
    "    loss_B += penalty * violate_threshold_flag_B *(threshold - bpr_B)\n",
    "    return observed_log_prob_BS, bpr_B, loss_B\n"
   ]
  },
  {
   "cell_type": "code",
   "execution_count": 10,
   "metadata": {},
   "outputs": [
    {
     "data": {
      "text/plain": [
       "(50, 3, 12)"
      ]
     },
     "execution_count": 10,
     "metadata": {},
     "output_type": "execute_result"
    }
   ],
   "source": [
    "# just 50 rows\n",
    "example_X = train_X_THS[:50]\n",
    "example_y = train_y_TS[:50]\n",
    "example_X.shape"
   ]
  },
  {
   "cell_type": "code",
   "execution_count": 11,
   "metadata": {},
   "outputs": [
    {
     "name": "stdout",
     "output_type": "stream",
     "text": [
      "5.0\n",
      "Name: linear_convolution/bias:0\n",
      "Shape: (1,)\n",
      "WARNING:tensorflow:AutoGraph could not transform <function perturbed.<locals>.wrapper at 0x2b9cc413a3e0> and will run it as-is.\n",
      "Please report this to the TensorFlow team. When filing the bug, set the verbosity to 10 (on Linux, `export AUTOGRAPH_VERBOSITY=10`) and attach the full output.\n",
      "Cause: module, class, method, function, traceback, frame, or code object was expected, got partial\n",
      "To silence this warning, decorate the function with @tf.autograph.experimental.do_not_convert\n",
      "WARNING: AutoGraph could not transform <function perturbed.<locals>.wrapper at 0x2b9cc413a3e0> and will run it as-is.\n",
      "Please report this to the TensorFlow team. When filing the bug, set the verbosity to 10 (on Linux, `export AUTOGRAPH_VERBOSITY=10`) and attach the full output.\n",
      "Cause: module, class, method, function, traceback, frame, or code object was expected, got partial\n",
      "To silence this warning, decorate the function with @tf.autograph.experimental.do_not_convert\n",
      "WARNING:tensorflow:5 out of the last 5 calls to <function get_sample_log_probs at 0x2b9c52ff32e0> triggered tf.function retracing. Tracing is expensive and the excessive number of tracings could be due to (1) creating @tf.function repeatedly in a loop, (2) passing tensors with different shapes, (3) passing Python objects instead of tensors. For (1), please define your @tf.function outside of the loop. For (2), @tf.function has reduce_retracing=True option that can avoid unnecessary retracing. For (3), please refer to https://www.tensorflow.org/guide/function#controlling_retracing and https://www.tensorflow.org/api_docs/python/tf/function for  more details.\n",
      "WARNING:tensorflow:5 out of the last 5 calls to <function get_loss at 0x2b9cc73a1ee0> triggered tf.function retracing. Tracing is expensive and the excessive number of tracings could be due to (1) creating @tf.function repeatedly in a loop, (2) passing tensors with different shapes, (3) passing Python objects instead of tensors. For (1), please define your @tf.function outside of the loop. For (2), @tf.function has reduce_retracing=True option that can avoid unnecessary retracing. For (3), please refer to https://www.tensorflow.org/guide/function#controlling_retracing and https://www.tensorflow.org/api_docs/python/tf/function for  more details.\n",
      "WARNING:tensorflow:5 out of the last 5 calls to <function pfor.<locals>.f at 0x2ba10eeb2160> triggered tf.function retracing. Tracing is expensive and the excessive number of tracings could be due to (1) creating @tf.function repeatedly in a loop, (2) passing tensors with different shapes, (3) passing Python objects instead of tensors. For (1), please define your @tf.function outside of the loop. For (2), @tf.function has reduce_retracing=True option that can avoid unnecessary retracing. For (3), please refer to https://www.tensorflow.org/guide/function#controlling_retracing and https://www.tensorflow.org/api_docs/python/tf/function for  more details.\n",
      "WARNING:tensorflow:6 out of the last 6 calls to <function get_sample_log_probs at 0x2b9c52ff32e0> triggered tf.function retracing. Tracing is expensive and the excessive number of tracings could be due to (1) creating @tf.function repeatedly in a loop, (2) passing tensors with different shapes, (3) passing Python objects instead of tensors. For (1), please define your @tf.function outside of the loop. For (2), @tf.function has reduce_retracing=True option that can avoid unnecessary retracing. For (3), please refer to https://www.tensorflow.org/guide/function#controlling_retracing and https://www.tensorflow.org/api_docs/python/tf/function for  more details.\n",
      "WARNING:tensorflow:6 out of the last 6 calls to <function get_loss at 0x2b9cc73a1ee0> triggered tf.function retracing. Tracing is expensive and the excessive number of tracings could be due to (1) creating @tf.function repeatedly in a loop, (2) passing tensors with different shapes, (3) passing Python objects instead of tensors. For (1), please define your @tf.function outside of the loop. For (2), @tf.function has reduce_retracing=True option that can avoid unnecessary retracing. For (3), please refer to https://www.tensorflow.org/guide/function#controlling_retracing and https://www.tensorflow.org/api_docs/python/tf/function for  more details.\n",
      "WARNING:tensorflow:6 out of the last 6 calls to <function pfor.<locals>.f at 0x2ba10f1fbce0> triggered tf.function retracing. Tracing is expensive and the excessive number of tracings could be due to (1) creating @tf.function repeatedly in a loop, (2) passing tensors with different shapes, (3) passing Python objects instead of tensors. For (1), please define your @tf.function outside of the loop. For (2), @tf.function has reduce_retracing=True option that can avoid unnecessary retracing. For (3), please refer to https://www.tensorflow.org/guide/function#controlling_retracing and https://www.tensorflow.org/api_docs/python/tf/function for  more details.\n",
      "5.2105265\n",
      "Name: linear_convolution/bias:0\n",
      "Shape: (1,)\n",
      "5.4210525\n",
      "Name: linear_convolution/bias:0\n",
      "Shape: (1,)\n",
      "5.631579\n",
      "Name: linear_convolution/bias:0\n",
      "Shape: (1,)\n",
      "5.8421054\n",
      "Name: linear_convolution/bias:0\n",
      "Shape: (1,)\n",
      "6.0526314\n",
      "Name: linear_convolution/bias:0\n",
      "Shape: (1,)\n",
      "6.263158\n",
      "Name: linear_convolution/bias:0\n",
      "Shape: (1,)\n",
      "6.4736843\n",
      "Name: linear_convolution/bias:0\n",
      "Shape: (1,)\n",
      "6.6842103\n",
      "Name: linear_convolution/bias:0\n",
      "Shape: (1,)\n",
      "6.894737\n",
      "Name: linear_convolution/bias:0\n",
      "Shape: (1,)\n",
      "7.105263\n",
      "Name: linear_convolution/bias:0\n",
      "Shape: (1,)\n",
      "7.3157897\n",
      "Name: linear_convolution/bias:0\n",
      "Shape: (1,)\n",
      "7.5263157\n",
      "Name: linear_convolution/bias:0\n",
      "Shape: (1,)\n",
      "7.736842\n",
      "Name: linear_convolution/bias:0\n",
      "Shape: (1,)\n",
      "7.9473686\n",
      "Name: linear_convolution/bias:0\n",
      "Shape: (1,)\n",
      "8.157895\n",
      "Name: linear_convolution/bias:0\n",
      "Shape: (1,)\n"
     ]
    }
   ],
   "source": [
    "gradient_magnitudes = []\n",
    "param_vals = []\n",
    "# test 20 evenly spaced points between 5 and 9, with one point at 7 \n",
    "for param_value in np.linspace(5, 9, 20, dtype=np.float32):\n",
    "    print(param_value)\n",
    "    variable = model.trainable_variables[3]\n",
    "    print(f'Name: {variable.name}')\n",
    "    print(f'Shape: {variable.shape}')\n",
    "\n",
    "    variable.assign(tfp.math.softplus_inverse([param_value]))\n",
    "\n",
    "    for sample in range(10):\n",
    "        with tf.GradientTape() as jacobian_tape, tf.GradientTape() as loss_tape:\n",
    "            mixture = model(example_X, training=True)\n",
    "            sample_y_MBS, sample_log_probs_MBS = get_sample_log_probs(mixture, num_score_func_samples)\n",
    "            sample_decisions_MBS, expected_decisions_BS = get_expected_decisions(sample_y_MBS)\n",
    "            observed_log_prob_BS, bpr_B, loss_B = get_loss(mixture, example_y, expected_decisions_BS, bpr_K)\n",
    "\n",
    "        jacobian_pMBS = jacobian_tape.jacobian(sample_log_probs_MBS, model.trainable_weights)\n",
    "        loss_gradients_BS = loss_tape.gradient(loss_B, expected_decisions_BS)\n",
    "\n",
    "        param_gradient_pBS = [score_function_trick(j, sample_decisions_MBS) for j in jacobian_pMBS]\n",
    "        overall_gradient = [overall_gradient_calculation(g, loss_gradients_BS) for g in param_gradient_pBS]\n",
    "\n",
    "        param_vals.append(param_value)\n",
    "        gradient_magnitudes.append(overall_gradient[3])\n",
    "\n",
    "\n"
   ]
  },
  {
   "cell_type": "code",
   "execution_count": null,
   "metadata": {},
   "outputs": [],
   "source": [
    "plt.plot(param_vals, gradient_magnitudes,'k.')"
   ]
  },
  {
   "cell_type": "code",
   "execution_count": 16,
   "metadata": {},
   "outputs": [
    {
     "data": {
      "text/plain": [
       "[<matplotlib.lines.Line2D at 0x2ade1351f5d0>]"
      ]
     },
     "execution_count": 16,
     "metadata": {},
     "output_type": "execute_result"
    },
    {
     "data": {
      "image/png": "[encoded data removed]",
      "text/plain": [
       "<Figure size 640x480 with 1 Axes>"
      ]
     },
     "metadata": {},
     "output_type": "display_data"
    }
   ],
   "source": [
    "plt.plot(param_vals, gradient_magnitudes,'k.')"
   ]
  },
  {
   "cell_type": "code",
   "execution_count": 13,
   "metadata": {},
   "outputs": [
    {
     "name": "stdout",
     "output_type": "stream",
     "text": [
      "Expected decisions: [0.094 0.114 0.116 0.105 0.072 0.078 0.074 0.07  0.124 0.1   0.    0.053]\n",
      "Top 4 decisions: [[ 8  2  1  3  9  0  5  6  4  7 11 10]\n",
      " [ 1  2  3  0  7  4  9  5 11  6 10  8]\n",
      " [ 0 11  1  3  2  4  7  5  6  8 10  9]\n",
      " [ 3  0  1  2  7  6  4  5  8 10  9 11]]\n"
     ]
    }
   ],
   "source": [
    "# print array formatted to 3 decimal places\n",
    "print(f'Expected decisions: {expected_decisions_BS.numpy()[0].round(3)}')\n",
    "# print index of top 4 decisions:\n",
    "print(f'Top 4 decisions: {tf.argsort(expected_decisions_BS, direction=\"DESCENDING\")[:4].numpy()}')"
   ]
  },
  {
   "cell_type": "code",
   "execution_count": 14,
   "metadata": {},
   "outputs": [
    {
     "data": {
      "text/plain": [
       "[<tf.Tensor: shape=(1,), dtype=float32, numpy=array([-9.2464585e-11], dtype=float32)>,\n",
       " <tf.Tensor: shape=(1,), dtype=float32, numpy=array([-60.58092], dtype=float32)>,\n",
       " <tf.Tensor: shape=(1,), dtype=float32, numpy=array([337.75378], dtype=float32)>,\n",
       " <tf.Tensor: shape=(1,), dtype=float32, numpy=array([107.6995], dtype=float32)>]"
      ]
     },
     "execution_count": 14,
     "metadata": {},
     "output_type": "execute_result"
    }
   ],
   "source": [
    "[overall_gradient[bias] for bias in [1,3,5,7]]"
   ]
  },
  {
   "cell_type": "code",
   "execution_count": 15,
   "metadata": {},
   "outputs": [
    {
     "data": {
      "text/plain": [
       "[<tf.Tensor: shape=(1, 3, 1), dtype=float32, numpy=\n",
       " array([[[ 3.2522249e-11],\n",
       "         [ 3.2530683e-11],\n",
       "         [-9.2465008e-10]]], dtype=float32)>,\n",
       " <tf.Tensor: shape=(1,), dtype=float32, numpy=array([-9.2464585e-11], dtype=float32)>,\n",
       " <tf.Tensor: shape=(1, 3, 1), dtype=float32, numpy=\n",
       " array([[[-424.0662],\n",
       "         [-424.0662],\n",
       "         [-424.0662]]], dtype=float32)>,\n",
       " <tf.Tensor: shape=(1,), dtype=float32, numpy=array([-60.58092], dtype=float32)>,\n",
       " <tf.Tensor: shape=(1, 3, 1), dtype=float32, numpy=\n",
       " array([[[2001.1088],\n",
       "         [3619.3289],\n",
       "         [3372.536 ]]], dtype=float32)>,\n",
       " <tf.Tensor: shape=(1,), dtype=float32, numpy=array([337.75378], dtype=float32)>,\n",
       " <tf.Tensor: shape=(1, 3, 1), dtype=float32, numpy=\n",
       " array([[[-2255.1584],\n",
       "         [-5333.6167],\n",
       "         [-2615.193 ]]], dtype=float32)>,\n",
       " <tf.Tensor: shape=(1,), dtype=float32, numpy=array([107.6995], dtype=float32)>,\n",
       " <tf.Tensor: shape=(12, 4), dtype=float32, numpy=\n",
       " array([[ 2.5001456e-11, -4.4690217e-11, -5.3126800e-12,  2.5001456e-11],\n",
       "        [-6.5053407e-11,  1.2645104e-10,  3.6557914e-12, -6.5053407e-11],\n",
       "        [ 9.8370218e-12, -1.5738761e-11, -3.9352892e-12,  9.8370218e-12],\n",
       "        [ 1.9358891e-11, -3.7462363e-11, -1.2554210e-12,  1.9358891e-11],\n",
       "        [-7.1706833e+01,  5.2659053e-12,  7.1706818e+01, -2.3902312e-11],\n",
       "        [-4.5139960e+02,  4.4073686e-11,  4.5139966e+02, -1.5046672e-10],\n",
       "        [-6.1563177e+02,  5.6370061e-11,  6.1563177e+02, -2.0521081e-10],\n",
       "        [ 4.1672478e+00,  6.0328470e-12, -4.1672020e+00,  1.3890816e-12],\n",
       "        [-1.2147928e+03, -1.3497711e-10, -1.3497711e-10,  1.2147928e+03],\n",
       "        [ 7.4179736e+02,  8.2422048e-11,  8.2422048e-11, -7.4179736e+02],\n",
       "        [-4.6466376e+02, -5.1629361e-11, -5.1629361e-11,  4.6466376e+02],\n",
       "        [-3.1889569e+02, -3.5432900e-11, -3.5432900e-11,  3.1889569e+02]],\n",
       "       dtype=float32)>]"
      ]
     },
     "execution_count": 15,
     "metadata": {},
     "output_type": "execute_result"
    }
   ],
   "source": [
    "overall_gradient"
   ]
  },
  {
   "cell_type": "code",
   "execution_count": 53,
   "metadata": {},
   "outputs": [
    {
     "data": {
      "text/plain": [
       "(300, 3, 12)"
      ]
     },
     "execution_count": 53,
     "metadata": {},
     "output_type": "execute_result"
    }
   ],
   "source": [
    "train_X_THS.shape"
   ]
  },
  {
   "cell_type": "code",
   "execution_count": 17,
   "metadata": {},
   "outputs": [
    {
     "data": {
      "text/plain": [
       "[<tf.Tensor: shape=(1,), dtype=float32, numpy=array([-703.89185], dtype=float32)>,\n",
       " <tf.Tensor: shape=(1,), dtype=float32, numpy=array([-558.1494], dtype=float32)>,\n",
       " <tf.Tensor: shape=(1,), dtype=float32, numpy=array([-537.78644], dtype=float32)>,\n",
       " <tf.Tensor: shape=(1,), dtype=float32, numpy=array([-454.94662], dtype=float32)>,\n",
       " <tf.Tensor: shape=(1,), dtype=float32, numpy=array([-453.7578], dtype=float32)>,\n",
       " <tf.Tensor: shape=(1,), dtype=float32, numpy=array([-443.86987], dtype=float32)>,\n",
       " <tf.Tensor: shape=(1,), dtype=float32, numpy=array([-431.9073], dtype=float32)>,\n",
       " <tf.Tensor: shape=(1,), dtype=float32, numpy=array([-434.29083], dtype=float32)>,\n",
       " <tf.Tensor: shape=(1,), dtype=float32, numpy=array([-430.63348], dtype=float32)>,\n",
       " <tf.Tensor: shape=(1,), dtype=float32, numpy=array([-403.13583], dtype=float32)>,\n",
       " <tf.Tensor: shape=(1,), dtype=float32, numpy=array([-391.11728], dtype=float32)>,\n",
       " <tf.Tensor: shape=(1,), dtype=float32, numpy=array([-376.63925], dtype=float32)>,\n",
       " <tf.Tensor: shape=(1,), dtype=float32, numpy=array([-410.6893], dtype=float32)>,\n",
       " <tf.Tensor: shape=(1,), dtype=float32, numpy=array([-325.23663], dtype=float32)>,\n",
       " <tf.Tensor: shape=(1,), dtype=float32, numpy=array([-176.35011], dtype=float32)>,\n",
       " <tf.Tensor: shape=(1,), dtype=float32, numpy=array([-92.32899], dtype=float32)>,\n",
       " <tf.Tensor: shape=(1,), dtype=float32, numpy=array([-118.20216], dtype=float32)>,\n",
       " <tf.Tensor: shape=(1,), dtype=float32, numpy=array([-69.96756], dtype=float32)>,\n",
       " <tf.Tensor: shape=(1,), dtype=float32, numpy=array([-116.78929], dtype=float32)>,\n",
       " <tf.Tensor: shape=(1,), dtype=float32, numpy=array([-60.58092], dtype=float32)>]"
      ]
     },
     "execution_count": 17,
     "metadata": {},
     "output_type": "execute_result"
    }
   ],
   "source": [
    "gradient_magnitudes"
   ]
  },
  {
   "cell_type": "code",
   "execution_count": null,
   "metadata": {},
   "outputs": [],
   "source": []
  }
 ],
 "metadata": {
  "kernelspec": {
   "display_name": "pip_k2_tf",
   "language": "python",
   "name": "python3"
  },
  "language_info": {
   "codemirror_mode": {
    "name": "ipython",
    "version": 3
   },
   "file_extension": ".py",
   "mimetype": "text/x-python",
   "name": "python",
   "nbconvert_exporter": "python",
   "pygments_lexer": "ipython3",
   "version": "3.11.7"
  }
 },
 "nbformat": 4,
 "nbformat_minor": 2
}
