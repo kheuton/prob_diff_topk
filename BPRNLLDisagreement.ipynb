{
 "cells": [
  {
   "cell_type": "code",
   "execution_count": 43,
   "metadata": {},
   "outputs": [
    {
     "name": "stdout",
     "output_type": "stream",
     "text": [
      "The autoreload extension is already loaded. To reload it, use:\n",
      "  %reload_ext autoreload\n"
     ]
    }
   ],
   "source": [
    "%load_ext autoreload\n",
    "%autoreload 2\n",
    "\n",
    "import torch \n",
    "import os\n",
    "import glob\n",
    "from matplotlib import pyplot as plt\n",
    "import os\n",
    "import torch\n",
    "import numpy as np\n",
    "# Cd to code\n",
    "import os\n",
    "import sys\n",
    "os.chdir('/cluster/home/kheuto01/code/prob_diff_topk')\n",
    "sys.path.append('/cluster/home/kheuto01/code/prob_diff_topk')\n",
    "\n",
    "\n",
    "from distributions import ZeroInflatedDist, QuantizedNormal\n",
    "from torch_models import MixtureOfTruncNormModel\n",
    "from torch_training import train_epoch\n",
    "from torch_perturb.torch_pert_topk import PerturbedTopK"
   ]
  },
  {
   "cell_type": "code",
   "execution_count": 44,
   "metadata": {},
   "outputs": [],
   "source": [
    "S = 23\n",
    "T = 300\n",
    "seed=360\n",
    "K=3"
   ]
  },
  {
   "cell_type": "code",
   "execution_count": 45,
   "metadata": {},
   "outputs": [],
   "source": [
    "low_set_1_10 = [QuantizedNormal(10, 0.3) for _ in range(10)]\n",
    "low_set_2_10 = [QuantizedNormal(30, 0.3) for _ in range(10)]\n",
    "high_set_3 = [QuantizedNormal(50,3) for _ in range(3)]\n",
    "\n",
    "dist_S = low_set_1_10 + low_set_2_10 + high_set_3\n",
    "\n",
    "y_TS = np.zeros((T, S))\n",
    "for s, dist in enumerate(dist_S):\n",
    "    random_state = np.random.RandomState(10000 * seed + s*123456)\n",
    "    y_TS[:, s] = dist.rvs(size=T, random_state=random_state)"
   ]
  },
  {
   "cell_type": "code",
   "execution_count": 6,
   "metadata": {},
   "outputs": [
    {
     "data": {
      "text/plain": [
       "(array([2.69420290e-01, 1.19096334e-02, 0.00000000e+00, 0.00000000e+00,\n",
       "        0.00000000e+00, 0.00000000e+00, 0.00000000e+00, 0.00000000e+00,\n",
       "        0.00000000e+00, 0.00000000e+00, 0.00000000e+00, 0.00000000e+00,\n",
       "        1.33162830e-02, 2.51884058e-01, 1.61295823e-02, 0.00000000e+00,\n",
       "        0.00000000e+00, 0.00000000e+00, 0.00000000e+00, 0.00000000e+00,\n",
       "        1.87553282e-04, 5.62659847e-04, 2.53196931e-03, 6.75191816e-03,\n",
       "        5.62659847e-03, 1.95055413e-02, 1.13469736e-02, 1.96930946e-02,\n",
       "        6.93947144e-03, 8.34612106e-03, 1.87553282e-03, 9.37766411e-04,\n",
       "        9.37766411e-05]),\n",
       " array([ 9.        , 10.54545455, 12.09090909, 13.63636364, 15.18181818,\n",
       "        16.72727273, 18.27272727, 19.81818182, 21.36363636, 22.90909091,\n",
       "        24.45454545, 26.        , 27.54545455, 29.09090909, 30.63636364,\n",
       "        32.18181818, 33.72727273, 35.27272727, 36.81818182, 38.36363636,\n",
       "        39.90909091, 41.45454545, 43.        , 44.54545455, 46.09090909,\n",
       "        47.63636364, 49.18181818, 50.72727273, 52.27272727, 53.81818182,\n",
       "        55.36363636, 56.90909091, 58.45454545, 60.        ]),\n",
       " [<matplotlib.patches.Polygon at 0x14ef2bdfb3d0>])"
      ]
     },
     "execution_count": 6,
     "metadata": {},
     "output_type": "execute_result"
    },
    {
     "data": {
      "image/png": "[encoded data removed]",
      "text/plain": [
       "<Figure size 640x480 with 1 Axes>"
      ]
     },
     "metadata": {},
     "output_type": "display_data"
    }
   ],
   "source": [
    "plt.hist(y_TS.flatten(), density=True, bins=33, histtype='step', color='black')"
   ]
  },
  {
   "cell_type": "code",
   "execution_count": 46,
   "metadata": {},
   "outputs": [],
   "source": [
    "correct_model = MixtureOfTruncNormModel( num_components=3, S=S, low=0, high=100)\n",
    "step_size = 0.005\n",
    "optimizer = torch.optim.Adam(correct_model.parameters(), lr=step_size)\n",
    "\n",
    "perturbed_top_K_func = PerturbedTopK(k=K)"
   ]
  },
  {
   "cell_type": "code",
   "execution_count": 47,
   "metadata": {},
   "outputs": [],
   "source": [
    "# take inverse softplus\n",
    "ideal_means = torch.tensor([10, 30, 50])\n",
    "ideal_softinv_means = ideal_means + torch.log(-torch.expm1(-ideal_means))\n",
    "ideal_scales = torch.tensor([0.3, 0.3, 3])\n",
    "ideal_softinv_scales = ideal_scales - 0.2 + torch.log(-torch.expm1(-ideal_scales + 0.2)) \n",
    "ideal_mix_weights = torch.log(1e-13 + torch.tensor(\n",
    "                                [[1,0,0]*10+[0,1,0]*10+[0,0,1]*3]))"
   ]
  },
  {
   "cell_type": "code",
   "execution_count": 7,
   "metadata": {},
   "outputs": [],
   "source": [
    "correct_model.update_params(torch.cat([ideal_softinv_means, ideal_softinv_scales, ideal_mix_weights.view(-1)]))"
   ]
  },
  {
   "cell_type": "code",
   "execution_count": 8,
   "metadata": {},
   "outputs": [
    {
     "name": "stderr",
     "output_type": "stream",
     "text": [
      "/cluster/home/kheuto01/code/prob_diff_topk/torch_training.py:28: UserWarning: To copy construct from a tensor, it is recommended to use sourceTensor.clone().detach() or sourceTensor.clone().detach().requires_grad_(True), rather than torch.tensor(sourceTensor).\n",
      "  positive_bpr_T = torch_bpr_uncurried(ratio_rating_TS, torch.tensor(train_y_TS), K=K, perturbed_top_K_func=perturbed_top_K_func)\n",
      "/cluster/home/kheuto01/code/prob_diff_topk/torch_training.py:33: UserWarning: To copy construct from a tensor, it is recommended to use sourceTensor.clone().detach() or sourceTensor.clone().detach().requires_grad_(True), rather than torch.tensor(sourceTensor).\n",
      "  nll = torch.sum(-mix_model.log_prob( torch.tensor(train_y_TS)))\n"
     ]
    },
    {
     "name": "stdout",
     "output_type": "stream",
     "text": [
      "det bpr: 1.0\n",
      "nll: 3626.924685230779\n",
      "Loss: 3687.1634749887885\n"
     ]
    },
    {
     "name": "stderr",
     "output_type": "stream",
     "text": [
      "/cluster/home/kheuto01/code/prob_diff_topk/torch_training.py:51: UserWarning: To copy construct from a tensor, it is recommended to use sourceTensor.clone().detach() or sourceTensor.clone().detach().requires_grad_(True), rather than torch.tensor(sourceTensor).\n",
      "  deterministic_bpr_T = deterministic_bpr(ratio_rating_TS, torch.tensor(train_y_TS), K=K)\n"
     ]
    }
   ],
   "source": [
    "loss, bpr, nll, _ =  train_epoch(correct_model,optimizer, K, 0.9, T, 200, 200, torch.tensor(y_TS), perturbed_top_K_func, 1, 1, update=False)"
   ]
  },
  {
   "cell_type": "code",
   "execution_count": 9,
   "metadata": {},
   "outputs": [],
   "source": [
    "mis_nll_model = MixtureOfTruncNormModel( num_components=2, S=S, low=0, high=100)"
   ]
  },
  {
   "cell_type": "code",
   "execution_count": 10,
   "metadata": {},
   "outputs": [],
   "source": [
    "# take inverse softplus\n",
    "mis_nll_means = torch.tensor([10,37])\n",
    "mis_nll_softinv_means = mis_nll_means + torch.log(-torch.expm1(-mis_nll_means))\n",
    "mis_nll_scales = torch.tensor([0.3,5])\n",
    "mis_nll_softinv_scales = mis_nll_scales - 0.2 + torch.log(-torch.expm1(-mis_nll_scales + 0.2)) \n",
    "mis_nll_mix_weights = torch.log(1e-13 + torch.tensor(\n",
    "                                [[1,0]*10+[0,1]*13]))"
   ]
  },
  {
   "cell_type": "code",
   "execution_count": 11,
   "metadata": {},
   "outputs": [],
   "source": [
    " mis_nll_model.update_params(torch.cat([mis_nll_softinv_means, mis_nll_softinv_scales, mis_nll_mix_weights.view(-1)]))"
   ]
  },
  {
   "cell_type": "code",
   "execution_count": 12,
   "metadata": {},
   "outputs": [
    {
     "name": "stdout",
     "output_type": "stream",
     "text": [
      "det bpr: 0.6963447954734631\n",
      "nll: 16523.952682174706\n",
      "Loss: 16605.997958313066\n"
     ]
    }
   ],
   "source": [
    "_ = train_epoch(mis_nll_model,optimizer, K, 0.9, T, 200, 200, torch.tensor(y_TS), perturbed_top_K_func, 1, 1, update=False)"
   ]
  },
  {
   "cell_type": "code",
   "execution_count": 73,
   "metadata": {},
   "outputs": [],
   "source": [
    "mis_bpr_model = MixtureOfTruncNormModel( num_components=2, S=S, low=0, high=100)\n",
    "optimizer = torch.optim.Adam(mis_bpr_model.parameters(), lr=0.01)\n",
    "\n",
    "perturbed_top_K_func = PerturbedTopK(k=K,sigma=0.03)"
   ]
  },
  {
   "cell_type": "code",
   "execution_count": 74,
   "metadata": {},
   "outputs": [],
   "source": [
    "# take inverse softplus\n",
    "mis_bpr_means = torch.tensor([1, 10])\n",
    "mis_bpr_softinv_means = mis_bpr_means + torch.log(-torch.expm1(-mis_bpr_means))\n",
    "mis_bpr_scales = torch.tensor([1, 1])\n",
    "mis_bpr_softinv_scales = mis_bpr_scales - 0.2 + torch.log(-torch.expm1(-mis_bpr_scales + 0.2)) \n",
    "mis_bpr_mix_weights = torch.log(1e-13 + torch.tensor(\n",
    "                                [[1,0]*20+[0,1]*3]))"
   ]
  },
  {
   "cell_type": "code",
   "execution_count": 75,
   "metadata": {},
   "outputs": [],
   "source": [
    "mis_bpr_model.update_params(torch.cat([mis_bpr_softinv_means, mis_bpr_softinv_scales, mis_bpr_mix_weights.view(-1)]))"
   ]
  },
  {
   "cell_type": "code",
   "execution_count": 76,
   "metadata": {},
   "outputs": [
    {
     "name": "stdout",
     "output_type": "stream",
     "text": [
      "det bpr: 1.0\n",
      "Pert bpr: 0.9989508490897614\n",
      "nll: 1431332.6422327673\n",
      "Loss: 0.0\n"
     ]
    }
   ],
   "source": [
    "losses, bprs, nlls = [], [], []\n",
    "for epoch in range(1):\n",
    "    loss, bpr, nll, mis_bpr_model =train_epoch(mis_bpr_model,optimizer, K, 0.9, T, 200, 200, torch.tensor(y_TS), perturbed_top_K_func, 5000, 0, update=False)\n",
    "    losses.append(loss)\n",
    "    bprs.append(bpr)\n",
    "    nlls.append(nll)"
   ]
  },
  {
   "cell_type": "code",
   "execution_count": 15,
   "metadata": {},
   "outputs": [],
   "source": [
    "rating = _[3]"
   ]
  },
  {
   "cell_type": "code",
   "execution_count": 16,
   "metadata": {},
   "outputs": [
    {
     "data": {
      "text/plain": [
       "tensor([0.0050, 0.0053, 0.0051, 0.0052, 0.0057, 0.0052, 0.0051, 0.0054, 0.0054,\n",
       "        0.0052, 0.0051, 0.0052, 0.0054, 0.0053, 0.0050, 0.0048, 0.0050, 0.0054,\n",
       "        0.0049, 0.0051, 0.2984, 0.2986, 0.2992])"
      ]
     },
     "execution_count": 16,
     "metadata": {},
     "output_type": "execute_result"
    }
   ],
   "source": [
    "rating[0,:]"
   ]
  },
  {
   "cell_type": "code",
   "execution_count": 7,
   "metadata": {},
   "outputs": [],
   "source": [
    "base_dir = '/cluster/tufts/hugheslab/kheuto01/synth_103050_4000_comp2'\n",
    "exps = glob.glob(base_dir + '/*')"
   ]
  },
  {
   "cell_type": "code",
   "execution_count": 35,
   "metadata": {},
   "outputs": [],
   "source": [
    "for e,exp in enumerate(exps):\n",
    "    if 'bw100000_nw0_sig0.1_ss0.1_th0.95' not in exp:\n",
    "        continue\n",
    "    if e % 10 == 0:\n",
    "        print(f'Processing {e} / {len(exps)}')\n",
    "\n",
    "    # extract bw number and new number from model name\n",
    "    bw = exp.split('bw')[1].split('_')[0]\n",
    "    nw = exp.split('nw')[1].split('_')[0]\n",
    "    title = f'BPR Weight: {bw}, NLL Weight: {nw}'\n",
    "    model = MixtureOfTruncNormModel(num_components=2, S=23)\n",
    "    model.load_state_dict(torch.load(exp + '/model.pth'))"
   ]
  },
  {
   "cell_type": "code",
   "execution_count": 36,
   "metadata": {},
   "outputs": [],
   "source": [
    "optimizer = torch.optim.Adam(model.parameters(), lr=.1)\n",
    "perturbed_top_K_func = PerturbedTopK(k=K, sigma=0.001)"
   ]
  },
  {
   "cell_type": "code",
   "execution_count": 41,
   "metadata": {},
   "outputs": [
    {
     "name": "stdout",
     "output_type": "stream",
     "text": [
      "det bpr: 0.6712759593908072\n",
      "Pert bpr: 0.6763693990945172\n",
      "nll: 99968.01331581421\n",
      "Loss: 82.08918027164479\n"
     ]
    },
    {
     "name": "stderr",
     "output_type": "stream",
     "text": [
      "/cluster/home/kheuto01/code/prob_diff_topk/torch_training.py:28: UserWarning: To copy construct from a tensor, it is recommended to use sourceTensor.clone().detach() or sourceTensor.clone().detach().requires_grad_(True), rather than torch.tensor(sourceTensor).\n",
      "  positive_bpr_T = torch_bpr_uncurried(ratio_rating_TS, torch.tensor(train_y_TS), K=K, perturbed_top_K_func=perturbed_top_K_func)\n",
      "/cluster/home/kheuto01/code/prob_diff_topk/torch_training.py:33: UserWarning: To copy construct from a tensor, it is recommended to use sourceTensor.clone().detach() or sourceTensor.clone().detach().requires_grad_(True), rather than torch.tensor(sourceTensor).\n",
      "  nll = torch.sum(-mix_model.log_prob( torch.tensor(train_y_TS)))\n",
      "/cluster/home/kheuto01/code/prob_diff_topk/torch_training.py:51: UserWarning: To copy construct from a tensor, it is recommended to use sourceTensor.clone().detach() or sourceTensor.clone().detach().requires_grad_(True), rather than torch.tensor(sourceTensor).\n",
      "  deterministic_bpr_T = deterministic_bpr(ratio_rating_TS, torch.tensor(train_y_TS), K=K)\n"
     ]
    },
    {
     "name": "stdout",
     "output_type": "stream",
     "text": [
      "det bpr: 0.6700183776474563\n",
      "Pert bpr: 0.6747370253223147\n",
      "nll: 101250.79911019052\n",
      "Loss: 82.57889240330559\n",
      "det bpr: 0.6689706784368376\n",
      "Pert bpr: 0.6739307761419828\n",
      "nll: 102147.63790350105\n",
      "Loss: 82.82076715740516\n",
      "det bpr: 0.6782133938027226\n",
      "Pert bpr: 0.6770232412722506\n",
      "nll: 103913.15373059502\n",
      "Loss: 81.89302761832482\n",
      "det bpr: 0.6806500602218458\n",
      "Pert bpr: 0.6789550669439118\n",
      "nll: 104947.44214943076\n",
      "Loss: 81.31347991682641\n",
      "det bpr: 0.6885984011360109\n",
      "Pert bpr: 0.6763781927301905\n",
      "nll: 105757.76590786448\n",
      "Loss: 82.08654218094284\n",
      "det bpr: 0.6708608236961978\n",
      "Pert bpr: 0.6744504206041001\n",
      "nll: 106293.64663185335\n",
      "Loss: 82.66487381876993\n",
      "det bpr: 0.6684367151357951\n",
      "Pert bpr: 0.6709452260425741\n",
      "nll: 107046.58972643645\n",
      "Loss: 83.71643218722777\n",
      "det bpr: 0.6664982089212101\n",
      "Pert bpr: 0.6737152246289035\n",
      "nll: 107622.18229590938\n",
      "Loss: 82.88543261132892\n",
      "det bpr: 0.6746824711346121\n",
      "Pert bpr: 0.6719626314421094\n",
      "nll: 108256.34393310972\n",
      "Loss: 83.41121056736716\n",
      "det bpr: 0.6730776319579176\n",
      "Pert bpr: 0.6721725781140447\n",
      "nll: 108672.48271004827\n",
      "Loss: 83.34822656578655\n",
      "det bpr: 0.6762940169722642\n",
      "Pert bpr: 0.6716302779224057\n",
      "nll: 109653.4620184172\n",
      "Loss: 83.51091662327829\n",
      "det bpr: 0.672695325977281\n",
      "Pert bpr: 0.6721438442666715\n",
      "nll: 110272.42893927006\n",
      "Loss: 83.35684671999853\n",
      "det bpr: 0.6737022340662527\n",
      "Pert bpr: 0.6743088847766703\n",
      "nll: 111338.46380099026\n",
      "Loss: 82.7073345669989\n",
      "det bpr: 0.6720840789303835\n",
      "Pert bpr: 0.6712975614289303\n",
      "nll: 112331.14278547377\n",
      "Loss: 83.61073157132088\n",
      "det bpr: 0.6774018723789769\n",
      "Pert bpr: 0.6747373790890068\n",
      "nll: 112868.88439824492\n",
      "Loss: 82.57878627329796\n",
      "det bpr: 0.6679693310549673\n",
      "Pert bpr: 0.6746120313626849\n",
      "nll: 113698.86713652864\n",
      "Loss: 82.61639059119452\n",
      "det bpr: 0.6696908981098363\n",
      "Pert bpr: 0.6714481147457593\n",
      "nll: 114572.61968424956\n",
      "Loss: 83.56556557627218\n",
      "det bpr: 0.6611587275623397\n",
      "Pert bpr: 0.670257692150641\n",
      "nll: 115358.70766913379\n",
      "Loss: 83.92269235480767\n",
      "det bpr: 0.6769838297517213\n",
      "Pert bpr: 0.6736793791948018\n",
      "nll: 116124.17780954945\n",
      "Loss: 82.89618624155942\n",
      "det bpr: 0.6880106311323982\n",
      "Pert bpr: 0.6753100973126294\n",
      "nll: 116983.07561190061\n",
      "Loss: 82.40697080621115\n",
      "det bpr: 0.6724166858673141\n",
      "Pert bpr: 0.6688881985518532\n",
      "nll: 118070.17684204782\n",
      "Loss: 84.33354043444403\n",
      "det bpr: 0.6701719747862457\n",
      "Pert bpr: 0.6687371859587496\n",
      "nll: 118775.53907656875\n",
      "Loss: 84.37884421237507\n",
      "det bpr: 0.6624650550758879\n",
      "Pert bpr: 0.664276375434763\n",
      "nll: 120273.5963056904\n",
      "Loss: 85.71708736957109\n",
      "det bpr: 0.6692553121033289\n",
      "Pert bpr: 0.6704973710179667\n",
      "nll: 122111.65865709141\n",
      "Loss: 83.85078869460999\n",
      "det bpr: 0.68276551311593\n",
      "Pert bpr: 0.6658272876430392\n",
      "nll: 124265.79364522811\n",
      "Loss: 85.25181370708822\n",
      "det bpr: 0.6827285039694314\n",
      "Pert bpr: 0.6641490918360783\n",
      "nll: 127119.4857816723\n",
      "Loss: 85.75527244917649\n",
      "det bpr: 0.6669970515451414\n",
      "Pert bpr: 0.6601478365684471\n",
      "nll: 130408.33378418567\n",
      "Loss: 86.95564902946586\n",
      "det bpr: 0.6734059734494745\n",
      "Pert bpr: 0.6662584907881951\n",
      "nll: 132943.4220056333\n",
      "Loss: 85.12245276354146\n",
      "det bpr: 0.66360106816792\n",
      "Pert bpr: 0.666414437598773\n",
      "nll: 135487.94027134601\n",
      "Loss: 85.07566872036809\n",
      "det bpr: 0.6767155005754207\n",
      "Pert bpr: 0.6665338514051455\n",
      "nll: 138283.03594658585\n",
      "Loss: 85.03984457845631\n",
      "det bpr: 0.6813502172137947\n",
      "Pert bpr: 0.6708005607276906\n",
      "nll: 141103.59894869034\n",
      "Loss: 83.75983178169282\n",
      "det bpr: 0.6718875405554511\n",
      "Pert bpr: 0.6679318689812732\n",
      "nll: 142365.25295217967\n",
      "Loss: 84.62043930561806\n",
      "det bpr: 0.6757554589738572\n",
      "Pert bpr: 0.6668337248083144\n",
      "nll: 143265.85866591102\n",
      "Loss: 84.94988255750569\n",
      "det bpr: 0.6685034485355054\n",
      "Pert bpr: 0.66571598482859\n",
      "nll: 143760.67707713708\n",
      "Loss: 85.28520455142302\n",
      "det bpr: 0.6849055352260065\n",
      "Pert bpr: 0.670750955586668\n",
      "nll: 143517.0972440694\n",
      "Loss: 83.77471332399962\n",
      "det bpr: 0.689933495008532\n",
      "Pert bpr: 0.6713805214358823\n",
      "nll: 143651.20041805424\n",
      "Loss: 83.5858435692353\n",
      "det bpr: 0.6754725385768936\n",
      "Pert bpr: 0.6658442183431781\n",
      "nll: 144069.0492144691\n",
      "Loss: 85.24673449704657\n",
      "det bpr: 0.6842804074304439\n",
      "Pert bpr: 0.6697045208869172\n",
      "nll: 144088.09848701104\n",
      "Loss: 84.08864373392484\n",
      "det bpr: 0.684947618348192\n",
      "Pert bpr: 0.6690832972514498\n",
      "nll: 144876.07749038137\n",
      "Loss: 84.27501082456509\n",
      "det bpr: 0.6756051074867285\n",
      "Pert bpr: 0.6672847331644961\n",
      "nll: 145690.899989419\n",
      "Loss: 84.81458005065116\n",
      "det bpr: 0.6856378162281042\n",
      "Pert bpr: 0.6682112888436276\n",
      "nll: 145348.98983965963\n",
      "Loss: 84.53661334691174\n",
      "det bpr: 0.6838653986057167\n",
      "Pert bpr: 0.6721580356898612\n",
      "nll: 144655.72245254664\n",
      "Loss: 83.35258929304163\n",
      "det bpr: 0.680306057032165\n",
      "Pert bpr: 0.6705626388877612\n",
      "nll: 144364.05478627043\n",
      "Loss: 83.83120833367157\n",
      "det bpr: 0.684618112599073\n",
      "Pert bpr: 0.6720091799274974\n",
      "nll: 144430.36717426023\n",
      "Loss: 83.39724602175076\n",
      "det bpr: 0.6758026989053231\n",
      "Pert bpr: 0.6683201674457345\n",
      "nll: 144718.42195939156\n",
      "Loss: 84.50394976627965\n",
      "det bpr: 0.6831111133063963\n",
      "Pert bpr: 0.6730196511922397\n",
      "nll: 145190.89936872272\n",
      "Loss: 83.09410464232812\n",
      "det bpr: 0.6805342984516493\n",
      "Pert bpr: 0.6693863634764895\n",
      "nll: 146046.36863095284\n",
      "Loss: 84.18409095705312\n",
      "det bpr: 0.6837926884781599\n",
      "Pert bpr: 0.6691389052385281\n",
      "nll: 145705.1852237317\n",
      "Loss: 84.25832842844157\n",
      "det bpr: 0.6811078406582344\n",
      "Pert bpr: 0.6668245288046978\n",
      "nll: 145172.79264076526\n",
      "Loss: 84.95264135859065\n",
      "det bpr: 0.6874805836327579\n",
      "Pert bpr: 0.6661046265701193\n",
      "nll: 145755.59761066522\n",
      "Loss: 85.16861202896422\n",
      "det bpr: 0.6820142276473908\n",
      "Pert bpr: 0.664519931482004\n",
      "nll: 146271.9577953906\n",
      "Loss: 85.64402055539881\n",
      "det bpr: 0.6668824490247536\n",
      "Pert bpr: 0.6603340277891525\n",
      "nll: 147449.58564959228\n",
      "Loss: 86.89979166325423\n",
      "det bpr: 0.6642087314594722\n",
      "Pert bpr: 0.6535643820225256\n",
      "nll: 148795.9180487501\n",
      "Loss: 88.93068539324227\n",
      "det bpr: 0.6767586790619365\n",
      "Pert bpr: 0.6590920365848784\n",
      "nll: 149451.0522872848\n",
      "Loss: 87.2723890245365\n",
      "det bpr: 0.6802193752482583\n",
      "Pert bpr: 0.6607380379758092\n",
      "nll: 149478.4565036182\n",
      "Loss: 86.77858860725723\n",
      "det bpr: 0.6694452005124966\n",
      "Pert bpr: 0.6583098771381051\n",
      "nll: 149054.07230984126\n",
      "Loss: 87.5070368585685\n",
      "det bpr: 0.6816994859042032\n",
      "Pert bpr: 0.6613473224369651\n",
      "nll: 149011.0500166047\n",
      "Loss: 86.59580326891046\n",
      "det bpr: 0.6780918391645618\n",
      "Pert bpr: 0.6608218857065643\n",
      "nll: 148891.77011345606\n",
      "Loss: 86.75343428803069\n",
      "det bpr: 0.6860476035422186\n",
      "Pert bpr: 0.6712576535895174\n",
      "nll: 149424.12063174415\n",
      "Loss: 83.62270392314474\n",
      "det bpr: 0.6843765446848527\n",
      "Pert bpr: 0.6655058400908053\n",
      "nll: 149746.12793292513\n",
      "Loss: 85.3482479727584\n",
      "det bpr: 0.6739363703970983\n",
      "Pert bpr: 0.6663083336272921\n",
      "nll: 150144.21742312593\n",
      "Loss: 85.10749991181235\n",
      "det bpr: 0.684035166917265\n",
      "Pert bpr: 0.6699844070984868\n",
      "nll: 151040.97431325645\n",
      "Loss: 84.00467787045392\n",
      "det bpr: 0.6746049323431673\n",
      "Pert bpr: 0.6689562980364565\n",
      "nll: 153265.69259195402\n",
      "Loss: 84.31311058906306\n",
      "det bpr: 0.6698953461568258\n",
      "Pert bpr: 0.6691134857437566\n",
      "nll: 154108.49448650586\n",
      "Loss: 84.26595427687298\n",
      "det bpr: 0.6884246366614856\n",
      "Pert bpr: 0.6765384277064647\n",
      "nll: 154230.88527398361\n",
      "Loss: 82.03847168806058\n",
      "det bpr: 0.6804313261678271\n",
      "Pert bpr: 0.674506098258683\n",
      "nll: 154742.40057447544\n",
      "Loss: 82.6481705223951\n",
      "det bpr: 0.6877883305143716\n",
      "Pert bpr: 0.6768976388451904\n",
      "nll: 155282.65632085552\n",
      "Loss: 81.93070834644287\n",
      "det bpr: 0.6624688247948082\n",
      "Pert bpr: 0.6673082683797603\n",
      "nll: 157344.4677575535\n",
      "Loss: 84.8075194860719\n",
      "det bpr: 0.6912355170152101\n",
      "Pert bpr: 0.6773182279985983\n",
      "nll: 159403.77815302322\n",
      "Loss: 81.80453160042052\n",
      "det bpr: 0.6808488407702243\n",
      "Pert bpr: 0.6797194263141249\n",
      "nll: 162739.43983175984\n",
      "Loss: 81.08417210576255\n",
      "det bpr: 0.6965212423313667\n",
      "Pert bpr: 0.6804158210306285\n",
      "nll: 164998.34164646163\n",
      "Loss: 80.87525369081143\n",
      "det bpr: 0.685792659822846\n",
      "Pert bpr: 0.67253138832163\n",
      "nll: 165610.80930151438\n",
      "Loss: 83.24058350351098\n",
      "det bpr: 0.6772767963430756\n",
      "Pert bpr: 0.6697271739715622\n",
      "nll: 165962.46722577518\n",
      "Loss: 84.0818478085313\n",
      "det bpr: 0.6841684696582692\n",
      "Pert bpr: 0.6708301411964889\n",
      "nll: 166517.8551751366\n",
      "Loss: 83.7509576410533\n",
      "det bpr: 0.6912837966925711\n",
      "Pert bpr: 0.6773742951341476\n",
      "nll: 166637.05348664714\n",
      "Loss: 81.78771145975571\n",
      "det bpr: 0.6877095530881236\n",
      "Pert bpr: 0.671317110868015\n",
      "nll: 166293.9804602354\n",
      "Loss: 83.60486673959548\n",
      "det bpr: 0.688833264489973\n",
      "Pert bpr: 0.6772903704468596\n",
      "nll: 166726.82210313104\n",
      "Loss: 81.81288886594209\n",
      "det bpr: 0.6720542488513566\n",
      "Pert bpr: 0.6695863172526749\n",
      "nll: 168074.87516884741\n",
      "Loss: 84.12410482419752\n",
      "det bpr: 0.6946281949409697\n",
      "Pert bpr: 0.6773102822363224\n",
      "nll: 167466.28600991206\n",
      "Loss: 81.80691532910329\n",
      "det bpr: 0.6799749218012889\n",
      "Pert bpr: 0.6711020809131258\n",
      "nll: 167173.87508051514\n",
      "Loss: 83.66937572606221\n",
      "det bpr: 0.6905261646901757\n",
      "Pert bpr: 0.6748221479943021\n",
      "nll: 166670.8338815393\n",
      "Loss: 82.55335560170934\n",
      "det bpr: 0.6852678711898671\n",
      "Pert bpr: 0.6679217974164111\n",
      "nll: 165716.28306274416\n",
      "Loss: 84.62346077507664\n",
      "det bpr: 0.6836781346222274\n",
      "Pert bpr: 0.6685854910715839\n",
      "nll: 164675.408848562\n",
      "Loss: 84.42435267852485\n",
      "det bpr: 0.6782298018892086\n",
      "Pert bpr: 0.6677806496421239\n",
      "nll: 163820.85860097932\n",
      "Loss: 84.66580510736279\n",
      "det bpr: 0.6793998034437164\n",
      "Pert bpr: 0.6653216384982886\n",
      "nll: 162779.8902033202\n",
      "Loss: 85.40350845051341\n",
      "det bpr: 0.6740782295513597\n",
      "Pert bpr: 0.6627773876562859\n",
      "nll: 162101.62456636468\n",
      "Loss: 86.16678370311419\n",
      "det bpr: 0.6785042752009347\n",
      "Pert bpr: 0.6691464971328756\n",
      "nll: 161548.94786806466\n",
      "Loss: 84.25605086013735\n",
      "det bpr: 0.6777907163478714\n",
      "Pert bpr: 0.6696847601253918\n",
      "nll: 161796.5721010334\n",
      "Loss: 84.09457196238245\n",
      "det bpr: 0.67045189684387\n",
      "Pert bpr: 0.6594202035392488\n",
      "nll: 160965.38788088353\n",
      "Loss: 87.17393893822535\n",
      "det bpr: 0.6724002509364879\n",
      "Pert bpr: 0.6632806637897528\n",
      "nll: 160477.82181871193\n",
      "Loss: 86.01580086307415\n",
      "det bpr: 0.6789560687470804\n",
      "Pert bpr: 0.6648705126513728\n",
      "nll: 159882.43263061545\n",
      "Loss: 85.53884620458815\n",
      "det bpr: 0.6854780685161533\n",
      "Pert bpr: 0.6701747513377616\n",
      "nll: 159541.5948122211\n",
      "Loss: 83.94757459867148\n",
      "det bpr: 0.6800329206002295\n",
      "Pert bpr: 0.6651531655166492\n",
      "nll: 158295.29055252776\n",
      "Loss: 85.45405034500521\n",
      "det bpr: 0.6834802402033655\n",
      "Pert bpr: 0.6700668681615618\n",
      "nll: 157477.9348068667\n",
      "Loss: 83.97993955153146\n",
      "det bpr: 0.6822607538407103\n",
      "Pert bpr: 0.6646512359294737\n",
      "nll: 157101.8508097151\n",
      "Loss: 85.60462922115788\n",
      "det bpr: 0.6791622337247539\n",
      "Pert bpr: 0.6658374429364179\n",
      "nll: 156326.06314626656\n",
      "Loss: 85.24876711907461\n",
      "det bpr: 0.678891603148091\n",
      "Pert bpr: 0.6703151745848305\n",
      "nll: 155961.7766035116\n",
      "Loss: 83.90544762455085\n",
      "det bpr: 0.6768135729139224\n",
      "Pert bpr: 0.6654150642787406\n",
      "nll: 155054.57542893518\n",
      "Loss: 85.3754807163778\n",
      "det bpr: 0.66345532849345\n",
      "Pert bpr: 0.6657320516351013\n",
      "nll: 154040.3354512274\n",
      "Loss: 85.28038450946963\n"
     ]
    }
   ],
   "source": [
    "losses, bprs, nlls = [], [], []\n",
    "for epoch in range(100):\n",
    "    loss, bpr, nll, model =train_epoch(model, optimizer, K, 0.95, T, 200, 200, torch.tensor(y_TS), perturbed_top_K_func, 1, 0, update=True)\n",
    "    losses.append(loss)\n",
    "    bprs.append(bpr)\n",
    "    nlls.append(nll)"
   ]
  },
  {
   "cell_type": "code",
   "execution_count": 38,
   "metadata": {},
   "outputs": [
    {
     "data": {
      "image/png": "[encoded data removed]",
      "text/plain": [
       "<Figure size 640x480 with 1 Axes>"
      ]
     },
     "metadata": {},
     "output_type": "display_data"
    }
   ],
   "source": [
    "model.plot_learned(data=y_TS)"
   ]
  },
  {
   "cell_type": "code",
   "execution_count": 40,
   "metadata": {},
   "outputs": [
    {
     "name": "stdout",
     "output_type": "stream",
     "text": [
      "Parameter containing:\n",
      "tensor([ 4.1973, 16.5032], requires_grad=True)\n",
      "Parameter containing:\n",
      "tensor([5.1569, 0.7686], requires_grad=True)\n",
      "Parameter containing:\n",
      "tensor([[ 4.5308, -3.7607],\n",
      "        [ 2.5041, -1.7894],\n",
      "        [ 5.1284, -4.4201],\n",
      "        [ 2.7936, -2.2948],\n",
      "        [ 4.4773, -3.6502],\n",
      "        [ 3.3009, -2.6838],\n",
      "        [-4.0500,  4.8071],\n",
      "        [-0.5020,  2.1055],\n",
      "        [ 5.0254, -4.2207],\n",
      "        [ 4.2166, -3.3222],\n",
      "        [ 1.6990, -0.9354],\n",
      "        [ 4.6064, -3.9758],\n",
      "        [ 3.6540, -3.1826],\n",
      "        [ 2.3928, -1.9497],\n",
      "        [ 2.0405, -1.0238],\n",
      "        [ 3.4338, -1.9969],\n",
      "        [ 4.0637, -3.3269],\n",
      "        [-4.8840,  4.8951],\n",
      "        [ 4.9920, -3.7173],\n",
      "        [-3.3700,  4.7888],\n",
      "        [ 2.0726, -0.9000],\n",
      "        [-2.7463,  4.0786],\n",
      "        [-4.9934,  5.9771]], requires_grad=True)\n"
     ]
    }
   ],
   "source": [
    "for param in model.parameters():\n",
    "    print(param)"
   ]
  },
  {
   "cell_type": "code",
   "execution_count": 42,
   "metadata": {},
   "outputs": [
    {
     "name": "stdout",
     "output_type": "stream",
     "text": [
      "Parameter containing:\n",
      "tensor([ 4.4890, 15.9470], requires_grad=True)\n",
      "Parameter containing:\n",
      "tensor([3.7605, 1.1306], requires_grad=True)\n",
      "Parameter containing:\n",
      "tensor([[ 4.9086, -4.1385],\n",
      "        [ 1.9000, -1.1853],\n",
      "        [ 4.6892, -3.9809],\n",
      "        [ 1.7027, -1.2039],\n",
      "        [ 4.6132, -3.7861],\n",
      "        [ 4.1258, -3.5087],\n",
      "        [-3.1088,  3.8659],\n",
      "        [-0.7725,  2.3760],\n",
      "        [ 5.2340, -4.4293],\n",
      "        [ 4.6216, -3.7272],\n",
      "        [ 0.2074,  0.5561],\n",
      "        [ 5.0661, -4.4355],\n",
      "        [ 4.7490, -4.2776],\n",
      "        [ 2.6750, -2.2319],\n",
      "        [ 1.9782, -0.9615],\n",
      "        [ 2.8652, -1.4283],\n",
      "        [ 5.4603, -4.7236],\n",
      "        [-5.3215,  5.3326],\n",
      "        [ 5.5443, -4.2696],\n",
      "        [-3.8481,  5.2668],\n",
      "        [ 2.9601, -1.7875],\n",
      "        [-3.1538,  4.4861],\n",
      "        [-5.6474,  6.6311]], requires_grad=True)\n"
     ]
    }
   ],
   "source": [
    "for param in model.parameters():\n",
    "    print(param)"
   ]
  },
  {
   "cell_type": "code",
   "execution_count": null,
   "metadata": {},
   "outputs": [],
   "source": []
  }
 ],
 "metadata": {
  "kernelspec": {
   "display_name": "pip_k3",
   "language": "python",
   "name": "python3"
  },
  "language_info": {
   "codemirror_mode": {
    "name": "ipython",
    "version": 3
   },
   "file_extension": ".py",
   "mimetype": "text/x-python",
   "name": "python",
   "nbconvert_exporter": "python",
   "pygments_lexer": "ipython3",
   "version": "3.11.7"
  }
 },
 "nbformat": 4,
 "nbformat_minor": 2
}
