{
 "cells": [
  {
   "cell_type": "code",
   "execution_count": 1,
   "metadata": {},
   "outputs": [],
   "source": [
    "%load_ext autoreload\n",
    "%autoreload 2\n",
    "\n",
    "import torch \n",
    "import os\n",
    "import glob\n",
    "from matplotlib import pyplot as plt\n",
    "\n",
    "import matplotlib.animation as animation\n",
    "import os\n",
    "import torch\n",
    "import numpy as np\n",
    "# Cd to code\n",
    "import os\n",
    "import sys\n",
    "os.chdir('/cluster/home/kheuto01/code/prob_diff_topk')\n",
    "sys.path.append('/cluster/home/kheuto01/code/prob_diff_topk')\n",
    "\n",
    "\n",
    "from distributions import ZeroInflatedDist, QuantizedNormal\n",
    "from torch_models import MixtureOfTruncNormModel\n",
    "from torch_training import train_epoch\n",
    "from torch_perturb.torch_pert_topk import PerturbedTopK"
   ]
  },
  {
   "cell_type": "code",
   "execution_count": 23,
   "metadata": {},
   "outputs": [],
   "source": [
    "# Reproducibly, randomly generate some numbers using a numpy rng\n",
    "init_rng = np.random.RandomState(1989)\n",
    "# generate 20 sets of 2 floats between 0.5 and 60\n",
    "means = init_rng.uniform(0.5, 60, (20, 2))\n",
    "# generate 20 sets of 2 floats between 0.25 and 6\n",
    "scales = init_rng.uniform(0.25, 6, (20, 2))\n",
    "# generate 20 lists length 23 containing lists length 2 which sum to 1\n",
    "mix_weights = init_rng.dirichlet([0.5, 0.5], (20,23))"
   ]
  },
  {
   "cell_type": "code",
   "execution_count": 24,
   "metadata": {},
   "outputs": [
    {
     "name": "stdout",
     "output_type": "stream",
     "text": [
      "[[0.   1.  ]\n",
      " [0.71 0.29]\n",
      " [1.   0.  ]\n",
      " [0.83 0.17]\n",
      " [0.03 0.97]\n",
      " [0.07 0.93]\n",
      " [0.7  0.3 ]\n",
      " [0.66 0.34]\n",
      " [0.62 0.38]\n",
      " [0.02 0.98]\n",
      " [0.47 0.53]\n",
      " [1.   0.  ]\n",
      " [0.38 0.62]\n",
      " [0.02 0.98]\n",
      " [0.87 0.13]\n",
      " [0.21 0.79]\n",
      " [0.44 0.56]\n",
      " [0.96 0.04]\n",
      " [0.49 0.51]\n",
      " [0.84 0.16]\n",
      " [0.75 0.25]\n",
      " [0.18 0.82]\n",
      " [0.25 0.75]]\n"
     ]
    }
   ],
   "source": []
  },
  {
   "cell_type": "code",
   "execution_count": null,
   "metadata": {},
   "outputs": [],
   "source": []
  }
 ],
 "metadata": {
  "kernelspec": {
   "display_name": "pip_k3",
   "language": "python",
   "name": "python3"
  },
  "language_info": {
   "codemirror_mode": {
    "name": "ipython",
    "version": 3
   },
   "file_extension": ".py",
   "mimetype": "text/x-python",
   "name": "python",
   "nbconvert_exporter": "python",
   "pygments_lexer": "ipython3",
   "version": "3.11.8"
  }
 },
 "nbformat": 4,
 "nbformat_minor": 2
}
