{
 "cells": [
  {
   "cell_type": "code",
   "execution_count": 1,
   "metadata": {},
   "outputs": [
    {
     "name": "stderr",
     "output_type": "stream",
     "text": [
      "2024-05-21 13:08:02.931705: I tensorflow/core/util/port.cc:113] oneDNN custom operations are on. You may see slightly different numerical results due to floating-point round-off errors from different computation orders. To turn them off, set the environment variable `TF_ENABLE_ONEDNN_OPTS=0`.\n",
      "2024-05-21 13:08:02.988892: E external/local_xla/xla/stream_executor/cuda/cuda_dnn.cc:9261] Unable to register cuDNN factory: Attempting to register factory for plugin cuDNN when one has already been registered\n",
      "2024-05-21 13:08:02.988927: E external/local_xla/xla/stream_executor/cuda/cuda_fft.cc:607] Unable to register cuFFT factory: Attempting to register factory for plugin cuFFT when one has already been registered\n",
      "2024-05-21 13:08:02.990078: E external/local_xla/xla/stream_executor/cuda/cuda_blas.cc:1515] Unable to register cuBLAS factory: Attempting to register factory for plugin cuBLAS when one has already been registered\n",
      "2024-05-21 13:08:02.998139: I tensorflow/core/platform/cpu_feature_guard.cc:182] This TensorFlow binary is optimized to use available CPU instructions in performance-critical operations.\n",
      "To enable the following instructions: AVX2 AVX512F AVX512_VNNI FMA, in other operations, rebuild TensorFlow with the appropriate compiler flags.\n",
      "2024-05-21 13:08:09.321526: W tensorflow/compiler/tf2tensorrt/utils/py_utils.cc:38] TF-TRT Warning: Could not find TensorRT\n"
     ]
    }
   ],
   "source": [
    "%load_ext autoreload\n",
    "%autoreload 2\n",
    "import scipy\n",
    "import numpy as np\n",
    "import tensorflow as tf\n",
    "import tensorflow_probability as tfp\n",
    "import matplotlib.pyplot as plt\n",
    "import keras\n",
    "\n",
    "import time"
   ]
  },
  {
   "cell_type": "markdown",
   "metadata": {},
   "source": [
    "## Observations"
   ]
  },
  {
   "cell_type": "markdown",
   "metadata": {},
   "source": [
    "At each timestep $t$, we observe $S=4$ artificial locations. The observed value $y_{s,t}$ is realization of random variable $Y_s$, which is normally distributed with unit variance and a location-specific mean: $Y_{s,t} \\sim \\mathcal{N}(\\mu_s, 1)$. The means are $\\mu = [5, 15, 25, 35]$."
   ]
  },
  {
   "cell_type": "code",
   "execution_count": 2,
   "metadata": {},
   "outputs": [],
   "source": [
    "S=4\n",
    "scale = 1\n",
    "means = [5.0, 15.0, 25.0, 35.0]\n",
    "# simulate data for each location\n",
    "data_distributions = [scipy.stats.norm(loc=mean, scale=scale) for mean in means]"
   ]
  },
  {
   "cell_type": "markdown",
   "metadata": {},
   "source": [
    "In total, we observe $T=1000$ examples. We frame this as a machine learning problem and our goal is to train a model given some features $x$ to accurately predict $y$. However, we are unconcerned with learning here, and care only about our ability to calculate gradients. Here, we use $x \\in \\mathbb{R}^F$ as an $F=20$ dimensional feature vector, but the features are uninformative and sampled from a standard normal. "
   ]
  },
  {
   "cell_type": "code",
   "execution_count": 3,
   "metadata": {},
   "outputs": [],
   "source": [
    "T=1000\n",
    "# create random state for sampling\n",
    "seed=360\n",
    "rng = np.random.RandomState(seed)\n",
    "y_TS = np.array([dist.rvs(size=T, random_state=rng) for dist in data_distributions]).T\n",
    "assert(y_TS.shape == (T, S))\n",
    "\n",
    "F=20\n",
    "# x doesn't matter because we aren't learning\n",
    "x_TF = rng.standard_normal(size=(T, F))"
   ]
  },
  {
   "cell_type": "code",
   "execution_count": 4,
   "metadata": {},
   "outputs": [
    {
     "name": "stderr",
     "output_type": "stream",
     "text": [
      "2024-05-21 13:08:24.418195: E external/local_xla/xla/stream_executor/cuda/cuda_driver.cc:274] failed call to cuInit: CUDA_ERROR_NO_DEVICE: no CUDA-capable device is detected\n",
      "2024-05-21 13:08:24.418238: I external/local_xla/xla/stream_executor/cuda/cuda_diagnostics.cc:129] retrieving CUDA diagnostic information for host: s1cmp008.pax.tufts.edu\n",
      "2024-05-21 13:08:24.418246: I external/local_xla/xla/stream_executor/cuda/cuda_diagnostics.cc:136] hostname: s1cmp008.pax.tufts.edu\n",
      "2024-05-21 13:08:24.418376: I external/local_xla/xla/stream_executor/cuda/cuda_diagnostics.cc:159] libcuda reported version is: 535.129.3\n",
      "2024-05-21 13:08:24.418405: I external/local_xla/xla/stream_executor/cuda/cuda_diagnostics.cc:163] kernel reported version is: 535.129.3\n",
      "2024-05-21 13:08:24.418411: I external/local_xla/xla/stream_executor/cuda/cuda_diagnostics.cc:241] kernel version seems to match DSO: 535.129.3\n"
     ]
    },
    {
     "data": {
      "text/plain": [
       "<matplotlib.legend.Legend at 0x2b1a777af850>"
      ]
     },
     "execution_count": 4,
     "metadata": {},
     "output_type": "execute_result"
    },
    {
     "data": {
      "image/png": "[encoded data removed]",
      "text/plain": [
       "<Figure size 640x480 with 1 Axes>"
      ]
     },
     "metadata": {},
     "output_type": "display_data"
    }
   ],
   "source": [
    "plt.hist(tf.reshape(y_TS, [-1]).numpy(),alpha=0.5, bins=1000, label='y true')\n",
    "plt.legend()"
   ]
  },
  {
   "cell_type": "markdown",
   "metadata": {},
   "source": [
    "## Model"
   ]
  },
  {
   "cell_type": "markdown",
   "metadata": {},
   "source": [
    "We will model this with the true model: predictions $\\hat{y}_{s,t}$ will come from S, location-specific normal distributions, where the mean is determined by a function $f_{\\phi_s}(x)$ with location-specific parameters $\\phi_s$, and the variance is fixed to the true value of 1.\n",
    "\n",
    "$$p(\\hat{y}_{s,t}) = \\mathcal{N}(\\hat{y}_{s,t}| f_{\\phi_s}(x), 1)$$\n",
    "All locations are independent:\n",
    "$$p(\\hat{y}_{t}) = \\prod_{s=1}^S \\mathcal{N}(\\hat{y}_{s,t}| f_{\\phi_s}(x), 1)$$"
   ]
  },
  {
   "cell_type": "markdown",
   "metadata": {},
   "source": [
    "Our model is a simple linear model with an intercept:\n",
    "$$f_{\\phi_s}(x) = \\phi x + \\phi_0$$\n",
    "Our model can trivially recover the true data generating process by setting the coefficient terms of $\\phi_s$ to 0 and the intercept to the true mean $\\phi_{s,0} = \\mu_s$"
   ]
  },
  {
   "cell_type": "markdown",
   "metadata": {},
   "source": [
    "## Objective"
   ]
  },
  {
   "cell_type": "markdown",
   "metadata": {},
   "source": [
    "We will use our model's predictions $\\hat{y}$ in order to choose some action $\\theta$, which can be calculated by a deterministic but not necessarily differentiable function $a$ of $\\hat{y}$:\n",
    "$$\\theta_t = a(\\hat{y}_t)$$"
   ]
  },
  {
   "cell_type": "markdown",
   "metadata": {},
   "source": [
    "Given a decision $\\theta$, we can calculate a loss between our action and the observed outcome $\\mathcal{L}(\\theta_t, y_t)$. Our goal is to calculate gradients of that loss with respect to our model parameters. We can use the chain rule to decompose the gradient into two parts:\n",
    "$$ \\nabla_\\phi \\mathcal{L}(\\theta_t, y_t) = \\nabla_\\phi \\theta \\nabla_\\theta  \\mathcal{L}(\\theta_t, y_t)$$"
   ]
  },
  {
   "cell_type": "markdown",
   "metadata": {},
   "source": [
    "When $\\theta$ is non-differentiable, we can obtain gradients using the score-function trick, where we can approximate the gradient using $M$ samples from our probabilistic model $p$\n",
    "$$\\nabla_\\phi \\theta = \\frac{1}{M} \\sum_{m=1}^M \\nabla_\\phi \\log p(y^m) a(y)$$"
   ]
  },
  {
   "cell_type": "markdown",
   "metadata": {},
   "source": [
    "Our loss is mean-squared error and easy to differentiate: \n",
    "$$\\mathcal{L} (\\theta_t, y_t) = \\frac{1}{S}\\sum_{s=1}^S(y_t-\\theta_t)^2$$"
   ]
  },
  {
   "cell_type": "markdown",
   "metadata": {},
   "source": [
    "## Implementing the model"
   ]
  },
  {
   "cell_type": "code",
   "execution_count": 5,
   "metadata": {},
   "outputs": [],
   "source": [
    "inputs = keras.Input(shape=F)\n",
    "linear_layer = keras.layers.Dense(S, activation = None)\n",
    "distribution_layer = tfp.layers.DistributionLambda(lambda t: tfp.distributions.Normal(loc=t, scale=1))"
   ]
  },
  {
   "cell_type": "code",
   "execution_count": 6,
   "metadata": {},
   "outputs": [],
   "source": [
    "predicted_means = linear_layer(inputs)\n",
    "distributions = distribution_layer(predicted_means)\n",
    "model = keras.Model(inputs=inputs, outputs=distributions)"
   ]
  },
  {
   "cell_type": "code",
   "execution_count": 8,
   "metadata": {},
   "outputs": [
    {
     "name": "stdout",
     "output_type": "stream",
     "text": [
      "Model parameter shapes: [(20, 4), (4,)]\n"
     ]
    }
   ],
   "source": [
    "model_distributions = model(x_TF)\n",
    "print(f'Model parameter shapes: {[w.shape for w in model.get_weights()]}')"
   ]
  },
  {
   "cell_type": "markdown",
   "metadata": {},
   "source": [
    "### Set weights to true values\n",
    "We'll set the linear coefficients to 0 and the biases to the true means"
   ]
  },
  {
   "cell_type": "code",
   "execution_count": 9,
   "metadata": {},
   "outputs": [
    {
     "name": "stdout",
     "output_type": "stream",
     "text": [
      "Max linear weight magnitude 0.0\n",
      "Biases [ 5. 15. 25. 35.]\n"
     ]
    }
   ],
   "source": [
    "linear_weights = model.trainable_variables[0]\n",
    "linear_weights.assign(tf.zeros_like(linear_weights))\n",
    "\n",
    "biases = model.trainable_variables[1]\n",
    "biases.assign(means)\n",
    "\n",
    "print(f'Max linear weight magnitude {tf.reduce_max(tf.abs(model.trainable_variables[0]))}')\n",
    "print(f'Biases {model.get_weights()[1]}')"
   ]
  },
  {
   "cell_type": "code",
   "execution_count": 10,
   "metadata": {},
   "outputs": [],
   "source": [
    "M=50\n",
    "model_distributions = model(x_TF)\n",
    "sample_y_MTS = model_distributions.sample(M)\n",
    "assert(sample_y_MTS.shape == (M, T, S))\n",
    "\n",
    "sample_log_probs_MTS = model_distributions.log_prob(sample_y_MTS)\n",
    "sample_actions_MTS = tf.identity(sample_y_MTS)\n",
    "expected_actions_TS = tf.reduce_mean(sample_actions_MTS, axis=0)\n",
    "loss_T = keras.losses.mean_squared_error(y_TS, expected_actions_TS)\n",
    "loss = tf.reduce_mean(loss_T)"
   ]
  },
  {
   "cell_type": "code",
   "execution_count": 11,
   "metadata": {},
   "outputs": [
    {
     "data": {
      "text/plain": [
       "<matplotlib.legend.Legend at 0x2b1a9604a050>"
      ]
     },
     "execution_count": 11,
     "metadata": {},
     "output_type": "execute_result"
    },
    {
     "data": {
      "image/png": "[encoded data removed]",
      "text/plain": [
       "<Figure size 640x480 with 1 Axes>"
      ]
     },
     "metadata": {},
     "output_type": "display_data"
    }
   ],
   "source": [
    "plt.hist(tf.reshape(expected_actions_TS, [-1]).numpy(),alpha=0.5, bins=1000, label=f'expected decision {M} samples')\n",
    "plt.hist(tf.reshape(y_TS, [-1]).numpy(),alpha=0.5, bins=1000, label='y true')\n",
    "plt.legend()"
   ]
  },
  {
   "cell_type": "markdown",
   "metadata": {},
   "source": [
    "## Implement the score function trick\n",
    "We'll take $M=5$ samples, and use the identity function as our action $a(y)=y$"
   ]
  },
  {
   "cell_type": "markdown",
   "metadata": {},
   "source": [
    "### Differentiate the score function trick"
   ]
  },
  {
   "cell_type": "code",
   "execution_count": 12,
   "metadata": {},
   "outputs": [],
   "source": [
    "def score_function_trick(jacobian_MTSp, actions_MTS):\n",
    "    \"\"\"Implement score function trick\n",
    "    \n",
    "    Args:\n",
    "    jacobian_MTSp: Gradient of the log probability of the samples of y given model parameter p\n",
    "        tf.Tensor of shape (M, T, S, p), where p is the shape of the parameter\n",
    "    actions_MTS: Action taken at each sampple\n",
    "    \"\"\"\n",
    "    # Solve for the rank of the parameter by subtracting the sample/time/location dimension\n",
    "    rank_P = tf.rank(jacobian_MTSp)-3\n",
    "    # add new size 1 dimensions so that the action broadcasts to the shape of the parameter\n",
    "    new_shape = tf.concat([tf.shape(actions_MTS), tf.ones([rank_P], tf.int32)], axis=0)\n",
    "    actions_MTSp = tf.reshape(actions_MTS, new_shape)\n",
    "\n",
    "    scaled_jacobian_MTSp = jacobian_MTSp*actions_MTSp\n",
    "\n",
    "    # average over sample dims\n",
    "    param_gradient_BSp = tf.reduce_mean(scaled_jacobian_MTSp, axis=0)\n",
    "\n",
    "    return param_gradient_BSp\n",
    "\n",
    "def overall_gradient_calculation(gradient_TSp, action_gradient_TS):\n",
    "    \"\"\"Calculate final loss gradeint\n",
    "    \n",
    "    Args:\n",
    "    gradient_BSp: Of the action w.r.t to parameter p\n",
    "        tf.Tensor of shape (M, T, S, p), where p is the shape of the parameter\n",
    "    action_gradient_TS: Gradient of loss w.r.t. to action\n",
    "    \"\"\"\n",
    "    # Solve for the rank of the parameter by subtracting the time/location dimension\n",
    "    rank_P = tf.rank(gradient_TSp)-2\n",
    "    # add new size 1 dimensions so that the action broadcasts to the shape of the parameter\n",
    "    new_shape = tf.concat([tf.shape(action_gradient_TS), tf.ones([rank_P], tf.int32)], axis=0)\n",
    "    action_gradient_TSp = tf.reshape(action_gradient_TS, new_shape)\n",
    "\n",
    "    overall_gradient_TSp = gradient_TSp*action_gradient_TSp\n",
    "\n",
    "    # Sum over spatial dimensions\n",
    "    overall_gradient_Tp = tf.reduce_sum(overall_gradient_TSp, axis=1)\n",
    "    # average over time\n",
    "    overall_gradient_p = tf.reduce_mean(overall_gradient_Tp, axis=0)\n",
    "\n",
    "    return overall_gradient_p"
   ]
  },
  {
   "cell_type": "code",
   "execution_count": 13,
   "metadata": {},
   "outputs": [],
   "source": [
    "# We want 3 gradients, 2 for the gradients in the math above, and 1 for the overall gradient to check our math\n",
    "M=5\n",
    "with tf.GradientTape() as jacobian_tape, tf.GradientTape() as loss_tape, tf.GradientTape() as master_tape:\n",
    "    model_distributions = model(x_TF)\n",
    "    sample_y_MTS = model_distributions.sample(M)\n",
    "    stopped_samples_MTS = tf.stop_gradient(sample_y_MTS)\n",
    "\n",
    "    sample_log_probs_MTS = model_distributions.log_prob(stopped_samples_MTS)\n",
    "    sample_actions_MTS = tf.identity(sample_y_MTS)\n",
    "    expected_actions_TS = tf.reduce_mean(sample_actions_MTS, axis=0)\n",
    "    loss_T = keras.losses.mean_squared_error(y_TS, expected_actions_TS)\n",
    "    loss = tf.reduce_mean(loss_T)\n",
    "\n",
    "# The lowercase p indicates that this is a list of model parameters, each shape MTS+parameter shape\n",
    "jacobian_pMTS = jacobian_tape.jacobian(sample_log_probs_MTS, model.trainable_weights)\n",
    "param_gradient_pTS = [score_function_trick(j, sample_actions_MTS) for j in jacobian_pMTS]\n",
    "        \n",
    "loss_gradients_TS = loss_tape.gradient(loss_T, expected_actions_TS)\n",
    "overall_gradient = [overall_gradient_calculation(g, loss_gradients_TS) for g in param_gradient_pTS]\n",
    "\n",
    "master_gradient = master_tape.gradient(loss_T, model.trainable_weights)"
   ]
  },
  {
   "cell_type": "markdown",
   "metadata": {},
   "source": [
    "Lets check the gradient calculation by varying the parameter controlling the mean of the distribution at $\\mu_2=25$ from $20$ to $30$"
   ]
  },
  {
   "cell_type": "code",
   "execution_count": 14,
   "metadata": {},
   "outputs": [],
   "source": [
    "M=3"
   ]
  },
  {
   "cell_type": "code",
   "execution_count": 15,
   "metadata": {},
   "outputs": [
    {
     "name": "stdout",
     "output_type": "stream",
     "text": [
      "20.0\n",
      "Elapsed time 3.764050006866455\n",
      "21.11111\n",
      "Elapsed time 3.882758617401123\n",
      "22.222221\n",
      "Elapsed time 4.861450433731079\n",
      "23.333334\n",
      "WARNING:tensorflow:5 out of the last 5 calls to <function pfor.<locals>.f at 0x2b1a964c7920> triggered tf.function retracing. Tracing is expensive and the excessive number of tracings could be due to (1) creating @tf.function repeatedly in a loop, (2) passing tensors with different shapes, (3) passing Python objects instead of tensors. For (1), please define your @tf.function outside of the loop. For (2), @tf.function has reduce_retracing=True option that can avoid unnecessary retracing. For (3), please refer to https://www.tensorflow.org/guide/function#controlling_retracing and https://www.tensorflow.org/api_docs/python/tf/function for  more details.\n",
      "Elapsed time 4.433940887451172\n",
      "24.444445\n",
      "WARNING:tensorflow:6 out of the last 6 calls to <function pfor.<locals>.f at 0x2b1a964c7600> triggered tf.function retracing. Tracing is expensive and the excessive number of tracings could be due to (1) creating @tf.function repeatedly in a loop, (2) passing tensors with different shapes, (3) passing Python objects instead of tensors. For (1), please define your @tf.function outside of the loop. For (2), @tf.function has reduce_retracing=True option that can avoid unnecessary retracing. For (3), please refer to https://www.tensorflow.org/guide/function#controlling_retracing and https://www.tensorflow.org/api_docs/python/tf/function for  more details.\n",
      "Elapsed time 4.872199296951294\n",
      "25.555555\n",
      "Elapsed time 4.71004319190979\n",
      "26.666666\n",
      "Elapsed time 4.637898683547974\n",
      "27.777779\n",
      "Elapsed time 4.6264259815216064\n",
      "28.88889\n",
      "Elapsed time 3.5934977531433105\n",
      "30.0\n",
      "Elapsed time 3.8701863288879395\n"
     ]
    }
   ],
   "source": [
    "gradient_magnitudes = []\n",
    "master_magnitudes = []\n",
    "param_vals = []\n",
    "losses = []\n",
    "mean_log_probs = []\n",
    "for param_value in np.linspace(20, 30, 10, dtype=np.float32):\n",
    "    print(param_value)\n",
    "    mean_param = [5, 15, param_value, 35]\n",
    "    variable = model.trainable_variables[1]\n",
    "    variable.assign(mean_param)\n",
    "\n",
    "    start = time.time()\n",
    "\n",
    "    for trial in range(1):\n",
    "        # We want 3 gradients, 2 for the gradients in the math above, and 1 for the overall gradient to check our math\n",
    "        with tf.GradientTape() as jacobian_tape, tf.GradientTape() as loss_tape, tf.GradientTape() as master_tape:\n",
    "            model_distributions = model(x_TF)\n",
    "            sample_y_MTS = model_distributions.sample(M)\n",
    "            stopped_samples_MTS = tf.stop_gradient(sample_y_MTS)\n",
    "\n",
    "            sample_log_probs_MTS = model_distributions.log_prob(stopped_samples_MTS)\n",
    "            sample_actions_MTS = tf.identity(sample_y_MTS)\n",
    "            expected_actions_TS = tf.reduce_mean(sample_actions_MTS, axis=0)\n",
    "            loss_T = keras.losses.mean_squared_error(y_TS, expected_actions_TS)\n",
    "            loss = tf.reduce_mean(loss_T)\n",
    "\n",
    "        # The lowercase p indicates that this is a list of model parameters, each shape MTS+parameter shape\n",
    "        jacobian_pMTS = jacobian_tape.jacobian(sample_log_probs_MTS, model.trainable_weights)\n",
    "        param_gradient_pTS = [score_function_trick(j, sample_actions_MTS) for j in jacobian_pMTS]\n",
    "                \n",
    "        loss_gradients_TS = loss_tape.gradient(loss_T, expected_actions_TS)\n",
    "        overall_gradient = [overall_gradient_calculation(g, loss_gradients_TS) for g in param_gradient_pTS]\n",
    "\n",
    "        master_gradient = master_tape.gradient(loss_T, model.trainable_weights)\n",
    "        param_vals.append(param_value)\n",
    "        gradient_magnitudes.append(overall_gradient[1][2])\n",
    "        master_magnitudes.append(master_gradient[1][2])\n",
    "        losses.append(loss)\n",
    "        mean_log_probs.append(tf.reduce_mean(sample_log_probs_MTS[:,:,2]))\n",
    "    end = time.time()\n",
    "    elapsed = end - start\n",
    "    print(f'Elapsed time {elapsed}')"
   ]
  },
  {
   "cell_type": "code",
   "execution_count": 19,
   "metadata": {},
   "outputs": [
    {
     "data": {
      "image/png": "[encoded data removed]",
      "text/plain": [
       "<Figure size 640x480 with 2 Axes>"
      ]
     },
     "metadata": {},
     "output_type": "display_data"
    }
   ],
   "source": [
    "# plot with 2 different scales, 1 y axis for each graph:\n",
    "fig, ax1 = plt.subplots()\n",
    "\n",
    "# Plot the first line on ax1\n",
    "ax1.set_xlabel('3rd cluster mean')\n",
    "ax1.set_ylabel('loss')\n",
    "ax1.plot(param_vals, losses, label='loss')\n",
    "ax1.tick_params(axis='y')\n",
    "ax1.set_ylim([-10, 10])\n",
    "\n",
    "# Create ax2, which shares the same x-axis as ax1\n",
    "ax2 = ax1.twinx()\n",
    "ax2.set_ylabel('gradient')\n",
    "# divide by 1000 because autodiff is summing over samples\n",
    "ax2.plot(param_vals, [mag/T for mag in master_magnitudes], 'g-', label='autodiff gradient')\n",
    "ax2.plot(param_vals, gradient_magnitudes,'k*',label='score func gradient', )\n",
    "ax2.tick_params(axis='y')\n",
    "#ax2.set_ylim([-10,10])\n",
    "\n",
    "#ax2.set_ylim([-1000, 1000])\n",
    "#plot vertical line at x=25\n",
    "plt.axvline(x=25, color='r', linestyle='--', label='true mean')\n",
    "plt.axhline(y=0, color='r', linestyle=':', label='0 gradient')\n",
    "fig.tight_layout()\n",
    "plt.legend()\n",
    "plt.show()\n"
   ]
  },
  {
   "cell_type": "code",
   "execution_count": null,
   "metadata": {},
   "outputs": [],
   "source": []
  }
 ],
 "metadata": {
  "kernelspec": {
   "display_name": "pip_k2_tf",
   "language": "python",
   "name": "python3"
  },
  "language_info": {
   "codemirror_mode": {
    "name": "ipython",
    "version": 3
   },
   "file_extension": ".py",
   "mimetype": "text/x-python",
   "name": "python",
   "nbconvert_exporter": "python",
   "pygments_lexer": "ipython3",
   "version": "3.11.7"
  }
 },
 "nbformat": 4,
 "nbformat_minor": 2
}
