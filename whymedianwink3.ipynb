{
 "cells": [
  {
   "cell_type": "code",
   "execution_count": 1,
   "metadata": {},
   "outputs": [
    {
     "name": "stderr",
     "output_type": "stream",
     "text": [
      "2024-05-07 11:34:30.712317: E external/local_xla/xla/stream_executor/cuda/cuda_dnn.cc:9261] Unable to register cuDNN factory: Attempting to register factory for plugin cuDNN when one has already been registered\n",
      "2024-05-07 11:34:30.712380: E external/local_xla/xla/stream_executor/cuda/cuda_fft.cc:607] Unable to register cuFFT factory: Attempting to register factory for plugin cuFFT when one has already been registered\n",
      "2024-05-07 11:34:30.725184: E external/local_xla/xla/stream_executor/cuda/cuda_blas.cc:1515] Unable to register cuBLAS factory: Attempting to register factory for plugin cuBLAS when one has already been registered\n",
      "2024-05-07 11:34:30.763872: I tensorflow/core/platform/cpu_feature_guard.cc:182] This TensorFlow binary is optimized to use available CPU instructions in performance-critical operations.\n",
      "To enable the following instructions: AVX2 FMA, in other operations, rebuild TensorFlow with the appropriate compiler flags.\n",
      "2024-05-07 11:34:46.929037: W tensorflow/compiler/tf2tensorrt/utils/py_utils.cc:38] TF-TRT Warning: Could not find TensorRT\n"
     ]
    }
   ],
   "source": [
    "%load_ext autoreload\n",
    "%autoreload 2\n",
    "from functools import partial\n",
    "import os\n",
    "import keras\n",
    "\n",
    "from datasets import example_datasets, to_numpy, tensorflow_dataset, train_val_test_split\n",
    "from models import mixture_poissons,poisson_glm\n",
    "from metrics import mixture_poi_loss, get_bpr_loss_func, mix_bpr, get_penalized_bpr_loss_func_mix, get_unperturbed_bpr_loss_func\n",
    "from experiments import training_loop\n",
    "from plotting_funcs import plot_losses, plot_frontier, plot_component_histograms, plot_winners\n",
    "from bpr_trials import calc_bpr_many_trials\n",
    "\n",
    "from distributions import ZeroInflatedDist, QuantizedNormal\n",
    "\n",
    "import tensorflow as tf\n",
    "import tensorflow_probability as tfp\n",
    "import numpy as np\n",
    "from glob import glob\n",
    "import scipy\n",
    "\n",
    "import matplotlib.pyplot as plt"
   ]
  },
  {
   "cell_type": "code",
   "execution_count": 2,
   "metadata": {},
   "outputs": [],
   "source": [
    "# tracts/distributions\n",
    "S=12\n",
    "# history/features\n",
    "H = 3\n",
    "# total timepoints\n",
    "T= 15000\n",
    "# K for bpr\n",
    "K=3\n",
    "seed=12343\n",
    "train_pct = 1/3"
   ]
  },
  {
   "cell_type": "code",
   "execution_count": 3,
   "metadata": {},
   "outputs": [],
   "source": [
    "consistent_4 = [QuantizedNormal(7, 0.1) for _ in range(4)]\n",
    "\n",
    "highvar_4 = [ZeroInflatedDist(QuantizedNormal(10, 0.1), 1-0.7) for _ in range(4)]\n",
    "\n",
    "powerball_4 = [ZeroInflatedDist(QuantizedNormal(100, 0.1), 0.9) for _ in range(4)]\n",
    "dist_S = consistent_4 + highvar_4 +powerball_4\n"
   ]
  },
  {
   "cell_type": "code",
   "execution_count": 13,
   "metadata": {},
   "outputs": [],
   "source": [
    "num_tracts_per_type = 4\n",
    "\n",
    "probability_of_10 = 0.71\n",
    "probability_of_100 = 0.1\n",
    "\n",
    "outcomes = []\n",
    "probabilities = []\n",
    "num_10s = []\n",
    "num_100s = []\n",
    "bpr_denominators = []\n",
    "\n",
    "for hit_10s in range(num_tracts_per_type+1):\n",
    "    probability_of_10s = (probability_of_10**hit_10s*(1-probability_of_10)**(num_tracts_per_type-hit_10s))*scipy.special.comb(num_tracts_per_type, hit_10s)\n",
    "\n",
    "    for hit_100s in range(num_tracts_per_type+1):\n",
    "\n",
    "        bpr_denominator = min(K,hit_100s)*100\n",
    "        if K - hit_100s > 0:\n",
    "            bpr_denominator += min(hit_10s, K-hit_100s)*10\n",
    "        if K -hit_100s-hit_10s>0:\n",
    "            bpr_denominator += (K-hit_100s-hit_10s)*7 \n",
    "\n",
    "        probability_of_100s = (probability_of_100**hit_100s*(1-probability_of_100)**(num_tracts_per_type-hit_100s))*scipy.special.comb(num_tracts_per_type, hit_100s)\n",
    "        probabilities.append(probability_of_10s * probability_of_100s)\n",
    "        bpr_denominators.append(bpr_denominator)\n",
    "\n",
    "        num_10s.append(hit_10s)\n",
    "        num_100s.append(hit_100s)\n",
    "\n"
   ]
  },
  {
   "cell_type": "code",
   "execution_count": 14,
   "metadata": {},
   "outputs": [
    {
     "name": "stdout",
     "output_type": "stream",
     "text": [
      "E[%BPR] for pick 7: 53.79\n",
      "E[%BPR] for pick 10: 71.32\n",
      "E[%BPR] for pick 100: 29.35\n"
     ]
    }
   ],
   "source": [
    "pick_7_bprs = []\n",
    "pick_10_bprs = []\n",
    "pick_100_bprs = []\n",
    "\n",
    "for probability, denominator, hit_10s, hit_100s in zip(probabilities, bpr_denominators, num_10s, num_100s):\n",
    "    pick_7_bprs.append(K*7/denominator*probability)\n",
    "    pick_10_bprs.append(10*hit_10s/denominator*probability)\n",
    "    pick_100_bprs.append(100*hit_100s/denominator*probability)\n",
    "\n",
    "\n",
    "print(f'E[%BPR] for pick 7: {np.sum(pick_7_bprs)*100:.2f}')\n",
    "print(f'E[%BPR] for pick 10: {np.sum(pick_10_bprs)*100:.2f}')\n",
    "print(f'E[%BPR] for pick 100: {np.sum(pick_100_bprs)*100:.2f}')"
   ]
  },
  {
   "cell_type": "code",
   "execution_count": 16,
   "metadata": {},
   "outputs": [
    {
     "name": "stdout",
     "output_type": "stream",
     "text": [
      "E[%BPR] for pick 7: 53.79\n",
      "E[%BPR] for pick 10: 53.49\n",
      "E[%BPR] for pick 100: 22.02\n"
     ]
    }
   ],
   "source": [
    "# generate all possible length 8 binary vectors:\n",
    "all_possible = []\n",
    "for i in range(2**8):\n",
    "    all_possible.append([int(x) for x in bin(i)[2:].zfill(8)])\n",
    "\n",
    "start_idx_10 = 0\n",
    "start_idx_100 = 4\n",
    "num_tracts_per_type = 4\n",
    "\n",
    "K=3\n",
    "pick_10s_indicies =np.array([1,1,1,0,0,0,0,0]) \n",
    "pick_100s_indicies =np.array([0,0,0,0,1,1,1,0] )\n",
    "\n",
    "probabilities = []\n",
    "pick_7_bprs = []\n",
    "pick_10_bprs = []\n",
    "pick_100_bprs = []\n",
    "\n",
    "for outcome in all_possible:\n",
    "    \n",
    "\n",
    "    hit_10s = np.sum(outcome[start_idx_10:start_idx_10+num_tracts_per_type])\n",
    "    picked_10s = np.sum(outcome*pick_10s_indicies)\n",
    "    hit_100s = np.sum(outcome[start_idx_100:start_idx_100+num_tracts_per_type])\n",
    "    picked_100s = np.sum(outcome*pick_100s_indicies)\n",
    "\n",
    "    probability_10s = (probability_of_10**hit_10s*(1-probability_of_10)**(num_tracts_per_type-hit_10s))\n",
    "    probability_of_100s = (probability_of_100**hit_100s*(1-probability_of_100)**(num_tracts_per_type-hit_100s))\n",
    "    probability = probability_10s*probability_of_100s\n",
    "    probabilities.append(probability)\n",
    "\n",
    "    bpr_denominator = min(K,hit_100s)*100\n",
    "    if K - hit_100s > 0:\n",
    "        bpr_denominator += min(hit_10s, K-hit_100s)*10\n",
    "    if K -hit_100s-hit_10s>0:\n",
    "        bpr_denominator += (K-hit_100s-hit_10s)*7 \n",
    "\n",
    "    pick_7_bprs.append(K*7/bpr_denominator)\n",
    "    pick_10_bprs.append(10*picked_10s/bpr_denominator)\n",
    "    pick_100_bprs.append(100*picked_100s/bpr_denominator)\n",
    "\n",
    "print(f'E[%BPR] for pick 7: {np.sum(pick_7_bprs*np.array(probabilities))*100:.2f}')\n",
    "print(f'E[%BPR] for pick 10: {np.sum(pick_10_bprs*np.array(probabilities))*100:.2f}')\n",
    "print(f'E[%BPR] for pick 100: {np.sum(pick_100_bprs*np.array(probabilities))*100:.2f}')"
   ]
  },
  {
   "cell_type": "code",
   "execution_count": null,
   "metadata": {},
   "outputs": [],
   "source": []
  }
 ],
 "metadata": {
  "kernelspec": {
   "display_name": "pip_k2_tf",
   "language": "python",
   "name": "python3"
  },
  "language_info": {
   "codemirror_mode": {
    "name": "ipython",
    "version": 3
   },
   "file_extension": ".py",
   "mimetype": "text/x-python",
   "name": "python",
   "nbconvert_exporter": "python",
   "pygments_lexer": "ipython3",
   "version": "3.11.7"
  }
 },
 "nbformat": 4,
 "nbformat_minor": 2
}
