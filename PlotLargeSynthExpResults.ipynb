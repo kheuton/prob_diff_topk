{
 "cells": [
  {
   "cell_type": "code",
   "execution_count": null,
   "metadata": {},
   "outputs": [],
   "source": [
    "%load_ext autoreload\n",
    "%autoreload 2\n",
    "import numpy as np\n",
    "import torch \n",
    "import os\n",
    "import glob\n",
    "from matplotlib import pyplot as plt\n",
    "import os\n",
    "import torch\n",
    "import collections\n",
    "# Cd to code\n",
    "import os\n",
    "import sys\n",
    "os.chdir('/cluster/home/kheuto01/code/prob_diff_topk')\n",
    "sys.path.append('/cluster/home/kheuto01/code/prob_diff_topk')\n",
    "\n",
    "from datasets import example_datasets, to_numpy\n",
    "from torch_models import  MixtureOfTruncNormModel, torch_bpr_uncurried, deterministic_bpr, SpatialWaves\n",
    "from torch_perturb.torch_pert_topk import PerturbedTopK\n",
    "from distributions import QuantizedNormal\n",
    "\n"
   ]
  },
  {
   "cell_type": "code",
   "execution_count": null,
   "metadata": {},
   "outputs": [],
   "source": [
    "base_dir = '/cluster/tufts/hugheslab/kheuto01/large_synth_4000'\n",
    "exps = glob.glob(base_dir + '/*')\n",
    "len(exps)"
   ]
  },
  {
   "cell_type": "code",
   "execution_count": null,
   "metadata": {},
   "outputs": [],
   "source": [
    "def make_report(model, exp, data=None, title=None):\n",
    "    model.load_state_dict(torch.load(exp + '/model.pth'))\n",
    "    losses = torch.load(exp + '/losses.pth')\n",
    "    bprs = torch.load(exp + '/bprs.pth')\n",
    "    nlls = torch.load(exp + '/nlls.pth')\n",
    "\n",
    "    losses = np.array([loss.detach().numpy() for loss in losses])\n",
    "    bprs = np.array([bpr.detach().numpy() for bpr in bprs])\n",
    "    nlls = np.array([nll.detach().numpy() for nll in nlls])\n",
    "\n",
    "    \n",
    "    # Make an html page with plots of loss, bpr, nll\n",
    "    fig, ax = plt.subplots(2, 2, figsize=(10, 10))\n",
    "    ax[0, 0].plot(losses)\n",
    "    ax[0, 0].set_title('Loss')\n",
    "    ax[0, 1].plot(bprs)\n",
    "    ax[0, 1].set_title('BPR')\n",
    "    ax[1, 0].plot(nlls)\n",
    "    ax[1, 0].set_title('NLL')\n",
    "    if data is not None:\n",
    "        model.plot_learned(data=data, ax=ax[1, 1])\n",
    "    if title is not None:\n",
    "        fig.suptitle(title)\n",
    "    fig.savefig(exp + '/report.png')\n",
    "    return model\n",
    "    "
   ]
  },
  {
   "cell_type": "code",
   "execution_count": null,
   "metadata": {},
   "outputs": [],
   "source": [
    "max_bpr = 0\n",
    "for e,exp in enumerate(exps):\n",
    "\n",
    "\n",
    "\n",
    "    if e % 10 == 0:\n",
    "        print(f'Processing {e} / {len(exps)}')\n",
    "\n",
    "    # extract bw number and new number from model name\n",
    "    bw = exp.split('bw')[1].split('_')[0]\n",
    "    nw = exp.split('nw')[1].split('_')[0]\n",
    "    title = f'BPR Weight: {bw}, NLL Weight: {nw}'\n",
    "    model = SpatialWaves(num_waves=1, low=0, high=100000)\n",
    "    model = make_report(model, exp, None, title=title)\n",
    "    losses = torch.load(exp + '/losses.pth')\n",
    "    bprs = torch.load(exp + '/bprs.pth')\n",
    "    nlls = torch.load(exp + '/nlls.pth')\n",
    "    bpr = bprs[-1]\n",
    "    if bpr>=max_bpr:\n",
    "        max_bpr = bpr\n",
    "        best_exp = exp\n",
    "        "
   ]
  },
  {
   "cell_type": "code",
   "execution_count": null,
   "metadata": {},
   "outputs": [],
   "source": [
    "plt.imshow(lat_S.reshape(data_shape))"
   ]
  },
  {
   "cell_type": "code",
   "execution_count": null,
   "metadata": {},
   "outputs": [],
   "source": [
    "time_T = torch.tensor(time_T, dtype=torch.float32)\n",
    "lat_S = torch.tensor(lat_S, dtype=torch.float32)\n",
    "lon_S = torch.tensor(lon_S, dtype=torch.float32)\n",
    "pop_S = torch.tensor(pop_S, dtype=torch.float32)\n",
    "S = pop_S.shape[0]\n",
    "T = time_T.shape[0]\n",
    "W = 2"
   ]
  },
  {
   "cell_type": "code",
   "execution_count": null,
   "metadata": {},
   "outputs": [],
   "source": [
    "times_by_score = {'50':{'50':[], '100':[], '200':[]}, '100':{'50':[], '100':[], '200':[]}, '200':{'50':[], '100':[], '200':[]}}\n",
    "for e,exp in enumerate(exps):\n",
    "    losses = torch.load(exp + '/losses.pth')\n",
    "    bprs = torch.load(exp + '/bprs.pth')\n",
    "    nlls = torch.load(exp + '/nlls.pth')\n",
    "    times = torch.load(exp + '/times.pth')\n",
    "\n",
    "    losses = np.array([loss.detach().numpy() for loss in losses])\n",
    "    bprs = np.array([bpr.detach().numpy() for bpr in bprs])\n",
    "    nlls = np.array([nll.detach().numpy() for nll in nlls])\n",
    "    try:\n",
    "        nss = exp.split('nss')[1].split('_')[0]\n",
    "        nps = exp.split('nps')[1].split('_')[0]\n",
    "\n",
    "        mean_time = np.mean(times)\n",
    "        num= len(times)\n",
    "        if num>500:\n",
    "            times_by_score[nss][nps].append(mean_time)\n",
    "            print(f'Nss: {nss}, Nps: {nps}, Mean Time: {mean_time}, num:{len(times)} exp: {exp}')\n",
    "    except:\n",
    "        continue"
   ]
  }
 ],
 "metadata": {
  "language_info": {
   "name": "python"
  }
 },
 "nbformat": 4,
 "nbformat_minor": 2
}
