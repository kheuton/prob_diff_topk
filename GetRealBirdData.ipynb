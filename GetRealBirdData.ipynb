{
 "cells": [
  {
   "cell_type": "code",
   "execution_count": 1,
   "metadata": {},
   "outputs": [],
   "source": [
    "%load_ext autoreload\n",
    "%autoreload 2\n",
    "import numpy as np\n",
    "import pandas as pd\n",
    "from pandas import IndexSlice as idx\n",
    "import geopandas as gpd\n",
    "import os\n",
    "\n"
   ]
  },
  {
   "cell_type": "code",
   "execution_count": 51,
   "metadata": {},
   "outputs": [],
   "source": [
    "data_dir = '/cluster/tufts/hugheslab/datasets/bird/asurv/asurv-gps-data/gps'\n",
    "data_dir = '/cluster/home/kheuto01/code/data_for_bird_forecasting/gps/2009_to_2018_monthly_500M'\n",
    "gps_path = os.path.join(data_dir, 'gps_2009_to_2018.csv')\n",
    "gps_path = os.path.join(data_dir, 'gps_2009_to_2018_monthly_500M_clipped.csv')\n",
    "df = pd.read_csv(gps_path)"
   ]
  },
  {
   "cell_type": "code",
   "execution_count": 52,
   "metadata": {},
   "outputs": [
    {
     "data": {
      "text/plain": [
       "(12576, 3)"
      ]
     },
     "execution_count": 52,
     "metadata": {},
     "output_type": "execute_result"
    }
   ],
   "source": [
    "df.groupby(['lat', 'long']).sum().shape"
   ]
  },
  {
   "cell_type": "code",
   "execution_count": 53,
   "metadata": {},
   "outputs": [],
   "source": [
    "# make a column with a unique integer ID for every different lat lon combination\n",
    "df['lat_lon_id'] = df.groupby(['lat', 'long']).ngroup()"
   ]
  },
  {
   "cell_type": "code",
   "execution_count": 54,
   "metadata": {},
   "outputs": [
    {
     "data": {
      "text/plain": [
       "12575"
      ]
     },
     "execution_count": 54,
     "metadata": {},
     "output_type": "execute_result"
    }
   ],
   "source": [
    "df['lat_lon_id'].max()"
   ]
  },
  {
   "cell_type": "code",
   "execution_count": 55,
   "metadata": {},
   "outputs": [],
   "source": [
    "# make a column with a unique integer ID for every different lat lon combination\n",
    "df['month_id'] = df.groupby(['month_name']).ngroup()"
   ]
  },
  {
   "cell_type": "code",
   "execution_count": 5,
   "metadata": {},
   "outputs": [
    {
     "ename": "KeyError",
     "evalue": "'geometry'",
     "output_type": "error",
     "traceback": [
      "\u001b[0;31m---------------------------------------------------------------------------\u001b[0m",
      "\u001b[0;31mKeyError\u001b[0m                                  Traceback (most recent call last)",
      "File \u001b[0;32m/cluster/tufts/hugheslab/kheuto01/mambaforge/envs/pip_k3/lib/python3.11/site-packages/pandas/core/indexes/base.py:3791\u001b[0m, in \u001b[0;36mIndex.get_loc\u001b[0;34m(self, key)\u001b[0m\n\u001b[1;32m   3790\u001b[0m \u001b[38;5;28;01mtry\u001b[39;00m:\n\u001b[0;32m-> 3791\u001b[0m     \u001b[38;5;28;01mreturn\u001b[39;00m \u001b[38;5;28;43mself\u001b[39;49m\u001b[38;5;241;43m.\u001b[39;49m\u001b[43m_engine\u001b[49m\u001b[38;5;241;43m.\u001b[39;49m\u001b[43mget_loc\u001b[49m\u001b[43m(\u001b[49m\u001b[43mcasted_key\u001b[49m\u001b[43m)\u001b[49m\n\u001b[1;32m   3792\u001b[0m \u001b[38;5;28;01mexcept\u001b[39;00m \u001b[38;5;167;01mKeyError\u001b[39;00m \u001b[38;5;28;01mas\u001b[39;00m err:\n",
      "File \u001b[0;32mindex.pyx:152\u001b[0m, in \u001b[0;36mpandas._libs.index.IndexEngine.get_loc\u001b[0;34m()\u001b[0m\n",
      "File \u001b[0;32mindex.pyx:181\u001b[0m, in \u001b[0;36mpandas._libs.index.IndexEngine.get_loc\u001b[0;34m()\u001b[0m\n",
      "File \u001b[0;32mpandas/_libs/hashtable_class_helper.pxi:7080\u001b[0m, in \u001b[0;36mpandas._libs.hashtable.PyObjectHashTable.get_item\u001b[0;34m()\u001b[0m\n",
      "File \u001b[0;32mpandas/_libs/hashtable_class_helper.pxi:7088\u001b[0m, in \u001b[0;36mpandas._libs.hashtable.PyObjectHashTable.get_item\u001b[0;34m()\u001b[0m\n",
      "\u001b[0;31mKeyError\u001b[0m: 'geometry'",
      "\nThe above exception was the direct cause of the following exception:\n",
      "\u001b[0;31mKeyError\u001b[0m                                  Traceback (most recent call last)",
      "Cell \u001b[0;32mIn[5], line 2\u001b[0m\n\u001b[1;32m      1\u001b[0m \u001b[38;5;66;03m# make a column with a unique integer ID for every different value of the 'geometry' column\u001b[39;00m\n\u001b[0;32m----> 2\u001b[0m df[\u001b[38;5;124m'\u001b[39m\u001b[38;5;124mgeometry_id\u001b[39m\u001b[38;5;124m'\u001b[39m] \u001b[38;5;241m=\u001b[39m \u001b[43mdf\u001b[49m\u001b[43m[\u001b[49m\u001b[38;5;124;43m'\u001b[39;49m\u001b[38;5;124;43mgeometry\u001b[39;49m\u001b[38;5;124;43m'\u001b[39;49m\u001b[43m]\u001b[49m\u001b[38;5;241m.\u001b[39mfactorize()[\u001b[38;5;241m0\u001b[39m]\n",
      "File \u001b[0;32m/cluster/tufts/hugheslab/kheuto01/mambaforge/envs/pip_k3/lib/python3.11/site-packages/pandas/core/frame.py:3893\u001b[0m, in \u001b[0;36mDataFrame.__getitem__\u001b[0;34m(self, key)\u001b[0m\n\u001b[1;32m   3891\u001b[0m \u001b[38;5;28;01mif\u001b[39;00m \u001b[38;5;28mself\u001b[39m\u001b[38;5;241m.\u001b[39mcolumns\u001b[38;5;241m.\u001b[39mnlevels \u001b[38;5;241m>\u001b[39m \u001b[38;5;241m1\u001b[39m:\n\u001b[1;32m   3892\u001b[0m     \u001b[38;5;28;01mreturn\u001b[39;00m \u001b[38;5;28mself\u001b[39m\u001b[38;5;241m.\u001b[39m_getitem_multilevel(key)\n\u001b[0;32m-> 3893\u001b[0m indexer \u001b[38;5;241m=\u001b[39m \u001b[38;5;28;43mself\u001b[39;49m\u001b[38;5;241;43m.\u001b[39;49m\u001b[43mcolumns\u001b[49m\u001b[38;5;241;43m.\u001b[39;49m\u001b[43mget_loc\u001b[49m\u001b[43m(\u001b[49m\u001b[43mkey\u001b[49m\u001b[43m)\u001b[49m\n\u001b[1;32m   3894\u001b[0m \u001b[38;5;28;01mif\u001b[39;00m is_integer(indexer):\n\u001b[1;32m   3895\u001b[0m     indexer \u001b[38;5;241m=\u001b[39m [indexer]\n",
      "File \u001b[0;32m/cluster/tufts/hugheslab/kheuto01/mambaforge/envs/pip_k3/lib/python3.11/site-packages/pandas/core/indexes/base.py:3798\u001b[0m, in \u001b[0;36mIndex.get_loc\u001b[0;34m(self, key)\u001b[0m\n\u001b[1;32m   3793\u001b[0m     \u001b[38;5;28;01mif\u001b[39;00m \u001b[38;5;28misinstance\u001b[39m(casted_key, \u001b[38;5;28mslice\u001b[39m) \u001b[38;5;129;01mor\u001b[39;00m (\n\u001b[1;32m   3794\u001b[0m         \u001b[38;5;28misinstance\u001b[39m(casted_key, abc\u001b[38;5;241m.\u001b[39mIterable)\n\u001b[1;32m   3795\u001b[0m         \u001b[38;5;129;01mand\u001b[39;00m \u001b[38;5;28many\u001b[39m(\u001b[38;5;28misinstance\u001b[39m(x, \u001b[38;5;28mslice\u001b[39m) \u001b[38;5;28;01mfor\u001b[39;00m x \u001b[38;5;129;01min\u001b[39;00m casted_key)\n\u001b[1;32m   3796\u001b[0m     ):\n\u001b[1;32m   3797\u001b[0m         \u001b[38;5;28;01mraise\u001b[39;00m InvalidIndexError(key)\n\u001b[0;32m-> 3798\u001b[0m     \u001b[38;5;28;01mraise\u001b[39;00m \u001b[38;5;167;01mKeyError\u001b[39;00m(key) \u001b[38;5;28;01mfrom\u001b[39;00m \u001b[38;5;21;01merr\u001b[39;00m\n\u001b[1;32m   3799\u001b[0m \u001b[38;5;28;01mexcept\u001b[39;00m \u001b[38;5;167;01mTypeError\u001b[39;00m:\n\u001b[1;32m   3800\u001b[0m     \u001b[38;5;66;03m# If we have a listlike key, _check_indexing_error will raise\u001b[39;00m\n\u001b[1;32m   3801\u001b[0m     \u001b[38;5;66;03m#  InvalidIndexError. Otherwise we fall through and re-raise\u001b[39;00m\n\u001b[1;32m   3802\u001b[0m     \u001b[38;5;66;03m#  the TypeError.\u001b[39;00m\n\u001b[1;32m   3803\u001b[0m     \u001b[38;5;28mself\u001b[39m\u001b[38;5;241m.\u001b[39m_check_indexing_error(key)\n",
      "\u001b[0;31mKeyError\u001b[0m: 'geometry'"
     ]
    }
   ],
   "source": [
    "# make a column with a unique integer ID for every different value of the 'geometry' column\n",
    "df['geometry_id'] = df['geometry'].factorize()[0]"
   ]
  },
  {
   "cell_type": "code",
   "execution_count": 10,
   "metadata": {},
   "outputs": [
    {
     "ename": "AttributeError",
     "evalue": "'DataFrame' object has no attribute 'geometry_id'",
     "output_type": "error",
     "traceback": [
      "\u001b[0;31m---------------------------------------------------------------------------\u001b[0m",
      "\u001b[0;31mAttributeError\u001b[0m                            Traceback (most recent call last)",
      "\u001b[0;32m/tmp/ipykernel_2875047/3578070351.py\u001b[0m in \u001b[0;36m?\u001b[0;34m()\u001b[0m\n\u001b[1;32m      1\u001b[0m \u001b[0;31m# assert that id's are functionally equivalent\u001b[0m\u001b[0;34m\u001b[0m\u001b[0;34m\u001b[0m\u001b[0m\n\u001b[0;32m----> 2\u001b[0;31m \u001b[0;32massert\u001b[0m \u001b[0mdf\u001b[0m\u001b[0;34m.\u001b[0m\u001b[0mlat_lon_id\u001b[0m\u001b[0;34m.\u001b[0m\u001b[0mnunique\u001b[0m\u001b[0;34m(\u001b[0m\u001b[0;34m)\u001b[0m \u001b[0;34m==\u001b[0m \u001b[0mdf\u001b[0m\u001b[0;34m.\u001b[0m\u001b[0mgeometry_id\u001b[0m\u001b[0;34m.\u001b[0m\u001b[0mnunique\u001b[0m\u001b[0;34m(\u001b[0m\u001b[0;34m)\u001b[0m\u001b[0;34m\u001b[0m\u001b[0;34m\u001b[0m\u001b[0m\n\u001b[0m\u001b[1;32m      3\u001b[0m \u001b[0;31m# assert that the size of each individual group of each index is the same\u001b[0m\u001b[0;34m\u001b[0m\u001b[0;34m\u001b[0m\u001b[0m\n\u001b[1;32m      4\u001b[0m \u001b[0;32massert\u001b[0m \u001b[0mall\u001b[0m\u001b[0;34m(\u001b[0m\u001b[0mdf\u001b[0m\u001b[0;34m.\u001b[0m\u001b[0mgroupby\u001b[0m\u001b[0;34m(\u001b[0m\u001b[0;34m'lat_lon_id'\u001b[0m\u001b[0;34m)\u001b[0m\u001b[0;34m.\u001b[0m\u001b[0msize\u001b[0m\u001b[0;34m(\u001b[0m\u001b[0;34m)\u001b[0m \u001b[0;34m==\u001b[0m \u001b[0mdf\u001b[0m\u001b[0;34m.\u001b[0m\u001b[0mgroupby\u001b[0m\u001b[0;34m(\u001b[0m\u001b[0;34m'geometry_id'\u001b[0m\u001b[0;34m)\u001b[0m\u001b[0;34m.\u001b[0m\u001b[0msize\u001b[0m\u001b[0;34m(\u001b[0m\u001b[0;34m)\u001b[0m\u001b[0;34m)\u001b[0m\u001b[0;34m\u001b[0m\u001b[0;34m\u001b[0m\u001b[0m\n",
      "\u001b[0;32m/cluster/tufts/hugheslab/kheuto01/mambaforge/envs/pip_k3/lib/python3.11/site-packages/pandas/core/generic.py\u001b[0m in \u001b[0;36m?\u001b[0;34m(self, name)\u001b[0m\n\u001b[1;32m   6200\u001b[0m             \u001b[0;32mand\u001b[0m \u001b[0mname\u001b[0m \u001b[0;32mnot\u001b[0m \u001b[0;32min\u001b[0m \u001b[0mself\u001b[0m\u001b[0;34m.\u001b[0m\u001b[0m_accessors\u001b[0m\u001b[0;34m\u001b[0m\u001b[0;34m\u001b[0m\u001b[0m\n\u001b[1;32m   6201\u001b[0m             \u001b[0;32mand\u001b[0m \u001b[0mself\u001b[0m\u001b[0;34m.\u001b[0m\u001b[0m_info_axis\u001b[0m\u001b[0;34m.\u001b[0m\u001b[0m_can_hold_identifiers_and_holds_name\u001b[0m\u001b[0;34m(\u001b[0m\u001b[0mname\u001b[0m\u001b[0;34m)\u001b[0m\u001b[0;34m\u001b[0m\u001b[0;34m\u001b[0m\u001b[0m\n\u001b[1;32m   6202\u001b[0m         ):\n\u001b[1;32m   6203\u001b[0m             \u001b[0;32mreturn\u001b[0m \u001b[0mself\u001b[0m\u001b[0;34m[\u001b[0m\u001b[0mname\u001b[0m\u001b[0;34m]\u001b[0m\u001b[0;34m\u001b[0m\u001b[0;34m\u001b[0m\u001b[0m\n\u001b[0;32m-> 6204\u001b[0;31m         \u001b[0;32mreturn\u001b[0m \u001b[0mobject\u001b[0m\u001b[0;34m.\u001b[0m\u001b[0m__getattribute__\u001b[0m\u001b[0;34m(\u001b[0m\u001b[0mself\u001b[0m\u001b[0;34m,\u001b[0m \u001b[0mname\u001b[0m\u001b[0;34m)\u001b[0m\u001b[0;34m\u001b[0m\u001b[0;34m\u001b[0m\u001b[0m\n\u001b[0m",
      "\u001b[0;31mAttributeError\u001b[0m: 'DataFrame' object has no attribute 'geometry_id'"
     ]
    }
   ],
   "source": [
    "# assert that id's are functionally equivalent\n",
    "assert df.lat_lon_id.nunique() == df.geometry_id.nunique()\n",
    "# assert that the size of each individual group of each index is the same\n",
    "assert all(df.groupby('lat_lon_id').size() == df.groupby('geometry_id').size())"
   ]
  },
  {
   "cell_type": "code",
   "execution_count": 56,
   "metadata": {},
   "outputs": [],
   "source": [
    "# drop geometry column\n",
    "#df = df.drop(columns='geometry')\n",
    "# rename an id to 'geoid', drop the other one\n",
    "df = df.rename(columns={'lat_lon_id': 'geoid'})#.drop(columns='lat_lon_id')\n",
    "# rename week_id to timestep\n",
    "df = df.rename(columns={'month_id': 'timestep'})\n",
    "# set index on geoid and timestep  and make a column called timestep with the same value\n",
    "df = df.set_index(['geoid', 'timestep']).assign(timestep=lambda x: x.index.get_level_values('timestep')).sort_index()"
   ]
  },
  {
   "cell_type": "code",
   "execution_count": 47,
   "metadata": {},
   "outputs": [
    {
     "data": {
      "text/plain": [
       "(1358208, 14)"
      ]
     },
     "execution_count": 47,
     "metadata": {},
     "output_type": "execute_result"
    }
   ],
   "source": []
  },
  {
   "cell_type": "code",
   "execution_count": 57,
   "metadata": {},
   "outputs": [],
   "source": [
    "# create columns that contain the previous count values in this geoid for the prior 10 weeks, filling with 0 if no value exists\n",
    "for i in range(1, 11):\n",
    "    df[f'count_lag_{i}'] = df.groupby('geoid')['counts'].shift(i).fillna(0)"
   ]
  },
  {
   "cell_type": "code",
   "execution_count": 58,
   "metadata": {},
   "outputs": [],
   "source": [
    "# find geoid and timestep with largest count\n",
    "max_count = df['counts'].idxmax()\n",
    "max_count_geoid = max_count[0]\n",
    "max_count_timestep = max_count[1]\n"
   ]
  },
  {
   "cell_type": "code",
   "execution_count": 59,
   "metadata": {},
   "outputs": [
    {
     "data": {
      "text/plain": [
       "72"
      ]
     },
     "execution_count": 59,
     "metadata": {},
     "output_type": "execute_result"
    }
   ],
   "source": [
    "max_count_timestep"
   ]
  },
  {
   "cell_type": "code",
   "execution_count": 60,
   "metadata": {},
   "outputs": [
    {
     "name": "stdout",
     "output_type": "stream",
     "text": [
      "counts                             311.0\n",
      "month_name      2015-11-30_to_2015-12-31\n",
      "lat                            28.187425\n",
      "long                          -96.866061\n",
      "timestep                              72\n",
      "count_lag_1                         65.0\n",
      "count_lag_2                         13.0\n",
      "count_lag_3                          0.0\n",
      "count_lag_4                          0.0\n",
      "count_lag_5                          0.0\n",
      "count_lag_6                          0.0\n",
      "count_lag_7                          0.0\n",
      "count_lag_8                         57.0\n",
      "count_lag_9                        125.0\n",
      "count_lag_10                        12.0\n",
      "Name: (3326, 72), dtype: object\n"
     ]
    }
   ],
   "source": [
    "# show lags ahead of the max count and prove they match\n",
    "print(df.loc[max_count_geoid, 72])"
   ]
  },
  {
   "cell_type": "code",
   "execution_count": 61,
   "metadata": {},
   "outputs": [
    {
     "data": {
      "text/plain": [
       "<Axes: xlabel='timestep'>"
      ]
     },
     "execution_count": 61,
     "metadata": {},
     "output_type": "execute_result"
    },
    {
     "data": {
      "image/png": "[encoded data removed]",
      "text/plain": [
       "<Figure size 640x480 with 1 Axes>"
      ]
     },
     "metadata": {},
     "output_type": "display_data"
    }
   ],
   "source": [
    "#plot total counts by timestep index\n",
    "timestep_counts = df.rename(columns={'timestep':'t1'}).groupby('timestep')['counts'].sum()\n",
    "timestep_counts.plot()"
   ]
  },
  {
   "cell_type": "code",
   "execution_count": 39,
   "metadata": {},
   "outputs": [
    {
     "ename": "KeyError",
     "evalue": "333",
     "output_type": "error",
     "traceback": [
      "\u001b[0;31m---------------------------------------------------------------------------\u001b[0m",
      "\u001b[0;31mKeyError\u001b[0m                                  Traceback (most recent call last)",
      "File \u001b[0;32m/cluster/tufts/hugheslab/kheuto01/mambaforge/envs/pip_k3/lib/python3.11/site-packages/pandas/core/indexes/base.py:3791\u001b[0m, in \u001b[0;36mIndex.get_loc\u001b[0;34m(self, key)\u001b[0m\n\u001b[1;32m   3790\u001b[0m \u001b[38;5;28;01mtry\u001b[39;00m:\n\u001b[0;32m-> 3791\u001b[0m     \u001b[38;5;28;01mreturn\u001b[39;00m \u001b[38;5;28;43mself\u001b[39;49m\u001b[38;5;241;43m.\u001b[39;49m\u001b[43m_engine\u001b[49m\u001b[38;5;241;43m.\u001b[39;49m\u001b[43mget_loc\u001b[49m\u001b[43m(\u001b[49m\u001b[43mcasted_key\u001b[49m\u001b[43m)\u001b[49m\n\u001b[1;32m   3792\u001b[0m \u001b[38;5;28;01mexcept\u001b[39;00m \u001b[38;5;167;01mKeyError\u001b[39;00m \u001b[38;5;28;01mas\u001b[39;00m err:\n",
      "File \u001b[0;32mindex.pyx:152\u001b[0m, in \u001b[0;36mpandas._libs.index.IndexEngine.get_loc\u001b[0;34m()\u001b[0m\n",
      "File \u001b[0;32mindex.pyx:181\u001b[0m, in \u001b[0;36mpandas._libs.index.IndexEngine.get_loc\u001b[0;34m()\u001b[0m\n",
      "File \u001b[0;32mpandas/_libs/hashtable_class_helper.pxi:2606\u001b[0m, in \u001b[0;36mpandas._libs.hashtable.Int64HashTable.get_item\u001b[0;34m()\u001b[0m\n",
      "File \u001b[0;32mpandas/_libs/hashtable_class_helper.pxi:2630\u001b[0m, in \u001b[0;36mpandas._libs.hashtable.Int64HashTable.get_item\u001b[0;34m()\u001b[0m\n",
      "\u001b[0;31mKeyError\u001b[0m: 333",
      "\nThe above exception was the direct cause of the following exception:\n",
      "\u001b[0;31mKeyError\u001b[0m                                  Traceback (most recent call last)",
      "Cell \u001b[0;32mIn[39], line 1\u001b[0m\n\u001b[0;32m----> 1\u001b[0m \u001b[43mtimestep_counts\u001b[49m\u001b[43m[\u001b[49m\u001b[38;5;241;43m333\u001b[39;49m\u001b[43m]\u001b[49m\n",
      "File \u001b[0;32m/cluster/tufts/hugheslab/kheuto01/mambaforge/envs/pip_k3/lib/python3.11/site-packages/pandas/core/series.py:1040\u001b[0m, in \u001b[0;36mSeries.__getitem__\u001b[0;34m(self, key)\u001b[0m\n\u001b[1;32m   1037\u001b[0m     \u001b[38;5;28;01mreturn\u001b[39;00m \u001b[38;5;28mself\u001b[39m\u001b[38;5;241m.\u001b[39m_values[key]\n\u001b[1;32m   1039\u001b[0m \u001b[38;5;28;01melif\u001b[39;00m key_is_scalar:\n\u001b[0;32m-> 1040\u001b[0m     \u001b[38;5;28;01mreturn\u001b[39;00m \u001b[38;5;28;43mself\u001b[39;49m\u001b[38;5;241;43m.\u001b[39;49m\u001b[43m_get_value\u001b[49m\u001b[43m(\u001b[49m\u001b[43mkey\u001b[49m\u001b[43m)\u001b[49m\n\u001b[1;32m   1042\u001b[0m \u001b[38;5;66;03m# Convert generator to list before going through hashable part\u001b[39;00m\n\u001b[1;32m   1043\u001b[0m \u001b[38;5;66;03m# (We will iterate through the generator there to check for slices)\u001b[39;00m\n\u001b[1;32m   1044\u001b[0m \u001b[38;5;28;01mif\u001b[39;00m is_iterator(key):\n",
      "File \u001b[0;32m/cluster/tufts/hugheslab/kheuto01/mambaforge/envs/pip_k3/lib/python3.11/site-packages/pandas/core/series.py:1156\u001b[0m, in \u001b[0;36mSeries._get_value\u001b[0;34m(self, label, takeable)\u001b[0m\n\u001b[1;32m   1153\u001b[0m     \u001b[38;5;28;01mreturn\u001b[39;00m \u001b[38;5;28mself\u001b[39m\u001b[38;5;241m.\u001b[39m_values[label]\n\u001b[1;32m   1155\u001b[0m \u001b[38;5;66;03m# Similar to Index.get_value, but we do not fall back to positional\u001b[39;00m\n\u001b[0;32m-> 1156\u001b[0m loc \u001b[38;5;241m=\u001b[39m \u001b[38;5;28;43mself\u001b[39;49m\u001b[38;5;241;43m.\u001b[39;49m\u001b[43mindex\u001b[49m\u001b[38;5;241;43m.\u001b[39;49m\u001b[43mget_loc\u001b[49m\u001b[43m(\u001b[49m\u001b[43mlabel\u001b[49m\u001b[43m)\u001b[49m\n\u001b[1;32m   1158\u001b[0m \u001b[38;5;28;01mif\u001b[39;00m is_integer(loc):\n\u001b[1;32m   1159\u001b[0m     \u001b[38;5;28;01mreturn\u001b[39;00m \u001b[38;5;28mself\u001b[39m\u001b[38;5;241m.\u001b[39m_values[loc]\n",
      "File \u001b[0;32m/cluster/tufts/hugheslab/kheuto01/mambaforge/envs/pip_k3/lib/python3.11/site-packages/pandas/core/indexes/base.py:3798\u001b[0m, in \u001b[0;36mIndex.get_loc\u001b[0;34m(self, key)\u001b[0m\n\u001b[1;32m   3793\u001b[0m     \u001b[38;5;28;01mif\u001b[39;00m \u001b[38;5;28misinstance\u001b[39m(casted_key, \u001b[38;5;28mslice\u001b[39m) \u001b[38;5;129;01mor\u001b[39;00m (\n\u001b[1;32m   3794\u001b[0m         \u001b[38;5;28misinstance\u001b[39m(casted_key, abc\u001b[38;5;241m.\u001b[39mIterable)\n\u001b[1;32m   3795\u001b[0m         \u001b[38;5;129;01mand\u001b[39;00m \u001b[38;5;28many\u001b[39m(\u001b[38;5;28misinstance\u001b[39m(x, \u001b[38;5;28mslice\u001b[39m) \u001b[38;5;28;01mfor\u001b[39;00m x \u001b[38;5;129;01min\u001b[39;00m casted_key)\n\u001b[1;32m   3796\u001b[0m     ):\n\u001b[1;32m   3797\u001b[0m         \u001b[38;5;28;01mraise\u001b[39;00m InvalidIndexError(key)\n\u001b[0;32m-> 3798\u001b[0m     \u001b[38;5;28;01mraise\u001b[39;00m \u001b[38;5;167;01mKeyError\u001b[39;00m(key) \u001b[38;5;28;01mfrom\u001b[39;00m \u001b[38;5;21;01merr\u001b[39;00m\n\u001b[1;32m   3799\u001b[0m \u001b[38;5;28;01mexcept\u001b[39;00m \u001b[38;5;167;01mTypeError\u001b[39;00m:\n\u001b[1;32m   3800\u001b[0m     \u001b[38;5;66;03m# If we have a listlike key, _check_indexing_error will raise\u001b[39;00m\n\u001b[1;32m   3801\u001b[0m     \u001b[38;5;66;03m#  InvalidIndexError. Otherwise we fall through and re-raise\u001b[39;00m\n\u001b[1;32m   3802\u001b[0m     \u001b[38;5;66;03m#  the TypeError.\u001b[39;00m\n\u001b[1;32m   3803\u001b[0m     \u001b[38;5;28mself\u001b[39m\u001b[38;5;241m.\u001b[39m_check_indexing_error(key)\n",
      "\u001b[0;31mKeyError\u001b[0m: 333"
     ]
    }
   ],
   "source": [
    "timestep_counts[333]"
   ]
  },
  {
   "cell_type": "code",
   "execution_count": 62,
   "metadata": {},
   "outputs": [],
   "source": [
    "train_timesteps = list(range(1, 35))\n",
    "val_timesteps = list(range(35, 42))\n",
    "test_timesteps = list(range(42, 70))"
   ]
  },
  {
   "cell_type": "code",
   "execution_count": 63,
   "metadata": {},
   "outputs": [],
   "source": [
    "# drop weekname column\n",
    "df = df.drop(columns='month_name')"
   ]
  },
  {
   "cell_type": "code",
   "execution_count": 64,
   "metadata": {},
   "outputs": [],
   "source": [
    "geoids = sorted(df.index.get_level_values('geoid').unique())"
   ]
  },
  {
   "cell_type": "code",
   "execution_count": 65,
   "metadata": {},
   "outputs": [
    {
     "data": {
      "text/plain": [
       "12576"
      ]
     },
     "execution_count": 65,
     "metadata": {},
     "output_type": "execute_result"
    }
   ],
   "source": [
    "len(geoids)"
   ]
  },
  {
   "cell_type": "code",
   "execution_count": 67,
   "metadata": {},
   "outputs": [],
   "source": [
    "# save train, val, test data\n",
    "# no counts in X files\n",
    "# counts only in y files\n",
    "df.loc[idx[:, train_timesteps], :].drop(columns='counts').to_csv('bird_train_x.csv')\n",
    "df.loc[idx[:, train_timesteps], 'counts'].to_csv('bird_train_y.csv')\n",
    "df.loc[idx[:, val_timesteps], :].drop(columns='counts').to_csv('bird_valid_x.csv')\n",
    "df.loc[idx[:, val_timesteps], 'counts'].to_csv('bird_valid_y.csv')\n",
    "df.loc[idx[:, test_timesteps], :].drop(columns='counts').to_csv('bird_test_x.csv')\n",
    "df.loc[idx[:, test_timesteps], 'counts'].to_csv('bird_test_y.csv')"
   ]
  },
  {
   "cell_type": "code",
   "execution_count": 66,
   "metadata": {},
   "outputs": [
    {
     "data": {
      "text/plain": [
       "12576"
      ]
     },
     "execution_count": 66,
     "metadata": {},
     "output_type": "execute_result"
    }
   ],
   "source": [
    "# get unique geoids from df\n",
    "geoids = df.index.get_level_values('geoid').unique()\n",
    "len(geoids)"
   ]
  },
  {
   "cell_type": "code",
   "execution_count": 2,
   "metadata": {},
   "outputs": [],
   "source": [
    "def load_xy_splits(\n",
    "        data_dir = os.environ.get('DATA_DIR'),\n",
    "        timescale='year',\n",
    "        csv_pattern_str='cook_county_gdf_cleanwithsvi_{timescale}.csv',\n",
    "        timestep_col='timestep',\n",
    "        geography_col='geoid',\n",
    "        outcome_col='deaths',\n",
    "        year_col='year',\n",
    "        context_size_in_tsteps=3,\n",
    "        train_years=[2017, 2018, 2019],\n",
    "        valid_years=[2020],\n",
    "        test_years=[2021, 2022],\n",
    "        space_cols=LATLON_COLS,\n",
    "        svi_cols=SVI_COLS,\n",
    "        add_space=True,\n",
    "        add_time=True,\n",
    "        add_svi=True,\n",
    "        **kwargs\n",
    "        ):\n",
    "    all_df = gpd.read_file(os.path.join(\n",
    "        data_dir, csv_pattern_str.format(timescale=timescale)))\n",
    "\n",
    "    x_cols_only = []\n",
    "    if add_space:\n",
    "        x_cols_only += space_cols\n",
    "    if add_time:\n",
    "        x_cols_only += [timestep_col]\n",
    "    if add_svi:\n",
    "        x_cols_only += svi_cols\n",
    "    y_cols_only = ['deaths']\n",
    "    info_cols_only = [year_col]\n",
    "\n",
    "    # Create the multiindex, reinserting timestep as a col not just index\n",
    "    all_df = all_df.astype({geography_col: int, timestep_col: int})\n",
    "    mi_df = all_df.set_index([geography_col, timestep_col])\n",
    "    mi_df[timestep_col] = mi_df.index.get_level_values(timestep_col)\n",
    "\n",
    "    x_df = mi_df[x_cols_only].copy()\n",
    "    y_df = mi_df[y_cols_only].copy()\n",
    "    info_df = mi_df[info_cols_only].copy()\n",
    "\n",
    "    tr_years = np.sort(np.unique(np.asarray(train_years)))\n",
    "    va_years = np.sort(np.unique(np.asarray(valid_years)))\n",
    "    te_years = np.sort(np.unique(np.asarray(test_years)))\n",
    "    assert np.max(tr_years) < np.min(va_years)\n",
    "    assert np.max(va_years) < np.min(te_years)\n",
    "    W = int(context_size_in_tsteps)\n",
    "\n",
    "    kws = dict(timestep_col=timestep_col,\n",
    "        year_col=year_col, outcome_col=outcome_col, \n",
    "        **kwargs)\n",
    "    tr_tup = make_x_y_i_data_with_filled_context(\n",
    "        x_df, y_df, info_df, tr_years[0], tr_years[-1], W, **kws)\n",
    "    va_tup = make_x_y_i_data_with_filled_context(\n",
    "        x_df, y_df, info_df, va_years[0], va_years[-1], W, **kws)\n",
    "    te_tup = make_x_y_i_data_with_filled_context(\n",
    "        x_df, y_df, info_df, te_years[0], te_years[-1], W, **kws)\n",
    "\n",
    "    return tr_tup, va_tup, te_tup\n",
    "\n",
    "def make_outcome_history_feat_names(W, outcome_col='deaths'):\n",
    "    return ['prev_%s_%02dback' % (outcome_col, W - ww) for ww in range(W)]\n",
    "\n",
    "def make_x_y_i_data_with_filled_context(\n",
    "        x_df, y_df, info_df,\n",
    "        first_year, last_year,\n",
    "        context_size_in_tsteps,\n",
    "        lag_in_tsteps=1,\n",
    "        how_to_handle_tstep_without_enough_context='raise_error',\n",
    "        year_col='year', timestep_col='timestep', outcome_col='deaths'):\n",
    "    \"\"\" Create x,y,i dataframes suitable for supervised learning\n",
    "\n",
    "    Fill in features in x corresponding to previously seen y vals as context\n",
    "\n",
    "    Args\n",
    "    ----\n",
    "    x_df\n",
    "    y_df\n",
    "    info_df\n",
    "    first_year : int\n",
    "        The first year to make predictions for\n",
    "    last_year : int\n",
    "        The final year (inclusive) to make predictions for\n",
    "        Can be the same as first_year\n",
    "    window_size_in_tsteps : int\n",
    "        How many timesteps of data prior to the prediction tstep to include\n",
    "    lag_in_tsteps : int\n",
    "        The number of timesteps between the outcome y and the inputs x. \n",
    "        For example, if you want 3-step-ahead predictions\n",
    "    year_col (str): The name of the column containing the year\n",
    "    timestep_col (str): The neame of the temporal index level\n",
    "    outcome_col (str): Name of column with outcome variable (deaths) we are trying to predict\n",
    "\n",
    "    Returns\n",
    "    -------\n",
    "    x_df : dataframe with shape (N, F)\n",
    "        Each entry is a valid covariate for predicting y in corresp row\n",
    "    y_df : dataframe with shape (N, 1)\n",
    "    i_df : dataframe with shape (N, K)\n",
    "        Holds \"info\" columns corresponding to rows in x,y\n",
    "    \"\"\"\n",
    "    first_year = int(first_year)\n",
    "    last_year = int(last_year)\n",
    "    assert last_year >= first_year\n",
    "    \n",
    "    L = int(lag_in_tsteps)\n",
    "    W = int(context_size_in_tsteps)\n",
    "    new_col_names = make_outcome_history_feat_names(W)\n",
    "\n",
    "    xs = []\n",
    "    ys = []\n",
    "    infos = []\n",
    "\n",
    "    # Iterate over years we want to make predictions for\n",
    "    for eval_year in range(first_year, last_year + 1):\n",
    "\n",
    "        t_index = info_df[info_df[year_col] == eval_year].index\n",
    "        timesteps_in_year = t_index.unique(level=timestep_col).values\n",
    "        timesteps_in_year = np.sort(np.unique(timesteps_in_year))\n",
    "        \n",
    "        for tt, tstep in enumerate(timesteps_in_year):\n",
    "            # Make per-tstep dataframes\n",
    "            x_tt_df = x_df.loc[idx[:, tstep], :].copy()\n",
    "            y_tt_df = y_df.loc[idx[:, tstep], :].copy()\n",
    "            info_tt_df = info_df.loc[idx[:, tstep], :].copy()\n",
    "\n",
    "            # Determine if we can get a full window of 'actual' data, or if we need to zero-pad\n",
    "            if tstep - (W + L - 1) <= 0:\n",
    "                if how_to_handle_tstep_without_enough_context == 'raise_error':\n",
    "                    raise ValueError(\"Not enough context available for tstep %d. Need at least %d previous tsteps\" % (tstep, W+L-1))\n",
    "                assert how_to_handle_tstep_without_enough_context == 'pad_with_zero'\n",
    "                WW = tstep - L\n",
    "            else:\n",
    "                WW = W\n",
    "            # Grab current tstep's history from outcomes at previous tsteps\n",
    "            xhist_N = y_df.loc[idx[:, tstep-(WW+L-1):(tstep-L)], outcome_col].values.copy()\n",
    "            N = xhist_N.shape[0]\n",
    "            M = N // WW\n",
    "            xhist_MW = xhist_N.reshape((M, WW))\n",
    "            if WW < W:\n",
    "                xhist_MW = np.hstack([ np.zeros((M, W-WW)), xhist_MW])\n",
    "            assert xhist_MW.shape[1] == W\n",
    "            for ww in range(W):\n",
    "                x_tt_df[new_col_names[ww]] = xhist_MW[:, ww]\n",
    "                \n",
    "            xs.append(x_tt_df)\n",
    "            ys.append(y_tt_df)\n",
    "            infos.append(info_tt_df)\n",
    "\n",
    "    return  DataSet(pd.concat(xs), pd.concat(ys), pd.concat(infos))"
   ]
  },
  {
   "cell_type": "code",
   "execution_count": 5,
   "metadata": {},
   "outputs": [],
   "source": [
    "tr, va, te = load_xy_splits(\n",
    "    data_dir = '/cluster/tufts/hugheslab/datasets/NSF_OD/results_202308_pipeline',\n",
    "    timescale='annual',\n",
    "    csv_pattern_str='clean_{timescale}_tract',\n",
    "    train_years=range(2005, 2018+1),\n",
    "    valid_years=[2019],\n",
    "    test_years=[2020, 2021],\n",
    "    context_size_in_tsteps=10,\n",
    "    how_to_handle_tstep_without_enough_context='pad_with_zero',\n",
    "    svi_cols=['theme_1_pc', 'theme_2_pc', 'theme_3_pc',\n",
    "                    'theme_4_pc', 'svi_pctile'],\n",
    "    space_cols=['lat', 'lon'],\n",
    "    timestep_col='timestep',\n",
    "    add_space=True,\n",
    "    add_time=True,\n",
    "    add_svi=True)"
   ]
  },
  {
   "cell_type": "code",
   "execution_count": 8,
   "metadata": {},
   "outputs": [],
   "source": [
    "tr[0].to_csv('mass_train_x.csv')\n",
    "tr[1].to_csv('mass_train_y.csv')\n",
    "\n",
    "va[0].to_csv('mass_valid_x.csv')\n",
    "va[1].to_csv('mass_valid_y.csv')\n",
    "\n",
    "te[0].to_csv('mass_test_x.csv')\n",
    "te[1].to_csv('mass_test_y.csv')"
   ]
  },
  {
   "cell_type": "code",
   "execution_count": 7,
   "metadata": {},
   "outputs": [
    {
     "data": {
      "text/html": [
       "<div>\n",
       "<style scoped>\n",
       "    .dataframe tbody tr th:only-of-type {\n",
       "        vertical-align: middle;\n",
       "    }\n",
       "\n",
       "    .dataframe tbody tr th {\n",
       "        vertical-align: top;\n",
       "    }\n",
       "\n",
       "    .dataframe thead th {\n",
       "        text-align: right;\n",
       "    }\n",
       "</style>\n",
       "<table border=\"1\" class=\"dataframe\">\n",
       "  <thead>\n",
       "    <tr style=\"text-align: right;\">\n",
       "      <th></th>\n",
       "      <th></th>\n",
       "      <th>deaths</th>\n",
       "    </tr>\n",
       "    <tr>\n",
       "      <th>geoid</th>\n",
       "      <th>timestep</th>\n",
       "      <th></th>\n",
       "    </tr>\n",
       "  </thead>\n",
       "  <tbody>\n",
       "    <tr>\n",
       "      <th>25001010100</th>\n",
       "      <th>5</th>\n",
       "      <td>2.0</td>\n",
       "    </tr>\n",
       "    <tr>\n",
       "      <th>25001010206</th>\n",
       "      <th>5</th>\n",
       "      <td>0.0</td>\n",
       "    </tr>\n",
       "    <tr>\n",
       "      <th>25001010208</th>\n",
       "      <th>5</th>\n",
       "      <td>0.0</td>\n",
       "    </tr>\n",
       "    <tr>\n",
       "      <th>25001010304</th>\n",
       "      <th>5</th>\n",
       "      <td>0.0</td>\n",
       "    </tr>\n",
       "    <tr>\n",
       "      <th>25001010306</th>\n",
       "      <th>5</th>\n",
       "      <td>0.0</td>\n",
       "    </tr>\n",
       "    <tr>\n",
       "      <th>...</th>\n",
       "      <th>...</th>\n",
       "      <td>...</td>\n",
       "    </tr>\n",
       "    <tr>\n",
       "      <th>25027761100</th>\n",
       "      <th>18</th>\n",
       "      <td>1.0</td>\n",
       "    </tr>\n",
       "    <tr>\n",
       "      <th>25027761200</th>\n",
       "      <th>18</th>\n",
       "      <td>0.0</td>\n",
       "    </tr>\n",
       "    <tr>\n",
       "      <th>25027761300</th>\n",
       "      <th>18</th>\n",
       "      <td>0.0</td>\n",
       "    </tr>\n",
       "    <tr>\n",
       "      <th>25027761401</th>\n",
       "      <th>18</th>\n",
       "      <td>0.0</td>\n",
       "    </tr>\n",
       "    <tr>\n",
       "      <th>25027761402</th>\n",
       "      <th>18</th>\n",
       "      <td>1.0</td>\n",
       "    </tr>\n",
       "  </tbody>\n",
       "</table>\n",
       "<p>22680 rows × 1 columns</p>\n",
       "</div>"
      ],
      "text/plain": [
       "                      deaths\n",
       "geoid       timestep        \n",
       "25001010100 5            2.0\n",
       "25001010206 5            0.0\n",
       "25001010208 5            0.0\n",
       "25001010304 5            0.0\n",
       "25001010306 5            0.0\n",
       "...                      ...\n",
       "25027761100 18           1.0\n",
       "25027761200 18           0.0\n",
       "25027761300 18           0.0\n",
       "25027761401 18           0.0\n",
       "25027761402 18           1.0\n",
       "\n",
       "[22680 rows x 1 columns]"
      ]
     },
     "execution_count": 7,
     "metadata": {},
     "output_type": "execute_result"
    }
   ],
   "source": [
    "tr[1]"
   ]
  },
  {
   "cell_type": "code",
   "execution_count": null,
   "metadata": {},
   "outputs": [],
   "source": [
    "# get unique geoids\n",
    "geoids = tr[0].index.get_level_values('geoid').unique()"
   ]
  }
 ],
 "metadata": {
  "kernelspec": {
   "display_name": "pip_k3",
   "language": "python",
   "name": "python3"
  },
  "language_info": {
   "codemirror_mode": {
    "name": "ipython",
    "version": 3
   },
   "file_extension": ".py",
   "mimetype": "text/x-python",
   "name": "python",
   "nbconvert_exporter": "python",
   "pygments_lexer": "ipython3",
   "version": "3.11.8"
  }
 },
 "nbformat": 4,
 "nbformat_minor": 2
}
