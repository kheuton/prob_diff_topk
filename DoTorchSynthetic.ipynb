{
 "cells": [
  {
   "cell_type": "code",
   "execution_count": 1,
   "metadata": {},
   "outputs": [
    {
     "name": "stderr",
     "output_type": "stream",
     "text": [
      "2024-07-02 11:54:46.764329: I tensorflow/core/util/port.cc:113] oneDNN custom operations are on. You may see slightly different numerical results due to floating-point round-off errors from different computation orders. To turn them off, set the environment variable `TF_ENABLE_ONEDNN_OPTS=0`.\n",
      "2024-07-02 11:54:46.811716: E external/local_xla/xla/stream_executor/cuda/cuda_dnn.cc:9261] Unable to register cuDNN factory: Attempting to register factory for plugin cuDNN when one has already been registered\n",
      "2024-07-02 11:54:46.811744: E external/local_xla/xla/stream_executor/cuda/cuda_fft.cc:607] Unable to register cuFFT factory: Attempting to register factory for plugin cuFFT when one has already been registered\n",
      "2024-07-02 11:54:46.812733: E external/local_xla/xla/stream_executor/cuda/cuda_blas.cc:1515] Unable to register cuBLAS factory: Attempting to register factory for plugin cuBLAS when one has already been registered\n",
      "2024-07-02 11:54:46.819739: I tensorflow/core/platform/cpu_feature_guard.cc:182] This TensorFlow binary is optimized to use available CPU instructions in performance-critical operations.\n",
      "To enable the following instructions: AVX2 AVX512F AVX512_VNNI FMA, in other operations, rebuild TensorFlow with the appropriate compiler flags.\n",
      "2024-07-02 11:54:56.331898: W tensorflow/compiler/tf2tensorrt/utils/py_utils.cc:38] TF-TRT Warning: Could not find TensorRT\n"
     ]
    }
   ],
   "source": [
    "%load_ext autoreload\n",
    "%autoreload 2\n",
    "\n",
    "\n",
    "import torch\n",
    "\n",
    "import torch.nn as nn\n",
    "from torch.distributions import Categorical, Poisson, MixtureSameFamily\n",
    "# Cd to code\n",
    "import os\n",
    "import sys\n",
    "os.chdir('/cluster/home/kheuto01/code/prob_diff_topk')\n",
    "sys.path.append('/cluster/home/kheuto01/code/prob_diff_topk')\n",
    "\n",
    "from datasets import example_datasets, to_numpy\n",
    "from torch_perturb.torch_pert_topk import PerturbedTopK"
   ]
  },
  {
   "cell_type": "code",
   "execution_count": 2,
   "metadata": {},
   "outputs": [],
   "source": [
    "seed=360\n",
    "# tracts/distributions\n",
    "S=12\n",
    "# history/features\n",
    "H = 3\n",
    "# total timepoints\n",
    "T= 500\n",
    "num_components=4\n",
    "K=4"
   ]
  },
  {
   "cell_type": "code",
   "execution_count": 3,
   "metadata": {},
   "outputs": [
    {
     "name": "stderr",
     "output_type": "stream",
     "text": [
      "2024-07-02 11:55:24.508354: E external/local_xla/xla/stream_executor/cuda/cuda_driver.cc:274] failed call to cuInit: CUDA_ERROR_NO_DEVICE: no CUDA-capable device is detected\n",
      "2024-07-02 11:55:24.508394: I external/local_xla/xla/stream_executor/cuda/cuda_diagnostics.cc:129] retrieving CUDA diagnostic information for host: s1cmp008.pax.tufts.edu\n",
      "2024-07-02 11:55:24.508401: I external/local_xla/xla/stream_executor/cuda/cuda_diagnostics.cc:136] hostname: s1cmp008.pax.tufts.edu\n",
      "2024-07-02 11:55:24.508445: I external/local_xla/xla/stream_executor/cuda/cuda_diagnostics.cc:159] libcuda reported version is: 535.129.3\n",
      "2024-07-02 11:55:24.508473: I external/local_xla/xla/stream_executor/cuda/cuda_diagnostics.cc:163] kernel reported version is: 535.129.3\n",
      "2024-07-02 11:55:24.508479: I external/local_xla/xla/stream_executor/cuda/cuda_diagnostics.cc:241] kernel version seems to match DSO: 535.129.3\n"
     ]
    }
   ],
   "source": [
    "train_dataset, val_dataset, test_dataset = example_datasets(H, T, seed=seed)\n",
    "train_X_THS, train_y_TS = to_numpy(train_dataset)"
   ]
  },
  {
   "cell_type": "code",
   "execution_count": 38,
   "metadata": {},
   "outputs": [],
   "source": [
    "\n",
    "class MixtureOfPoissonsModel(nn.Module):\n",
    "    def __init__(self, num_components=4, S=12):\n",
    "        super(MixtureOfPoissonsModel, self).__init__()\n",
    "        self.num_components = num_components\n",
    "        self.S = S\n",
    "        \n",
    "        # Initialize the log rates and mixture probabilities as learnable parameters\n",
    "        self.log_poisson_rates = nn.Parameter(torch.rand(num_components))  # Initialize log rates\n",
    "        self.mixture_probs = nn.Parameter(torch.rand(S, num_components))  # Initialize probabilities\n",
    "\n",
    "    def params_to_single_tensor(self):\n",
    "        return torch.cat([self.log_poisson_rates, self.mixture_probs.view(-1)])\n",
    "    \n",
    "    def single_tensor_to_params(self, single_tensor):\n",
    "        log_poisson_rates = single_tensor[:self.num_components]\n",
    "        mixture_probs = single_tensor[self.num_components:].view(self.S, self.num_components)\n",
    "        return log_poisson_rates, mixture_probs\n",
    "    \n",
    "    def build_from_single_tensor(self, single_tensor):\n",
    "        log_poisson_rates, mixture_probs = self.single_tensor_to_params(single_tensor)\n",
    "        poisson_rates = torch.exp(log_poisson_rates)\n",
    "        mixture_probs_normalized = torch.nn.functional.softmax(mixture_probs, dim=1)\n",
    "        categorical_dist = Categorical(mixture_probs_normalized)\n",
    "        expanded_rates = poisson_rates.expand(self.S, self.num_components)\n",
    "        poisson_dist = Poisson(expanded_rates)\n",
    "        mixture_dist = MixtureSameFamily(categorical_dist, poisson_dist)\n",
    "        return mixture_dist\n",
    "        \n",
    "    def forward(self):\n",
    "        # Transform log rates to rates\n",
    "        poisson_rates = torch.exp(self.log_poisson_rates)\n",
    "        \n",
    "        # Normalize mixture_probs to sum to 1 across the components\n",
    "        mixture_probs_normalized = torch.nn.functional.softmax(self.mixture_probs, dim=1)\n",
    "        \n",
    "        # Create the Categorical distribution with the normalized probabilities\n",
    "        categorical_dist = Categorical(mixture_probs_normalized)\n",
    "        \n",
    "        # Expand the Poisson rates to match the number of samples\n",
    "        expanded_rates = poisson_rates.expand(self.S, self.num_components)\n",
    "        \n",
    "        # Create the Poisson distribution with the expanded rates\n",
    "        poisson_dist = Poisson(expanded_rates)\n",
    "        \n",
    "        # Create the MixtureSameFamily distribution\n",
    "        mixture_dist = MixtureSameFamily(categorical_dist, poisson_dist)\n",
    "        \n",
    "        \n",
    "        \n",
    "        return mixture_dist"
   ]
  },
  {
   "cell_type": "code",
   "execution_count": 39,
   "metadata": {},
   "outputs": [],
   "source": [
    "# Instantiate the model\n",
    "model = MixtureOfPoissonsModel()\n",
    "\n",
    "# Define an optimizer\n",
    "optimizer = torch.optim.Adam(model.parameters(), lr=0.01)"
   ]
  },
  {
   "cell_type": "code",
   "execution_count": 40,
   "metadata": {},
   "outputs": [],
   "source": [
    "mix_model = model()\n"
   ]
  },
  {
   "cell_type": "code",
   "execution_count": 41,
   "metadata": {},
   "outputs": [],
   "source": [
    "M = 1000"
   ]
  },
  {
   "cell_type": "code",
   "execution_count": 42,
   "metadata": {},
   "outputs": [],
   "source": [
    "y_sample_BMS = mix_model.sample([M]).unsqueeze(0)"
   ]
  },
  {
   "cell_type": "code",
   "execution_count": 43,
   "metadata": {},
   "outputs": [],
   "source": [
    "ratio_rating_BMS = y_sample_BMS/y_sample_BMS.sum(dim=-1, keepdim=True)\n",
    "ratio_rating_BS =  ratio_rating_BMS.mean(dim=1)"
   ]
  },
  {
   "cell_type": "code",
   "execution_count": 48,
   "metadata": {},
   "outputs": [],
   "source": [
    "def get_log_probs_baked(param):\n",
    "    distribution = model.build_from_single_tensor(param)\n",
    "    log_probs_BMS = distribution.log_prob(y_sample_BMS)\n",
    "\n",
    "    return log_probs_BMS"
   ]
  },
  {
   "cell_type": "code",
   "execution_count": 49,
   "metadata": {},
   "outputs": [],
   "source": [
    "log_probs_BMS = get_log_probs_baked(model.params_to_single_tensor())"
   ]
  },
  {
   "cell_type": "code",
   "execution_count": 53,
   "metadata": {},
   "outputs": [],
   "source": [
    "jac = torch.autograd.functional.jacobian(get_log_probs_baked, (model.params_to_single_tensor()))"
   ]
  },
  {
   "cell_type": "code",
   "execution_count": 55,
   "metadata": {},
   "outputs": [
    {
     "data": {
      "text/plain": [
       "torch.Size([1, 1000, 12, 52])"
      ]
     },
     "execution_count": 55,
     "metadata": {},
     "output_type": "execute_result"
    }
   ],
   "source": [
    "jac.shape"
   ]
  },
  {
   "cell_type": "code",
   "execution_count": null,
   "metadata": {},
   "outputs": [],
   "source": [
    "jac"
   ]
  },
  {
   "cell_type": "code",
   "execution_count": 10,
   "metadata": {},
   "outputs": [
    {
     "data": {
      "text/plain": [
       "tensor([1.])"
      ]
     },
     "execution_count": 10,
     "metadata": {},
     "output_type": "execute_result"
    }
   ],
   "source": [
    "torch_bpr_uncurried(result, result, K=4, perturbed_top_K_func=funky)"
   ]
  },
  {
   "cell_type": "code",
   "execution_count": 11,
   "metadata": {},
   "outputs": [
    {
     "data": {
      "text/plain": [
       "tensor([[-1.2205, -1.4847, -1.2008, -1.2506, -1.2112, -1.2159, -1.2863, -1.4530,\n",
       "         -1.9035, -1.1916, -1.4471, -1.4233]], grad_fn=<LogsumexpBackward0>)"
      ]
     },
     "execution_count": 11,
     "metadata": {},
     "output_type": "execute_result"
    }
   ],
   "source": [
    "%timeit jac = torch.autograd.functional.jacobian(get_log_probs_baked, (param))"
   ]
  },
  {
   "cell_type": "code",
   "execution_count": 27,
   "metadata": {},
   "outputs": [],
   "source": []
  },
  {
   "cell_type": "code",
   "execution_count": 29,
   "metadata": {},
   "outputs": [
    {
     "ename": "AttributeError",
     "evalue": "'list' object has no attribute 'unsqueeze'",
     "output_type": "error",
     "traceback": [
      "\u001b[0;31m---------------------------------------------------------------------------\u001b[0m",
      "\u001b[0;31mAttributeError\u001b[0m                            Traceback (most recent call last)",
      "Cell \u001b[0;32mIn[29], line 1\u001b[0m\n\u001b[0;32m----> 1\u001b[0m torch_bpr_uncurried(\u001b[43m[\u001b[49m\u001b[38;5;241;43m1\u001b[39;49m\u001b[43m,\u001b[49m\u001b[38;5;241;43m2\u001b[39;49m\u001b[43m,\u001b[49m\u001b[38;5;241;43m3\u001b[39;49m\u001b[43m,\u001b[49m\u001b[38;5;241;43m4\u001b[39;49m\u001b[43m,\u001b[49m\u001b[38;5;241;43m5\u001b[39;49m\u001b[43m,\u001b[49m\u001b[38;5;241;43m6\u001b[39;49m\u001b[43m,\u001b[49m\u001b[38;5;241;43m7\u001b[39;49m\u001b[43m]\u001b[49m\u001b[38;5;241;43m.\u001b[39;49m\u001b[43munsqueeze\u001b[49m(\u001b[38;5;241m0\u001b[39m), [\u001b[38;5;241m1\u001b[39m,\u001b[38;5;241m2\u001b[39m,\u001b[38;5;241m3\u001b[39m,\u001b[38;5;241m4\u001b[39m,\u001b[38;5;241m5\u001b[39m,\u001b[38;5;241m6\u001b[39m,\u001b[38;5;241m7\u001b[39m]\u001b[38;5;241m.\u001b[39munsqueeze(\u001b[38;5;241m0\u001b[39m), K\u001b[38;5;241m=\u001b[39m\u001b[38;5;241m4\u001b[39m, perturbed_top_K_func\u001b[38;5;241m=\u001b[39mfunky)\n",
      "\u001b[0;31mAttributeError\u001b[0m: 'list' object has no attribute 'unsqueeze'"
     ]
    }
   ],
   "source": []
  },
  {
   "cell_type": "code",
   "execution_count": 9,
   "metadata": {},
   "outputs": [],
   "source": [
    "def torch_bpr_uncurried(y_pred, y_true, K=4, perturbed_top_K_func=None):\n",
    "\n",
    "    top_K_ids = perturbed_top_K_func(y_pred)\n",
    "    # Sum over k dim\n",
    "    top_K_ids = top_K_ids.sum(dim=-2)\n",
    "\n",
    "    true_top_K_val, _  = torch.topk(y_true, K) \n",
    "    denominator = torch.sum(true_top_K_val, dim=-1)\n",
    "    numerator = torch.sum(top_K_ids * y_true, dim=-1)\n",
    "    bpr = numerator/denominator\n",
    "\n",
    "    return bpr"
   ]
  },
  {
   "cell_type": "code",
   "execution_count": null,
   "metadata": {},
   "outputs": [],
   "source": []
  }
 ],
 "metadata": {
  "kernelspec": {
   "display_name": "pip_k3",
   "language": "python",
   "name": "python3"
  },
  "language_info": {
   "codemirror_mode": {
    "name": "ipython",
    "version": 3
   },
   "file_extension": ".py",
   "mimetype": "text/x-python",
   "name": "python",
   "nbconvert_exporter": "python",
   "pygments_lexer": "ipython3",
   "version": "3.11.7"
  }
 },
 "nbformat": 4,
 "nbformat_minor": 2
}
