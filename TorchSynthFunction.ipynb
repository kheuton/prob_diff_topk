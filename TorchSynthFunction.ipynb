{
 "cells": [
  {
   "cell_type": "code",
   "execution_count": 1,
   "metadata": {},
   "outputs": [
    {
     "name": "stderr",
     "output_type": "stream",
     "text": [
      "2024-07-16 16:56:28.715206: I tensorflow/core/util/port.cc:113] oneDNN custom operations are on. You may see slightly different numerical results due to floating-point round-off errors from different computation orders. To turn them off, set the environment variable `TF_ENABLE_ONEDNN_OPTS=0`.\n",
      "2024-07-16 16:56:28.768405: E external/local_xla/xla/stream_executor/cuda/cuda_dnn.cc:9261] Unable to register cuDNN factory: Attempting to register factory for plugin cuDNN when one has already been registered\n",
      "2024-07-16 16:56:28.768444: E external/local_xla/xla/stream_executor/cuda/cuda_fft.cc:607] Unable to register cuFFT factory: Attempting to register factory for plugin cuFFT when one has already been registered\n",
      "2024-07-16 16:56:28.769565: E external/local_xla/xla/stream_executor/cuda/cuda_blas.cc:1515] Unable to register cuBLAS factory: Attempting to register factory for plugin cuBLAS when one has already been registered\n",
      "2024-07-16 16:56:28.777983: I tensorflow/core/platform/cpu_feature_guard.cc:182] This TensorFlow binary is optimized to use available CPU instructions in performance-critical operations.\n",
      "To enable the following instructions: AVX2 AVX512F AVX512_VNNI FMA, in other operations, rebuild TensorFlow with the appropriate compiler flags.\n",
      "2024-07-16 16:56:36.918734: W tensorflow/compiler/tf2tensorrt/utils/py_utils.cc:38] TF-TRT Warning: Could not find TensorRT\n"
     ]
    }
   ],
   "source": [
    "%load_ext autoreload\n",
    "%autoreload 2\n",
    "\n",
    "\n",
    "import torch\n",
    "\n",
    "import torch.nn as nn\n",
    "from torch.distributions import Categorical, Poisson, MixtureSameFamily\n",
    "# Cd to code\n",
    "import os\n",
    "import sys\n",
    "os.chdir('/cluster/home/kheuto01/code/prob_diff_topk')\n",
    "sys.path.append('/cluster/home/kheuto01/code/prob_diff_topk')\n",
    "\n",
    "from datasets import example_datasets, to_numpy\n",
    "from torch_perturb.torch_pert_topk import PerturbedTopK\n",
    "from torch_models import MixtureOfPoissonsModel, torch_bpr_uncurried"
   ]
  },
  {
   "cell_type": "code",
   "execution_count": 2,
   "metadata": {},
   "outputs": [],
   "source": [
    "seed=360\n",
    "# tracts/distributions\n",
    "S=12\n",
    "# history/features\n",
    "H = 3\n",
    "# total timepoints\n",
    "T= 500\n",
    "num_components=4\n",
    "K=4"
   ]
  },
  {
   "cell_type": "code",
   "execution_count": 3,
   "metadata": {},
   "outputs": [
    {
     "name": "stderr",
     "output_type": "stream",
     "text": [
      "2024-07-16 16:56:59.470352: E external/local_xla/xla/stream_executor/cuda/cuda_driver.cc:274] failed call to cuInit: CUDA_ERROR_NO_DEVICE: no CUDA-capable device is detected\n",
      "2024-07-16 16:56:59.470402: I external/local_xla/xla/stream_executor/cuda/cuda_diagnostics.cc:129] retrieving CUDA diagnostic information for host: s1cmp008.pax.tufts.edu\n",
      "2024-07-16 16:56:59.470410: I external/local_xla/xla/stream_executor/cuda/cuda_diagnostics.cc:136] hostname: s1cmp008.pax.tufts.edu\n",
      "2024-07-16 16:56:59.470455: I external/local_xla/xla/stream_executor/cuda/cuda_diagnostics.cc:159] libcuda reported version is: 535.129.3\n",
      "2024-07-16 16:56:59.470487: I external/local_xla/xla/stream_executor/cuda/cuda_diagnostics.cc:163] kernel reported version is: 535.129.3\n",
      "2024-07-16 16:56:59.470492: I external/local_xla/xla/stream_executor/cuda/cuda_diagnostics.cc:241] kernel version seems to match DSO: 535.129.3\n"
     ]
    }
   ],
   "source": [
    "train_dataset, val_dataset, test_dataset = example_datasets(H, T, seed=seed)\n",
    "train_X_THS, train_y_TS = to_numpy(train_dataset)"
   ]
  },
  {
   "cell_type": "code",
   "execution_count": 4,
   "metadata": {},
   "outputs": [],
   "source": [
    "ideal_log_rates = torch.log(torch.tensor([0+1e-8, 7, 10, 100]))\n",
    "ideal_mix_weights = torch.log(1e-13 + torch.tensor(\n",
    "                                [[0,1,0,0],\n",
    "                                 [0,1,0,0],\n",
    "                                 [0,1,0,0],\n",
    "                                 [0,1,0,0],\n",
    "                                 [0.3,0,0.7,0],\n",
    "                                 [0.3,0,0.7,0],\n",
    "                                 [0.3,0,0.7,0],\n",
    "                                 [0.3,0,0.7,0],\n",
    "                                 [0.9,0,0,0.1],\n",
    "                                 [0.9,0,0,0.1],\n",
    "                                 [0.9,0,0,0.1],\n",
    "                                 [0.9,0,0,0.1]]))"
   ]
  },
  {
   "cell_type": "code",
   "execution_count": 30,
   "metadata": {},
   "outputs": [],
   "source": [
    "# Instantiate the model\n",
    "model = MixtureOfPoissonsModel()\n",
    "step_size = 0.05\n",
    "optimizer = torch.optim.Adam(model.parameters(), lr=step_size)\n",
    "model.update_params(torch.cat([ideal_log_rates, ideal_mix_weights.view(-1)]))\n",
    "#model.update_params(torch.cat([bpr_log_rates, bpr_mix_weights.view(-1)]))\n"
   ]
  },
  {
   "cell_type": "code",
   "execution_count": 31,
   "metadata": {},
   "outputs": [],
   "source": [
    "M_score_func =  200\n",
    "M_action = 200\n",
    "train_T = train_y_TS.shape[0]\n",
    "perturbed_top_K_func = PerturbedTopK(k=4)\n"
   ]
  },
  {
   "cell_type": "code",
   "execution_count": 32,
   "metadata": {},
   "outputs": [],
   "source": [
    "mix_model = model()\n",
    "sample = mix_model.sample()"
   ]
  },
  {
   "cell_type": "code",
   "execution_count": 33,
   "metadata": {},
   "outputs": [
    {
     "data": {
      "text/plain": [
       "tensor([ 7.,  6.,  8.,  9., 13., 10.,  0.,  7.,  0.,  0.,  0.,  0.])"
      ]
     },
     "execution_count": 33,
     "metadata": {},
     "output_type": "execute_result"
    }
   ],
   "source": [
    "sample"
   ]
  },
  {
   "cell_type": "code",
   "execution_count": 34,
   "metadata": {},
   "outputs": [
    {
     "data": {
      "text/plain": [
       "tensor([-1.9038, -1.9038, -2.0373, -2.2886, -2.9752, -2.4352, -1.2039, -2.7637,\n",
       "        -0.1054, -0.1054, -0.1054, -0.1054], grad_fn=<LogsumexpBackward0>)"
      ]
     },
     "execution_count": 34,
     "metadata": {},
     "output_type": "execute_result"
    }
   ],
   "source": [
    "mix_model.log_prob(sample)"
   ]
  },
  {
   "cell_type": "code",
   "execution_count": 35,
   "metadata": {},
   "outputs": [],
   "source": [
    "losses = []\n",
    "bprs = []\n",
    "nlls = []"
   ]
  },
  {
   "cell_type": "code",
   "execution_count": 40,
   "metadata": {},
   "outputs": [
    {
     "name": "stdout",
     "output_type": "stream",
     "text": [
      "<class 'torch.Tensor'> torch.Size([])\n",
      "<class 'torch.Tensor'> torch.Size([])\n",
      "<class 'torch.Tensor'> torch.Size([])\n",
      "<class 'torch.Tensor'> torch.Size([4])\n",
      "<class 'torch.Tensor'> torch.Size([12, 4])\n",
      "<class 'torch.Tensor'> torch.Size([12, 4])\n",
      "<class 'torch.Tensor'> torch.Size([12, 4])\n",
      "<class 'torch.Tensor'> torch.Size([300, 200, 12, 1])\n",
      "<class 'torch.Tensor'> torch.Size([300, 200, 12])\n",
      "<class 'torch.Tensor'> torch.Size([300, 200, 12, 1])\n",
      "<class 'torch.Tensor'> torch.Size([300, 200, 12])\n",
      "<class 'torch.Tensor'> torch.Size([300, 200, 12])\n",
      "<class 'torch.Tensor'> torch.Size([300, 12])\n",
      "<class 'torch.Tensor'> torch.Size([52])\n",
      "<class 'torch.Tensor'> torch.Size([52, 52])\n",
      "<class 'torch.Tensor'> torch.Size([4])\n",
      "<class 'torch.Tensor'> torch.Size([12, 4])\n",
      "<class 'torch.Tensor'> torch.Size([12, 1])\n",
      "<class 'torch.Tensor'> torch.Size([12, 4])\n",
      "<class 'torch.Tensor'> torch.Size([12, 4])\n",
      "<class 'torch.Tensor'> torch.Size([12, 4])\n",
      "<class 'torch.Tensor'> torch.Size([300, 200, 12, 4])\n",
      "<class 'torch.Tensor'> torch.Size([300, 200, 12, 4])\n",
      "<class 'torch.Tensor'> torch.Size([300, 200, 12, 4])\n",
      "<class 'torch.Tensor'> torch.Size([52, 300, 200, 12])\n",
      "<class 'torch.Tensor'> torch.Size([300, 200, 12, 52])\n",
      "<class 'torch.Tensor'> torch.Size([300, 200, 12, 1])\n",
      "<class 'torch.Tensor'> torch.Size([300, 200, 12, 52])\n",
      "<class 'torch.Tensor'> torch.Size([300, 12, 52])\n",
      "<class 'torch.Tensor'> torch.Size([300, 500, 12])\n",
      "<class 'torch.Tensor'> torch.Size([300, 500, 4, 12])\n",
      "<class 'torch.Tensor'> torch.Size([300])\n",
      "<class 'torch.Tensor'> torch.Size([])\n",
      "<class 'torch.Tensor'> torch.Size([])\n",
      "<class 'torch.Tensor'> torch.Size([])\n",
      "<class 'torch.Tensor'> torch.Size([])\n",
      "<class 'torch.Tensor'> torch.Size([])\n",
      "<class 'torch.Tensor'> torch.Size([])\n",
      "<class 'torch.Tensor'> torch.Size([300, 12])\n",
      "<class 'torch.Tensor'> torch.Size([300, 12, 1])\n",
      "<class 'torch.Tensor'> torch.Size([300, 12, 52])\n",
      "<class 'torch.Tensor'> torch.Size([52])\n",
      "<class 'torch.Tensor'> torch.Size([4])\n",
      "<class 'torch.Tensor'> torch.Size([12, 4])\n",
      "<class 'torch.Tensor'> torch.Size([300, 12])\n",
      "<class 'torch.Tensor'> torch.Size([])\n",
      "<class 'torch.Tensor'> torch.Size([300, 12])\n",
      "<class 'torch.Tensor'> torch.Size([300, 12])\n",
      "<class 'torch.Tensor'> torch.Size([])\n",
      "<class 'torch.Tensor'> torch.Size([300, 12])\n",
      "<class 'torch.Tensor'> torch.Size([300, 12])\n",
      "<class 'torch.Tensor'> torch.Size([])\n",
      "<class 'torch.Tensor'> torch.Size([300, 12])\n",
      "<class 'torch.Tensor'> torch.Size([300, 12])\n",
      "<class 'torch.Tensor'> torch.Size([300, 500, 4, 12])\n",
      "<class 'torch.Tensor'> torch.Size([300, 500, 12])\n",
      "<class 'torch.Tensor'> torch.Size([300, 500, 4, 12])\n",
      "<class 'torch.Tensor'> torch.Size([300, 500, 12])\n",
      "<class 'torch.Tensor'> torch.Size([300, 500, 4, 12])\n",
      "<class 'torch.Tensor'> torch.Size([300, 500, 12])\n",
      "<class 'torch.Tensor'> torch.Size([])\n",
      "<class 'torch.Tensor'> torch.Size([300, 12])\n",
      "<class 'torch.Tensor'> torch.Size([300, 12])\n",
      "<class 'torch.Tensor'> torch.Size([])\n",
      "<class 'torch.Tensor'> torch.Size([300, 12])\n",
      "<class 'torch.Tensor'> torch.Size([300, 12])\n",
      "<class 'torch.Tensor'> torch.Size([300, 500, 4, 12])\n",
      "<class 'torch.Tensor'> torch.Size([300, 500, 12])\n",
      "<class 'torch.Tensor'> torch.Size([300, 500, 4, 12])\n",
      "<class 'torch.Tensor'> torch.Size([300, 500, 12])\n",
      "<class 'torch.Tensor'> torch.Size([])\n",
      "<class 'torch.Tensor'> torch.Size([300, 12])\n",
      "<class 'torch.Tensor'> torch.Size([300, 12])\n",
      "<class 'torch.Tensor'> torch.Size([])\n",
      "<class 'torch.Tensor'> torch.Size([300, 12])\n",
      "<class 'torch.Tensor'> torch.Size([300, 200, 12, 1])\n",
      "<class 'torch.Tensor'> torch.Size([300, 200, 12])\n",
      "<class 'torch.Tensor'> torch.Size([300, 12])\n",
      "<class 'torch.Tensor'> torch.Size([4])\n",
      "<class 'torch.Tensor'> torch.Size([12, 4])\n",
      "<class 'torch.Tensor'> torch.Size([12, 1])\n",
      "<class 'torch.Tensor'> torch.Size([12, 4])\n",
      "<class 'torch.Tensor'> torch.Size([300, 200, 12, 4])\n",
      "<class 'torch.Tensor'> torch.Size([300, 200, 12, 4])\n",
      "<class 'torch.Tensor'> torch.Size([300, 500, 4, 12])\n",
      "<class 'torch.Tensor'> torch.Size([300, 500, 12])\n",
      "<class 'torch.Tensor'> torch.Size([300, 500, 4, 12])\n",
      "<class 'torch.Tensor'> torch.Size([300, 500, 12])\n",
      "<class 'torch.Tensor'> torch.Size([52])\n",
      "<class 'torch.Tensor'> torch.Size([52, 52])\n",
      "<class 'torch.Tensor'> torch.Size([12, 4])\n",
      "<class 'torch.Tensor'> torch.Size([12, 4])\n",
      "<class 'torch.Tensor'> torch.Size([300, 200, 12, 4])\n",
      "<class 'torch.Tensor'> torch.Size([300, 200, 12, 1])\n",
      "<class 'torch.Tensor'> torch.Size([])\n",
      "<class 'torch.Tensor'> torch.Size([300, 12])\n",
      "<class 'torch.Tensor'> torch.Size([300, 12, 1])\n",
      "<class 'torch.Tensor'> torch.Size([52])\n",
      "<class 'torch.Tensor'> torch.Size([12, 4])\n",
      "<class 'torch.Tensor'> torch.Size([4])\n",
      "<class 'torch.Tensor'> torch.Size([12, 4])\n",
      "<class 'torch.Tensor'> torch.Size([12, 1])\n",
      "<class 'torch.Tensor'> torch.Size([12, 4])\n",
      "<class 'torch.Tensor'> torch.Size([12, 1])\n",
      "<class 'torch.Tensor'> torch.Size([12])\n",
      "<class 'torch.Tensor'> torch.Size([12, 4])\n",
      "<class 'torch.Tensor'> torch.Size([12, 4])\n",
      "<class 'torch.Tensor'> torch.Size([12])\n",
      "<class 'torch.Tensor'> torch.Size([300, 500, 4, 12])\n",
      "<class 'torch.Tensor'> torch.Size([300, 500, 12])\n",
      "<class 'torch.Tensor'> torch.Size([4])\n",
      "<class 'torch.nn.parameter.Parameter'> torch.Size([12, 4])\n",
      "<class 'torch.nn.parameter.Parameter'> torch.Size([4])\n",
      "<class 'torch.Tensor'> torch.Size([12, 4])\n",
      "<class 'torch.Tensor'> torch.Size([12, 4])\n",
      "<class 'torch.Tensor'> torch.Size([])\n",
      "<class 'torch.Tensor'> torch.Size([])\n",
      "<class 'torch.Tensor'> torch.Size([])\n",
      "<class 'torch.Tensor'> torch.Size([4])\n",
      "<class 'torch.Tensor'> torch.Size([4])\n",
      "<class 'torch.Tensor'> torch.Size([12, 4])\n",
      "<class 'torch.Tensor'> torch.Size([12, 4])\n",
      "<class 'torch.Tensor'> torch.Size([])\n",
      "<class 'torch.Tensor'> torch.Size([])\n",
      "<class 'torch.Tensor'> torch.Size([])\n",
      "<class 'torch.Tensor'> torch.Size([])\n",
      "<class 'torch.Tensor'> torch.Size([])\n",
      "<class 'torch.Tensor'> torch.Size([4])\n",
      "<class 'torch.Tensor'> torch.Size([12, 4])\n",
      "<class 'torch.nn.parameter.Parameter'> torch.Size([4])\n",
      "<class 'torch.nn.parameter.Parameter'> torch.Size([12, 4])\n",
      "<class 'torch.nested._internal.nested_tensor.NestedTensor'> torch.Size([1, j0, 3])\n",
      "<class 'torch.Tensor'> torch.Size([3, 3])\n",
      "<class 'torch.Tensor'> torch.Size([4])\n",
      "<class 'torch.Tensor'> torch.Size([12, 4])\n",
      "<class 'torch.Tensor'> torch.Size([12, 1])\n",
      "<class 'torch.Tensor'> torch.Size([12, 4])\n",
      "<class 'torch.Tensor'> torch.Size([12, 1])\n",
      "<class 'torch.Tensor'> torch.Size([12])\n",
      "<class 'torch.Tensor'> torch.Size([12, 4])\n",
      "<class 'torch.Tensor'> torch.Size([12, 4])\n",
      "<class 'torch.Tensor'> torch.Size([12])\n",
      "<class 'torch.Tensor'> torch.Size([12, 4])\n",
      "<class 'torch.Tensor'> torch.Size([12, 4])\n",
      "<class 'torch.Tensor'> torch.Size([300, 12])\n",
      "<class 'torch.Tensor'> torch.Size([2])\n",
      "<class 'torch.Tensor'> torch.Size([])\n",
      "<class 'torch.Tensor'> torch.Size([300, 12])\n",
      "<class 'torch.Tensor'> torch.Size([300, 12])\n",
      "<class 'torch.Tensor'> torch.Size([])\n",
      "<class 'torch.Tensor'> torch.Size([300, 12])\n",
      "<class 'torch.Tensor'> torch.Size([300, 500, 4, 12])\n",
      "<class 'torch.Tensor'> torch.Size([300, 500, 12])\n",
      "<class 'torch.Tensor'> torch.Size([300, 500, 4, 12])\n",
      "<class 'torch.Tensor'> torch.Size([300, 500, 12])\n",
      "155\n"
     ]
    }
   ],
   "source": [
    "import torch\n",
    "import gc\n",
    "count=0\n",
    "for obj in gc.get_objects():\n",
    "    try:\n",
    "        if torch.is_tensor(obj) or (hasattr(obj, 'data') and torch.is_tensor(obj.data)):\n",
    "            count+=1\n",
    "            print(type(obj), obj.size())\n",
    "    except:\n",
    "        pass\n",
    "print(count)"
   ]
  },
  {
   "cell_type": "code",
   "execution_count": 39,
   "metadata": {},
   "outputs": [
    {
     "name": "stdout",
     "output_type": "stream",
     "text": [
      "Neg bpr: -0.5383634567260742\n",
      "nll: 5590.5\n",
      "Loss: 5321.318359375\n",
      "Neg bpr: -0.5381386280059814\n",
      "nll: 5742.57666015625\n",
      "Loss: 5473.50732421875\n"
     ]
    }
   ],
   "source": [
    "\n",
    "for epoch in range(2):\n",
    "    mix_model = model()\n",
    "    \n",
    "    y_sample_TMS = mix_model.sample((train_T, M_score_func))\n",
    "    y_sample_action_TMS = mix_model.sample((train_T, M_action))\n",
    "\n",
    "    ratio_rating_TMS = y_sample_action_TMS/y_sample_action_TMS.sum(dim=-1, keepdim=True)\n",
    "    ratio_rating_TS =  ratio_rating_TMS.mean(dim=1)\n",
    "    ratio_rating_TS.requires_grad_(True)\n",
    "\n",
    "    #pred_y_TS = torch.mean(y_sample_action_TMS, dim=1)\n",
    "    #pred_y_TS.requires_grad_(True)\n",
    "\n",
    "    def get_log_probs_baked(param):\n",
    "        distribution = model.build_from_single_tensor(param)\n",
    "        log_probs_TMS = distribution.log_prob(y_sample_TMS)\n",
    "\n",
    "        return log_probs_TMS\n",
    "\n",
    "    jac_TMSP = torch.autograd.functional.jacobian(get_log_probs_baked, (model.params_to_single_tensor()), strategy='forward-mode', vectorize=True)\n",
    "\n",
    "    score_func_estimator_TMSP = jac_TMSP * ratio_rating_TMS.unsqueeze(-1)\n",
    "    score_func_estimator_TSP = score_func_estimator_TMSP.mean(dim=1)    \n",
    "\n",
    "    # get gradient of negative bpr_t  with respect to ratio rating_TS\n",
    "    positive_bpr_T = torch_bpr_uncurried(ratio_rating_TS, torch.tensor(train_y_TS), K=4, perturbed_top_K_func=perturbed_top_K_func)\n",
    "    negative_bpr = torch.mean(-positive_bpr_T)\n",
    "    \n",
    "    nll = torch.sum(-mix_model.log_prob( torch.tensor(train_y_TS)))\n",
    "\n",
    "    print(f'Neg bpr: {negative_bpr}')\n",
    "    print(f'nll: {nll}')\n",
    "\n",
    "    loss = 500*negative_bpr + nll\n",
    "    print(f'Loss: {loss}')\n",
    "    losses.append(loss.detach())\n",
    "    bprs.append(negative_bpr.detach())\n",
    "    nlls.append(nll.detach())\n",
    "    \n",
    "    loss.backward()\n",
    "\n",
    "    loss_grad_TS = ratio_rating_TS.grad\n",
    "\n",
    "    gradient_TSP = score_func_estimator_TSP * torch.unsqueeze(loss_grad_TS, -1)\n",
    "    gradient_P = torch.sum(gradient_TSP, dim=[0,1])\n",
    "\n",
    "    gradient_tuple = model.single_tensor_to_params(gradient_P)\n",
    "\n",
    "    for param, gradient in zip(model.parameters(), gradient_tuple):\n",
    "        param.grad = gradient\n",
    "    optimizer.step()\n",
    "        \n",
    "    #model.update_params(model.params_to_single_tensor() - step_size * gradient_P)\n",
    "\n",
    "\n",
    "    \n",
    "    \n"
   ]
  },
  {
   "cell_type": "code",
   "execution_count": 27,
   "metadata": {},
   "outputs": [
    {
     "data": {
      "text/plain": [
       "torch.Size([])"
      ]
     },
     "execution_count": 27,
     "metadata": {},
     "output_type": "execute_result"
    }
   ],
   "source": [
    "bprs[0].size()"
   ]
  },
  {
   "cell_type": "code",
   "execution_count": 48,
   "metadata": {},
   "outputs": [],
   "source": [
    "log_poisson_rates, mixture_probs = model.single_tensor_to_params(model.params_to_single_tensor())\n",
    "poisson_rates = torch.exp(log_poisson_rates)\n",
    "mixture_probs_normalized = torch.nn.functional.softmax(mixture_probs, dim=1)"
   ]
  },
  {
   "cell_type": "code",
   "execution_count": 49,
   "metadata": {},
   "outputs": [
    {
     "data": {
      "text/plain": [
       "tensor([6.7100e-01, 1.9218e+03, 4.9587e+01, 1.2280e+00],\n",
       "       grad_fn=<ExpBackward0>)"
      ]
     },
     "execution_count": 49,
     "metadata": {},
     "output_type": "execute_result"
    }
   ],
   "source": [
    "poisson_rates"
   ]
  },
  {
   "cell_type": "code",
   "execution_count": 50,
   "metadata": {},
   "outputs": [
    {
     "data": {
      "text/plain": [
       "tensor([[0.0968, 0.6893, 0.1125, 0.1014],\n",
       "        [0.0973, 0.5291, 0.2687, 0.1050],\n",
       "        [0.0774, 0.6380, 0.1631, 0.1215],\n",
       "        [0.0799, 0.6271, 0.1755, 0.1176],\n",
       "        [0.1006, 0.5921, 0.1887, 0.1186],\n",
       "        [0.1680, 0.1963, 0.4311, 0.2046],\n",
       "        [0.1232, 0.2403, 0.4629, 0.1736],\n",
       "        [0.2049, 0.2543, 0.3067, 0.2342],\n",
       "        [0.2719, 0.0658, 0.1216, 0.5408],\n",
       "        [0.7167, 0.0633, 0.0852, 0.1348],\n",
       "        [0.5129, 0.0530, 0.0773, 0.3568],\n",
       "        [0.2567, 0.0683, 0.0814, 0.5936]], grad_fn=<SoftmaxBackward0>)"
      ]
     },
     "execution_count": 50,
     "metadata": {},
     "output_type": "execute_result"
    }
   ],
   "source": [
    "mixture_probs_normalized"
   ]
  },
  {
   "cell_type": "code",
   "execution_count": 31,
   "metadata": {},
   "outputs": [
    {
     "data": {
      "text/plain": [
       "tensor([857., 821., 913.,   2.,   1.,   1., 875., 861.,   0.,   0.,   1.,   1.])"
      ]
     },
     "execution_count": 31,
     "metadata": {},
     "output_type": "execute_result"
    }
   ],
   "source": [
    "mix_model.sample()"
   ]
  },
  {
   "cell_type": "code",
   "execution_count": 22,
   "metadata": {},
   "outputs": [
    {
     "data": {
      "text/plain": [
       "(tensor([nan, nan, nan, nan], grad_fn=<SliceBackward0>),\n",
       " tensor([[nan, nan, nan, nan],\n",
       "         [nan, nan, nan, nan],\n",
       "         [nan, nan, nan, nan],\n",
       "         [nan, nan, nan, nan],\n",
       "         [nan, nan, nan, nan],\n",
       "         [nan, nan, nan, nan],\n",
       "         [nan, nan, nan, nan],\n",
       "         [nan, nan, nan, nan],\n",
       "         [nan, nan, nan, nan],\n",
       "         [nan, nan, nan, nan],\n",
       "         [nan, nan, nan, nan],\n",
       "         [nan, nan, nan, nan]], grad_fn=<ViewBackward0>))"
      ]
     },
     "execution_count": 22,
     "metadata": {},
     "output_type": "execute_result"
    }
   ],
   "source": [
    "gradient_tuple"
   ]
  },
  {
   "cell_type": "code",
   "execution_count": null,
   "metadata": {},
   "outputs": [],
   "source": []
  }
 ],
 "metadata": {
  "kernelspec": {
   "display_name": "pip_k3",
   "language": "python",
   "name": "python3"
  },
  "language_info": {
   "codemirror_mode": {
    "name": "ipython",
    "version": 3
   },
   "file_extension": ".py",
   "mimetype": "text/x-python",
   "name": "python",
   "nbconvert_exporter": "python",
   "pygments_lexer": "ipython3",
   "version": "3.11.7"
  }
 },
 "nbformat": 4,
 "nbformat_minor": 2
}
