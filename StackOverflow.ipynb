{
 "cells": [
  {
   "cell_type": "code",
   "execution_count": 1,
   "metadata": {},
   "outputs": [
    {
     "name": "stderr",
     "output_type": "stream",
     "text": [
      "2024-06-14 08:51:37.892300: I tensorflow/core/util/port.cc:113] oneDNN custom operations are on. You may see slightly different numerical results due to floating-point round-off errors from different computation orders. To turn them off, set the environment variable `TF_ENABLE_ONEDNN_OPTS=0`.\n",
      "2024-06-14 08:51:37.956302: E external/local_xla/xla/stream_executor/cuda/cuda_dnn.cc:9261] Unable to register cuDNN factory: Attempting to register factory for plugin cuDNN when one has already been registered\n",
      "2024-06-14 08:51:37.956337: E external/local_xla/xla/stream_executor/cuda/cuda_fft.cc:607] Unable to register cuFFT factory: Attempting to register factory for plugin cuFFT when one has already been registered\n",
      "2024-06-14 08:51:37.957623: E external/local_xla/xla/stream_executor/cuda/cuda_blas.cc:1515] Unable to register cuBLAS factory: Attempting to register factory for plugin cuBLAS when one has already been registered\n",
      "2024-06-14 08:51:37.965857: I tensorflow/core/platform/cpu_feature_guard.cc:182] This TensorFlow binary is optimized to use available CPU instructions in performance-critical operations.\n",
      "To enable the following instructions: AVX2 AVX512F AVX512_VNNI FMA, in other operations, rebuild TensorFlow with the appropriate compiler flags.\n",
      "2024-06-14 08:51:47.665382: W tensorflow/compiler/tf2tensorrt/utils/py_utils.cc:38] TF-TRT Warning: Could not find TensorRT\n"
     ]
    }
   ],
   "source": [
    "%load_ext autoreload\n",
    "%autoreload 2\n",
    "\n",
    "import scipy\n",
    "import numpy as np\n",
    "import tensorflow as tf\n",
    "import keras\n",
    "import tensorflow_probability as tfp\n",
    "\n"
   ]
  },
  {
   "cell_type": "code",
   "execution_count": 2,
   "metadata": {},
   "outputs": [
    {
     "name": "stderr",
     "output_type": "stream",
     "text": [
      "2024-06-14 08:52:32.179104: E external/local_xla/xla/stream_executor/cuda/cuda_driver.cc:274] failed call to cuInit: CUDA_ERROR_NO_DEVICE: no CUDA-capable device is detected\n",
      "2024-06-14 08:52:32.179151: I external/local_xla/xla/stream_executor/cuda/cuda_diagnostics.cc:129] retrieving CUDA diagnostic information for host: s1cmp008.pax.tufts.edu\n",
      "2024-06-14 08:52:32.179156: I external/local_xla/xla/stream_executor/cuda/cuda_diagnostics.cc:136] hostname: s1cmp008.pax.tufts.edu\n",
      "2024-06-14 08:52:32.179246: I external/local_xla/xla/stream_executor/cuda/cuda_diagnostics.cc:159] libcuda reported version is: 535.129.3\n",
      "2024-06-14 08:52:32.179272: I external/local_xla/xla/stream_executor/cuda/cuda_diagnostics.cc:163] kernel reported version is: 535.129.3\n",
      "2024-06-14 08:52:32.179278: I external/local_xla/xla/stream_executor/cuda/cuda_diagnostics.cc:241] kernel version seems to match DSO: 535.129.3\n"
     ]
    }
   ],
   "source": [
    "    # Distribution Settings\n",
    "    scale = 1\n",
    "    mean = 0\n",
    "\n",
    "    normal_dist = scipy.stats.norm(loc=mean, scale=scale)\n",
    "\n",
    "    # Number of independent datapoints \n",
    "    T = 1000\n",
    "\n",
    "    seed=360\n",
    "    rng = np.random.RandomState(seed)\n",
    "    y_T = normal_dist.rvs(size=T, random_state=rng)\n",
    "\n",
    "    # create keras model\n",
    "    inputs = keras.Input(shape=0)\n",
    "    # a dense layer with an empty input will just be an intercept term\n",
    "    intercept_layer = keras.layers.Dense(1, activation = None)\n",
    "    # Create a normal distribution with a mean equal to the input \n",
    "    distribution_layer = tfp.layers.DistributionLambda(lambda t: tfp.distributions.Normal(loc=t, scale=1))\n",
    "    predicted_mean = intercept_layer(inputs)\n",
    "    distribution = distribution_layer(predicted_mean)\n",
    "    model = keras.Model(inputs=inputs, outputs=distribution)"
   ]
  },
  {
   "cell_type": "code",
   "execution_count": 3,
   "metadata": {},
   "outputs": [],
   "source": [
    "    # Create an empty input so we can do a forward pass\n",
    "    x_TF = np.zeros(shape=(T,0))\n"
   ]
  },
  {
   "cell_type": "code",
   "execution_count": 7,
   "metadata": {},
   "outputs": [],
   "source": [
    "    # number of score function trick samples\n",
    "    N=50\n",
    "    with tf.GradientTape() as tape:\n",
    "        model_distribution = model(x_TF)\n",
    "        sample_y_NT = model_distribution.sample(N)\n",
    "        stopped_samples = tf.stop_gradient(sample_y_NT)\n",
    "        sample_log_probs_NT = model_distribution.log_prob(stopped_samples)\n",
    "\n",
    "    # use jacobian to get gradient of each sample\n",
    "    jacobian_params_NT = tape.jacobian(sample_log_probs_NT, model.trainable_weights)"
   ]
  },
  {
   "cell_type": "code",
   "execution_count": 18,
   "metadata": {},
   "outputs": [
    {
     "data": {
      "text/plain": [
       "[<tf.Tensor: shape=(5, 1000, 1, 0, 1), dtype=float32, numpy=array([], shape=(5, 1000, 1, 0, 1), dtype=float32)>,\n",
       " <tf.Tensor: shape=(5, 1000, 1, 1), dtype=float32, numpy=\n",
       " array([[[[1.]],\n",
       " \n",
       "         [[1.]],\n",
       " \n",
       "         [[1.]],\n",
       " \n",
       "         ...,\n",
       " \n",
       "         [[1.]],\n",
       " \n",
       "         [[1.]],\n",
       " \n",
       "         [[1.]]],\n",
       " \n",
       " \n",
       "        [[[1.]],\n",
       " \n",
       "         [[1.]],\n",
       " \n",
       "         [[1.]],\n",
       " \n",
       "         ...,\n",
       " \n",
       "         [[1.]],\n",
       " \n",
       "         [[1.]],\n",
       " \n",
       "         [[1.]]],\n",
       " \n",
       " \n",
       "        [[[1.]],\n",
       " \n",
       "         [[1.]],\n",
       " \n",
       "         [[1.]],\n",
       " \n",
       "         ...,\n",
       " \n",
       "         [[1.]],\n",
       " \n",
       "         [[1.]],\n",
       " \n",
       "         [[1.]]],\n",
       " \n",
       " \n",
       "        [[[1.]],\n",
       " \n",
       "         [[1.]],\n",
       " \n",
       "         [[1.]],\n",
       " \n",
       "         ...,\n",
       " \n",
       "         [[1.]],\n",
       " \n",
       "         [[1.]],\n",
       " \n",
       "         [[1.]]],\n",
       " \n",
       " \n",
       "        [[[1.]],\n",
       " \n",
       "         [[1.]],\n",
       " \n",
       "         [[1.]],\n",
       " \n",
       "         ...,\n",
       " \n",
       "         [[1.]],\n",
       " \n",
       "         [[1.]],\n",
       " \n",
       "         [[1.]]]], dtype=float32)>]"
      ]
     },
     "execution_count": 18,
     "metadata": {},
     "output_type": "execute_result"
    }
   ],
   "source": [
    "jacobian_params_NT"
   ]
  },
  {
   "cell_type": "code",
   "execution_count": 6,
   "metadata": {},
   "outputs": [
    {
     "data": {
      "text/plain": [
       "'2.15.0'"
      ]
     },
     "execution_count": 6,
     "metadata": {},
     "output_type": "execute_result"
    }
   ],
   "source": [
    "tf.__version__"
   ]
  },
  {
   "cell_type": "code",
   "execution_count": 7,
   "metadata": {},
   "outputs": [
    {
     "data": {
      "text/plain": [
       "'0.23.0'"
      ]
     },
     "execution_count": 7,
     "metadata": {},
     "output_type": "execute_result"
    }
   ],
   "source": [
    "tfp.__version__"
   ]
  },
  {
   "cell_type": "code",
   "execution_count": 3,
   "metadata": {},
   "outputs": [
    {
     "data": {
      "text/plain": [
       "'2.15.0'"
      ]
     },
     "execution_count": 3,
     "metadata": {},
     "output_type": "execute_result"
    }
   ],
   "source": [
    "keras.__version__"
   ]
  },
  {
   "cell_type": "code",
   "execution_count": 6,
   "metadata": {},
   "outputs": [],
   "source": [
    "\n",
    "@tf.function(reduce_retracing=True)\n",
    "def get_grad(x_TF):\n",
    "    # number of score function trick samples\n",
    "    N=5\n",
    "    model_distribution = model(x_TF)\n",
    "    sample_y_NT = model_distribution.sample(N)\n",
    "    with tf.GradientTape() as tape:\n",
    "        \n",
    "        model_distribution = model(x_TF)\n",
    "        #stopped_samples = tf.stop_gradient(sample_y_NT)\n",
    "        sample_log_probs_NT = model_distribution.log_prob(sample_y_NT)\n",
    "\n",
    "    # use jacobian to get gradient of each sample\n",
    "    jacobian_params_NT = tape.jacobian(sample_log_probs_NT, model.trainable_weights)\n",
    "    return jacobian_params_NT"
   ]
  },
  {
   "cell_type": "code",
   "execution_count": 7,
   "metadata": {},
   "outputs": [],
   "source": [
    "get_grad(x_TF)"
   ]
  },
  {
   "cell_type": "code",
   "execution_count": null,
   "metadata": {},
   "outputs": [],
   "source": []
  }
 ],
 "metadata": {
  "kernelspec": {
   "display_name": "pip_k2_tf",
   "language": "python",
   "name": "python3"
  },
  "language_info": {
   "codemirror_mode": {
    "name": "ipython",
    "version": 3
   },
   "file_extension": ".py",
   "mimetype": "text/x-python",
   "name": "python",
   "nbconvert_exporter": "python",
   "pygments_lexer": "ipython3",
   "version": "3.11.7"
  }
 },
 "nbformat": 4,
 "nbformat_minor": 2
}
