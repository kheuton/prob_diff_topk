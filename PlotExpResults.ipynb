{
 "cells": [
  {
   "cell_type": "code",
   "execution_count": null,
   "metadata": {},
   "outputs": [],
   "source": [
    "%load_ext autoreload\n",
    "%autoreload 2\n",
    "import numpy as np\n",
    "import torch \n",
    "import os\n",
    "import glob\n",
    "from matplotlib import pyplot as plt\n",
    "import os\n",
    "import torch\n",
    "# Cd to code\n",
    "import os\n",
    "import sys\n",
    "os.chdir('/cluster/home/kheuto01/code/prob_diff_topk')\n",
    "sys.path.append('/cluster/home/kheuto01/code/prob_diff_topk')\n",
    "\n",
    "from datasets import example_datasets, to_numpy\n",
    "from torch_models import  MixtureOfTruncNormModel, torch_bpr_uncurried, deterministic_bpr\n",
    "from torch_perturb.torch_pert_topk import PerturbedTopK\n",
    "from distributions import QuantizedNormal\n",
    "\n"
   ]
  },
  {
   "cell_type": "code",
   "execution_count": null,
   "metadata": {},
   "outputs": [],
   "source": [
    "base_dir = '/cluster/tufts/hugheslab/kheuto01/synth_103050_20randinitidx_1000_comp2'\n",
    "exps = glob.glob(base_dir + '/*')"
   ]
  },
  {
   "cell_type": "code",
   "execution_count": null,
   "metadata": {},
   "outputs": [],
   "source": [
    "seed=360\n",
    "# tracts/distributions\n",
    "S=23\n",
    "\n",
    "# total timepoints\n",
    "T= 500\n",
    "K=3\n",
    "\n",
    "low_set_1_10 = [QuantizedNormal(10, 0.3) for _ in range(10)]\n",
    "low_set_2_10 = [QuantizedNormal(30, 0.3) for _ in range(10)]\n",
    "high_set_3 = [QuantizedNormal(50,3) for _ in range(3)]\n",
    "\n",
    "dist_S = low_set_1_10 + low_set_2_10 + high_set_3\n",
    "\n",
    "train_y_TS = np.zeros((T, S))\n",
    "for s, dist in enumerate(dist_S):\n",
    "    random_state = np.random.RandomState(10000 * seed + s*123456)\n",
    "    train_y_TS[:, s] = dist.rvs(size=T, random_state=random_state)"
   ]
  },
  {
   "cell_type": "code",
   "execution_count": null,
   "metadata": {},
   "outputs": [],
   "source": [
    "len(exps)"
   ]
  },
  {
   "cell_type": "code",
   "execution_count": null,
   "metadata": {},
   "outputs": [],
   "source": [
    "min_nll=1e9\n",
    "for exp in exps:\n",
    "    if 'bw0'  in exp or 'nw0' in  exp:\n",
    "        continue\n",
    "    nlls = torch.load(exp + '/nlls.pth')\n",
    "    nlls = [nll.detach().numpy() for nll in nlls]\n",
    "    this_nll = np.min(nlls)\n",
    "\n",
    "    if this_nll < min_nll:\n",
    "        min_nll = this_nll\n",
    "        best_exp = exp\n",
    "print(best_exp)\n",
    "print(min_nll)"
   ]
  },
  {
   "cell_type": "code",
   "execution_count": null,
   "metadata": {},
   "outputs": [],
   "source": [
    "min_loss=1e9\n",
    "for exp in exps:\n",
    "    if 'bw0' in exp or 'nw0' in exp:\n",
    "        continue\n",
    "    losses = torch.load(exp + '/losses.pth')\n",
    "    losses = [loss.detach().numpy() for loss in losses]\n",
    "    this_loss = np.min(losses)\n",
    "\n",
    "    if this_loss < min_loss:\n",
    "        min_loss = this_loss\n",
    "        best_exp = exp\n",
    "print(best_exp)\n",
    "print(min_loss)"
   ]
  },
  {
   "cell_type": "code",
   "execution_count": null,
   "metadata": {},
   "outputs": [],
   "source": [
    "max_bpr=0\n",
    "for exp in exps:\n",
    "    if 'mu110mu250_bw5000_nw1_sig0.05_ss0.1_th0.99'  not in exp:\n",
    "        continue\n",
    "    bprs = torch.load(exp + '/bprs.pth')\n",
    "    bprs = [bpr.detach().numpy() for bpr in bprs]\n",
    "    this_bpr = bprs[-1]\n",
    "\n",
    "    if this_bpr > max_bpr:\n",
    "        max_bpr = this_bpr\n",
    "        best_exp = exp\n",
    "print(best_exp)\n",
    "print(max_bpr)"
   ]
  },
  {
   "cell_type": "code",
   "execution_count": null,
   "metadata": {},
   "outputs": [],
   "source": [
    "def make_report(model, exp, data, title=None):\n",
    "    model.load_state_dict(torch.load(exp + '/model.pth'))\n",
    "    losses = torch.load(exp + '/losses.pth')\n",
    "    bprs = torch.load(exp + '/bprs.pth')\n",
    "    nlls = torch.load(exp + '/nlls.pth')\n",
    "\n",
    "    losses = np.array([loss.detach().numpy() for loss in losses])\n",
    "    bprs = np.array([bpr.detach().numpy() for bpr in bprs])\n",
    "    nlls = np.array([nll.detach().numpy() for nll in nlls])\n",
    "\n",
    "    \n",
    "    # Make an html page with plots of loss, bpr, nll\n",
    "    fig, ax = plt.subplots(2, 2, figsize=(10, 10))\n",
    "    ax[0, 0].plot(losses)\n",
    "    ax[0, 0].set_title('Loss')\n",
    "    ax[0, 1].plot(bprs)\n",
    "    ax[0, 1].set_title('BPR')\n",
    "    ax[1, 0].plot(nlls)\n",
    "    ax[1, 0].set_title('NLL')\n",
    "    model.plot_learned(data=train_y_TS, ax=ax[1, 1])\n",
    "    if title is not None:\n",
    "        fig.suptitle(title)\n",
    "    fig.savefig(exp + '/report.png')\n",
    "    return model\n",
    "    "
   ]
  },
  {
   "cell_type": "code",
   "execution_count": null,
   "metadata": {},
   "outputs": [],
   "source": [
    "for e,exp in enumerate(exps):\n",
    "    #if 'mu110mu250_bw5000_nw1_sig0.01_ss0.001_th0.99' not in exp:\n",
    "    #    continue\n",
    "    if e % 10 == 0:\n",
    "        print(f'Processing {e} / {len(exps)}')\n",
    "\n",
    "    # extract bw number and new number from model name\n",
    "    bw = exp.split('bw')[1].split('_')[0]\n",
    "    nw = exp.split('nw')[1].split('_')[0]\n",
    "    title = f'BPR Weight: {bw}, NLL Weight: {nw}'\n",
    "    model = MixtureOfTruncNormModel(num_components=2, S=23)\n",
    "    model = make_report(model, exp, train_y_TS, title=title)"
   ]
  },
  {
   "cell_type": "code",
   "execution_count": null,
   "metadata": {},
   "outputs": [],
   "source": [
    "model.plot_learned(train_y_TS)"
   ]
  },
  {
   "cell_type": "code",
   "execution_count": null,
   "metadata": {},
   "outputs": [],
   "source": [
    "model.plot_learned(train_y_TS)"
   ]
  },
  {
   "cell_type": "code",
   "execution_count": null,
   "metadata": {},
   "outputs": [],
   "source": [
    "# bw500_nw0_ss0.001_th0.55\n",
    "M_score_func =  200\n",
    "M_action = 200\n",
    "val_T = val_y_TS.shape[0]\n",
    "mix_model = model()\n",
    "bpr_nll = torch.sum(-mix_model.log_prob( torch.tensor(val_y_TS)))\n",
    "y_sample_TMS = mix_model.sample((val_T, M_score_func))\n",
    "y_sample_action_TMS = mix_model.sample((val_T, M_action))\n",
    "\n",
    "ratio_rating_TMS = y_sample_action_TMS/y_sample_action_TMS.sum(dim=-1, keepdim=True)\n",
    "ratio_rating_TS =  ratio_rating_TMS.mean(dim=1)\n",
    "deterministic_bpr_T = deterministic_bpr(ratio_rating_TS, torch.tensor(val_y_TS), K=K)\n",
    "bpr_det_bpr =torch.mean(deterministic_bpr_T)"
   ]
  },
  {
   "cell_type": "code",
   "execution_count": null,
   "metadata": {},
   "outputs": [],
   "source": [
    "# bw0_nw1_ss0.1_th0.55\n",
    "M_score_func =  200\n",
    "M_action = 200\n",
    "val_T = val_y_TS.shape[0]\n",
    "mix_model = model()\n",
    "nll_nll = torch.sum(-mix_model.log_prob( torch.tensor(val_y_TS)))\n",
    "y_sample_TMS = mix_model.sample((val_T, M_score_func))\n",
    "y_sample_action_TMS = mix_model.sample((val_T, M_action))\n",
    "\n",
    "ratio_rating_TMS = y_sample_action_TMS/y_sample_action_TMS.sum(dim=-1, keepdim=True)\n",
    "ratio_rating_TS =  ratio_rating_TMS.mean(dim=1)\n",
    "deterministic_bpr_T = deterministic_bpr(ratio_rating_TS, torch.tensor(val_y_TS), K=K)\n",
    "nll_det_bpr =torch.mean(deterministic_bpr_T)"
   ]
  },
  {
   "cell_type": "code",
   "execution_count": null,
   "metadata": {},
   "outputs": [],
   "source": [
    "#bw5000_nw1_ss0.1_th0.55\n",
    "M_score_func =  200\n",
    "M_action = 200\n",
    "val_T = val_y_TS.shape[0]\n",
    "mix_model = model()\n",
    "comb_nll = torch.sum(-mix_model.log_prob( torch.tensor(val_y_TS)))\n",
    "y_sample_TMS = mix_model.sample((val_T, M_score_func))\n",
    "y_sample_action_TMS = mix_model.sample((val_T, M_action))\n",
    "\n",
    "ratio_rating_TMS = y_sample_action_TMS/y_sample_action_TMS.sum(dim=-1, keepdim=True)\n",
    "ratio_rating_TS =  ratio_rating_TMS.mean(dim=1)\n",
    "deterministic_bpr_T = deterministic_bpr(ratio_rating_TS, torch.tensor(val_y_TS), K=K)\n",
    "comb_det_bpr =torch.mean(deterministic_bpr_T)"
   ]
  },
  {
   "cell_type": "code",
   "execution_count": null,
   "metadata": {},
   "outputs": [],
   "source": [
    "plt.plot([comb_det_bpr.detach()], [-comb_nll.detach()], 'ko', label='Optimize Both')\n",
    "plt.plot([nll_det_bpr.detach()], [-nll_nll.detach()], 'bo', label='Optimize NLL')\n",
    "plt.plot([bpr_det_bpr.detach()], [-bpr_nll.detach()], 'go', label='Optimize BPR')\n",
    "plt.legend()\n",
    "plt.xlabel('BPR')\n",
    "plt.ylabel('Log Likelihood')"
   ]
  },
  {
   "cell_type": "code",
   "execution_count": null,
   "metadata": {},
   "outputs": [],
   "source": [
    "import collections"
   ]
  },
  {
   "cell_type": "code",
   "execution_count": 13,
   "metadata": {},
   "outputs": [
    {
     "data": {
      "text/plain": [
       "<matplotlib.legend.Legend at 0x1542bc803a10>"
      ]
     },
     "execution_count": 13,
     "metadata": {},
     "output_type": "execute_result"
    },
    {
     "data": {
      "image/png": "[encoded data removed]",
      "text/plain": [
       "<Figure size 640x480 with 1 Axes>"
      ]
     },
     "metadata": {},
     "output_type": "display_data"
    }
   ],
   "source": [
    "nll_bprs = []\n",
    "nll_nlls = []\n",
    "nll_bprs_by_init = collections.defaultdict(lambda: -np.inf)\n",
    "nll_nlls_by_init = collections.defaultdict(lambda: -np.inf)\n",
    "nll_exp_by_init = collections.defaultdict(str)\n",
    "bpr_bprs = []\n",
    "bpr_nlls = []\n",
    "bpr_bprs_by_init = collections.defaultdict(lambda: -np.inf)\n",
    "bpr_nlls_by_init = collections.defaultdict(lambda: -np.inf)\n",
    "bpr_exp_by_init = collections.defaultdict(str)\n",
    "both_bprs = []\n",
    "both_nlls = []\n",
    "\n",
    "for e,exp in enumerate(exps):\n",
    "    losses = torch.load(exp + '/losses.pth')\n",
    "    bprs = torch.load(exp + '/bprs.pth')\n",
    "    nlls = torch.load(exp + '/nlls.pth')\n",
    "\n",
    "    losses = np.array([loss.detach().numpy() for loss in losses])\n",
    "    bprs = np.array([bpr.detach().numpy() for bpr in bprs])\n",
    "    nlls = np.array([nll.detach().numpy() for nll in nlls])\n",
    "    bw = exp.split('bw')[1].split('_')[0]\n",
    "    nw = exp.split('nw')[1].split('_')[0]\n",
    "    init = int(exp.split('init')[-1])\n",
    "\n",
    "    bpr = bprs[-1]\n",
    "    nll = -nlls[-1]\n",
    "\n",
    "\n",
    "    if bw=='0':\n",
    "        nll_bprs.append(bprs[-1])\n",
    "        nll_nlls.append(-nlls[-1])\n",
    "        if nll > nll_nlls_by_init[init]:\n",
    "            nll_nlls_by_init[init] = nll\n",
    "            nll_bprs_by_init[init] = bpr\n",
    "            nll_exp_by_init[init] = exp\n",
    "    elif nw=='0':\n",
    "        bpr_bprs.append(bprs[-1])\n",
    "        bpr_nlls.append(-nlls[-1])\n",
    "        if bpr > bpr_bprs_by_init[init]:\n",
    "            bpr_bprs_by_init[init] = bpr\n",
    "            bpr_nlls_by_init[init] = nll\n",
    "            bpr_exp_by_init[init] = exp\n",
    "    else:\n",
    "        both_bprs.append(bprs[-1])\n",
    "        both_nlls.append(-nlls[-1])\n",
    "\n",
    "plt.plot(nll_bprs_by_init.values(), nll_nlls_by_init.values(), 'bo', label='Optimize NLL')\n",
    "plt.plot(bpr_bprs_by_init.values(), bpr_nlls_by_init.values(), 'go', label='Optimize BPR')\n",
    "plt.plot(both_bprs, both_nlls, 'ro', label='Optimize Both')\n",
    "plt.xlabel('BPR')\n",
    "plt.ylabel('Log Likelihood')\n",
    "# set ylimits to -100000 to 0\n",
    "#plt.ylim(-1100000, -1000)\n",
    "# make y axis log scale even with negative values\n",
    "plt.yscale('symlog', linthresh=1)\n",
    "plt.title('Training Frontier')\n",
    "plt.legend()\n",
    "    "
   ]
  },
  {
   "cell_type": "code",
   "execution_count": 15,
   "metadata": {},
   "outputs": [
    {
     "name": "stdout",
     "output_type": "stream",
     "text": [
      "NLL: -27680.57538404452, BPR: 0.5993958968436736, Exp: /cluster/tufts/hugheslab/kheuto01/synth_103050_20randinitidx_1000_comp2/bw0_nw1_ss0.5_init0\n",
      "NLL: -24237.511552512304, BPR: 0.6856786869164668, Exp: /cluster/tufts/hugheslab/kheuto01/synth_103050_20randinitidx_1000_comp2/bw0_nw1_ss0.5_init1\n",
      "NLL: -27299.23445400868, BPR: 0.5995411778011682, Exp: /cluster/tufts/hugheslab/kheuto01/synth_103050_20randinitidx_1000_comp2/bw0_nw1_ss0.5_init10\n",
      "NLL: -40692.98178153909, BPR: 1.0, Exp: /cluster/tufts/hugheslab/kheuto01/synth_103050_20randinitidx_1000_comp2/bw0_nw1_ss0.5_init11\n",
      "NLL: -24237.51799862297, BPR: 0.6945068050698363, Exp: /cluster/tufts/hugheslab/kheuto01/synth_103050_20randinitidx_1000_comp2/bw0_nw1_ss0.5_init12\n",
      "NLL: -45789.4700655976, BPR: 0.4753387270048208, Exp: /cluster/tufts/hugheslab/kheuto01/synth_103050_20randinitidx_1000_comp2/bw0_nw1_ss0.5_init13\n",
      "NLL: -40692.984195646466, BPR: 1.0, Exp: /cluster/tufts/hugheslab/kheuto01/synth_103050_20randinitidx_1000_comp2/bw0_nw1_ss0.5_init14\n",
      "NLL: -24237.51432903688, BPR: 0.6964510420443867, Exp: /cluster/tufts/hugheslab/kheuto01/synth_103050_20randinitidx_1000_comp2/bw0_nw1_ss0.5_init15\n",
      "NLL: -24237.505026986997, BPR: 0.690644753957896, Exp: /cluster/tufts/hugheslab/kheuto01/synth_103050_20randinitidx_1000_comp2/bw0_nw1_ss0.5_init16\n",
      "NLL: -40693.005026839106, BPR: 1.0, Exp: /cluster/tufts/hugheslab/kheuto01/synth_103050_20randinitidx_1000_comp2/bw0_nw1_ss0.5_init17\n",
      "NLL: -24237.509999816044, BPR: 0.6900566842963499, Exp: /cluster/tufts/hugheslab/kheuto01/synth_103050_20randinitidx_1000_comp2/bw0_nw1_ss0.5_init18\n",
      "NLL: -40693.03627335481, BPR: 1.0, Exp: /cluster/tufts/hugheslab/kheuto01/synth_103050_20randinitidx_1000_comp2/bw0_nw1_ss0.5_init19\n",
      "NLL: -40692.99451727109, BPR: 1.0, Exp: /cluster/tufts/hugheslab/kheuto01/synth_103050_20randinitidx_1000_comp2/bw0_nw1_ss0.5_init2\n",
      "NLL: -24237.545290579044, BPR: 0.6883870138299407, Exp: /cluster/tufts/hugheslab/kheuto01/synth_103050_20randinitidx_1000_comp2/bw0_nw1_ss0.5_init3\n",
      "NLL: -40713.41280577025, BPR: 1.0, Exp: /cluster/tufts/hugheslab/kheuto01/synth_103050_20randinitidx_1000_comp2/bw0_nw1_ss0.5_init4\n",
      "NLL: -40692.99356743078, BPR: 1.0, Exp: /cluster/tufts/hugheslab/kheuto01/synth_103050_20randinitidx_1000_comp2/bw0_nw1_ss0.5_init5\n",
      "NLL: -40692.99166028337, BPR: 1.0, Exp: /cluster/tufts/hugheslab/kheuto01/synth_103050_20randinitidx_1000_comp2/bw0_nw1_ss0.5_init6\n",
      "NLL: -40693.011485864976, BPR: 1.0, Exp: /cluster/tufts/hugheslab/kheuto01/synth_103050_20randinitidx_1000_comp2/bw0_nw1_ss0.5_init7\n",
      "NLL: -40692.99896352076, BPR: 1.0, Exp: /cluster/tufts/hugheslab/kheuto01/synth_103050_20randinitidx_1000_comp2/bw0_nw1_ss0.5_init8\n",
      "NLL: -45796.63873406744, BPR: 0.4703856962611121, Exp: /cluster/tufts/hugheslab/kheuto01/synth_103050_20randinitidx_1000_comp2/bw0_nw1_ss0.5_init9\n"
     ]
    }
   ],
   "source": [
    "for nll, bpr, exp in zip(nll_nlls_by_init.values(), nll_bprs_by_init.values(), nll_exp_by_init.values()):\n",
    "    print(f'NLL: {nll}, BPR: {bpr}, Exp: {exp}')"
   ]
  },
  {
   "cell_type": "code",
   "execution_count": null,
   "metadata": {},
   "outputs": [],
   "source": [
    "plt.plot(nll_bprs, nll_nlls, 'bo', label='Optimize NLL')\n",
    "plt.plot(bpr_bprs, bpr_nlls, 'go', label='Optimize BPR')\n",
    "plt.plot(both_bprs, both_nlls, 'ro', label='Optimize Both')\n",
    "plt.xlabel('BPR')\n",
    "plt.ylabel('Log Likelihood')\n",
    "# set ylimits to -100000 to 0\n",
    "#plt.ylim(-1100000, -20000)\n",
    "# make y axis log scale even with negative values\n",
    "plt.yscale('symlog', linthresh=1)\n",
    "plt.title('Training Frontier')\n",
    "plt.legend()\n",
    "    "
   ]
  },
  {
   "cell_type": "code",
   "execution_count": null,
   "metadata": {},
   "outputs": [],
   "source": [
    "nllslen(n)"
   ]
  },
  {
   "cell_type": "code",
   "execution_count": null,
   "metadata": {},
   "outputs": [],
   "source": []
  }
 ],
 "metadata": {
  "kernelspec": {
   "display_name": "pip_k3",
   "language": "python",
   "name": "python3"
  },
  "language_info": {
   "codemirror_mode": {
    "name": "ipython",
    "version": 3
   },
   "file_extension": ".py",
   "mimetype": "text/x-python",
   "name": "python",
   "nbconvert_exporter": "python",
   "pygments_lexer": "ipython3",
   "version": "3.11.8"
  }
 },
 "nbformat": 4,
 "nbformat_minor": 2
}
