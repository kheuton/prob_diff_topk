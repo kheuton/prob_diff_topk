{
 "cells": [
  {
   "cell_type": "code",
   "execution_count": 1,
   "metadata": {},
   "outputs": [
    {
     "name": "stderr",
     "output_type": "stream",
     "text": [
      "2024-05-16 08:33:00.635485: I tensorflow/core/util/port.cc:113] oneDNN custom operations are on. You may see slightly different numerical results due to floating-point round-off errors from different computation orders. To turn them off, set the environment variable `TF_ENABLE_ONEDNN_OPTS=0`.\n",
      "2024-05-16 08:33:00.679159: E external/local_xla/xla/stream_executor/cuda/cuda_dnn.cc:9261] Unable to register cuDNN factory: Attempting to register factory for plugin cuDNN when one has already been registered\n",
      "2024-05-16 08:33:00.679193: E external/local_xla/xla/stream_executor/cuda/cuda_fft.cc:607] Unable to register cuFFT factory: Attempting to register factory for plugin cuFFT when one has already been registered\n",
      "2024-05-16 08:33:00.680143: E external/local_xla/xla/stream_executor/cuda/cuda_blas.cc:1515] Unable to register cuBLAS factory: Attempting to register factory for plugin cuBLAS when one has already been registered\n",
      "2024-05-16 08:33:00.687316: I tensorflow/core/platform/cpu_feature_guard.cc:182] This TensorFlow binary is optimized to use available CPU instructions in performance-critical operations.\n",
      "To enable the following instructions: AVX2 AVX512F AVX512_VNNI FMA, in other operations, rebuild TensorFlow with the appropriate compiler flags.\n",
      "2024-05-16 08:33:01.748050: W tensorflow/compiler/tf2tensorrt/utils/py_utils.cc:38] TF-TRT Warning: Could not find TensorRT\n"
     ]
    }
   ],
   "source": [
    "%load_ext autoreload\n",
    "%autoreload 2\n",
    "from functools import partial\n",
    "\n",
    "import keras\n",
    "\n",
    "from datasets import example_datasets, to_numpy\n",
    "from models import mixture_poissons,location_specific_linear, CustomPenalizedMixtureDecisionModel, get_mixture\n",
    "from metrics import mixture_poi_loss, get_bpr_loss_func, mix_bpr, get_penalized_bpr_loss_func_mix, cross_ratio_decision, get_perturbed_bpr_func\n",
    "from experiments import training_loop, training_loop_score_function_trick, score_function_trick, overall_gradient_calculation\n",
    "from plotting_funcs import plot_losses, plot_frontier, sample_and_plot\n",
    "\n",
    "import scipy\n",
    "\n",
    "import tensorflow as tf\n",
    "import tensorflow_probability as tfp\n",
    "import numpy as np\n",
    "\n",
    "import matplotlib.pyplot as plt\n",
    "import resource\n",
    "import datetime\n",
    "import time"
   ]
  },
  {
   "cell_type": "code",
   "execution_count": 20,
   "metadata": {},
   "outputs": [
    {
     "data": {
      "image/png": "[encoded data removed]",
      "text/plain": [
       "<Figure size 640x480 with 2 Axes>"
      ]
     },
     "metadata": {},
     "output_type": "display_data"
    }
   ],
   "source": [
    "# Distribution Settings\n",
    "scale = 1\n",
    "means = [5, 15, 25, 35]\n",
    "\n",
    "normal_4 = [scipy.stats.norm(loc=mean, scale=scale) for mean in means]\n",
    "sample_and_plot(normal_4)\n",
    "\n",
    "S=4\n",
    "# Historical data as features\n",
    "H=2\n",
    "# Total timepoints in data\n",
    "T = 1000\n",
    "\n",
    "learning_rate = 0.05\n",
    "\n",
    "train_dataset, val_dataset, test_dataset, (train_X_THS, train_y_TS), (val_X_THS, val_y_TS), (test_X_THS, test_y_TS) = example_datasets(H, T, dist_S=normal_4, return_numpy=True)"
   ]
  },
  {
   "cell_type": "code",
   "execution_count": 3,
   "metadata": {},
   "outputs": [],
   "source": [
    "class LocSpecificMixWeights(keras.layers.Layer):\n",
    "    \"\"\"Dumb layer that just returns mixture weights\n",
    "    Constrained to unit norm\n",
    "    \"\"\"\n",
    "    def __init__(self, num_locations, num_components=2, **kwargs):\n",
    "        super().__init__(**kwargs)\n",
    "        self.w = self.add_weight(name='shared_mix_weights',\n",
    "            shape=(num_locations, num_components ),\n",
    "            initializer=\"uniform\",\n",
    "            trainable=True,\n",
    "        )\n",
    "        \n",
    "        self.softmax = keras.layers.Softmax(axis=1)\n",
    "\n",
    "    def call(self, inputs):\n",
    "        return self.softmax(self.w)\n",
    "\n",
    "def build_mixture_normal(parameter_model, input_shape, scale=1, num_components=4, seed=360):\n",
    "    num_features, num_locations = input_shape\n",
    "    member_models = []\n",
    "    for c in range(num_components):\n",
    "        member_models.append(parameter_model(input_shape, seed=seed+1000*c))\n",
    "\n",
    "    # Define layers\n",
    "    inputs = keras.Input(shape=input_shape, name='mix_input')\n",
    "    reshape_layer = keras.layers.Reshape(name='mix_reshape', target_shape=(-1,1))\n",
    "    concat_layer = keras.layers.Concatenate(name='mix_concat',axis=-1)\n",
    "\n",
    "    mixture_weight_layer = LocSpecificMixWeights(num_locations, name='mixture_weights', num_components=num_components)\n",
    "\n",
    "    reshaped = [reshape_layer(member(inputs)) for member in member_models]\n",
    "    concatted = concat_layer(reshaped)\n",
    "    \n",
    "    mixture_weights = mixture_weight_layer(inputs)\n",
    "\n",
    "    mixture_distribution_layer = tfp.layers.DistributionLambda(lambda params: \n",
    "        tfp.distributions.MixtureSameFamily(mixture_distribution=tfp.distributions.Categorical(probs=params[0]),\n",
    "                                            components_distribution = tfp.distributions.Normal(loc=params[1], scale=scale, validate_args=True)))\n",
    "    \n",
    "    outputs = mixture_distribution_layer([mixture_weights, concatted])\n",
    "\n",
    "    model = keras.Model(name='mixture_model', inputs=inputs, outputs=[outputs])\n",
    "\n",
    "    return model \n",
    "\n"
   ]
  },
  {
   "cell_type": "code",
   "execution_count": 21,
   "metadata": {},
   "outputs": [],
   "source": [
    "model = build_mixture_normal(location_specific_linear, (H, S),scale=scale, num_components=4)\n",
    "optimizer = keras.optimizers.Adam(learning_rate=learning_rate)"
   ]
  },
  {
   "cell_type": "code",
   "execution_count": 5,
   "metadata": {},
   "outputs": [
    {
     "name": "stdout",
     "output_type": "stream",
     "text": [
      "Name: linear_convolution/kernel:0\n",
      "Shape: (1, 2, 1)\n",
      "Name: linear_convolution/kernel:0\n",
      "Shape: (1, 2, 1)\n",
      "Name: linear_convolution/kernel:0\n",
      "Shape: (1, 2, 1)\n",
      "Name: linear_convolution/kernel:0\n",
      "Shape: (1, 2, 1)\n"
     ]
    }
   ],
   "source": [
    "# Set linear weights to 0\n",
    "for index in [0, 2, 4, 6]:\n",
    "    variable = model.trainable_variables[index]\n",
    "    print(f'Name: {variable.name}')\n",
    "    print(f'Shape: {variable.shape}')\n",
    "\n",
    "    variable.assign(tf.zeros(variable.shape))"
   ]
  },
  {
   "cell_type": "code",
   "execution_count": 6,
   "metadata": {},
   "outputs": [
    {
     "name": "stdout",
     "output_type": "stream",
     "text": [
      "Name: linear_convolution/bias:0\n",
      "Shape: (1,)\n",
      "Name: linear_convolution/bias:0\n",
      "Shape: (1,)\n",
      "Name: linear_convolution/bias:0\n",
      "Shape: (1,)\n",
      "Name: linear_convolution/bias:0\n",
      "Shape: (1,)\n"
     ]
    }
   ],
   "source": [
    "# set biases to true value\n",
    "for index, bias in zip([1, 3, 5, 7], [5.0, 15.0, 25.0, 35.0]):\n",
    "    variable = model.trainable_variables[index]\n",
    "    print(f'Name: {variable.name}')\n",
    "    print(f'Shape: {variable.shape}')\n",
    "\n",
    "    variable.assign(tfp.math.softplus_inverse([bias]))"
   ]
  },
  {
   "cell_type": "code",
   "execution_count": 7,
   "metadata": {},
   "outputs": [
    {
     "name": "stdout",
     "output_type": "stream",
     "text": [
      "Name: shared_mix_weights:0\n",
      "Shape: (4, 4)\n"
     ]
    },
    {
     "data": {
      "text/plain": [
       "<tf.Variable 'UnreadVariable' shape=(4, 4) dtype=float32, numpy=\n",
       "array([[  0.      , -29.933605, -29.933605, -29.933605],\n",
       "       [-29.933605,   0.      , -29.933605, -29.933605],\n",
       "       [-29.933605, -29.933605,   0.      , -29.933605],\n",
       "       [-29.933605, -29.933605, -29.933605,   0.      ]], dtype=float32)>"
      ]
     },
     "execution_count": 7,
     "metadata": {},
     "output_type": "execute_result"
    }
   ],
   "source": [
    "index = -1\n",
    "variable = model.trainable_variables[index]\n",
    "print(f'Name: {variable.name}')\n",
    "print(f'Shape: {variable.shape}')\n",
    "\n",
    "weights = tf.eye(4)\n",
    "\n",
    "variable.assign(tf.math.log(weights+1e-13))"
   ]
  },
  {
   "cell_type": "code",
   "execution_count": 8,
   "metadata": {},
   "outputs": [],
   "source": [
    "mixture_model = model(train_X_THS)"
   ]
  },
  {
   "cell_type": "code",
   "execution_count": 22,
   "metadata": {},
   "outputs": [],
   "source": [
    "num_score_func_samples=5"
   ]
  },
  {
   "cell_type": "code",
   "execution_count": 10,
   "metadata": {},
   "outputs": [
    {
     "name": "stdout",
     "output_type": "stream",
     "text": [
      "Sample y shape (50, 600, 4)\n",
      "Expected decisions shape (600, 4)\n"
     ]
    }
   ],
   "source": [
    "sample_y_MBS = mixture_model.sample(num_score_func_samples)\n",
    "print(f'Sample y shape {sample_y_MBS.shape}')\n",
    "\n",
    "\n",
    "sample_log_probs_MBS = mixture_model.log_prob(sample_y_MBS)\n",
    "\n",
    "# no cross-ratio decision here\n",
    "sample_decisions_MBS = tf.identity(sample_y_MBS)\n",
    "expected_decisions_BS = tf.reduce_mean(sample_decisions_MBS, axis=0)\n",
    "print(f'Expected decisions shape {expected_decisions_BS.shape}')\n",
    "loss_B = keras.losses.mean_squared_error(train_y_TS, expected_decisions_BS)\n",
    "loss = tf.reduce_mean(loss_B)"
   ]
  },
  {
   "cell_type": "code",
   "execution_count": 11,
   "metadata": {},
   "outputs": [
    {
     "data": {
      "text/plain": [
       "<matplotlib.legend.Legend at 0x2b9918b07190>"
      ]
     },
     "execution_count": 11,
     "metadata": {},
     "output_type": "execute_result"
    },
    {
     "data": {
      "image/png": "[encoded data removed]",
      "text/plain": [
       "<Figure size 640x480 with 1 Axes>"
      ]
     },
     "metadata": {},
     "output_type": "display_data"
    }
   ],
   "source": [
    "plt.hist(tf.reshape(expected_decisions_BS, [-1]).numpy(),alpha=0.5, bins=1000, label='expected decision')\n",
    "plt.hist(tf.reshape(train_y_TS, [-1]).numpy(),alpha=0.5, bins=1000, label='y true')\n",
    "plt.legend()"
   ]
  },
  {
   "cell_type": "code",
   "execution_count": 24,
   "metadata": {},
   "outputs": [
    {
     "name": "stderr",
     "output_type": "stream",
     "text": [
      "/cluster/tufts/hugheslab/kheuto01/mambaforge/envs/pip_k2_tf/lib/python3.11/site-packages/keras/src/saving/serialization_lib.py:159: UserWarning: The object being serialized includes a `lambda`. This is unsafe. In order to reload the object, you will have to pass `safe_mode=False` to the loading function. Please avoid using `lambda` in the future, and use named Python functions instead. This is the `lambda` being serialized:     mixture_distribution_layer = tfp.layers.DistributionLambda(lambda params: \n",
      "        tfp.distributions.MixtureSameFamily(mixture_distribution=tfp.distributions.Categorical(probs=params[0]),\n",
      "                                            components_distribution = tfp.distributions.Normal(loc=params[1], scale=scale, validate_args=True)))\n",
      "\n",
      "  config_arr = [serialize_keras_object(x) for x in obj]\n"
     ]
    }
   ],
   "source": [
    "logdir=\"logs/fit/\" + datetime.datetime.now().strftime(\"%Y%m%d-%H%M%S\")\n",
    "tensorboard_callback = keras.callbacks.TensorBoard(log_dir=logdir)\n",
    "_callbacks = [tensorboard_callback]\n",
    "callbacks = tf.keras.callbacks.CallbackList(\n",
    "    _callbacks, add_history=True, model=model)\n"
   ]
  },
  {
   "cell_type": "code",
   "execution_count": 25,
   "metadata": {},
   "outputs": [
    {
     "name": "stdout",
     "output_type": "stream",
     "text": [
      "23.0\n",
      "Name: linear_convolution/bias:0\n",
      "Shape: (1,)\n"
     ]
    },
    {
     "data": {
      "text/plain": [
       "<tf.Variable 'UnreadVariable' shape=(1,) dtype=float32, numpy=array([23.], dtype=float32)>"
      ]
     },
     "execution_count": 25,
     "metadata": {},
     "output_type": "execute_result"
    }
   ],
   "source": [
    "param_value = 23.0\n",
    "print(param_value)\n",
    "variable = model.trainable_variables[5]\n",
    "print(f'Name: {variable.name}')\n",
    "print(f'Shape: {variable.shape}')\n",
    "variable.assign(tfp.math.softplus_inverse([param_value]))"
   ]
  },
  {
   "cell_type": "code",
   "execution_count": 28,
   "metadata": {},
   "outputs": [],
   "source": [
    "stamp = datetime.datetime.now().strftime(\"%Y%m%d-%H%M%S\")\n",
    "logdir = 'logs/func/%s' % stamp\n",
    "writer = tf.summary.create_file_writer(logdir)"
   ]
  },
  {
   "cell_type": "code",
   "execution_count": 29,
   "metadata": {},
   "outputs": [
    {
     "name": "stdout",
     "output_type": "stream",
     "text": [
      "WARNING:tensorflow:From /cluster/tufts/hugheslab/kheuto01/mambaforge/envs/pip_k2_tf/lib/python3.11/site-packages/tensorflow/python/ops/summary_ops_v2.py:1369: start (from tensorflow.python.eager.profiler) is deprecated and will be removed after 2020-07-01.\n",
      "Instructions for updating:\n",
      "use `tf.profiler.experimental.start` instead.\n"
     ]
    },
    {
     "name": "stderr",
     "output_type": "stream",
     "text": [
      "2024-05-16 08:57:47.641839: I external/local_tsl/tsl/profiler/lib/profiler_session.cc:104] Profiler session initializing.\n",
      "2024-05-16 08:57:47.641869: I external/local_tsl/tsl/profiler/lib/profiler_session.cc:119] Profiler session started.\n"
     ]
    },
    {
     "name": "stdout",
     "output_type": "stream",
     "text": [
      "WARNING:tensorflow:From /cluster/tufts/hugheslab/kheuto01/mambaforge/envs/pip_k2_tf/lib/python3.11/site-packages/tensorflow/python/ops/summary_ops_v2.py:1420: stop (from tensorflow.python.eager.profiler) is deprecated and will be removed after 2020-07-01.\n",
      "Instructions for updating:\n",
      "use `tf.profiler.experimental.stop` instead.\n",
      "WARNING:tensorflow:From /cluster/tufts/hugheslab/kheuto01/mambaforge/envs/pip_k2_tf/lib/python3.11/site-packages/tensorflow/python/ops/summary_ops_v2.py:1420: save (from tensorflow.python.eager.profiler) is deprecated and will be removed after 2020-07-01.\n",
      "Instructions for updating:\n",
      "`tf.python.eager.profiler` has deprecated, use `tf.profiler` instead.\n",
      "WARNING:tensorflow:From /cluster/tufts/hugheslab/kheuto01/mambaforge/envs/pip_k2_tf/lib/python3.11/site-packages/tensorflow/python/eager/profiler.py:150: maybe_create_event_file (from tensorflow.python.eager.profiler) is deprecated and will be removed after 2020-07-01.\n",
      "Instructions for updating:\n",
      "`tf.python.eager.profiler` has deprecated, use `tf.profiler` instead.\n"
     ]
    },
    {
     "name": "stderr",
     "output_type": "stream",
     "text": [
      "2024-05-16 08:57:55.942434: I external/local_tsl/tsl/profiler/lib/profiler_session.cc:70] Profiler session collecting data.\n",
      "2024-05-16 08:57:55.956820: I external/local_tsl/tsl/profiler/lib/profiler_session.cc:131] Profiler session tear down.\n"
     ]
    }
   ],
   "source": [
    "logs = {}\n",
    "callbacks.on_train_begin(logs=logs)\n",
    "tf.summary.trace_on(graph=True, profiler=True)\n",
    "for epoch in range(1):\n",
    "    callbacks.on_epoch_begin(epoch, logs=logs)\n",
    "    for batch, (x_batch, y_batch) in enumerate(train_dataset):\n",
    "        callbacks.on_batch_begin(batch, logs=logs)\n",
    "        callbacks.on_train_batch_begin(batch, logs=logs)\n",
    "        with tf.GradientTape() as jacobian_tape, tf.GradientTape() as loss_tape:\n",
    "            mixture_model = model(train_X_THS, training=True)\n",
    "\n",
    "            sample_y_MBS = mixture_model.sample(num_score_func_samples)\n",
    "            sample_log_probs_MBS = mixture_model.log_prob(sample_y_MBS)\n",
    "\n",
    "            # no cross-ratio decision here\n",
    "            sample_decisions_MBS = tf.identity(sample_y_MBS)\n",
    "            expected_decisions_BS = tf.reduce_mean(sample_decisions_MBS, axis=0)\n",
    "\n",
    "            loss_B = keras.losses.mean_squared_error(train_y_TS, expected_decisions_BS)\n",
    "            loss = tf.reduce_mean(loss_B)\n",
    "\n",
    "        jacobian_pMBS = jacobian_tape.jacobian(sample_log_probs_MBS, model.trainable_weights)\n",
    "        param_gradient_pBS = [score_function_trick(j, sample_decisions_MBS) for j in jacobian_pMBS]\n",
    "        \n",
    "        loss_gradients_BS = loss_tape.gradient(loss_B, expected_decisions_BS)\n",
    "        overall_gradient = [overall_gradient_calculation(g, loss_gradients_BS) for g in param_gradient_pBS]\n",
    "\n",
    "        optimizer.apply_gradients(zip(overall_gradient, model.trainable_weights))\n",
    "        callbacks.on_test_batch_end(batch, logs=logs)\n",
    "        callbacks.on_batch_end(batch, logs=logs)\n",
    "    callbacks.on_epoch_end(epoch, logs=logs)\n",
    "callbacks.on_train_end(logs=logs)\n",
    "with writer.as_default():\n",
    "  tf.summary.trace_export(\n",
    "      name=\"my_func_trace\",\n",
    "      step=0,\n",
    "      profiler_outdir=logdir)"
   ]
  },
  {
   "cell_type": "code",
   "execution_count": 12,
   "metadata": {},
   "outputs": [
    {
     "name": "stdout",
     "output_type": "stream",
     "text": [
      "20.0\n",
      "Name: linear_convolution/bias:0\n",
      "Shape: (1,)\n"
     ]
    }
   ],
   "source": [
    "gradient_magnitudes = []\n",
    "master_magnitudes = []\n",
    "param_vals = []\n",
    "losses = []\n",
    "mean_log_probs = []\n",
    "for param_value in np.linspace(20, 30, 10, dtype=np.float32):\n",
    "    print(param_value)\n",
    "    variable = model.trainable_variables[5]\n",
    "    print(f'Name: {variable.name}')\n",
    "    print(f'Shape: {variable.shape}')\n",
    "    variable.assign(tfp.math.softplus_inverse([param_value]))\n",
    "    \n",
    "    start = time.time()\n",
    "\n",
    "    for sample in range(1):\n",
    "        with tf.GradientTape() as jacobian_tape, tf.GradientTape() as loss_tape, tf.GradientTape() as master_tape:\n",
    "            mixture_model = model(train_X_THS)\n",
    "\n",
    "            sample_y_MBS = mixture_model.sample(num_score_func_samples)\n",
    "            sample_log_probs_MBS = mixture_model.log_prob(sample_y_MBS)\n",
    "\n",
    "            # no cross-ratio decision here\n",
    "            sample_decisions_MBS = tf.identity(sample_y_MBS)\n",
    "            expected_decisions_BS = tf.reduce_mean(sample_decisions_MBS, axis=0)\n",
    "\n",
    "            loss_B = keras.losses.mean_squared_error(train_y_TS, expected_decisions_BS)\n",
    "            loss = tf.reduce_mean(loss_B)\n",
    "\n",
    "        jacobian_pMBS = jacobian_tape.jacobian(sample_log_probs_MBS, model.trainable_weights)\n",
    "        param_gradient_pBS = [score_function_trick(j, sample_decisions_MBS) for j in jacobian_pMBS]\n",
    "        \n",
    "        loss_gradients_BS = loss_tape.gradient(loss_B, expected_decisions_BS)\n",
    "        overall_gradient = [overall_gradient_calculation(g, loss_gradients_BS) for g in param_gradient_pBS]\n",
    "\n",
    "        master_gradient = master_tape.gradient(loss_B, model.trainable_weights)\n",
    "\n",
    "        param_vals.append(param_value)\n",
    "        gradient_magnitudes.append(overall_gradient[5])\n",
    "        master_magnitudes.append(master_gradient[5])\n",
    "        losses.append(loss)\n",
    "        mean_log_probs.append(tf.reduce_mean(sample_log_probs_MBS[:,:,2]))\n",
    "    end = time.time()\n",
    "    elapsed = end - start\n",
    "    print(f'Elapsed time {elapsed}')"
   ]
  },
  {
   "cell_type": "code",
   "execution_count": null,
   "metadata": {},
   "outputs": [],
   "source": []
  }
 ],
 "metadata": {
  "kernelspec": {
   "display_name": "pip_k2_tf",
   "language": "python",
   "name": "python3"
  },
  "language_info": {
   "codemirror_mode": {
    "name": "ipython",
    "version": 3
   },
   "file_extension": ".py",
   "mimetype": "text/x-python",
   "name": "python",
   "nbconvert_exporter": "python",
   "pygments_lexer": "ipython3",
   "version": "3.11.7"
  }
 },
 "nbformat": 4,
 "nbformat_minor": 2
}
