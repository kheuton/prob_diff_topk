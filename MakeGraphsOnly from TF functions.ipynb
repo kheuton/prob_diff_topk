{
 "cells": [
  {
   "cell_type": "code",
   "execution_count": 1,
   "metadata": {},
   "outputs": [
    {
     "name": "stderr",
     "output_type": "stream",
     "text": [
      "2024-05-17 13:37:06.586632: I tensorflow/core/util/port.cc:113] oneDNN custom operations are on. You may see slightly different numerical results due to floating-point round-off errors from different computation orders. To turn them off, set the environment variable `TF_ENABLE_ONEDNN_OPTS=0`.\n",
      "2024-05-17 13:37:06.638482: E external/local_xla/xla/stream_executor/cuda/cuda_dnn.cc:9261] Unable to register cuDNN factory: Attempting to register factory for plugin cuDNN when one has already been registered\n",
      "2024-05-17 13:37:06.638514: E external/local_xla/xla/stream_executor/cuda/cuda_fft.cc:607] Unable to register cuFFT factory: Attempting to register factory for plugin cuFFT when one has already been registered\n",
      "2024-05-17 13:37:06.639673: E external/local_xla/xla/stream_executor/cuda/cuda_blas.cc:1515] Unable to register cuBLAS factory: Attempting to register factory for plugin cuBLAS when one has already been registered\n",
      "2024-05-17 13:37:06.648294: I tensorflow/core/platform/cpu_feature_guard.cc:182] This TensorFlow binary is optimized to use available CPU instructions in performance-critical operations.\n",
      "To enable the following instructions: AVX2 AVX512F AVX512_VNNI FMA, in other operations, rebuild TensorFlow with the appropriate compiler flags.\n",
      "2024-05-17 13:37:08.100263: W tensorflow/compiler/tf2tensorrt/utils/py_utils.cc:38] TF-TRT Warning: Could not find TensorRT\n"
     ]
    }
   ],
   "source": [
    "%load_ext autoreload\n",
    "%autoreload 2\n",
    "from functools import partial\n",
    "\n",
    "import keras\n",
    "\n",
    "from datasets import example_datasets, to_numpy\n",
    "from models import mixture_poissons,location_specific_linear, CustomPenalizedMixtureDecisionModel, get_mixture\n",
    "from metrics import mixture_poi_loss, get_bpr_loss_func, mix_bpr, get_penalized_bpr_loss_func_mix, cross_ratio_decision, get_perturbed_bpr_func\n",
    "from experiments import training_loop, training_loop_score_function_trick, score_function_trick, overall_gradient_calculation\n",
    "from plotting_funcs import plot_losses, plot_frontier, sample_and_plot\n",
    "\n",
    "import scipy\n",
    "\n",
    "import tensorflow as tf\n",
    "import tensorflow_probability as tfp\n",
    "import numpy as np\n",
    "\n",
    "import matplotlib.pyplot as plt\n",
    "import resource\n",
    "import datetime\n",
    "import time"
   ]
  },
  {
   "cell_type": "code",
   "execution_count": 2,
   "metadata": {},
   "outputs": [
    {
     "data": {
      "image/png": "[encoded data removed]",
      "text/plain": [
       "<Figure size 640x480 with 2 Axes>"
      ]
     },
     "metadata": {},
     "output_type": "display_data"
    },
    {
     "name": "stderr",
     "output_type": "stream",
     "text": [
      "2024-05-17 13:37:12.612026: E external/local_xla/xla/stream_executor/cuda/cuda_driver.cc:274] failed call to cuInit: CUDA_ERROR_NO_DEVICE: no CUDA-capable device is detected\n",
      "2024-05-17 13:37:12.612067: I external/local_xla/xla/stream_executor/cuda/cuda_diagnostics.cc:129] retrieving CUDA diagnostic information for host: p1cmp078.pax.tufts.edu\n",
      "2024-05-17 13:37:12.612073: I external/local_xla/xla/stream_executor/cuda/cuda_diagnostics.cc:136] hostname: p1cmp078.pax.tufts.edu\n",
      "2024-05-17 13:37:12.612178: I external/local_xla/xla/stream_executor/cuda/cuda_diagnostics.cc:159] libcuda reported version is: 535.129.3\n",
      "2024-05-17 13:37:12.612208: I external/local_xla/xla/stream_executor/cuda/cuda_diagnostics.cc:163] kernel reported version is: 535.129.3\n",
      "2024-05-17 13:37:12.612214: I external/local_xla/xla/stream_executor/cuda/cuda_diagnostics.cc:241] kernel version seems to match DSO: 535.129.3\n"
     ]
    }
   ],
   "source": [
    "# Distribution Settings\n",
    "scale = 1\n",
    "means = [5, 15, 25, 35]\n",
    "\n",
    "normal_4 = [scipy.stats.norm(loc=mean, scale=scale) for mean in means]\n",
    "sample_and_plot(normal_4)\n",
    "\n",
    "S=4\n",
    "# Historical data as features\n",
    "H=2\n",
    "# Total timepoints in data\n",
    "T = 1000\n",
    "\n",
    "learning_rate = 0.05\n",
    "\n",
    "train_dataset, val_dataset, test_dataset, (train_X_THS, train_y_TS), (val_X_THS, val_y_TS), (test_X_THS, test_y_TS) = example_datasets(H, T, dist_S=normal_4, return_numpy=True)"
   ]
  },
  {
   "cell_type": "code",
   "execution_count": 3,
   "metadata": {},
   "outputs": [],
   "source": [
    "class LocSpecificMixWeights(keras.layers.Layer):\n",
    "    \"\"\"Dumb layer that just returns mixture weights\n",
    "    Constrained to unit norm\n",
    "    \"\"\"\n",
    "    def __init__(self, num_locations, num_components=2, **kwargs):\n",
    "        super().__init__(**kwargs)\n",
    "        self.w = self.add_weight(name='shared_mix_weights',\n",
    "            shape=(num_locations, num_components ),\n",
    "            initializer=\"uniform\",\n",
    "            trainable=True,\n",
    "        )\n",
    "        \n",
    "        self.softmax = keras.layers.Softmax(axis=1)\n",
    "\n",
    "    def call(self, inputs):\n",
    "        return self.softmax(self.w)\n",
    "\n",
    "def build_mixture_normal(parameter_model, input_shape, scale=1, num_components=4, seed=360):\n",
    "    num_features, num_locations = input_shape\n",
    "    member_models = []\n",
    "    for c in range(num_components):\n",
    "        member_models.append(parameter_model(input_shape, seed=seed+1000*c))\n",
    "\n",
    "    # Define layers\n",
    "    inputs = keras.Input(shape=input_shape, name='mix_input')\n",
    "    reshape_layer = keras.layers.Reshape(name='mix_reshape', target_shape=(-1,1))\n",
    "    concat_layer = keras.layers.Concatenate(name='mix_concat',axis=-1)\n",
    "\n",
    "    mixture_weight_layer = LocSpecificMixWeights(num_locations, name='mixture_weights', num_components=num_components)\n",
    "\n",
    "    reshaped = [reshape_layer(member(inputs)) for member in member_models]\n",
    "    concatted = concat_layer(reshaped)\n",
    "    \n",
    "    mixture_weights = mixture_weight_layer(inputs)\n",
    "\n",
    "    mixture_distribution_layer = tfp.layers.DistributionLambda(lambda params: \n",
    "        tfp.distributions.MixtureSameFamily(mixture_distribution=tfp.distributions.Categorical(probs=params[0]),\n",
    "                                            components_distribution = tfp.distributions.Normal(loc=params[1], scale=scale, validate_args=True)))\n",
    "    \n",
    "    outputs = mixture_distribution_layer([mixture_weights, concatted])\n",
    "\n",
    "    model = keras.Model(name='mixture_model', inputs=inputs, outputs=[outputs])\n",
    "\n",
    "    return model, mixture_weights\n",
    "\n"
   ]
  },
  {
   "cell_type": "code",
   "execution_count": 13,
   "metadata": {},
   "outputs": [],
   "source": [
    "    num_features, num_locations = (H,S)\n",
    "    member_models = []\n",
    "    for c in range(4):\n",
    "        member_models.append(location_specific_linear((H,S), seed=360+1000*c))\n",
    "\n",
    "    # Define layers\n",
    "    inputs = keras.Input(shape=(H,S), name='mix_input')\n",
    "    reshape_layer = keras.layers.Reshape(name='mix_reshape', target_shape=(-1,1))\n",
    "    concat_layer = keras.layers.Concatenate(name='mix_concat',axis=-1)\n",
    "\n",
    "    mixture_weight_layer = LocSpecificMixWeights(num_locations, name='mixture_weights', num_components=4)\n",
    "\n",
    "    reshaped = [reshape_layer(member(inputs)) for member in member_models]\n",
    "    concatted = concat_layer(reshaped)\n",
    "    \n",
    "    mixture_weights = mixture_weight_layer(inputs)\n",
    "\n",
    "    mixture_distribution_layer = tfp.layers.DistributionLambda(lambda params: \n",
    "        tfp.distributions.MixtureSameFamily(mixture_distribution=tfp.distributions.Categorical(probs=params[0]),\n",
    "                                            components_distribution = tfp.distributions.Normal(loc=params[1], scale=scale, validate_args=True)))\n",
    "    \n",
    "    outputs = mixture_distribution_layer([mixture_weights, concatted])\n",
    "\n",
    "    model = keras.Model(name='mixture_model', inputs=inputs, outputs=[outputs])"
   ]
  },
  {
   "cell_type": "code",
   "execution_count": 16,
   "metadata": {},
   "outputs": [
    {
     "data": {
      "text/plain": [
       "<KerasTensor: shape=(4, 4) dtype=float32 (created by layer 'mixture_weights')>"
      ]
     },
     "execution_count": 16,
     "metadata": {},
     "output_type": "execute_result"
    }
   ],
   "source": [
    "mixture_weights"
   ]
  },
  {
   "cell_type": "code",
   "execution_count": 12,
   "metadata": {},
   "outputs": [],
   "source": [
    "model, mix_weights = build_mixture_normal(location_specific_linear, (H, S),scale=scale, num_components=4)\n",
    "optimizer = keras.optimizers.Adam(learning_rate=learning_rate)"
   ]
  },
  {
   "cell_type": "code",
   "execution_count": 13,
   "metadata": {},
   "outputs": [
    {
     "data": {
      "text/plain": [
       "<KerasTensor: shape=(4, 4) dtype=float32 (created by layer 'mixture_weights')>"
      ]
     },
     "execution_count": 13,
     "metadata": {},
     "output_type": "execute_result"
    }
   ],
   "source": [
    "mix_weights"
   ]
  },
  {
   "cell_type": "code",
   "execution_count": 7,
   "metadata": {},
   "outputs": [
    {
     "name": "stdout",
     "output_type": "stream",
     "text": [
      "Name: linear_convolution/kernel:0\n",
      "Shape: (1, 2, 1)\n",
      "Name: linear_convolution/kernel:0\n",
      "Shape: (1, 2, 1)\n",
      "Name: linear_convolution/kernel:0\n",
      "Shape: (1, 2, 1)\n",
      "Name: linear_convolution/kernel:0\n",
      "Shape: (1, 2, 1)\n",
      "Name: linear_convolution/bias:0\n",
      "Shape: (1,)\n",
      "Name: linear_convolution/bias:0\n",
      "Shape: (1,)\n",
      "Name: linear_convolution/bias:0\n",
      "Shape: (1,)\n",
      "Name: linear_convolution/bias:0\n",
      "Shape: (1,)\n",
      "Name: shared_mix_weights:0\n",
      "Shape: (4, 4)\n"
     ]
    },
    {
     "data": {
      "text/plain": [
       "<tf.Variable 'UnreadVariable' shape=(4, 4) dtype=float32, numpy=\n",
       "array([[  0.      , -29.933605, -29.933605, -29.933605],\n",
       "       [-29.933605,   0.      , -29.933605, -29.933605],\n",
       "       [-29.933605, -29.933605,   0.      , -29.933605],\n",
       "       [-29.933605, -29.933605, -29.933605,   0.      ]], dtype=float32)>"
      ]
     },
     "execution_count": 7,
     "metadata": {},
     "output_type": "execute_result"
    }
   ],
   "source": [
    "# Set linear weights to 0\n",
    "for index in [0, 2, 4, 6]:\n",
    "    variable = model.trainable_variables[index]\n",
    "    print(f'Name: {variable.name}')\n",
    "    print(f'Shape: {variable.shape}')\n",
    "\n",
    "    variable.assign(tf.zeros(variable.shape))\n",
    "# set biases to true value\n",
    "for index, bias in zip([1, 3, 5, 7], [5.0, 15.0, 25.0, 35.0]):\n",
    "    variable = model.trainable_variables[index]\n",
    "    print(f'Name: {variable.name}')\n",
    "    print(f'Shape: {variable.shape}')\n",
    "\n",
    "    variable.assign(tfp.math.softplus_inverse([bias]))\n",
    "index = -1\n",
    "variable = model.trainable_variables[index]\n",
    "print(f'Name: {variable.name}')\n",
    "print(f'Shape: {variable.shape}')\n",
    "\n",
    "weights = tf.eye(4)\n",
    "\n",
    "variable.assign(tf.math.log(weights+1e-13))"
   ]
  },
  {
   "cell_type": "code",
   "execution_count": 10,
   "metadata": {},
   "outputs": [
    {
     "data": {
      "text/plain": [
       "<tf.Tensor: shape=(600, 4), dtype=float32, numpy=\n",
       "array([[0.34935072, 0.08884697, 0.01321701, 0.00416328],\n",
       "       [0.23029381, 0.06361564, 0.04085373, 0.00252305],\n",
       "       [0.42929456, 0.07015554, 0.01427219, 0.00596942],\n",
       "       ...,\n",
       "       [0.30742934, 0.03327321, 0.03738021, 0.00093028],\n",
       "       [0.22660378, 0.11889522, 0.01434227, 0.01557586],\n",
       "       [0.64175785, 0.07519296, 0.01920529, 0.00382214]], dtype=float32)>"
      ]
     },
     "execution_count": 10,
     "metadata": {},
     "output_type": "execute_result"
    }
   ],
   "source": [
    "one_component = location_specific_linear((H, S), seed=360)\n",
    "one_component(train_X_THS)"
   ]
  },
  {
   "cell_type": "code",
   "execution_count": 7,
   "metadata": {},
   "outputs": [
    {
     "name": "stdout",
     "output_type": "stream",
     "text": [
      "23.0\n",
      "Name: linear_convolution/bias:0\n",
      "Shape: (1,)\n"
     ]
    },
    {
     "data": {
      "text/plain": [
       "<tf.Variable 'UnreadVariable' shape=(1,) dtype=float32, numpy=array([23.], dtype=float32)>"
      ]
     },
     "execution_count": 7,
     "metadata": {},
     "output_type": "execute_result"
    }
   ],
   "source": [
    "param_value = 23.0\n",
    "print(param_value)\n",
    "variable = model.trainable_variables[5]\n",
    "print(f'Name: {variable.name}')\n",
    "print(f'Shape: {variable.shape}')\n",
    "variable.assign(tfp.math.softplus_inverse([param_value]))"
   ]
  },
  {
   "cell_type": "code",
   "execution_count": 24,
   "metadata": {},
   "outputs": [],
   "source": [
    "num_score_func_samples=8"
   ]
  },
  {
   "cell_type": "code",
   "execution_count": 25,
   "metadata": {},
   "outputs": [],
   "source": [
    "@tf.function(autograph=False)\n",
    "def get_prob_decisions(model):\n",
    "    sample_y_MBS = model.sample(num_score_func_samples)\n",
    "    stopped_samples = tf.stop_gradient(sample_y_MBS)\n",
    "    sample_log_probs_MBS = model.log_prob(stopped_samples)\n",
    "\n",
    "    sample_decisions_MBS = tf.identity(sample_y_MBS)\n",
    "    expected_decisions_BS = tf.reduce_mean(sample_decisions_MBS, axis=0)\n",
    "    return sample_log_probs_MBS, sample_decisions_MBS,  expected_decisions_BS\n",
    "\n",
    "@tf.function\n",
    "def get_loss(y_batch, expected_decisions_BS):\n",
    "    loss_B = keras.losses.mean_squared_error(y_batch, expected_decisions_BS)\n",
    "    return loss_B"
   ]
  },
  {
   "cell_type": "code",
   "execution_count": 26,
   "metadata": {},
   "outputs": [],
   "source": [
    "@tf.function\n",
    "def train_step(model, x_batch, y_batch):\n",
    "  with tf.GradientTape() as jacobian_tape, tf.GradientTape() as loss_tape:\n",
    "      mixture_model = model(x_batch, training=True)\n",
    "      sample_log_probs_MBS, sample_decisions_MBS,  expected_decisions_BS = get_prob_decisions(mixture_model)\n",
    "      loss_B = get_loss(y_batch, expected_decisions_BS)\n",
    "\n",
    "  jacobian_pMBS = jacobian_tape.jacobian(sample_log_probs_MBS, model.trainable_weights)\n",
    "  param_gradient_pBS = [score_function_trick(j, sample_decisions_MBS) for j in jacobian_pMBS]\n",
    "  \n",
    "  loss_gradients_BS = loss_tape.gradient(loss_B, expected_decisions_BS)\n",
    "  overall_gradient = [overall_gradient_calculation(g, loss_gradients_BS) for g in param_gradient_pBS]\n",
    "\n",
    "  optimizer.apply_gradients(zip(overall_gradient, model.trainable_weights))\n",
    "  return loss_B\n",
    "     "
   ]
  },
  {
   "cell_type": "code",
   "execution_count": 11,
   "metadata": {},
   "outputs": [
    {
     "name": "stderr",
     "output_type": "stream",
     "text": [
      "2024-05-17 09:23:37.067637: I external/local_tsl/tsl/profiler/lib/profiler_session.cc:104] Profiler session initializing.\n",
      "2024-05-17 09:23:37.067661: I external/local_tsl/tsl/profiler/lib/profiler_session.cc:119] Profiler session started.\n",
      "2024-05-17 09:23:41.074704: I external/local_tsl/tsl/profiler/lib/profiler_session.cc:70] Profiler session collecting data.\n",
      "2024-05-17 09:23:41.088668: I external/local_tsl/tsl/profiler/lib/profiler_session.cc:131] Profiler session tear down.\n"
     ]
    }
   ],
   "source": [
    "logs = {}\n",
    "stamp = datetime.datetime.now().strftime(\"%Y%m%d-%H%M%S\")\n",
    "logdir = 'logs/func/%s' % stamp\n",
    "writer = tf.summary.create_file_writer(logdir)\n",
    "#callbacks.on_train_begin(logs=logs)\n",
    "for epoch in range(1):\n",
    "    #callbacks.on_epoch_begin(epoch, logs=logs)\n",
    "    for batch, (x_batch, y_batch) in enumerate(train_dataset):\n",
    "        #callbacks.on_batch_begin(batch, logs=logs)\n",
    "        #callbacks.on_train_batch_begin(batch, logs=logs)\n",
    "        \n",
    "        tf.summary.trace_on(graph=True, profiler=True)\n",
    "        with tf.GradientTape() as jacobian_tape, tf.GradientTape() as loss_tape:\n",
    "            mixture_model = model(x_batch, training=True)\n",
    "            sample_log_probs_MBS, sample_decisions_MBS,  expected_decisions_BS = get_prob_decisions(mixture_model)\n",
    "            loss_B = get_loss(y_batch, expected_decisions_BS)\n",
    "\n",
    "        jacobian_pMBS = jacobian_tape.jacobian(sample_log_probs_MBS, model.trainable_weights)\n",
    "        param_gradient_pBS = [score_function_trick(j, sample_decisions_MBS) for j in jacobian_pMBS]\n",
    "        \n",
    "        loss_gradients_BS = loss_tape.gradient(loss_B, expected_decisions_BS)\n",
    "        overall_gradient = [overall_gradient_calculation(g, loss_gradients_BS) for g in param_gradient_pBS]\n",
    "\n",
    "        optimizer.apply_gradients(zip(overall_gradient, model.trainable_weights))\n",
    "        with writer.as_default():\n",
    "            tf.summary.trace_export(\n",
    "                name=\"my_func_trace\",\n",
    "                step=0,\n",
    "                profiler_outdir=logdir)\n",
    "        tf.summary.trace_off()\n",
    "        #callbacks.on_test_batch_end(batch, logs=logs)\n",
    "        #callbacks.on_batch_end(batch, logs=logs)\n",
    "    #callbacks.on_epoch_end(epoch, logs=logs)\n",
    "#callbacks.on_train_end(logs=logs)\n"
   ]
  },
  {
   "cell_type": "code",
   "execution_count": 27,
   "metadata": {},
   "outputs": [
    {
     "name": "stderr",
     "output_type": "stream",
     "text": [
      "2024-05-17 09:42:24.722179: I external/local_tsl/tsl/profiler/lib/profiler_session.cc:104] Profiler session initializing.\n",
      "2024-05-17 09:42:24.722219: I external/local_tsl/tsl/profiler/lib/profiler_session.cc:119] Profiler session started.\n",
      "2024-05-17 09:42:38.045224: W tensorflow/core/grappler/optimizers/loop_optimizer.cc:933] Skipping loop optimization for Merge node with control input: StatefulPartitionedCall/MixtureSameFamily_CONSTRUCTED_AT_mixture_model_distribution_lambda/sample/BatchBroadcastNormal/assert_positive/assert_less/Assert/AssertGuard/branch_executed/_264\n"
     ]
    }
   ],
   "source": [
    "logs = {}\n",
    "stamp = datetime.datetime.now().strftime(\"%Y%m%d-%H%M%S\")\n",
    "logdir = f'logs/func/{stamp}_samp{num_score_func_samples}' \n",
    "writer = tf.summary.create_file_writer(logdir)\n",
    "#callbacks.on_train_begin(logs=logs)\n",
    "for epoch in range(1):\n",
    "    #callbacks.on_epoch_begin(epoch, logs=logs)\n",
    "    for batch, (x_batch, y_batch) in enumerate(train_dataset):\n",
    "        #callbacks.on_batch_begin(batch, logs=logs)\n",
    "        #callbacks.on_train_batch_begin(batch, logs=logs)\n",
    "        \n",
    "        tf.summary.trace_on(graph=True, profiler=True)\n",
    "        loss_B = train_step(model, x_batch, y_batch)\n",
    "        with writer.as_default():\n",
    "            tf.summary.trace_export(\n",
    "                name=\"my_func_trace\",\n",
    "                step=0,\n",
    "                profiler_outdir=logdir)\n",
    "        tf.summary.trace_off()\n",
    "        #callbacks.on_test_batch_end(batch, logs=logs)\n",
    "        #callbacks.on_batch_end(batch, logs=logs)\n",
    "    #callbacks.on_epoch_end(epoch, logs=logs)\n",
    "#callbacks.on_train_end(logs=logs)\n"
   ]
  },
  {
   "cell_type": "code",
   "execution_count": 22,
   "metadata": {},
   "outputs": [
    {
     "data": {
      "text/plain": [
       "<tf.Tensor: shape=(), dtype=float32, numpy=45.609947>"
      ]
     },
     "execution_count": 22,
     "metadata": {},
     "output_type": "execute_result"
    }
   ],
   "source": [
    "tf.reduce_max(param_gradient_pBS[5])"
   ]
  },
  {
   "cell_type": "code",
   "execution_count": 23,
   "metadata": {},
   "outputs": [
    {
     "data": {
      "text/plain": [
       "<tf.Tensor: shape=(600,), dtype=float32, numpy=\n",
       "array([114.49257 , 117.37792 , 134.83798 , 117.13356 , 137.0539  ,\n",
       "       121.22895 , 131.36864 , 148.06226 , 139.75972 , 132.89978 ,\n",
       "       117.53221 , 127.433   , 125.493256, 152.8707  , 124.846405,\n",
       "       102.05618 , 152.83049 , 125.021866, 133.73601 , 139.80951 ,\n",
       "       143.00539 , 141.79117 , 127.03581 , 114.07889 , 163.56137 ,\n",
       "       134.8587  , 136.65953 , 135.99298 , 141.62054 , 159.63412 ,\n",
       "       123.058426, 129.55087 , 110.77827 , 138.41034 , 121.452515,\n",
       "       137.21036 , 151.86597 , 157.1213  , 151.14484 , 137.26418 ,\n",
       "       119.44594 , 110.03151 , 130.72528 , 160.82129 , 154.18776 ,\n",
       "       145.069   , 113.524414, 148.19516 , 124.72876 , 126.43051 ,\n",
       "       157.13968 , 111.48842 , 137.79385 , 127.529724, 147.61624 ,\n",
       "       139.31128 , 128.52065 , 121.4346  , 140.13387 , 126.75251 ,\n",
       "       126.84385 , 141.40533 , 140.90671 , 128.80795 , 122.726425,\n",
       "       133.84232 , 107.88482 , 129.74211 , 147.4369  , 109.972015,\n",
       "       129.76292 , 128.44627 , 142.57945 , 134.53116 , 126.677246,\n",
       "       119.613884, 149.67294 , 120.31677 , 135.25194 , 128.25351 ,\n",
       "       118.106346, 121.60046 , 154.85904 ,  98.6376  , 125.027374,\n",
       "       132.16418 , 157.87584 , 114.663864, 111.13718 , 147.89906 ,\n",
       "       111.894135, 134.44768 , 127.056595, 124.28836 , 132.7513  ,\n",
       "       115.06894 , 125.74282 , 147.96893 , 125.02059 , 148.21799 ,\n",
       "       145.27498 , 128.90709 , 130.15988 , 112.42442 , 131.01218 ,\n",
       "       135.99872 , 140.0463  , 139.97205 , 121.78043 , 133.29108 ,\n",
       "       133.10121 , 127.56531 , 176.07043 , 130.64084 , 110.80606 ,\n",
       "       127.935486, 105.18829 , 156.93716 , 155.7341  , 129.168   ,\n",
       "       114.91995 , 142.92722 , 133.52637 , 130.55797 , 124.71248 ,\n",
       "       117.24687 , 128.41467 , 135.22906 , 142.3009  , 154.81998 ,\n",
       "       138.56601 , 160.77234 , 104.46236 , 123.99443 , 121.49134 ,\n",
       "       132.27429 , 148.76492 , 141.17015 , 132.24368 , 129.69931 ,\n",
       "       124.8762  , 144.38876 , 135.57167 , 126.54314 , 148.55258 ,\n",
       "       117.86285 , 146.72212 , 151.39963 , 130.05225 , 153.41042 ,\n",
       "       120.3284  , 139.81915 , 158.99622 , 126.17286 , 134.45026 ,\n",
       "       119.068115, 120.08702 , 112.10231 , 147.0466  , 150.18358 ,\n",
       "       125.5001  , 129.40782 , 133.70941 , 125.885895, 132.26208 ,\n",
       "       111.45915 , 124.72232 , 142.99612 , 102.70982 , 131.32912 ,\n",
       "       153.57147 , 127.03578 , 121.19826 , 111.55638 , 108.30577 ,\n",
       "       138.66208 , 129.34348 , 125.387726, 131.59114 , 134.9945  ,\n",
       "       138.6861  , 163.00706 , 164.67584 , 135.84247 , 119.08673 ,\n",
       "       116.16226 , 115.795334, 130.83725 , 131.66647 , 162.62628 ,\n",
       "       137.0578  , 119.65179 , 123.26786 , 154.51227 , 126.40648 ,\n",
       "       117.93055 , 136.35524 , 152.81522 , 126.55505 , 148.30968 ,\n",
       "       102.984116, 107.71094 , 109.72998 , 140.40271 , 115.298615,\n",
       "       100.236176, 124.67734 , 112.87731 , 152.33531 , 118.87871 ,\n",
       "       144.99377 , 115.47452 , 119.920166, 141.51329 , 147.88345 ,\n",
       "       127.910355, 134.33049 , 136.4188  , 136.58908 , 130.70203 ,\n",
       "       158.03723 , 131.87961 , 149.52632 , 137.98378 , 161.82257 ,\n",
       "       128.59515 , 129.6695  , 125.76051 , 130.89093 , 109.80234 ,\n",
       "       136.19661 , 106.57925 , 129.89551 , 123.60144 , 134.74303 ,\n",
       "       119.054214, 147.57176 , 106.19417 , 130.90175 , 137.20529 ,\n",
       "       146.6528  , 125.68225 , 176.21992 , 150.35812 , 165.02066 ,\n",
       "        93.01213 , 129.74832 , 164.10812 , 122.16528 , 153.77069 ,\n",
       "       145.67241 , 107.224396,  99.86648 , 158.41579 , 116.730156,\n",
       "       144.69107 , 133.70648 ,  97.61696 , 128.74947 , 121.90743 ,\n",
       "       131.43567 , 133.00851 , 128.57196 , 116.970474, 153.10715 ,\n",
       "       122.603195, 122.562706, 142.28052 , 144.06226 , 139.92342 ,\n",
       "       140.3523  , 136.05179 , 135.40399 , 134.38814 , 125.80165 ,\n",
       "       132.40073 , 131.4577  , 146.16263 , 128.8035  , 134.76628 ,\n",
       "       115.22383 , 153.17775 , 140.18442 , 150.42143 , 129.2762  ,\n",
       "       134.7029  , 129.43689 , 123.49236 , 137.87846 , 129.18158 ,\n",
       "       127.52432 , 124.42933 , 127.62909 ,  96.01247 , 143.56454 ,\n",
       "       135.39189 , 117.7843  , 103.22512 , 116.22509 , 139.85411 ,\n",
       "       151.3121  , 115.70869 , 134.35417 , 142.9146  , 122.068375,\n",
       "       138.46793 , 126.92648 , 142.17618 , 158.07635 , 137.98048 ,\n",
       "       132.17258 , 149.12549 , 158.65955 , 148.37166 , 127.5497  ,\n",
       "       146.9879  , 129.07439 , 126.19339 , 131.62843 , 118.05606 ,\n",
       "       132.04793 , 128.17383 , 110.3969  , 135.66782 , 159.22223 ,\n",
       "       140.07175 , 129.92572 , 142.80011 , 131.8325  , 129.13007 ,\n",
       "       121.066864, 143.69363 , 127.016716, 132.32532 , 158.30614 ,\n",
       "       110.482445, 149.30664 , 113.11483 , 155.2977  , 152.54327 ,\n",
       "       114.070724, 132.26927 , 129.63715 , 120.67612 , 127.06889 ,\n",
       "       141.0471  , 104.96039 , 118.574585, 119.35867 , 105.03851 ,\n",
       "       145.38345 , 141.849   , 130.32364 , 133.52426 , 131.86578 ,\n",
       "       116.8811  , 149.44543 , 132.54062 , 126.183586, 127.73672 ,\n",
       "       144.12021 , 113.0892  , 122.307556, 145.71399 , 115.156906,\n",
       "       156.65549 , 168.40427 , 141.29202 , 133.67688 , 116.6312  ,\n",
       "       107.92663 , 130.74835 , 144.02003 , 150.54555 , 108.90552 ,\n",
       "       140.25397 , 128.41899 , 141.06523 , 134.8421  , 114.06671 ,\n",
       "       122.96224 , 152.82233 , 129.79648 , 152.07465 , 139.77481 ,\n",
       "       145.0191  , 127.07454 , 128.75778 , 139.44695 , 115.79349 ,\n",
       "       136.57275 , 174.71117 , 125.31001 , 148.11163 , 142.74945 ,\n",
       "       118.35203 , 118.91901 , 121.66152 , 153.6476  , 132.95813 ,\n",
       "       139.12454 , 128.2907  , 126.88846 , 141.26947 , 102.533676,\n",
       "       165.67285 , 147.59718 , 149.07797 , 120.1906  , 135.69458 ,\n",
       "       119.45567 , 113.84004 , 137.93994 , 144.18918 , 117.12764 ,\n",
       "       127.74736 , 143.30237 , 164.55939 , 133.8007  , 108.15747 ,\n",
       "       124.81116 , 147.53133 , 134.05823 , 116.05022 , 129.33559 ,\n",
       "       132.0127  , 128.49876 , 110.24517 , 141.06317 , 133.75192 ,\n",
       "       123.85277 , 137.12628 , 120.38759 , 158.82076 , 166.25523 ,\n",
       "       116.36215 , 103.98848 , 147.67638 , 117.681885, 114.15662 ,\n",
       "       138.67017 , 116.101974, 119.61168 , 129.60889 , 143.80927 ,\n",
       "       128.50323 , 129.14731 , 155.23804 , 127.685005, 129.6622  ,\n",
       "       129.69308 , 114.67386 , 107.61496 , 137.18977 , 160.06866 ,\n",
       "       132.03424 , 126.45568 , 127.38184 , 130.29927 , 124.48906 ,\n",
       "       130.42583 , 109.348915,  84.82489 , 132.37698 , 112.28433 ,\n",
       "       109.88182 , 127.92999 , 125.11337 , 160.54616 , 128.01544 ,\n",
       "       122.62152 , 130.18767 , 146.05463 , 126.9545  , 141.526   ,\n",
       "       141.90613 , 129.31447 , 138.94304 , 129.22217 , 129.08516 ,\n",
       "       139.83871 , 121.68509 , 153.84888 , 137.15868 , 150.60974 ,\n",
       "       152.01532 , 111.33547 , 147.22707 , 120.0824  , 135.79364 ,\n",
       "       145.6626  , 114.639465, 124.20073 , 135.58261 , 126.23397 ,\n",
       "       125.97041 ,  95.29113 , 133.75769 , 128.41608 , 128.56306 ,\n",
       "       114.763504, 164.85864 , 123.89136 , 145.13431 , 130.99274 ,\n",
       "       131.96223 , 166.89172 , 129.51135 , 124.686646, 102.46445 ,\n",
       "       140.56758 , 154.24919 , 105.60811 , 106.68144 , 112.15982 ,\n",
       "       137.32947 , 122.74161 , 145.78064 , 147.16289 , 158.14551 ,\n",
       "       107.572235, 132.3398  , 117.60678 , 139.55824 , 139.58176 ,\n",
       "       160.68065 , 131.17972 , 145.54083 , 139.4339  , 129.72974 ,\n",
       "       123.74062 , 157.21368 , 158.79453 , 113.48797 , 157.5924  ,\n",
       "       145.66121 , 100.65227 , 147.08798 , 131.28235 , 109.11406 ,\n",
       "       109.25429 , 120.770096, 121.287766, 147.94824 , 137.58243 ,\n",
       "        95.88591 , 118.096245, 156.27646 , 139.9813  , 132.61383 ,\n",
       "       143.04031 , 125.08705 , 127.271835, 130.64716 , 118.07184 ,\n",
       "       114.94389 , 134.82607 , 105.31066 , 114.81244 , 121.95247 ,\n",
       "       130.05435 , 106.891655, 123.11056 , 114.99489 , 130.89209 ,\n",
       "       112.84159 , 156.38976 , 136.14627 , 128.10382 , 124.06016 ,\n",
       "       149.82077 , 157.57309 , 134.14865 ,  93.393936, 125.984886,\n",
       "       119.586136, 114.52225 , 138.91818 , 145.98137 , 126.10016 ,\n",
       "       137.95929 , 122.32379 , 102.073845, 153.06291 , 158.41425 ,\n",
       "       142.25787 , 139.4047  , 132.85754 , 123.56329 , 123.3586  ,\n",
       "       138.07394 , 115.219215, 126.468544, 148.61795 , 151.03476 ,\n",
       "       128.03784 , 131.41315 , 115.96098 , 123.668846, 164.86768 ],\n",
       "      dtype=float32)>"
      ]
     },
     "execution_count": 23,
     "metadata": {},
     "output_type": "execute_result"
    }
   ],
   "source": [
    "loss_B"
   ]
  },
  {
   "cell_type": "code",
   "execution_count": null,
   "metadata": {},
   "outputs": [],
   "source": []
  }
 ],
 "metadata": {
  "kernelspec": {
   "display_name": "pip_k2_tf",
   "language": "python",
   "name": "python3"
  },
  "language_info": {
   "codemirror_mode": {
    "name": "ipython",
    "version": 3
   },
   "file_extension": ".py",
   "mimetype": "text/x-python",
   "name": "python",
   "nbconvert_exporter": "python",
   "pygments_lexer": "ipython3",
   "version": "3.11.7"
  }
 },
 "nbformat": 4,
 "nbformat_minor": 2
}
