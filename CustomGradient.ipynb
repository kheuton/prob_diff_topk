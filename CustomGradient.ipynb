{
 "cells": [
  {
   "cell_type": "code",
   "execution_count": 1,
   "metadata": {},
   "outputs": [
    {
     "name": "stderr",
     "output_type": "stream",
     "text": [
      "2024-06-17 14:40:41.291808: I tensorflow/core/util/port.cc:113] oneDNN custom operations are on. You may see slightly different numerical results due to floating-point round-off errors from different computation orders. To turn them off, set the environment variable `TF_ENABLE_ONEDNN_OPTS=0`.\n",
      "2024-06-17 14:40:41.341541: E external/local_xla/xla/stream_executor/cuda/cuda_dnn.cc:9261] Unable to register cuDNN factory: Attempting to register factory for plugin cuDNN when one has already been registered\n",
      "2024-06-17 14:40:41.341579: E external/local_xla/xla/stream_executor/cuda/cuda_fft.cc:607] Unable to register cuFFT factory: Attempting to register factory for plugin cuFFT when one has already been registered\n",
      "2024-06-17 14:40:41.342753: E external/local_xla/xla/stream_executor/cuda/cuda_blas.cc:1515] Unable to register cuBLAS factory: Attempting to register factory for plugin cuBLAS when one has already been registered\n",
      "2024-06-17 14:40:41.350523: I tensorflow/core/platform/cpu_feature_guard.cc:182] This TensorFlow binary is optimized to use available CPU instructions in performance-critical operations.\n",
      "To enable the following instructions: AVX2 AVX512F AVX512_VNNI FMA, in other operations, rebuild TensorFlow with the appropriate compiler flags.\n",
      "2024-06-17 14:40:46.198786: W tensorflow/compiler/tf2tensorrt/utils/py_utils.cc:38] TF-TRT Warning: Could not find TensorRT\n"
     ]
    }
   ],
   "source": [
    "%load_ext autoreload\n",
    "%autoreload 2\n",
    "\n",
    "import scipy\n",
    "import numpy as np\n",
    "import tensorflow as tf\n",
    "import keras\n",
    "import tensorflow_probability as tfp\n",
    "import matplotlib.pyplot as plt\n"
   ]
  },
  {
   "cell_type": "code",
   "execution_count": 2,
   "metadata": {},
   "outputs": [
    {
     "name": "stderr",
     "output_type": "stream",
     "text": [
      "2024-06-17 14:41:03.497007: E external/local_xla/xla/stream_executor/cuda/cuda_driver.cc:274] failed call to cuInit: CUDA_ERROR_NO_DEVICE: no CUDA-capable device is detected\n",
      "2024-06-17 14:41:03.497051: I external/local_xla/xla/stream_executor/cuda/cuda_diagnostics.cc:129] retrieving CUDA diagnostic information for host: s1cmp008.pax.tufts.edu\n",
      "2024-06-17 14:41:03.497057: I external/local_xla/xla/stream_executor/cuda/cuda_diagnostics.cc:136] hostname: s1cmp008.pax.tufts.edu\n",
      "2024-06-17 14:41:03.497157: I external/local_xla/xla/stream_executor/cuda/cuda_diagnostics.cc:159] libcuda reported version is: 535.129.3\n",
      "2024-06-17 14:41:03.497188: I external/local_xla/xla/stream_executor/cuda/cuda_diagnostics.cc:163] kernel reported version is: 535.129.3\n",
      "2024-06-17 14:41:03.497194: I external/local_xla/xla/stream_executor/cuda/cuda_diagnostics.cc:241] kernel version seems to match DSO: 535.129.3\n"
     ]
    }
   ],
   "source": [
    "# Distribution Settings\n",
    "scale = 1\n",
    "mean = 0\n",
    "\n",
    "normal_dist = scipy.stats.norm(loc=mean, scale=scale)\n",
    "\n",
    "# Number of independent datapoints \n",
    "T = 1000\n",
    "\n",
    "seed=360\n",
    "rng = np.random.RandomState(seed)\n",
    "y_T = normal_dist.rvs(size=T, random_state=rng)\n",
    "\n",
    "# create keras model\n",
    "inputs = keras.Input(shape=0)\n",
    "# a dense layer with an empty input will just be an intercept term\n",
    "intercept_layer = keras.layers.Dense(1, activation = None)\n",
    "# Create a normal distribution with a mean equal to the input \n",
    "distribution_layer = tfp.layers.DistributionLambda(lambda t: tfp.distributions.Normal(loc=t, scale=1))\n",
    "predicted_mean = intercept_layer(inputs)\n",
    "distribution = distribution_layer(predicted_mean)\n",
    "model = keras.Model(inputs=inputs, outputs=distribution)"
   ]
  },
  {
   "cell_type": "code",
   "execution_count": 4,
   "metadata": {},
   "outputs": [],
   "source": [
    "x_TF = np.zeros(shape=(T,0))"
   ]
  },
  {
   "cell_type": "code",
   "execution_count": null,
   "metadata": {},
   "outputs": [],
   "source": [
    "# number of score function trick samples\n",
    "N=2\n",
    "@tf.custom_gradient\n",
    "def get_action(model_distribution):\n",
    "    model_distribution = model(x)\n",
    "    sample_y_NT = model_distribution.sample(N)\n",
    "    expected_action_T = tf.reduce_mean(sample_y_NT, axis=0)\n",
    "\n",
    "    def grad(upstream):\n",
    "        with tf.GradientTape() as tape:\n",
    "            sample_y_NT = model_distribution.sample(N)\n",
    "            stopped_samples_NT = tf.stop_gradient(sample_y_NT)\n",
    "            sample_log_probs_NT = model_distribution.log_prob(stopped_samples_NT)\n",
    "            estimator = tf.reduce_mean(sample_log_probs_NT*tf.expand_dims(expected_action_T,axis=0), axis=0)\n",
    "        dz_dx = tape.jacobian\n",
    "        return upstream * dz_dx\n",
    "    return expected_action_T, grad"
   ]
  },
  {
   "cell_type": "code",
   "execution_count": 6,
   "metadata": {},
   "outputs": [
    {
     "name": "stdout",
     "output_type": "stream",
     "text": [
      "-10.0\n",
      "0\n",
      "10\n",
      "-8.0\n",
      "0\n",
      "10\n",
      "-6.0\n",
      "0\n",
      "10\n",
      "-4.0\n",
      "0\n",
      "10\n",
      "-2.0\n",
      "0\n",
      "10\n",
      "0.0\n",
      "0\n",
      "10\n",
      "2.0\n",
      "0\n",
      "10\n",
      "4.0\n",
      "0\n",
      "10\n",
      "6.0\n",
      "0\n",
      "10\n",
      "8.0\n",
      "0\n",
      "10\n",
      "10.0\n",
      "0\n",
      "10\n"
     ]
    }
   ],
   "source": [
    "grads = []\n",
    "vals = []\n",
    "for val in np.linspace(-10,10,11):\n",
    "    print(val)\n",
    "    intercept = model.trainable_variables[1]\n",
    "    intercept.assign([val])\n",
    "    for i in range(20):\n",
    "        if i%10==0:\n",
    "            print(i) \n",
    "        \n",
    "\n",
    "        with tf.GradientTape() as tape, tf.GradientTape() as loss_tape:\n",
    "            model_distribution = model(x_TF)\n",
    "            sample_y_NT = model_distribution.sample(N)\n",
    "            stopped_samples_NT = tf.stop_gradient(sample_y_NT)\n",
    "            sample_log_probs_NT = model_distribution.log_prob(stopped_samples_NT)\n",
    "            #estimator = tf.reduce_mean(sample_log_probs_NT*stopped_samples_NT, axis=0)\n",
    "        \n",
    "            sample_y_NT = model_distribution.sample(N)\n",
    "            #stopped_samples_NT = tf.stop_gradient(sample_y_NT)\n",
    "            expected_action_T = tf.reduce_mean(sample_y_NT, axis=0)\n",
    "            estimator = tf.reduce_mean(sample_log_probs_NT*tf.expand_dims(expected_action_T,axis=0), axis=0)\n",
    "            loss_T = keras.losses.mean_squared_error(y_T, expected_action_T)\n",
    "            #estimator = tf.reduce_mean(sample_log_probs_NT*tf.expand_dims(loss_T,axis=0), axis=0)\n",
    "        action_grad = tape.gradient(estimator, model.trainable_weights)\n",
    "\n",
    "\n",
    "\n",
    "        other_grad = loss_tape.gradient(loss_T, expected_action_T)\n",
    "\n",
    "\n",
    "\n",
    "        #gradients = tape.gradient(estimator, model.trainable_weights)\n",
    "        grads.append(tf.reduce_mean(tf.squeeze(other_grad) * tf.squeeze(action_grad[1])))\n",
    "        vals.append(val)\n",
    "\n",
    "\n"
   ]
  },
  {
   "cell_type": "code",
   "execution_count": null,
   "metadata": {},
   "outputs": [],
   "source": []
  },
  {
   "cell_type": "code",
   "execution_count": null,
   "metadata": {},
   "outputs": [],
   "source": []
  }
 ],
 "metadata": {
  "kernelspec": {
   "display_name": "pip_k2_tf",
   "language": "python",
   "name": "python3"
  },
  "language_info": {
   "codemirror_mode": {
    "name": "ipython",
    "version": 3
   },
   "file_extension": ".py",
   "mimetype": "text/x-python",
   "name": "python",
   "nbconvert_exporter": "python",
   "pygments_lexer": "ipython3",
   "version": "3.11.7"
  }
 },
 "nbformat": 4,
 "nbformat_minor": 2
}
