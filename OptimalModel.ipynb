{
 "cells": [
  {
   "cell_type": "code",
   "execution_count": 24,
   "metadata": {},
   "outputs": [
    {
     "name": "stdout",
     "output_type": "stream",
     "text": [
      "The autoreload extension is already loaded. To reload it, use:\n",
      "  %reload_ext autoreload\n"
     ]
    }
   ],
   "source": [
    "%load_ext autoreload\n",
    "%autoreload 2\n",
    "from functools import partial\n",
    "\n",
    "import keras\n",
    "\n",
    "from datasets import example_datasets, to_numpy\n",
    "from models import mixture_poissons,poisson_glm\n",
    "from metrics import mixture_poi_loss, get_bpr_loss_func, mix_bpr, get_penalized_bpr_loss_func_mix\n",
    "from experiments import training_loop\n",
    "from plotting_funcs import plot_losses, plot_frontier\n",
    "\n",
    "import tensorflow as tf\n",
    "import tensorflow_probability as tfp\n",
    "import numpy as np"
   ]
  },
  {
   "cell_type": "code",
   "execution_count": 14,
   "metadata": {},
   "outputs": [],
   "source": [
    "seed=360\n",
    "num_components=4\n",
    "learning_rate = 0.005\n",
    "epochs=1250\n",
    "outdir = '/cluster/home/kheuto01/testdir'\n",
    "penalty = 0\n",
    "threshold = 0.45\n",
    "K=4\n",
    "do_only=True\n",
    "# tracts/distributions\n",
    "S=12\n",
    "# history/features\n",
    "H = 3\n",
    "# total timepoints\n",
    "T= 500"
   ]
  },
  {
   "cell_type": "code",
   "execution_count": 15,
   "metadata": {},
   "outputs": [],
   "source": [
    "train_dataset, val_dataset, test_dataset = example_datasets(H, T, seed=seed)\n",
    "\n",
    "input_shape = (H,S)\n",
    "\n",
    "negative_bpr_K = get_bpr_loss_func(K)"
   ]
  },
  {
   "cell_type": "code",
   "execution_count": 16,
   "metadata": {},
   "outputs": [],
   "source": [
    "mix_model, mix_weights  = mixture_poissons(poisson_glm, input_shape, num_components=num_components)"
   ]
  },
  {
   "cell_type": "code",
   "execution_count": 30,
   "metadata": {},
   "outputs": [
    {
     "data": {
      "text/plain": [
       "[<tf.Variable 'conv1d_8/kernel:0' shape=(1, 3, 1) dtype=float32, numpy=\n",
       " array([[[0.],\n",
       "         [0.],\n",
       "         [0.]]], dtype=float32)>,\n",
       " <tf.Variable 'conv1d_8/bias:0' shape=(1,) dtype=float32, numpy=array([-inf], dtype=float32)>,\n",
       " <tf.Variable 'conv1d_9/kernel:0' shape=(1, 3, 1) dtype=float32, numpy=\n",
       " array([[[0.],\n",
       "         [0.],\n",
       "         [0.]]], dtype=float32)>,\n",
       " <tf.Variable 'conv1d_9/bias:0' shape=(1,) dtype=float32, numpy=array([-inf], dtype=float32)>,\n",
       " <tf.Variable 'conv1d_10/kernel:0' shape=(1, 3, 1) dtype=float32, numpy=\n",
       " array([[[0.],\n",
       "         [0.],\n",
       "         [0.]]], dtype=float32)>,\n",
       " <tf.Variable 'conv1d_10/bias:0' shape=(1,) dtype=float32, numpy=array([-inf], dtype=float32)>,\n",
       " <tf.Variable 'conv1d_11/kernel:0' shape=(1, 3, 1) dtype=float32, numpy=\n",
       " array([[[0.],\n",
       "         [0.],\n",
       "         [0.]]], dtype=float32)>,\n",
       " <tf.Variable 'conv1d_11/bias:0' shape=(1,) dtype=float32, numpy=array([-inf], dtype=float32)>,\n",
       " <tf.Variable 'Variable:0' shape=(4, 12) dtype=float32, numpy=\n",
       " array([[-0.00253935,  0.04640928,  0.0262731 , -0.00164707,  0.00228095,\n",
       "         -0.03638732, -0.00905061, -0.00208428,  0.01132752, -0.03780596,\n",
       "         -0.03985056,  0.01441014],\n",
       "        [-0.02303494, -0.01648992,  0.00193235, -0.01295837,  0.04136412,\n",
       "          0.00351562,  0.046442  ,  0.02840911, -0.00323936, -0.04069015,\n",
       "         -0.0475201 , -0.04715031],\n",
       "        [-0.02349979,  0.03780172, -0.03891519, -0.03931401,  0.00621573,\n",
       "         -0.01027926, -0.04375323, -0.02539986, -0.0339124 ,  0.03123069,\n",
       "          0.01121119, -0.04748644],\n",
       "        [ 0.04829729,  0.0316637 ,  0.04196342, -0.03072375, -0.01172278,\n",
       "          0.01061754,  0.02759338, -0.00124109,  0.04784672, -0.01345258,\n",
       "          0.00651041,  0.03976151]], dtype=float32)>]"
      ]
     },
     "execution_count": 30,
     "metadata": {},
     "output_type": "execute_result"
    }
   ],
   "source": [
    "mix_model.variables"
   ]
  },
  {
   "cell_type": "markdown",
   "metadata": {},
   "source": [
    "Component 1-4 Weights (all zero)"
   ]
  },
  {
   "cell_type": "code",
   "execution_count": 28,
   "metadata": {},
   "outputs": [
    {
     "name": "stdout",
     "output_type": "stream",
     "text": [
      "Name: conv1d_8/kernel:0\n",
      "Shape: (1, 3, 1)\n",
      "Name: conv1d_9/kernel:0\n",
      "Shape: (1, 3, 1)\n",
      "Name: conv1d_10/kernel:0\n",
      "Shape: (1, 3, 1)\n",
      "Name: conv1d_11/kernel:0\n",
      "Shape: (1, 3, 1)\n"
     ]
    }
   ],
   "source": [
    "for index in [0, 2, 4, 6]:\n",
    "    variable = mix_model.trainable_variables[index]\n",
    "    print(f'Name: {variable.name}')\n",
    "    print(f'Shape: {variable.shape}')\n",
    "\n",
    "    variable.assign(tf.zeros(variable.shape))"
   ]
  },
  {
   "cell_type": "markdown",
   "metadata": {},
   "source": [
    "Component 1-4 Biases, [0, 7, 10, 100]"
   ]
  },
  {
   "cell_type": "code",
   "execution_count": 75,
   "metadata": {},
   "outputs": [
    {
     "name": "stdout",
     "output_type": "stream",
     "text": [
      "Name: conv1d_8/bias:0\n",
      "Shape: (1,)\n",
      "Name: conv1d_9/bias:0\n",
      "Shape: (1,)\n",
      "Name: conv1d_10/bias:0\n",
      "Shape: (1,)\n",
      "Name: conv1d_11/bias:0\n",
      "Shape: (1,)\n"
     ]
    }
   ],
   "source": [
    "for index, bias in zip([1, 3, 5, 7], [0.0+1e-13, 7.0, 10.0, 100.0]):\n",
    "    variable = mix_model.trainable_variables[index]\n",
    "    print(f'Name: {variable.name}')\n",
    "    print(f'Shape: {variable.shape}')\n",
    "\n",
    "    variable.assign(tfp.math.softplus_inverse([bias]))"
   ]
  },
  {
   "cell_type": "markdown",
   "metadata": {},
   "source": [
    "Mixture Weights"
   ]
  },
  {
   "cell_type": "code",
   "execution_count": 76,
   "metadata": {},
   "outputs": [
    {
     "name": "stdout",
     "output_type": "stream",
     "text": [
      "Name: Variable:0\n",
      "Shape: (4, 12)\n"
     ]
    },
    {
     "data": {
      "text/plain": [
       "<tf.Variable 'UnreadVariable' shape=(4, 12) dtype=float32, numpy=\n",
       "array([[-29.933605  , -29.933605  , -29.933605  , -29.933605  ,\n",
       "         -1.2039728 ,  -1.2039728 ,  -1.2039728 ,  -1.2039728 ,\n",
       "         -0.10536054,  -0.10536054,  -0.10536054,  -0.10536054],\n",
       "       [  0.        ,   0.        ,   0.        ,   0.        ,\n",
       "        -29.933605  , -29.933605  , -29.933605  , -29.933605  ,\n",
       "        -29.933605  , -29.933605  , -29.933605  , -29.933605  ],\n",
       "       [-29.933605  , -29.933605  , -29.933605  , -29.933605  ,\n",
       "         -0.35667497,  -0.35667497,  -0.35667497,  -0.35667497,\n",
       "        -29.933605  , -29.933605  , -29.933605  , -29.933605  ],\n",
       "       [-29.933605  , -29.933605  , -29.933605  , -29.933605  ,\n",
       "        -29.933605  , -29.933605  , -29.933605  , -29.933605  ,\n",
       "         -2.3025851 ,  -2.3025851 ,  -2.3025851 ,  -2.3025851 ]],\n",
       "      dtype=float32)>"
      ]
     },
     "execution_count": 76,
     "metadata": {},
     "output_type": "execute_result"
    }
   ],
   "source": [
    "index = -1\n",
    "variable = mix_model.trainable_variables[index]\n",
    "print(f'Name: {variable.name}')\n",
    "print(f'Shape: {variable.shape}')\n",
    "\n",
    "# equal to 0\n",
    "component_1 = np.array([0,0,0,0, 0.3, 0.3, 0.3, 0.3, 0.9, 0.9, 0.9, 0.9], dtype=np.float32)\n",
    "# equal to 7\n",
    "component_2 = np.array([1,1,1,1, 0, 0, 0, 0, 0, 0, 0, 0], dtype=np.float32)\n",
    "# equal to 10\n",
    "component_3 = np.array([0,0,0,0, 0.7, 0.7, 0.7, 0.7, 0, 0, 0, 0], dtype=np.float32)\n",
    "# equal to 10\n",
    "component_4 = np.array([0,0,0,0, 0,0,0,0, 0.1, 0.1, 0.1, 0.1], dtype=np.float32)\n",
    "\n",
    "weights = np.vstack([component_1, component_2, component_3, component_4])\n",
    "variable.assign(tf.math.log(weights+1e-13))"
   ]
  },
  {
   "cell_type": "code",
   "execution_count": 77,
   "metadata": {},
   "outputs": [
    {
     "data": {
      "text/plain": [
       "[<tf.Variable 'conv1d_8/kernel:0' shape=(1, 3, 1) dtype=float32, numpy=\n",
       " array([[[0.],\n",
       "         [0.],\n",
       "         [0.]]], dtype=float32)>,\n",
       " <tf.Variable 'conv1d_8/bias:0' shape=(1,) dtype=float32, numpy=array([-29.933607], dtype=float32)>,\n",
       " <tf.Variable 'conv1d_9/kernel:0' shape=(1, 3, 1) dtype=float32, numpy=\n",
       " array([[[0.],\n",
       "         [0.],\n",
       "         [0.]]], dtype=float32)>,\n",
       " <tf.Variable 'conv1d_9/bias:0' shape=(1,) dtype=float32, numpy=array([6.999088], dtype=float32)>,\n",
       " <tf.Variable 'conv1d_10/kernel:0' shape=(1, 3, 1) dtype=float32, numpy=\n",
       " array([[[0.],\n",
       "         [0.],\n",
       "         [0.]]], dtype=float32)>,\n",
       " <tf.Variable 'conv1d_10/bias:0' shape=(1,) dtype=float32, numpy=array([9.999954], dtype=float32)>,\n",
       " <tf.Variable 'conv1d_11/kernel:0' shape=(1, 3, 1) dtype=float32, numpy=\n",
       " array([[[0.],\n",
       "         [0.],\n",
       "         [0.]]], dtype=float32)>,\n",
       " <tf.Variable 'conv1d_11/bias:0' shape=(1,) dtype=float32, numpy=array([100.], dtype=float32)>,\n",
       " <tf.Variable 'Variable:0' shape=(4, 12) dtype=float32, numpy=\n",
       " array([[-29.933605  , -29.933605  , -29.933605  , -29.933605  ,\n",
       "          -1.2039728 ,  -1.2039728 ,  -1.2039728 ,  -1.2039728 ,\n",
       "          -0.10536054,  -0.10536054,  -0.10536054,  -0.10536054],\n",
       "        [  0.        ,   0.        ,   0.        ,   0.        ,\n",
       "         -29.933605  , -29.933605  , -29.933605  , -29.933605  ,\n",
       "         -29.933605  , -29.933605  , -29.933605  , -29.933605  ],\n",
       "        [-29.933605  , -29.933605  , -29.933605  , -29.933605  ,\n",
       "          -0.35667497,  -0.35667497,  -0.35667497,  -0.35667497,\n",
       "         -29.933605  , -29.933605  , -29.933605  , -29.933605  ],\n",
       "        [-29.933605  , -29.933605  , -29.933605  , -29.933605  ,\n",
       "         -29.933605  , -29.933605  , -29.933605  , -29.933605  ,\n",
       "          -2.3025851 ,  -2.3025851 ,  -2.3025851 ,  -2.3025851 ]],\n",
       "       dtype=float32)>]"
      ]
     },
     "execution_count": 77,
     "metadata": {},
     "output_type": "execute_result"
    }
   ],
   "source": [
    "mix_model.variables"
   ]
  },
  {
   "cell_type": "code",
   "execution_count": 78,
   "metadata": {},
   "outputs": [],
   "source": [
    "train_X_THS, train_y_TS = to_numpy(train_dataset)\n",
    "val_X_THS, val_y_TS = to_numpy(val_dataset)"
   ]
  },
  {
   "cell_type": "code",
   "execution_count": 79,
   "metadata": {},
   "outputs": [],
   "source": [
    "y_preds = mix_model(train_X_THS)"
   ]
  },
  {
   "cell_type": "code",
   "execution_count": 80,
   "metadata": {},
   "outputs": [],
   "source": [
    "negative_bpr_K = get_bpr_loss_func(K)"
   ]
  },
  {
   "cell_type": "code",
   "execution_count": 81,
   "metadata": {},
   "outputs": [
    {
     "name": "stdout",
     "output_type": "stream",
     "text": [
      "WARNING:tensorflow:AutoGraph could not transform <function perturbed.<locals>.wrapper at 0x2b2f466d3560> and will run it as-is.\n",
      "Please report this to the TensorFlow team. When filing the bug, set the verbosity to 10 (on Linux, `export AUTOGRAPH_VERBOSITY=10`) and attach the full output.\n",
      "Cause: module, class, method, function, traceback, frame, or code object was expected, got partial\n",
      "To silence this warning, decorate the function with @tf.autograph.experimental.do_not_convert\n",
      "WARNING: AutoGraph could not transform <function perturbed.<locals>.wrapper at 0x2b2f466d3560> and will run it as-is.\n",
      "Please report this to the TensorFlow team. When filing the bug, set the verbosity to 10 (on Linux, `export AUTOGRAPH_VERBOSITY=10`) and attach the full output.\n",
      "Cause: module, class, method, function, traceback, frame, or code object was expected, got partial\n",
      "To silence this warning, decorate the function with @tf.autograph.experimental.do_not_convert\n"
     ]
    }
   ],
   "source": [
    "nll = mixture_poi_loss(train_y_TS, y_preds)\n",
    "bpr = mix_bpr(train_y_TS, y_preds, negative_bpr_K_func=negative_bpr_K)"
   ]
  },
  {
   "cell_type": "code",
   "execution_count": 82,
   "metadata": {},
   "outputs": [
    {
     "data": {
      "text/plain": [
       "<tf.Tensor: shape=(), dtype=float32, numpy=-0.27111065>"
      ]
     },
     "execution_count": 82,
     "metadata": {},
     "output_type": "execute_result"
    }
   ],
   "source": [
    "tf.reduce_mean(bpr)"
   ]
  },
  {
   "cell_type": "code",
   "execution_count": 83,
   "metadata": {},
   "outputs": [
    {
     "data": {
      "text/plain": [
       "<tf.Tensor: shape=(4, 12), dtype=float32, numpy=\n",
       "array([[1.00000100e-13, 1.00000100e-13, 1.00000100e-13, 1.00000100e-13,\n",
       "        2.99999982e-01, 2.99999982e-01, 2.99999982e-01, 2.99999982e-01,\n",
       "        9.00000036e-01, 9.00000036e-01, 9.00000036e-01, 9.00000036e-01],\n",
       "       [1.00000000e+00, 1.00000000e+00, 1.00000000e+00, 1.00000000e+00,\n",
       "        1.00000032e-13, 1.00000032e-13, 1.00000032e-13, 1.00000032e-13,\n",
       "        1.00000066e-13, 1.00000066e-13, 1.00000066e-13, 1.00000066e-13],\n",
       "       [1.00000100e-13, 1.00000100e-13, 1.00000100e-13, 1.00000100e-13,\n",
       "        6.99999988e-01, 6.99999988e-01, 6.99999988e-01, 6.99999988e-01,\n",
       "        1.00000066e-13, 1.00000066e-13, 1.00000066e-13, 1.00000066e-13],\n",
       "       [1.00000100e-13, 1.00000100e-13, 1.00000100e-13, 1.00000100e-13,\n",
       "        1.00000032e-13, 1.00000032e-13, 1.00000032e-13, 1.00000032e-13,\n",
       "        9.99999940e-02, 9.99999940e-02, 9.99999940e-02, 9.99999940e-02]],\n",
       "      dtype=float32)>"
      ]
     },
     "execution_count": 83,
     "metadata": {},
     "output_type": "execute_result"
    }
   ],
   "source": [
    "y_preds[1]"
   ]
  },
  {
   "cell_type": "code",
   "execution_count": 84,
   "metadata": {},
   "outputs": [],
   "source": [
    "component_preds, mixture_weights = y_preds\n",
    "\n",
    "mixture_pred = tf.einsum('ijk,kj->ij', component_preds, mixture_weights)"
   ]
  },
  {
   "cell_type": "code",
   "execution_count": 85,
   "metadata": {},
   "outputs": [
    {
     "data": {
      "text/plain": [
       "<tf.Tensor: shape=(12,), dtype=float32, numpy=\n",
       "array([7.      , 7.      , 7.      , 7.      , 7.      , 7.      ,\n",
       "       7.      , 7.      , 9.999999, 9.999999, 9.999999, 9.999999],\n",
       "      dtype=float32)>"
      ]
     },
     "execution_count": 85,
     "metadata": {},
     "output_type": "execute_result"
    }
   ],
   "source": [
    "mixture_pred[0]"
   ]
  },
  {
   "cell_type": "code",
   "execution_count": 86,
   "metadata": {},
   "outputs": [
    {
     "data": {
      "text/plain": [
       "<tf.Tensor: shape=(4, 12), dtype=float32, numpy=\n",
       "array([[1.00000100e-13, 1.00000100e-13, 1.00000100e-13, 1.00000100e-13,\n",
       "        2.99999982e-01, 2.99999982e-01, 2.99999982e-01, 2.99999982e-01,\n",
       "        9.00000036e-01, 9.00000036e-01, 9.00000036e-01, 9.00000036e-01],\n",
       "       [1.00000000e+00, 1.00000000e+00, 1.00000000e+00, 1.00000000e+00,\n",
       "        1.00000032e-13, 1.00000032e-13, 1.00000032e-13, 1.00000032e-13,\n",
       "        1.00000066e-13, 1.00000066e-13, 1.00000066e-13, 1.00000066e-13],\n",
       "       [1.00000100e-13, 1.00000100e-13, 1.00000100e-13, 1.00000100e-13,\n",
       "        6.99999988e-01, 6.99999988e-01, 6.99999988e-01, 6.99999988e-01,\n",
       "        1.00000066e-13, 1.00000066e-13, 1.00000066e-13, 1.00000066e-13],\n",
       "       [1.00000100e-13, 1.00000100e-13, 1.00000100e-13, 1.00000100e-13,\n",
       "        1.00000032e-13, 1.00000032e-13, 1.00000032e-13, 1.00000032e-13,\n",
       "        9.99999940e-02, 9.99999940e-02, 9.99999940e-02, 9.99999940e-02]],\n",
       "      dtype=float32)>"
      ]
     },
     "execution_count": 86,
     "metadata": {},
     "output_type": "execute_result"
    }
   ],
   "source": [
    "mixture_weights"
   ]
  },
  {
   "cell_type": "code",
   "execution_count": 87,
   "metadata": {},
   "outputs": [
    {
     "data": {
      "text/plain": [
       "<tf.Tensor: shape=(12, 4), dtype=float32, numpy=\n",
       "array([[9.99999e-14, 7.00000e+00, 1.00000e+01, 1.00000e+02],\n",
       "       [9.99999e-14, 7.00000e+00, 1.00000e+01, 1.00000e+02],\n",
       "       [9.99999e-14, 7.00000e+00, 1.00000e+01, 1.00000e+02],\n",
       "       [9.99999e-14, 7.00000e+00, 1.00000e+01, 1.00000e+02],\n",
       "       [9.99999e-14, 7.00000e+00, 1.00000e+01, 1.00000e+02],\n",
       "       [9.99999e-14, 7.00000e+00, 1.00000e+01, 1.00000e+02],\n",
       "       [9.99999e-14, 7.00000e+00, 1.00000e+01, 1.00000e+02],\n",
       "       [9.99999e-14, 7.00000e+00, 1.00000e+01, 1.00000e+02],\n",
       "       [9.99999e-14, 7.00000e+00, 1.00000e+01, 1.00000e+02],\n",
       "       [9.99999e-14, 7.00000e+00, 1.00000e+01, 1.00000e+02],\n",
       "       [9.99999e-14, 7.00000e+00, 1.00000e+01, 1.00000e+02],\n",
       "       [9.99999e-14, 7.00000e+00, 1.00000e+01, 1.00000e+02]],\n",
       "      dtype=float32)>"
      ]
     },
     "execution_count": 87,
     "metadata": {},
     "output_type": "execute_result"
    }
   ],
   "source": [
    "y_preds[0][0]"
   ]
  },
  {
   "cell_type": "code",
   "execution_count": null,
   "metadata": {},
   "outputs": [],
   "source": []
  }
 ],
 "metadata": {
  "kernelspec": {
   "display_name": "pip_k2_tf",
   "language": "python",
   "name": "python3"
  },
  "language_info": {
   "codemirror_mode": {
    "name": "ipython",
    "version": 3
   },
   "file_extension": ".py",
   "mimetype": "text/x-python",
   "name": "python",
   "nbconvert_exporter": "python",
   "pygments_lexer": "ipython3",
   "version": "3.11.7"
  }
 },
 "nbformat": 4,
 "nbformat_minor": 2
}
