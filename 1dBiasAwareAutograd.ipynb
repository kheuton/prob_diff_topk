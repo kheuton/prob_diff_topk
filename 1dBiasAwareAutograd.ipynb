{
 "cells": [
  {
   "cell_type": "code",
   "execution_count": 1,
   "metadata": {},
   "outputs": [
    {
     "name": "stderr",
     "output_type": "stream",
     "text": [
      "2024-06-13 14:32:52.792194: I tensorflow/core/util/port.cc:113] oneDNN custom operations are on. You may see slightly different numerical results due to floating-point round-off errors from different computation orders. To turn them off, set the environment variable `TF_ENABLE_ONEDNN_OPTS=0`.\n",
      "2024-06-13 14:32:52.936031: E external/local_xla/xla/stream_executor/cuda/cuda_dnn.cc:9261] Unable to register cuDNN factory: Attempting to register factory for plugin cuDNN when one has already been registered\n",
      "2024-06-13 14:32:52.936075: E external/local_xla/xla/stream_executor/cuda/cuda_fft.cc:607] Unable to register cuFFT factory: Attempting to register factory for plugin cuFFT when one has already been registered\n",
      "2024-06-13 14:32:52.937525: E external/local_xla/xla/stream_executor/cuda/cuda_blas.cc:1515] Unable to register cuBLAS factory: Attempting to register factory for plugin cuBLAS when one has already been registered\n",
      "2024-06-13 14:32:52.957274: I tensorflow/core/platform/cpu_feature_guard.cc:182] This TensorFlow binary is optimized to use available CPU instructions in performance-critical operations.\n",
      "To enable the following instructions: AVX2 AVX512F AVX512_VNNI FMA, in other operations, rebuild TensorFlow with the appropriate compiler flags.\n",
      "2024-06-13 14:33:00.309294: W tensorflow/compiler/tf2tensorrt/utils/py_utils.cc:38] TF-TRT Warning: Could not find TensorRT\n"
     ]
    }
   ],
   "source": [
    "%load_ext autoreload\n",
    "%autoreload 2\n",
    "\n",
    "import scipy\n",
    "import numpy as np\n",
    "import matplotlib.pyplot as plt\n",
    "import tensorflow as tf\n",
    "import keras\n",
    "import tensorflow_probability as tfp"
   ]
  },
  {
   "cell_type": "code",
   "execution_count": 4,
   "metadata": {},
   "outputs": [],
   "source": [
    "# Distribution Settings\n",
    "scale = 1\n",
    "mean = 10\n",
    "\n",
    "normal_dist = scipy.stats.norm(loc=mean, scale=scale)\n",
    "\n",
    "# Number of independent datapoints \n",
    "T = 10"
   ]
  },
  {
   "cell_type": "code",
   "execution_count": 5,
   "metadata": {},
   "outputs": [],
   "source": [
    "seed=360\n",
    "rng = np.random.RandomState(seed)\n",
    "y_T = normal_dist.rvs(size=T, random_state=rng)\n",
    "\n",
    "# empty input just for keras \n",
    "x_TF = np.zeros(shape=(T,0))"
   ]
  },
  {
   "cell_type": "code",
   "execution_count": 6,
   "metadata": {},
   "outputs": [
    {
     "name": "stderr",
     "output_type": "stream",
     "text": [
      "2024-06-13 14:12:38.609015: E external/local_xla/xla/stream_executor/cuda/cuda_driver.cc:274] failed call to cuInit: CUDA_ERROR_NO_DEVICE: no CUDA-capable device is detected\n",
      "2024-06-13 14:12:38.609069: I external/local_xla/xla/stream_executor/cuda/cuda_diagnostics.cc:129] retrieving CUDA diagnostic information for host: s1cmp008.pax.tufts.edu\n",
      "2024-06-13 14:12:38.609077: I external/local_xla/xla/stream_executor/cuda/cuda_diagnostics.cc:136] hostname: s1cmp008.pax.tufts.edu\n",
      "2024-06-13 14:12:38.609231: I external/local_xla/xla/stream_executor/cuda/cuda_diagnostics.cc:159] libcuda reported version is: 535.129.3\n",
      "2024-06-13 14:12:38.609273: I external/local_xla/xla/stream_executor/cuda/cuda_diagnostics.cc:163] kernel reported version is: 535.129.3\n",
      "2024-06-13 14:12:38.609281: I external/local_xla/xla/stream_executor/cuda/cuda_diagnostics.cc:241] kernel version seems to match DSO: 535.129.3\n"
     ]
    },
    {
     "data": {
      "text/plain": [
       "<matplotlib.legend.Legend at 0x2ae8673bc350>"
      ]
     },
     "execution_count": 6,
     "metadata": {},
     "output_type": "execute_result"
    },
    {
     "data": {
      "image/png": "[encoded data removed]",
      "text/plain": [
       "<Figure size 640x480 with 1 Axes>"
      ]
     },
     "metadata": {},
     "output_type": "display_data"
    }
   ],
   "source": [
    "plt.hist(tf.reshape(y_T, [-1]).numpy(), bins=50,histtype='step', label='y true')\n",
    "plt.legend()"
   ]
  },
  {
   "cell_type": "code",
   "execution_count": 7,
   "metadata": {},
   "outputs": [],
   "source": [
    "inputs = keras.Input(shape=0)\n",
    "# a dense layer with an empty input will just be an intercept term\n",
    "intercept_layer = keras.layers.Dense(1, activation = None)\n",
    "distribution_layer = tfp.layers.DistributionLambda(lambda t: tfp.distributions.Normal(loc=t, scale=1))"
   ]
  },
  {
   "cell_type": "code",
   "execution_count": 8,
   "metadata": {},
   "outputs": [],
   "source": [
    "predicted_mean = intercept_layer(inputs)\n",
    "distribution = distribution_layer(predicted_mean)\n",
    "model = keras.Model(inputs=inputs, outputs=distribution)"
   ]
  },
  {
   "cell_type": "code",
   "execution_count": 9,
   "metadata": {},
   "outputs": [
    {
     "name": "stdout",
     "output_type": "stream",
     "text": [
      "Model parameter shapes: [(0, 1), (1,)]\n"
     ]
    }
   ],
   "source": [
    "\n",
    "model_distributions = model(x_TF)\n",
    "print(f'Model parameter shapes: {[w.shape for w in model.get_weights()]}')"
   ]
  },
  {
   "cell_type": "code",
   "execution_count": 10,
   "metadata": {},
   "outputs": [
    {
     "name": "stdout",
     "output_type": "stream",
     "text": [
      "intercept [10.]\n"
     ]
    }
   ],
   "source": [
    "intercept = model.trainable_variables[1]\n",
    "intercept.assign([mean])\n",
    "\n",
    "print(f'intercept {model.get_weights()[1]}')"
   ]
  },
  {
   "cell_type": "code",
   "execution_count": 12,
   "metadata": {},
   "outputs": [],
   "source": [
    "M_score = 2\n",
    "@tf.function()\n",
    "def get_grad(x_TF, model, M_score):\n",
    "    with tf.GradientTape() as jacobian_tape, tf.GradientTape() as loss_tape, tf.GradientTape() as master_tape:\n",
    "        model_distribution = model(x_TF)\n",
    "        sample_y_MT_score = model_distribution.sample(M_score)\n",
    "\n",
    "        # maybe stop?\n",
    "        sample_log_probs_MT = model_distributions.log_prob(sample_y_MT_score)\n",
    "    # The lowercase p indicates that this is a list of model parameters, each shape MTS+parameter shape\n",
    "    jacobian_pMT = jacobian_tape.jacobian(sample_log_probs_MT, model.trainable_weights)\n",
    "    return jacobian_pMT\n",
    "\n",
    "jacobian_pMT = get_grad(x_TF, model, M_score)\n"
   ]
  },
  {
   "cell_type": "code",
   "execution_count": 10,
   "metadata": {},
   "outputs": [
    {
     "name": "stderr",
     "output_type": "stream",
     "text": [
      "2024-06-13 13:27:37.014585: W external/local_tsl/tsl/framework/bfc_allocator.cc:485] Allocator (mklcpu) ran out of memory trying to allocate 35.53PiB (rounded to 40000000000000000)requested by op gradient_tape/UnsortedSegmentSum/pfor/UnsortedSegmentSum\n",
      "If the cause is memory fragmentation maybe the environment variable 'TF_GPU_ALLOCATOR=cuda_malloc_async' will improve the situation. \n",
      "Current allocation summary follows.\n",
      "Current allocation summary follows.\n",
      "2024-06-13 13:27:37.014618: I external/local_tsl/tsl/framework/bfc_allocator.cc:1039] BFCAllocator dump for mklcpu\n",
      "2024-06-13 13:27:37.014629: I external/local_tsl/tsl/framework/bfc_allocator.cc:1046] Bin (256): \tTotal Chunks: 0, Chunks in use: 0. 0B allocated for chunks. 0B in use in bin. 0B client-requested in use in bin.\n",
      "2024-06-13 13:27:37.014635: I external/local_tsl/tsl/framework/bfc_allocator.cc:1046] Bin (512): \tTotal Chunks: 0, Chunks in use: 0. 0B allocated for chunks. 0B in use in bin. 0B client-requested in use in bin.\n",
      "2024-06-13 13:27:37.014641: I external/local_tsl/tsl/framework/bfc_allocator.cc:1046] Bin (1024): \tTotal Chunks: 0, Chunks in use: 0. 0B allocated for chunks. 0B in use in bin. 0B client-requested in use in bin.\n",
      "2024-06-13 13:27:37.014646: I external/local_tsl/tsl/framework/bfc_allocator.cc:1046] Bin (2048): \tTotal Chunks: 0, Chunks in use: 0. 0B allocated for chunks. 0B in use in bin. 0B client-requested in use in bin.\n",
      "2024-06-13 13:27:37.014651: I external/local_tsl/tsl/framework/bfc_allocator.cc:1046] Bin (4096): \tTotal Chunks: 0, Chunks in use: 0. 0B allocated for chunks. 0B in use in bin. 0B client-requested in use in bin.\n",
      "2024-06-13 13:27:37.014656: I external/local_tsl/tsl/framework/bfc_allocator.cc:1046] Bin (8192): \tTotal Chunks: 0, Chunks in use: 0. 0B allocated for chunks. 0B in use in bin. 0B client-requested in use in bin.\n",
      "2024-06-13 13:27:37.014662: I external/local_tsl/tsl/framework/bfc_allocator.cc:1046] Bin (16384): \tTotal Chunks: 0, Chunks in use: 0. 0B allocated for chunks. 0B in use in bin. 0B client-requested in use in bin.\n",
      "2024-06-13 13:27:37.014668: I external/local_tsl/tsl/framework/bfc_allocator.cc:1046] Bin (32768): \tTotal Chunks: 0, Chunks in use: 0. 0B allocated for chunks. 0B in use in bin. 0B client-requested in use in bin.\n",
      "2024-06-13 13:27:37.014674: I external/local_tsl/tsl/framework/bfc_allocator.cc:1046] Bin (65536): \tTotal Chunks: 0, Chunks in use: 0. 0B allocated for chunks. 0B in use in bin. 0B client-requested in use in bin.\n",
      "2024-06-13 13:27:37.014680: I external/local_tsl/tsl/framework/bfc_allocator.cc:1046] Bin (131072): \tTotal Chunks: 0, Chunks in use: 0. 0B allocated for chunks. 0B in use in bin. 0B client-requested in use in bin.\n",
      "2024-06-13 13:27:37.014685: I external/local_tsl/tsl/framework/bfc_allocator.cc:1046] Bin (262144): \tTotal Chunks: 0, Chunks in use: 0. 0B allocated for chunks. 0B in use in bin. 0B client-requested in use in bin.\n",
      "2024-06-13 13:27:37.014691: I external/local_tsl/tsl/framework/bfc_allocator.cc:1046] Bin (524288): \tTotal Chunks: 0, Chunks in use: 0. 0B allocated for chunks. 0B in use in bin. 0B client-requested in use in bin.\n",
      "2024-06-13 13:27:37.014697: I external/local_tsl/tsl/framework/bfc_allocator.cc:1046] Bin (1048576): \tTotal Chunks: 0, Chunks in use: 0. 0B allocated for chunks. 0B in use in bin. 0B client-requested in use in bin.\n",
      "2024-06-13 13:27:37.014704: I external/local_tsl/tsl/framework/bfc_allocator.cc:1046] Bin (2097152): \tTotal Chunks: 1, Chunks in use: 1. 3.81MiB allocated for chunks. 3.81MiB in use in bin. 3.81MiB client-requested in use in bin.\n",
      "2024-06-13 13:27:37.014710: I external/local_tsl/tsl/framework/bfc_allocator.cc:1046] Bin (4194304): \tTotal Chunks: 0, Chunks in use: 0. 0B allocated for chunks. 0B in use in bin. 0B client-requested in use in bin.\n",
      "2024-06-13 13:27:37.014715: I external/local_tsl/tsl/framework/bfc_allocator.cc:1046] Bin (8388608): \tTotal Chunks: 0, Chunks in use: 0. 0B allocated for chunks. 0B in use in bin. 0B client-requested in use in bin.\n",
      "2024-06-13 13:27:37.014721: I external/local_tsl/tsl/framework/bfc_allocator.cc:1046] Bin (16777216): \tTotal Chunks: 0, Chunks in use: 0. 0B allocated for chunks. 0B in use in bin. 0B client-requested in use in bin.\n",
      "2024-06-13 13:27:37.014727: I external/local_tsl/tsl/framework/bfc_allocator.cc:1046] Bin (33554432): \tTotal Chunks: 0, Chunks in use: 0. 0B allocated for chunks. 0B in use in bin. 0B client-requested in use in bin.\n",
      "2024-06-13 13:27:37.014734: I external/local_tsl/tsl/framework/bfc_allocator.cc:1046] Bin (67108864): \tTotal Chunks: 1, Chunks in use: 0. 126.71MiB allocated for chunks. 0B in use in bin. 0B client-requested in use in bin.\n",
      "2024-06-13 13:27:37.014740: I external/local_tsl/tsl/framework/bfc_allocator.cc:1046] Bin (134217728): \tTotal Chunks: 2, Chunks in use: 0. 271.18MiB allocated for chunks. 0B in use in bin. 0B client-requested in use in bin.\n",
      "2024-06-13 13:27:37.014747: I external/local_tsl/tsl/framework/bfc_allocator.cc:1046] Bin (268435456): \tTotal Chunks: 13, Chunks in use: 10. 7.61GiB allocated for chunks. 3.72GiB in use in bin. 3.72GiB client-requested in use in bin.\n",
      "2024-06-13 13:27:37.014754: I external/local_tsl/tsl/framework/bfc_allocator.cc:1062] Bin for 35.53PiB was 256.00MiB, Chunk State: \n",
      "2024-06-13 13:27:37.014764: I external/local_tsl/tsl/framework/bfc_allocator.cc:1068]   Size: 261.06MiB | Requested Size: 0B | in_use: 0 | bin_num: 20, prev:   Size: 381.47MiB | Requested Size: 381.47MiB | in_use: 1 | bin_num: -1\n",
      "2024-06-13 13:27:37.014773: I external/local_tsl/tsl/framework/bfc_allocator.cc:1068]   Size: 381.47MiB | Requested Size: 381.47MiB | in_use: 0 | bin_num: 20, next:   Size: 381.47MiB | Requested Size: 381.47MiB | in_use: 1 | bin_num: -1\n",
      "2024-06-13 13:27:37.014780: I external/local_tsl/tsl/framework/bfc_allocator.cc:1068]   Size: 3.25GiB | Requested Size: 0B | in_use: 0 | bin_num: 20, prev:   Size: 381.47MiB | Requested Size: 381.47MiB | in_use: 1 | bin_num: -1\n",
      "2024-06-13 13:27:37.014786: I external/local_tsl/tsl/framework/bfc_allocator.cc:1075] Next region of size 536870912\n",
      "2024-06-13 13:27:37.014793: I external/local_tsl/tsl/framework/bfc_allocator.cc:1095] InUse at 2b354c000040 of size 400000000 next 3\n",
      "2024-06-13 13:27:37.014798: I external/local_tsl/tsl/framework/bfc_allocator.cc:1095] InUse at 2b3563d78440 of size 4000000 next 12\n",
      "2024-06-13 13:27:37.014804: I external/local_tsl/tsl/framework/bfc_allocator.cc:1095] Free  at 2b3564148d40 of size 132870912 next 18446744073709551615\n",
      "2024-06-13 13:27:37.014810: I external/local_tsl/tsl/framework/bfc_allocator.cc:1075] Next region of size 536870912\n",
      "2024-06-13 13:27:37.014815: I external/local_tsl/tsl/framework/bfc_allocator.cc:1095] InUse at 2b356d002040 of size 400000000 next 1\n",
      "2024-06-13 13:27:37.014820: I external/local_tsl/tsl/framework/bfc_allocator.cc:1095] Free  at 2b3584d7a440 of size 136870912 next 18446744073709551615\n",
      "2024-06-13 13:27:37.014826: I external/local_tsl/tsl/framework/bfc_allocator.cc:1075] Next region of size 1073741824\n",
      "2024-06-13 13:27:37.014831: I external/local_tsl/tsl/framework/bfc_allocator.cc:1095] InUse at 2b358e004040 of size 400000000 next 5\n",
      "2024-06-13 13:27:37.014836: I external/local_tsl/tsl/framework/bfc_allocator.cc:1095] InUse at 2b35a5d7c440 of size 400000000 next 6\n",
      "2024-06-13 13:27:37.014842: I external/local_tsl/tsl/framework/bfc_allocator.cc:1095] Free  at 2b35bdaf4840 of size 273741824 next 18446744073709551615\n",
      "2024-06-13 13:27:37.014847: I external/local_tsl/tsl/framework/bfc_allocator.cc:1075] Next region of size 2147483648\n",
      "2024-06-13 13:27:37.014852: I external/local_tsl/tsl/framework/bfc_allocator.cc:1095] InUse at 2b35d0006040 of size 400000000 next 8\n",
      "2024-06-13 13:27:37.014858: I external/local_tsl/tsl/framework/bfc_allocator.cc:1095] InUse at 2b35e7d7e440 of size 400000000 next 9\n",
      "2024-06-13 13:27:37.014863: I external/local_tsl/tsl/framework/bfc_allocator.cc:1095] InUse at 2b35ffaf6840 of size 400000000 next 10\n",
      "2024-06-13 13:27:37.014868: I external/local_tsl/tsl/framework/bfc_allocator.cc:1095] InUse at 2b361786ec40 of size 400000000 next 11\n",
      "2024-06-13 13:27:37.014874: I external/local_tsl/tsl/framework/bfc_allocator.cc:1095] InUse at 2b362f5e7040 of size 400000000 next 13\n",
      "2024-06-13 13:27:37.014879: I external/local_tsl/tsl/framework/bfc_allocator.cc:1095] Free  at 2b364735f440 of size 147483648 next 18446744073709551615\n",
      "2024-06-13 13:27:37.014884: I external/local_tsl/tsl/framework/bfc_allocator.cc:1075] Next region of size 4294967296\n",
      "2024-06-13 13:27:37.014890: I external/local_tsl/tsl/framework/bfc_allocator.cc:1095] Free  at 2b3654008040 of size 400000000 next 15\n",
      "2024-06-13 13:27:37.014895: I external/local_tsl/tsl/framework/bfc_allocator.cc:1095] InUse at 2b366bd80440 of size 400000000 next 16\n",
      "2024-06-13 13:27:37.014901: I external/local_tsl/tsl/framework/bfc_allocator.cc:1095] Free  at 2b3683af8840 of size 3494967296 next 18446744073709551615\n",
      "2024-06-13 13:27:37.014906: I external/local_tsl/tsl/framework/bfc_allocator.cc:1100]      Summary of in-use Chunks by size: \n",
      "2024-06-13 13:27:37.014913: I external/local_tsl/tsl/framework/bfc_allocator.cc:1103] 1 Chunks of size 4000000 totalling 3.81MiB\n",
      "2024-06-13 13:27:37.014920: I external/local_tsl/tsl/framework/bfc_allocator.cc:1103] 10 Chunks of size 400000000 totalling 3.72GiB\n",
      "2024-06-13 13:27:37.014926: I external/local_tsl/tsl/framework/bfc_allocator.cc:1107] Sum Total of in-use chunks: 3.73GiB\n",
      "2024-06-13 13:27:37.014933: I external/local_tsl/tsl/framework/bfc_allocator.cc:1109] Total bytes in pool: 8589934592 memory_limit_: 1081633120256 available bytes: 1073043185664 curr_region_allocation_bytes_: 8589934592\n",
      "2024-06-13 13:27:37.014943: I external/local_tsl/tsl/framework/bfc_allocator.cc:1114] Stats: \n",
      "Limit:                   1081633120256\n",
      "InUse:                      4004000000\n",
      "MaxInUse:                   4536870912\n",
      "NumAllocs:                          22\n",
      "MaxAllocSize:                400000000\n",
      "Reserved:                            0\n",
      "PeakReserved:                        0\n",
      "LargestFreeBlock:                    0\n",
      "\n",
      "2024-06-13 13:27:37.014952: W external/local_tsl/tsl/framework/bfc_allocator.cc:497] *****_*****_**********___************************_____******________________________________________\n",
      "2024-06-13 13:27:37.014977: W tensorflow/core/framework/op_kernel.cc:1839] OP_REQUIRES failed at segment_reduction_ops_impl.h:493 : RESOURCE_EXHAUSTED: OOM when allocating tensor with shape[10000000000000000] and type float on /device:CPU:0 by allocator mklcpu\n",
      "2024-06-13 13:27:47.249175: W external/local_tsl/tsl/framework/bfc_allocator.cc:485] Allocator (mklcpu) ran out of memory trying to allocate 35.53PiB (rounded to 40000000000000000)requested by op gradient_tape/UnsortedSegmentSum/pfor/UnsortedSegmentSum\n",
      "If the cause is memory fragmentation maybe the environment variable 'TF_GPU_ALLOCATOR=cuda_malloc_async' will improve the situation. \n",
      "Current allocation summary follows.\n",
      "Current allocation summary follows.\n",
      "2024-06-13 13:27:47.249205: I external/local_tsl/tsl/framework/bfc_allocator.cc:1039] BFCAllocator dump for mklcpu\n",
      "2024-06-13 13:27:47.249213: I external/local_tsl/tsl/framework/bfc_allocator.cc:1046] Bin (256): \tTotal Chunks: 0, Chunks in use: 0. 0B allocated for chunks. 0B in use in bin. 0B client-requested in use in bin.\n",
      "2024-06-13 13:27:47.249218: I external/local_tsl/tsl/framework/bfc_allocator.cc:1046] Bin (512): \tTotal Chunks: 0, Chunks in use: 0. 0B allocated for chunks. 0B in use in bin. 0B client-requested in use in bin.\n",
      "2024-06-13 13:27:47.249223: I external/local_tsl/tsl/framework/bfc_allocator.cc:1046] Bin (1024): \tTotal Chunks: 0, Chunks in use: 0. 0B allocated for chunks. 0B in use in bin. 0B client-requested in use in bin.\n",
      "2024-06-13 13:27:47.249229: I external/local_tsl/tsl/framework/bfc_allocator.cc:1046] Bin (2048): \tTotal Chunks: 0, Chunks in use: 0. 0B allocated for chunks. 0B in use in bin. 0B client-requested in use in bin.\n",
      "2024-06-13 13:27:47.249234: I external/local_tsl/tsl/framework/bfc_allocator.cc:1046] Bin (4096): \tTotal Chunks: 0, Chunks in use: 0. 0B allocated for chunks. 0B in use in bin. 0B client-requested in use in bin.\n",
      "2024-06-13 13:27:47.249239: I external/local_tsl/tsl/framework/bfc_allocator.cc:1046] Bin (8192): \tTotal Chunks: 0, Chunks in use: 0. 0B allocated for chunks. 0B in use in bin. 0B client-requested in use in bin.\n",
      "2024-06-13 13:27:47.249245: I external/local_tsl/tsl/framework/bfc_allocator.cc:1046] Bin (16384): \tTotal Chunks: 0, Chunks in use: 0. 0B allocated for chunks. 0B in use in bin. 0B client-requested in use in bin.\n",
      "2024-06-13 13:27:47.249250: I external/local_tsl/tsl/framework/bfc_allocator.cc:1046] Bin (32768): \tTotal Chunks: 0, Chunks in use: 0. 0B allocated for chunks. 0B in use in bin. 0B client-requested in use in bin.\n",
      "2024-06-13 13:27:47.249255: I external/local_tsl/tsl/framework/bfc_allocator.cc:1046] Bin (65536): \tTotal Chunks: 0, Chunks in use: 0. 0B allocated for chunks. 0B in use in bin. 0B client-requested in use in bin.\n",
      "2024-06-13 13:27:47.249261: I external/local_tsl/tsl/framework/bfc_allocator.cc:1046] Bin (131072): \tTotal Chunks: 0, Chunks in use: 0. 0B allocated for chunks. 0B in use in bin. 0B client-requested in use in bin.\n",
      "2024-06-13 13:27:47.249266: I external/local_tsl/tsl/framework/bfc_allocator.cc:1046] Bin (262144): \tTotal Chunks: 0, Chunks in use: 0. 0B allocated for chunks. 0B in use in bin. 0B client-requested in use in bin.\n",
      "2024-06-13 13:27:47.249272: I external/local_tsl/tsl/framework/bfc_allocator.cc:1046] Bin (524288): \tTotal Chunks: 0, Chunks in use: 0. 0B allocated for chunks. 0B in use in bin. 0B client-requested in use in bin.\n",
      "2024-06-13 13:27:47.249277: I external/local_tsl/tsl/framework/bfc_allocator.cc:1046] Bin (1048576): \tTotal Chunks: 0, Chunks in use: 0. 0B allocated for chunks. 0B in use in bin. 0B client-requested in use in bin.\n",
      "2024-06-13 13:27:47.249283: I external/local_tsl/tsl/framework/bfc_allocator.cc:1046] Bin (2097152): \tTotal Chunks: 1, Chunks in use: 1. 3.81MiB allocated for chunks. 3.81MiB in use in bin. 3.81MiB client-requested in use in bin.\n",
      "2024-06-13 13:27:47.249289: I external/local_tsl/tsl/framework/bfc_allocator.cc:1046] Bin (4194304): \tTotal Chunks: 0, Chunks in use: 0. 0B allocated for chunks. 0B in use in bin. 0B client-requested in use in bin.\n",
      "2024-06-13 13:27:47.249294: I external/local_tsl/tsl/framework/bfc_allocator.cc:1046] Bin (8388608): \tTotal Chunks: 0, Chunks in use: 0. 0B allocated for chunks. 0B in use in bin. 0B client-requested in use in bin.\n",
      "2024-06-13 13:27:47.249300: I external/local_tsl/tsl/framework/bfc_allocator.cc:1046] Bin (16777216): \tTotal Chunks: 0, Chunks in use: 0. 0B allocated for chunks. 0B in use in bin. 0B client-requested in use in bin.\n",
      "2024-06-13 13:27:47.249306: I external/local_tsl/tsl/framework/bfc_allocator.cc:1046] Bin (33554432): \tTotal Chunks: 0, Chunks in use: 0. 0B allocated for chunks. 0B in use in bin. 0B client-requested in use in bin.\n",
      "2024-06-13 13:27:47.249313: I external/local_tsl/tsl/framework/bfc_allocator.cc:1046] Bin (67108864): \tTotal Chunks: 1, Chunks in use: 0. 126.71MiB allocated for chunks. 0B in use in bin. 0B client-requested in use in bin.\n",
      "2024-06-13 13:27:47.249320: I external/local_tsl/tsl/framework/bfc_allocator.cc:1046] Bin (134217728): \tTotal Chunks: 2, Chunks in use: 0. 271.18MiB allocated for chunks. 0B in use in bin. 0B client-requested in use in bin.\n",
      "2024-06-13 13:27:47.249327: I external/local_tsl/tsl/framework/bfc_allocator.cc:1046] Bin (268435456): \tTotal Chunks: 13, Chunks in use: 10. 7.61GiB allocated for chunks. 3.72GiB in use in bin. 3.72GiB client-requested in use in bin.\n",
      "2024-06-13 13:27:47.249335: I external/local_tsl/tsl/framework/bfc_allocator.cc:1062] Bin for 35.53PiB was 256.00MiB, Chunk State: \n",
      "2024-06-13 13:27:47.249347: I external/local_tsl/tsl/framework/bfc_allocator.cc:1068]   Size: 261.06MiB | Requested Size: 0B | in_use: 0 | bin_num: 20, prev:   Size: 381.47MiB | Requested Size: 381.47MiB | in_use: 1 | bin_num: -1\n",
      "2024-06-13 13:27:47.249357: I external/local_tsl/tsl/framework/bfc_allocator.cc:1068]   Size: 381.47MiB | Requested Size: 381.47MiB | in_use: 0 | bin_num: 20, next:   Size: 381.47MiB | Requested Size: 381.47MiB | in_use: 1 | bin_num: -1\n",
      "2024-06-13 13:27:47.249366: I external/local_tsl/tsl/framework/bfc_allocator.cc:1068]   Size: 3.25GiB | Requested Size: 0B | in_use: 0 | bin_num: 20, prev:   Size: 381.47MiB | Requested Size: 381.47MiB | in_use: 1 | bin_num: -1\n",
      "2024-06-13 13:27:47.249372: I external/local_tsl/tsl/framework/bfc_allocator.cc:1075] Next region of size 536870912\n",
      "2024-06-13 13:27:47.249379: I external/local_tsl/tsl/framework/bfc_allocator.cc:1095] InUse at 2b354c000040 of size 400000000 next 3\n",
      "2024-06-13 13:27:47.249385: I external/local_tsl/tsl/framework/bfc_allocator.cc:1095] InUse at 2b3563d78440 of size 4000000 next 12\n",
      "2024-06-13 13:27:47.249391: I external/local_tsl/tsl/framework/bfc_allocator.cc:1095] Free  at 2b3564148d40 of size 132870912 next 18446744073709551615\n",
      "2024-06-13 13:27:47.249397: I external/local_tsl/tsl/framework/bfc_allocator.cc:1075] Next region of size 536870912\n",
      "2024-06-13 13:27:47.249402: I external/local_tsl/tsl/framework/bfc_allocator.cc:1095] InUse at 2b356d002040 of size 400000000 next 1\n",
      "2024-06-13 13:27:47.249408: I external/local_tsl/tsl/framework/bfc_allocator.cc:1095] Free  at 2b3584d7a440 of size 136870912 next 18446744073709551615\n",
      "2024-06-13 13:27:47.249413: I external/local_tsl/tsl/framework/bfc_allocator.cc:1075] Next region of size 1073741824\n",
      "2024-06-13 13:27:47.249418: I external/local_tsl/tsl/framework/bfc_allocator.cc:1095] InUse at 2b358e004040 of size 400000000 next 5\n",
      "2024-06-13 13:27:47.249424: I external/local_tsl/tsl/framework/bfc_allocator.cc:1095] InUse at 2b35a5d7c440 of size 400000000 next 6\n",
      "2024-06-13 13:27:47.249429: I external/local_tsl/tsl/framework/bfc_allocator.cc:1095] Free  at 2b35bdaf4840 of size 273741824 next 18446744073709551615\n",
      "2024-06-13 13:27:47.249434: I external/local_tsl/tsl/framework/bfc_allocator.cc:1075] Next region of size 2147483648\n",
      "2024-06-13 13:27:47.249440: I external/local_tsl/tsl/framework/bfc_allocator.cc:1095] InUse at 2b35d0006040 of size 400000000 next 8\n",
      "2024-06-13 13:27:47.249445: I external/local_tsl/tsl/framework/bfc_allocator.cc:1095] InUse at 2b35e7d7e440 of size 400000000 next 9\n",
      "2024-06-13 13:27:47.249450: I external/local_tsl/tsl/framework/bfc_allocator.cc:1095] InUse at 2b35ffaf6840 of size 400000000 next 10\n",
      "2024-06-13 13:27:47.249456: I external/local_tsl/tsl/framework/bfc_allocator.cc:1095] InUse at 2b361786ec40 of size 400000000 next 11\n",
      "2024-06-13 13:27:47.249461: I external/local_tsl/tsl/framework/bfc_allocator.cc:1095] InUse at 2b362f5e7040 of size 400000000 next 13\n",
      "2024-06-13 13:27:47.249467: I external/local_tsl/tsl/framework/bfc_allocator.cc:1095] Free  at 2b364735f440 of size 147483648 next 18446744073709551615\n",
      "2024-06-13 13:27:47.249472: I external/local_tsl/tsl/framework/bfc_allocator.cc:1075] Next region of size 4294967296\n",
      "2024-06-13 13:27:47.249477: I external/local_tsl/tsl/framework/bfc_allocator.cc:1095] Free  at 2b3654008040 of size 400000000 next 15\n",
      "2024-06-13 13:27:47.249482: I external/local_tsl/tsl/framework/bfc_allocator.cc:1095] InUse at 2b366bd80440 of size 400000000 next 16\n",
      "2024-06-13 13:27:47.249488: I external/local_tsl/tsl/framework/bfc_allocator.cc:1095] Free  at 2b3683af8840 of size 3494967296 next 18446744073709551615\n",
      "2024-06-13 13:27:47.249493: I external/local_tsl/tsl/framework/bfc_allocator.cc:1100]      Summary of in-use Chunks by size: \n",
      "2024-06-13 13:27:47.249501: I external/local_tsl/tsl/framework/bfc_allocator.cc:1103] 1 Chunks of size 4000000 totalling 3.81MiB\n",
      "2024-06-13 13:27:47.249507: I external/local_tsl/tsl/framework/bfc_allocator.cc:1103] 10 Chunks of size 400000000 totalling 3.72GiB\n",
      "2024-06-13 13:27:47.249513: I external/local_tsl/tsl/framework/bfc_allocator.cc:1107] Sum Total of in-use chunks: 3.73GiB\n",
      "2024-06-13 13:27:47.249519: I external/local_tsl/tsl/framework/bfc_allocator.cc:1109] Total bytes in pool: 8589934592 memory_limit_: 1081633120256 available bytes: 1073043185664 curr_region_allocation_bytes_: 8589934592\n",
      "2024-06-13 13:27:47.249530: I external/local_tsl/tsl/framework/bfc_allocator.cc:1114] Stats: \n",
      "Limit:                   1081633120256\n",
      "InUse:                      4004000000\n",
      "MaxInUse:                   4536870912\n",
      "NumAllocs:                          26\n",
      "MaxAllocSize:                400000000\n",
      "Reserved:                            0\n",
      "PeakReserved:                        0\n",
      "LargestFreeBlock:                    0\n",
      "\n",
      "2024-06-13 13:27:47.249539: W external/local_tsl/tsl/framework/bfc_allocator.cc:497] *****_*****_**********___************************_____******________________________________________\n",
      "2024-06-13 13:27:47.249560: W tensorflow/core/framework/op_kernel.cc:1839] OP_REQUIRES failed at segment_reduction_ops_impl.h:493 : RESOURCE_EXHAUSTED: OOM when allocating tensor with shape[10000000000000000] and type float on /job:localhost/replica:0/task:0/device:CPU:0 by allocator mklcpu\n"
     ]
    },
    {
     "ename": "ResourceExhaustedError",
     "evalue": "Graph execution error:\n\nDetected at node gradient_tape/UnsortedSegmentSum/pfor/UnsortedSegmentSum defined at (most recent call last):\n  File \"<frozen runpy>\", line 198, in _run_module_as_main\n\n  File \"<frozen runpy>\", line 88, in _run_code\n\n  File \"/cluster/tufts/hugheslab/kheuto01/mambaforge/envs/pip_k2_tf/lib/python3.11/site-packages/ipykernel_launcher.py\", line 17, in <module>\n\n  File \"/cluster/tufts/hugheslab/kheuto01/mambaforge/envs/pip_k2_tf/lib/python3.11/site-packages/traitlets/config/application.py\", line 1075, in launch_instance\n\n  File \"/cluster/tufts/hugheslab/kheuto01/mambaforge/envs/pip_k2_tf/lib/python3.11/site-packages/ipykernel/kernelapp.py\", line 739, in start\n\n  File \"/cluster/tufts/hugheslab/kheuto01/mambaforge/envs/pip_k2_tf/lib/python3.11/site-packages/tornado/platform/asyncio.py\", line 205, in start\n\n  File \"/cluster/tufts/hugheslab/kheuto01/mambaforge/envs/pip_k2_tf/lib/python3.11/asyncio/base_events.py\", line 607, in run_forever\n\n  File \"/cluster/tufts/hugheslab/kheuto01/mambaforge/envs/pip_k2_tf/lib/python3.11/asyncio/base_events.py\", line 1922, in _run_once\n\n  File \"/cluster/tufts/hugheslab/kheuto01/mambaforge/envs/pip_k2_tf/lib/python3.11/asyncio/events.py\", line 80, in _run\n\n  File \"/cluster/tufts/hugheslab/kheuto01/mambaforge/envs/pip_k2_tf/lib/python3.11/site-packages/ipykernel/kernelbase.py\", line 542, in dispatch_queue\n\n  File \"/cluster/tufts/hugheslab/kheuto01/mambaforge/envs/pip_k2_tf/lib/python3.11/site-packages/ipykernel/kernelbase.py\", line 531, in process_one\n\n  File \"/cluster/tufts/hugheslab/kheuto01/mambaforge/envs/pip_k2_tf/lib/python3.11/site-packages/ipykernel/kernelbase.py\", line 437, in dispatch_shell\n\n  File \"/cluster/tufts/hugheslab/kheuto01/mambaforge/envs/pip_k2_tf/lib/python3.11/site-packages/ipykernel/ipkernel.py\", line 359, in execute_request\n\n  File \"/cluster/tufts/hugheslab/kheuto01/mambaforge/envs/pip_k2_tf/lib/python3.11/site-packages/ipykernel/kernelbase.py\", line 775, in execute_request\n\n  File \"/cluster/tufts/hugheslab/kheuto01/mambaforge/envs/pip_k2_tf/lib/python3.11/site-packages/ipykernel/ipkernel.py\", line 446, in do_execute\n\n  File \"/cluster/tufts/hugheslab/kheuto01/mambaforge/envs/pip_k2_tf/lib/python3.11/site-packages/ipykernel/zmqshell.py\", line 549, in run_cell\n\n  File \"/cluster/tufts/hugheslab/kheuto01/mambaforge/envs/pip_k2_tf/lib/python3.11/site-packages/IPython/core/interactiveshell.py\", line 3051, in run_cell\n\n  File \"/cluster/tufts/hugheslab/kheuto01/mambaforge/envs/pip_k2_tf/lib/python3.11/site-packages/IPython/core/interactiveshell.py\", line 3106, in _run_cell\n\n  File \"/cluster/tufts/hugheslab/kheuto01/mambaforge/envs/pip_k2_tf/lib/python3.11/site-packages/IPython/core/async_helpers.py\", line 129, in _pseudo_sync_runner\n\n  File \"/cluster/tufts/hugheslab/kheuto01/mambaforge/envs/pip_k2_tf/lib/python3.11/site-packages/IPython/core/interactiveshell.py\", line 3311, in run_cell_async\n\n  File \"/cluster/tufts/hugheslab/kheuto01/mambaforge/envs/pip_k2_tf/lib/python3.11/site-packages/IPython/core/interactiveshell.py\", line 3493, in run_ast_nodes\n\n  File \"/cluster/tufts/hugheslab/kheuto01/mambaforge/envs/pip_k2_tf/lib/python3.11/site-packages/IPython/core/interactiveshell.py\", line 3553, in run_code\n\n  File \"/tmp/ipykernel_90591/4274885539.py\", line 17, in <module>\n\n  File \"/cluster/tufts/hugheslab/kheuto01/mambaforge/envs/pip_k2_tf/lib/python3.11/site-packages/tensorflow/python/ops/parallel_for/control_flow_ops.py\", line 212, in f\n\nOOM when allocating tensor with shape[10000000000000000] and type float on /job:localhost/replica:0/task:0/device:CPU:0 by allocator mklcpu\n\t [[{{node gradient_tape/UnsortedSegmentSum/pfor/UnsortedSegmentSum}}]]\nHint: If you want to see a list of allocated tensors when OOM happens, add report_tensor_allocations_upon_oom to RunOptions for current allocation info. This isn't available when running in Eager mode.\n [Op:__inference_f_436]",
     "output_type": "error",
     "traceback": [
      "\u001b[0;31m---------------------------------------------------------------------------\u001b[0m",
      "\u001b[0;31mResourceExhaustedError\u001b[0m                    Traceback (most recent call last)",
      "Cell \u001b[0;32mIn[10], line 17\u001b[0m\n\u001b[1;32m     14\u001b[0m     loss \u001b[38;5;241m=\u001b[39m tf\u001b[38;5;241m.\u001b[39mreduce_mean(loss_T)\n\u001b[1;32m     16\u001b[0m \u001b[38;5;66;03m# The lowercase p indicates that this is a list of model parameters, each shape MTS+parameter shape\u001b[39;00m\n\u001b[0;32m---> 17\u001b[0m jacobian_pMTS \u001b[38;5;241m=\u001b[39m \u001b[43mjacobian_tape\u001b[49m\u001b[38;5;241;43m.\u001b[39;49m\u001b[43mjacobian\u001b[49m\u001b[43m(\u001b[49m\u001b[43msample_log_probs_MT\u001b[49m\u001b[43m,\u001b[49m\u001b[43m \u001b[49m\u001b[43mmodel\u001b[49m\u001b[38;5;241;43m.\u001b[39;49m\u001b[43mtrainable_weights\u001b[49m\u001b[43m)\u001b[49m\n\u001b[1;32m     18\u001b[0m param_gradient_pT \u001b[38;5;241m=\u001b[39m [score_function_trick(j, sample_actions_MT) \u001b[38;5;28;01mfor\u001b[39;00m j \u001b[38;5;129;01min\u001b[39;00m jacobian_pMTS]\n\u001b[1;32m     20\u001b[0m loss_gradients_T \u001b[38;5;241m=\u001b[39m loss_tape\u001b[38;5;241m.\u001b[39mgradient(loss_T, expected_actions_T)\n",
      "File \u001b[0;32m/cluster/tufts/hugheslab/kheuto01/mambaforge/envs/pip_k2_tf/lib/python3.11/site-packages/tensorflow/python/eager/backprop.py:1170\u001b[0m, in \u001b[0;36mGradientTape.jacobian\u001b[0;34m(self, target, sources, unconnected_gradients, parallel_iterations, experimental_use_pfor)\u001b[0m\n\u001b[1;32m   1168\u001b[0m \u001b[38;5;28;01mif\u001b[39;00m experimental_use_pfor:\n\u001b[1;32m   1169\u001b[0m   \u001b[38;5;28;01mtry\u001b[39;00m:\n\u001b[0;32m-> 1170\u001b[0m     output \u001b[38;5;241m=\u001b[39m \u001b[43mpfor_ops\u001b[49m\u001b[38;5;241;43m.\u001b[39;49m\u001b[43mpfor\u001b[49m\u001b[43m(\u001b[49m\u001b[43mloop_fn\u001b[49m\u001b[43m,\u001b[49m\u001b[43m \u001b[49m\u001b[43mtarget_size\u001b[49m\u001b[43m,\u001b[49m\n\u001b[1;32m   1171\u001b[0m \u001b[43m                           \u001b[49m\u001b[43mparallel_iterations\u001b[49m\u001b[38;5;241;43m=\u001b[39;49m\u001b[43mparallel_iterations\u001b[49m\u001b[43m)\u001b[49m\n\u001b[1;32m   1172\u001b[0m   \u001b[38;5;28;01mexcept\u001b[39;00m \u001b[38;5;167;01mValueError\u001b[39;00m \u001b[38;5;28;01mas\u001b[39;00m err:\n\u001b[1;32m   1173\u001b[0m     \u001b[38;5;28;01mraise\u001b[39;00m \u001b[38;5;167;01mValueError\u001b[39;00m(\n\u001b[1;32m   1174\u001b[0m         \u001b[38;5;124m\"\u001b[39m\u001b[38;5;124mEncountered an exception while vectorizing the \u001b[39m\u001b[38;5;124m\"\u001b[39m\n\u001b[1;32m   1175\u001b[0m         \u001b[38;5;124m\"\u001b[39m\u001b[38;5;124mjacobian computation. Vectorization can be disabled by setting\u001b[39m\u001b[38;5;124m\"\u001b[39m\n\u001b[1;32m   1176\u001b[0m         \u001b[38;5;124m\"\u001b[39m\u001b[38;5;124m experimental_use_pfor to False.\u001b[39m\u001b[38;5;124m\"\u001b[39m) \u001b[38;5;28;01mfrom\u001b[39;00m \u001b[38;5;21;01merr\u001b[39;00m\n",
      "File \u001b[0;32m/cluster/tufts/hugheslab/kheuto01/mambaforge/envs/pip_k2_tf/lib/python3.11/site-packages/tensorflow/python/ops/parallel_for/control_flow_ops.py:228\u001b[0m, in \u001b[0;36mpfor\u001b[0;34m(loop_fn, iters, fallback_to_while_loop, parallel_iterations, warn)\u001b[0m\n\u001b[1;32m    225\u001b[0m     def_function\u001b[38;5;241m.\u001b[39mrun_functions_eagerly(\u001b[38;5;28;01mFalse\u001b[39;00m)\n\u001b[1;32m    226\u001b[0m   f \u001b[38;5;241m=\u001b[39m def_function\u001b[38;5;241m.\u001b[39mfunction(f)\n\u001b[0;32m--> 228\u001b[0m outputs \u001b[38;5;241m=\u001b[39m \u001b[43mf\u001b[49m\u001b[43m(\u001b[49m\u001b[43m)\u001b[49m\n\u001b[1;32m    229\u001b[0m \u001b[38;5;28;01mif\u001b[39;00m functions_run_eagerly \u001b[38;5;129;01mis\u001b[39;00m \u001b[38;5;129;01mnot\u001b[39;00m \u001b[38;5;28;01mNone\u001b[39;00m:\n\u001b[1;32m    230\u001b[0m   def_function\u001b[38;5;241m.\u001b[39mrun_functions_eagerly(functions_run_eagerly)\n",
      "File \u001b[0;32m/cluster/tufts/hugheslab/kheuto01/mambaforge/envs/pip_k2_tf/lib/python3.11/site-packages/tensorflow/python/util/traceback_utils.py:153\u001b[0m, in \u001b[0;36mfilter_traceback.<locals>.error_handler\u001b[0;34m(*args, **kwargs)\u001b[0m\n\u001b[1;32m    151\u001b[0m \u001b[38;5;28;01mexcept\u001b[39;00m \u001b[38;5;167;01mException\u001b[39;00m \u001b[38;5;28;01mas\u001b[39;00m e:\n\u001b[1;32m    152\u001b[0m   filtered_tb \u001b[38;5;241m=\u001b[39m _process_traceback_frames(e\u001b[38;5;241m.\u001b[39m__traceback__)\n\u001b[0;32m--> 153\u001b[0m   \u001b[38;5;28;01mraise\u001b[39;00m e\u001b[38;5;241m.\u001b[39mwith_traceback(filtered_tb) \u001b[38;5;28;01mfrom\u001b[39;00m \u001b[38;5;28;01mNone\u001b[39;00m\n\u001b[1;32m    154\u001b[0m \u001b[38;5;28;01mfinally\u001b[39;00m:\n\u001b[1;32m    155\u001b[0m   \u001b[38;5;28;01mdel\u001b[39;00m filtered_tb\n",
      "File \u001b[0;32m/cluster/tufts/hugheslab/kheuto01/mambaforge/envs/pip_k2_tf/lib/python3.11/site-packages/tensorflow/python/eager/execute.py:53\u001b[0m, in \u001b[0;36mquick_execute\u001b[0;34m(op_name, num_outputs, inputs, attrs, ctx, name)\u001b[0m\n\u001b[1;32m     51\u001b[0m \u001b[38;5;28;01mtry\u001b[39;00m:\n\u001b[1;32m     52\u001b[0m   ctx\u001b[38;5;241m.\u001b[39mensure_initialized()\n\u001b[0;32m---> 53\u001b[0m   tensors \u001b[38;5;241m=\u001b[39m pywrap_tfe\u001b[38;5;241m.\u001b[39mTFE_Py_Execute(ctx\u001b[38;5;241m.\u001b[39m_handle, device_name, op_name,\n\u001b[1;32m     54\u001b[0m                                       inputs, attrs, num_outputs)\n\u001b[1;32m     55\u001b[0m \u001b[38;5;28;01mexcept\u001b[39;00m core\u001b[38;5;241m.\u001b[39m_NotOkStatusException \u001b[38;5;28;01mas\u001b[39;00m e:\n\u001b[1;32m     56\u001b[0m   \u001b[38;5;28;01mif\u001b[39;00m name \u001b[38;5;129;01mis\u001b[39;00m \u001b[38;5;129;01mnot\u001b[39;00m \u001b[38;5;28;01mNone\u001b[39;00m:\n",
      "\u001b[0;31mResourceExhaustedError\u001b[0m: Graph execution error:\n\nDetected at node gradient_tape/UnsortedSegmentSum/pfor/UnsortedSegmentSum defined at (most recent call last):\n  File \"<frozen runpy>\", line 198, in _run_module_as_main\n\n  File \"<frozen runpy>\", line 88, in _run_code\n\n  File \"/cluster/tufts/hugheslab/kheuto01/mambaforge/envs/pip_k2_tf/lib/python3.11/site-packages/ipykernel_launcher.py\", line 17, in <module>\n\n  File \"/cluster/tufts/hugheslab/kheuto01/mambaforge/envs/pip_k2_tf/lib/python3.11/site-packages/traitlets/config/application.py\", line 1075, in launch_instance\n\n  File \"/cluster/tufts/hugheslab/kheuto01/mambaforge/envs/pip_k2_tf/lib/python3.11/site-packages/ipykernel/kernelapp.py\", line 739, in start\n\n  File \"/cluster/tufts/hugheslab/kheuto01/mambaforge/envs/pip_k2_tf/lib/python3.11/site-packages/tornado/platform/asyncio.py\", line 205, in start\n\n  File \"/cluster/tufts/hugheslab/kheuto01/mambaforge/envs/pip_k2_tf/lib/python3.11/asyncio/base_events.py\", line 607, in run_forever\n\n  File \"/cluster/tufts/hugheslab/kheuto01/mambaforge/envs/pip_k2_tf/lib/python3.11/asyncio/base_events.py\", line 1922, in _run_once\n\n  File \"/cluster/tufts/hugheslab/kheuto01/mambaforge/envs/pip_k2_tf/lib/python3.11/asyncio/events.py\", line 80, in _run\n\n  File \"/cluster/tufts/hugheslab/kheuto01/mambaforge/envs/pip_k2_tf/lib/python3.11/site-packages/ipykernel/kernelbase.py\", line 542, in dispatch_queue\n\n  File \"/cluster/tufts/hugheslab/kheuto01/mambaforge/envs/pip_k2_tf/lib/python3.11/site-packages/ipykernel/kernelbase.py\", line 531, in process_one\n\n  File \"/cluster/tufts/hugheslab/kheuto01/mambaforge/envs/pip_k2_tf/lib/python3.11/site-packages/ipykernel/kernelbase.py\", line 437, in dispatch_shell\n\n  File \"/cluster/tufts/hugheslab/kheuto01/mambaforge/envs/pip_k2_tf/lib/python3.11/site-packages/ipykernel/ipkernel.py\", line 359, in execute_request\n\n  File \"/cluster/tufts/hugheslab/kheuto01/mambaforge/envs/pip_k2_tf/lib/python3.11/site-packages/ipykernel/kernelbase.py\", line 775, in execute_request\n\n  File \"/cluster/tufts/hugheslab/kheuto01/mambaforge/envs/pip_k2_tf/lib/python3.11/site-packages/ipykernel/ipkernel.py\", line 446, in do_execute\n\n  File \"/cluster/tufts/hugheslab/kheuto01/mambaforge/envs/pip_k2_tf/lib/python3.11/site-packages/ipykernel/zmqshell.py\", line 549, in run_cell\n\n  File \"/cluster/tufts/hugheslab/kheuto01/mambaforge/envs/pip_k2_tf/lib/python3.11/site-packages/IPython/core/interactiveshell.py\", line 3051, in run_cell\n\n  File \"/cluster/tufts/hugheslab/kheuto01/mambaforge/envs/pip_k2_tf/lib/python3.11/site-packages/IPython/core/interactiveshell.py\", line 3106, in _run_cell\n\n  File \"/cluster/tufts/hugheslab/kheuto01/mambaforge/envs/pip_k2_tf/lib/python3.11/site-packages/IPython/core/async_helpers.py\", line 129, in _pseudo_sync_runner\n\n  File \"/cluster/tufts/hugheslab/kheuto01/mambaforge/envs/pip_k2_tf/lib/python3.11/site-packages/IPython/core/interactiveshell.py\", line 3311, in run_cell_async\n\n  File \"/cluster/tufts/hugheslab/kheuto01/mambaforge/envs/pip_k2_tf/lib/python3.11/site-packages/IPython/core/interactiveshell.py\", line 3493, in run_ast_nodes\n\n  File \"/cluster/tufts/hugheslab/kheuto01/mambaforge/envs/pip_k2_tf/lib/python3.11/site-packages/IPython/core/interactiveshell.py\", line 3553, in run_code\n\n  File \"/tmp/ipykernel_90591/4274885539.py\", line 17, in <module>\n\n  File \"/cluster/tufts/hugheslab/kheuto01/mambaforge/envs/pip_k2_tf/lib/python3.11/site-packages/tensorflow/python/ops/parallel_for/control_flow_ops.py\", line 212, in f\n\nOOM when allocating tensor with shape[10000000000000000] and type float on /job:localhost/replica:0/task:0/device:CPU:0 by allocator mklcpu\n\t [[{{node gradient_tape/UnsortedSegmentSum/pfor/UnsortedSegmentSum}}]]\nHint: If you want to see a list of allocated tensors when OOM happens, add report_tensor_allocations_upon_oom to RunOptions for current allocation info. This isn't available when running in Eager mode.\n [Op:__inference_f_436]"
     ]
    }
   ],
   "source": [
    "M_score = 100000\n",
    "M_action = 100000\n",
    "\n",
    "with tf.GradientTape() as jacobian_tape, tf.GradientTape() as loss_tape, tf.GradientTape() as master_tape:\n",
    "    model_distribution = model(x_TF)\n",
    "    sample_y_MT_score = model_distribution.sample(M_score)\n",
    "    sample_y_MT_action = model_distribution.sample(M_action)\n",
    "\n",
    "    # maybe stop?\n",
    "    sample_log_probs_MT = model_distributions.log_prob(sample_y_MT_score)\n",
    "    \n",
    "    sample_actions_MT = tf.identity(sample_y_MT_action)\n",
    "    expected_actions_T = tf.reduce_mean(sample_actions_MT, axis=0)\n",
    "    loss_T = keras.losses.mean_squared_error(y_T, expected_actions_T)\n",
    "    loss = tf.reduce_mean(loss_T)\n",
    "\n",
    "# The lowercase p indicates that this is a list of model parameters, each shape MTS+parameter shape\n",
    "jacobian_pMTS = jacobian_tape.jacobian(sample_log_probs_MT, model.trainable_weights)\n",
    "param_gradient_pT = [score_function_trick(j, sample_actions_MT) for j in jacobian_pMTS]\n",
    "        \n",
    "loss_gradients_T = loss_tape.gradient(loss_T, expected_actions_T)\n",
    "overall_gradient = [overall_gradient_calculation(g, loss_gradients_T) for g in param_gradient_pT]\n",
    "\n",
    "master_gradient = master_tape.gradient(loss_T, model.trainable_weights)"
   ]
  },
  {
   "cell_type": "code",
   "execution_count": 14,
   "metadata": {},
   "outputs": [
    {
     "data": {
      "text/plain": [
       "1000.0"
      ]
     },
     "execution_count": 14,
     "metadata": {},
     "output_type": "execute_result"
    }
   ],
   "source": [
    "10000000000000000/100000/100000/1000"
   ]
  },
  {
   "cell_type": "code",
   "execution_count": null,
   "metadata": {},
   "outputs": [],
   "source": []
  }
 ],
 "metadata": {
  "kernelspec": {
   "display_name": "pip_k2_tf",
   "language": "python",
   "name": "python3"
  },
  "language_info": {
   "codemirror_mode": {
    "name": "ipython",
    "version": 3
   },
   "file_extension": ".py",
   "mimetype": "text/x-python",
   "name": "python",
   "nbconvert_exporter": "python",
   "pygments_lexer": "ipython3",
   "version": "3.11.7"
  }
 },
 "nbformat": 4,
 "nbformat_minor": 2
}
