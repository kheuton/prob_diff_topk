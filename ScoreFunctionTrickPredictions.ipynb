{
 "cells": [
  {
   "cell_type": "code",
   "execution_count": 2,
   "metadata": {},
   "outputs": [
    {
     "name": "stderr",
     "output_type": "stream",
     "text": [
      "2024-05-09 16:06:27.467236: I tensorflow/core/util/port.cc:113] oneDNN custom operations are on. You may see slightly different numerical results due to floating-point round-off errors from different computation orders. To turn them off, set the environment variable `TF_ENABLE_ONEDNN_OPTS=0`.\n",
      "2024-05-09 16:06:27.519653: E external/local_xla/xla/stream_executor/cuda/cuda_dnn.cc:9261] Unable to register cuDNN factory: Attempting to register factory for plugin cuDNN when one has already been registered\n",
      "2024-05-09 16:06:27.519685: E external/local_xla/xla/stream_executor/cuda/cuda_fft.cc:607] Unable to register cuFFT factory: Attempting to register factory for plugin cuFFT when one has already been registered\n",
      "2024-05-09 16:06:27.520793: E external/local_xla/xla/stream_executor/cuda/cuda_blas.cc:1515] Unable to register cuBLAS factory: Attempting to register factory for plugin cuBLAS when one has already been registered\n",
      "2024-05-09 16:06:27.528799: I tensorflow/core/platform/cpu_feature_guard.cc:182] This TensorFlow binary is optimized to use available CPU instructions in performance-critical operations.\n",
      "To enable the following instructions: AVX2 AVX512F AVX512_VNNI FMA, in other operations, rebuild TensorFlow with the appropriate compiler flags.\n",
      "2024-05-09 16:06:31.124737: W tensorflow/compiler/tf2tensorrt/utils/py_utils.cc:38] TF-TRT Warning: Could not find TensorRT\n"
     ]
    }
   ],
   "source": [
    "%load_ext autoreload\n",
    "%autoreload 2\n",
    "from functools import partial\n",
    "\n",
    "import keras\n",
    "\n",
    "from datasets import example_datasets, to_numpy\n",
    "from models import mixture_poissons,poisson_glm\n",
    "from metrics import mixture_poi_loss, get_bpr_loss_func, mix_bpr, get_penalized_bpr_loss_func_mix\n",
    "from experiments import training_loop\n",
    "from plotting_funcs import plot_losses, plot_frontier\n",
    "\n",
    "import tensorflow as tf\n",
    "import tensorflow_probability as tfp\n",
    "import numpy as np"
   ]
  },
  {
   "cell_type": "code",
   "execution_count": 3,
   "metadata": {},
   "outputs": [],
   "source": [
    "seed=360\n",
    "num_components=4\n",
    "learning_rate = 0.005\n",
    "epochs=1250\n",
    "outdir = '/cluster/home/kheuto01/testdir'\n",
    "penalty = 0\n",
    "threshold = 0.45\n",
    "K=4\n",
    "do_only=True\n",
    "# tracts/distributions\n",
    "S=12\n",
    "# history/features\n",
    "H = 3\n",
    "# total timepoints\n",
    "T= 500\n",
    "perturbed_sigma=0.1"
   ]
  },
  {
   "cell_type": "code",
   "execution_count": 4,
   "metadata": {},
   "outputs": [],
   "source": [
    "train_dataset, val_dataset, test_dataset = example_datasets(H, T, seed=seed)\n",
    "train_X_THS, train_y_TS = to_numpy(train_dataset)\n",
    "val_X_THS, val_y_TS = to_numpy(val_dataset)\n",
    "\n",
    "input_shape = (H,S)\n",
    "\n",
    "negative_bpr_K = get_bpr_loss_func(K, sigma=perturbed_sigma)\n",
    "loss_func=negative_bpr_K"
   ]
  },
  {
   "cell_type": "code",
   "execution_count": 5,
   "metadata": {},
   "outputs": [],
   "source": [
    "model, mix_weights  = mixture_poissons(poisson_glm, input_shape, num_components=num_components)"
   ]
  },
  {
   "cell_type": "markdown",
   "metadata": {},
   "source": [
    "$$\\nabla_\\phi \\theta^*(\\phi) = \\frac{1}{M}\\sum_{m=1}^M f(y) \\nabla_\\phi \\log p(y)$$\n",
    "$$\\nabla_\\phi \\mathcal{L}(\\theta^*(\\phi),y) = \\nabla_\\phi \\theta^*(\\phi) \\nabla_{\\theta^*}\\mathcal{L}$$"
   ]
  },
  {
   "cell_type": "code",
   "execution_count": 6,
   "metadata": {},
   "outputs": [],
   "source": [
    "num_epochs = 500\n",
    "num_samples = 50"
   ]
  },
  {
   "cell_type": "code",
   "execution_count": 7,
   "metadata": {},
   "outputs": [],
   "source": [
    "def cross_ratio_decision(predicted_y, location_axis =-1):\n",
    "    denominator = tf.reduce_sum(predicted_y, axis=location_axis, keepdims=True)\n",
    "    return predicted_y/denominator\n",
    "\n",
    "decision_func = cross_ratio_decision"
   ]
  },
  {
   "cell_type": "code",
   "execution_count": 8,
   "metadata": {},
   "outputs": [],
   "source": [
    "num_score_func_samples = 2"
   ]
  },
  {
   "cell_type": "code",
   "execution_count": 9,
   "metadata": {},
   "outputs": [],
   "source": [
    "def score_function_trick(jacobian_MBSp, decision_MBS):\n",
    "    num_param_dims = tf.rank(jacobian_MBSp)-3\n",
    "    # expand decision to match jacobian\n",
    "    decision_MBSp = tf.reshape(decision_MBS, decision_MBS.shape + [1]*num_param_dims.numpy())\n",
    "\n",
    "    scaled_jacobian_MBSp = jacobian_MBSp*decision_MBSp\n",
    "\n",
    "    # average over sample dims\n",
    "    param_gradient_BSp = tf.reduce_mean(scaled_jacobian_MBSp, axis=0)\n",
    "\n",
    "    return param_gradient_BSp"
   ]
  },
  {
   "cell_type": "code",
   "execution_count": 10,
   "metadata": {},
   "outputs": [],
   "source": [
    "def overall_gradient_calculation(gradient_BSp, decision_gradient_BS):\n",
    "    num_param_dims = tf.rank(gradient_BSp)-2\n",
    "\n",
    "    decision_gradient_BSp = tf.reshape(decision_gradient_BS, decision_gradient_BS.shape + [1]*num_param_dims.numpy())\n",
    "\n",
    "    overall_gradient_BSp = gradient_BSp*decision_gradient_BSp\n",
    "\n",
    "    # sum over batch and location\n",
    "    overall_gradient = tf.reduce_sum(overall_gradient_BSp, axis=[0,1])\n",
    "    return overall_gradient"
   ]
  },
  {
   "cell_type": "code",
   "execution_count": 11,
   "metadata": {},
   "outputs": [],
   "source": [
    "optimizer = keras.optimizers.Adam(learning_rate=learning_rate)"
   ]
  },
  {
   "cell_type": "code",
   "execution_count": 12,
   "metadata": {},
   "outputs": [
    {
     "name": "stdout",
     "output_type": "stream",
     "text": [
      "INFO:tensorflow:Enabled check-numerics callback in thread MainThread\n"
     ]
    },
    {
     "name": "stdout",
     "output_type": "stream",
     "text": [
      "Epoch: 0\n",
      "Step:0\n",
      "tf.Tensor(-0.4835955, shape=(), dtype=float32)\n",
      "Epoch: 1\n",
      "Step:0\n",
      "tf.Tensor(-0.48291305, shape=(), dtype=float32)\n",
      "Epoch: 2\n",
      "Step:0\n",
      "tf.Tensor(-0.48297322, shape=(), dtype=float32)\n",
      "Epoch: 3\n",
      "Step:0\n"
     ]
    },
    {
     "ename": "KeyboardInterrupt",
     "evalue": "",
     "output_type": "error",
     "traceback": [
      "\u001b[0;31m---------------------------------------------------------------------------\u001b[0m",
      "\u001b[0;31mKeyboardInterrupt\u001b[0m                         Traceback (most recent call last)",
      "Cell \u001b[0;32mIn[12], line 47\u001b[0m\n\u001b[1;32m     43\u001b[0m     log_probs_MBSK \u001b[38;5;241m=\u001b[39m log_probs_MBSK \u001b[38;5;241m+\u001b[39m log_mixture_weights_SK\n\u001b[1;32m     45\u001b[0m     log_probs_MBS \u001b[38;5;241m=\u001b[39m tf\u001b[38;5;241m.\u001b[39mreduce_sum(log_probs_MBSK, axis\u001b[38;5;241m=\u001b[39m\u001b[38;5;241m-\u001b[39m\u001b[38;5;241m1\u001b[39m)\n\u001b[0;32m---> 47\u001b[0m jacobian_MBSp \u001b[38;5;241m=\u001b[39m \u001b[43mjacobian_tape\u001b[49m\u001b[38;5;241;43m.\u001b[39;49m\u001b[43mjacobian\u001b[49m\u001b[43m(\u001b[49m\u001b[43mlog_probs_MBS\u001b[49m\u001b[43m,\u001b[49m\u001b[43m \u001b[49m\u001b[43mmodel\u001b[49m\u001b[38;5;241;43m.\u001b[39;49m\u001b[43mtrainable_weights\u001b[49m\u001b[43m)\u001b[49m\n\u001b[1;32m     48\u001b[0m param_gradient_BSp \u001b[38;5;241m=\u001b[39m [score_function_trick(j, sample_decisions) \u001b[38;5;28;01mfor\u001b[39;00m j \u001b[38;5;129;01min\u001b[39;00m jacobian_MBSp]\n\u001b[1;32m     52\u001b[0m \u001b[38;5;66;03m#decisions = decision_func(sample_mixture_preds) \u001b[39;00m\n",
      "File \u001b[0;32m/cluster/tufts/hugheslab/kheuto01/mambaforge/envs/pip_k2_tf/lib/python3.11/site-packages/tensorflow/python/eager/backprop.py:1170\u001b[0m, in \u001b[0;36mGradientTape.jacobian\u001b[0;34m(self, target, sources, unconnected_gradients, parallel_iterations, experimental_use_pfor)\u001b[0m\n\u001b[1;32m   1168\u001b[0m \u001b[38;5;28;01mif\u001b[39;00m experimental_use_pfor:\n\u001b[1;32m   1169\u001b[0m   \u001b[38;5;28;01mtry\u001b[39;00m:\n\u001b[0;32m-> 1170\u001b[0m     output \u001b[38;5;241m=\u001b[39m \u001b[43mpfor_ops\u001b[49m\u001b[38;5;241;43m.\u001b[39;49m\u001b[43mpfor\u001b[49m\u001b[43m(\u001b[49m\u001b[43mloop_fn\u001b[49m\u001b[43m,\u001b[49m\u001b[43m \u001b[49m\u001b[43mtarget_size\u001b[49m\u001b[43m,\u001b[49m\n\u001b[1;32m   1171\u001b[0m \u001b[43m                           \u001b[49m\u001b[43mparallel_iterations\u001b[49m\u001b[38;5;241;43m=\u001b[39;49m\u001b[43mparallel_iterations\u001b[49m\u001b[43m)\u001b[49m\n\u001b[1;32m   1172\u001b[0m   \u001b[38;5;28;01mexcept\u001b[39;00m \u001b[38;5;167;01mValueError\u001b[39;00m \u001b[38;5;28;01mas\u001b[39;00m err:\n\u001b[1;32m   1173\u001b[0m     \u001b[38;5;28;01mraise\u001b[39;00m \u001b[38;5;167;01mValueError\u001b[39;00m(\n\u001b[1;32m   1174\u001b[0m         \u001b[38;5;124m\"\u001b[39m\u001b[38;5;124mEncountered an exception while vectorizing the \u001b[39m\u001b[38;5;124m\"\u001b[39m\n\u001b[1;32m   1175\u001b[0m         \u001b[38;5;124m\"\u001b[39m\u001b[38;5;124mjacobian computation. Vectorization can be disabled by setting\u001b[39m\u001b[38;5;124m\"\u001b[39m\n\u001b[1;32m   1176\u001b[0m         \u001b[38;5;124m\"\u001b[39m\u001b[38;5;124m experimental_use_pfor to False.\u001b[39m\u001b[38;5;124m\"\u001b[39m) \u001b[38;5;28;01mfrom\u001b[39;00m \u001b[38;5;21;01merr\u001b[39;00m\n",
      "File \u001b[0;32m/cluster/tufts/hugheslab/kheuto01/mambaforge/envs/pip_k2_tf/lib/python3.11/site-packages/tensorflow/python/ops/parallel_for/control_flow_ops.py:228\u001b[0m, in \u001b[0;36mpfor\u001b[0;34m(loop_fn, iters, fallback_to_while_loop, parallel_iterations, warn)\u001b[0m\n\u001b[1;32m    225\u001b[0m     def_function\u001b[38;5;241m.\u001b[39mrun_functions_eagerly(\u001b[38;5;28;01mFalse\u001b[39;00m)\n\u001b[1;32m    226\u001b[0m   f \u001b[38;5;241m=\u001b[39m def_function\u001b[38;5;241m.\u001b[39mfunction(f)\n\u001b[0;32m--> 228\u001b[0m outputs \u001b[38;5;241m=\u001b[39m \u001b[43mf\u001b[49m\u001b[43m(\u001b[49m\u001b[43m)\u001b[49m\n\u001b[1;32m    229\u001b[0m \u001b[38;5;28;01mif\u001b[39;00m functions_run_eagerly \u001b[38;5;129;01mis\u001b[39;00m \u001b[38;5;129;01mnot\u001b[39;00m \u001b[38;5;28;01mNone\u001b[39;00m:\n\u001b[1;32m    230\u001b[0m   def_function\u001b[38;5;241m.\u001b[39mrun_functions_eagerly(functions_run_eagerly)\n",
      "File \u001b[0;32m/cluster/tufts/hugheslab/kheuto01/mambaforge/envs/pip_k2_tf/lib/python3.11/site-packages/tensorflow/python/util/traceback_utils.py:150\u001b[0m, in \u001b[0;36mfilter_traceback.<locals>.error_handler\u001b[0;34m(*args, **kwargs)\u001b[0m\n\u001b[1;32m    148\u001b[0m filtered_tb \u001b[38;5;241m=\u001b[39m \u001b[38;5;28;01mNone\u001b[39;00m\n\u001b[1;32m    149\u001b[0m \u001b[38;5;28;01mtry\u001b[39;00m:\n\u001b[0;32m--> 150\u001b[0m   \u001b[38;5;28;01mreturn\u001b[39;00m \u001b[43mfn\u001b[49m\u001b[43m(\u001b[49m\u001b[38;5;241;43m*\u001b[39;49m\u001b[43margs\u001b[49m\u001b[43m,\u001b[49m\u001b[43m \u001b[49m\u001b[38;5;241;43m*\u001b[39;49m\u001b[38;5;241;43m*\u001b[39;49m\u001b[43mkwargs\u001b[49m\u001b[43m)\u001b[49m\n\u001b[1;32m    151\u001b[0m \u001b[38;5;28;01mexcept\u001b[39;00m \u001b[38;5;167;01mException\u001b[39;00m \u001b[38;5;28;01mas\u001b[39;00m e:\n\u001b[1;32m    152\u001b[0m   filtered_tb \u001b[38;5;241m=\u001b[39m _process_traceback_frames(e\u001b[38;5;241m.\u001b[39m__traceback__)\n",
      "File \u001b[0;32m/cluster/tufts/hugheslab/kheuto01/mambaforge/envs/pip_k2_tf/lib/python3.11/site-packages/tensorflow/python/eager/polymorphic_function/polymorphic_function.py:832\u001b[0m, in \u001b[0;36mFunction.__call__\u001b[0;34m(self, *args, **kwds)\u001b[0m\n\u001b[1;32m    829\u001b[0m compiler \u001b[38;5;241m=\u001b[39m \u001b[38;5;124m\"\u001b[39m\u001b[38;5;124mxla\u001b[39m\u001b[38;5;124m\"\u001b[39m \u001b[38;5;28;01mif\u001b[39;00m \u001b[38;5;28mself\u001b[39m\u001b[38;5;241m.\u001b[39m_jit_compile \u001b[38;5;28;01melse\u001b[39;00m \u001b[38;5;124m\"\u001b[39m\u001b[38;5;124mnonXla\u001b[39m\u001b[38;5;124m\"\u001b[39m\n\u001b[1;32m    831\u001b[0m \u001b[38;5;28;01mwith\u001b[39;00m OptionalXlaContext(\u001b[38;5;28mself\u001b[39m\u001b[38;5;241m.\u001b[39m_jit_compile):\n\u001b[0;32m--> 832\u001b[0m   result \u001b[38;5;241m=\u001b[39m \u001b[38;5;28;43mself\u001b[39;49m\u001b[38;5;241;43m.\u001b[39;49m\u001b[43m_call\u001b[49m\u001b[43m(\u001b[49m\u001b[38;5;241;43m*\u001b[39;49m\u001b[43margs\u001b[49m\u001b[43m,\u001b[49m\u001b[43m \u001b[49m\u001b[38;5;241;43m*\u001b[39;49m\u001b[38;5;241;43m*\u001b[39;49m\u001b[43mkwds\u001b[49m\u001b[43m)\u001b[49m\n\u001b[1;32m    834\u001b[0m new_tracing_count \u001b[38;5;241m=\u001b[39m \u001b[38;5;28mself\u001b[39m\u001b[38;5;241m.\u001b[39mexperimental_get_tracing_count()\n\u001b[1;32m    835\u001b[0m without_tracing \u001b[38;5;241m=\u001b[39m (tracing_count \u001b[38;5;241m==\u001b[39m new_tracing_count)\n",
      "File \u001b[0;32m/cluster/tufts/hugheslab/kheuto01/mambaforge/envs/pip_k2_tf/lib/python3.11/site-packages/tensorflow/python/eager/polymorphic_function/polymorphic_function.py:918\u001b[0m, in \u001b[0;36mFunction._call\u001b[0;34m(self, *args, **kwds)\u001b[0m\n\u001b[1;32m    912\u001b[0m   \u001b[38;5;66;03m# If we did not create any variables the trace we have is good enough.\u001b[39;00m\n\u001b[1;32m    913\u001b[0m   filtered_flat_args \u001b[38;5;241m=\u001b[39m (\n\u001b[1;32m    914\u001b[0m       \u001b[38;5;28mself\u001b[39m\u001b[38;5;241m.\u001b[39m_concrete_variable_creation_fn\u001b[38;5;241m.\u001b[39mfunction_type\u001b[38;5;241m.\u001b[39munpack_inputs(\n\u001b[1;32m    915\u001b[0m           bound_args\n\u001b[1;32m    916\u001b[0m       )\n\u001b[1;32m    917\u001b[0m   )\n\u001b[0;32m--> 918\u001b[0m   \u001b[38;5;28;01mreturn\u001b[39;00m \u001b[38;5;28;43mself\u001b[39;49m\u001b[38;5;241;43m.\u001b[39;49m\u001b[43m_concrete_variable_creation_fn\u001b[49m\u001b[38;5;241;43m.\u001b[39;49m\u001b[43m_call_flat\u001b[49m\u001b[43m(\u001b[49m\u001b[43m  \u001b[49m\u001b[38;5;66;43;03m# pylint: disable=protected-access\u001b[39;49;00m\n\u001b[1;32m    919\u001b[0m \u001b[43m      \u001b[49m\u001b[43mfiltered_flat_args\u001b[49m\u001b[43m,\u001b[49m\n\u001b[1;32m    920\u001b[0m \u001b[43m      \u001b[49m\u001b[38;5;28;43mself\u001b[39;49m\u001b[38;5;241;43m.\u001b[39;49m\u001b[43m_concrete_variable_creation_fn\u001b[49m\u001b[38;5;241;43m.\u001b[39;49m\u001b[43mcaptured_inputs\u001b[49m\u001b[43m,\u001b[49m\n\u001b[1;32m    921\u001b[0m \u001b[43m  \u001b[49m\u001b[43m)\u001b[49m\n\u001b[1;32m    923\u001b[0m \u001b[38;5;28;01mdef\u001b[39;00m \u001b[38;5;21mfn_with_cond\u001b[39m(inner_args, inner_kwds):\n\u001b[1;32m    924\u001b[0m \u001b[38;5;250m  \u001b[39m\u001b[38;5;124;03m\"\"\"Conditionally runs initialization if it's needed.\"\"\"\u001b[39;00m\n",
      "File \u001b[0;32m/cluster/tufts/hugheslab/kheuto01/mambaforge/envs/pip_k2_tf/lib/python3.11/site-packages/tensorflow/python/eager/polymorphic_function/concrete_function.py:1323\u001b[0m, in \u001b[0;36mConcreteFunction._call_flat\u001b[0;34m(self, tensor_inputs, captured_inputs)\u001b[0m\n\u001b[1;32m   1319\u001b[0m possible_gradient_type \u001b[38;5;241m=\u001b[39m gradients_util\u001b[38;5;241m.\u001b[39mPossibleTapeGradientTypes(args)\n\u001b[1;32m   1320\u001b[0m \u001b[38;5;28;01mif\u001b[39;00m (possible_gradient_type \u001b[38;5;241m==\u001b[39m gradients_util\u001b[38;5;241m.\u001b[39mPOSSIBLE_GRADIENT_TYPES_NONE\n\u001b[1;32m   1321\u001b[0m     \u001b[38;5;129;01mand\u001b[39;00m executing_eagerly):\n\u001b[1;32m   1322\u001b[0m   \u001b[38;5;66;03m# No tape is watching; skip to running the function.\u001b[39;00m\n\u001b[0;32m-> 1323\u001b[0m   \u001b[38;5;28;01mreturn\u001b[39;00m \u001b[38;5;28;43mself\u001b[39;49m\u001b[38;5;241;43m.\u001b[39;49m\u001b[43m_inference_function\u001b[49m\u001b[38;5;241;43m.\u001b[39;49m\u001b[43mcall_preflattened\u001b[49m\u001b[43m(\u001b[49m\u001b[43margs\u001b[49m\u001b[43m)\u001b[49m\n\u001b[1;32m   1324\u001b[0m forward_backward \u001b[38;5;241m=\u001b[39m \u001b[38;5;28mself\u001b[39m\u001b[38;5;241m.\u001b[39m_select_forward_and_backward_functions(\n\u001b[1;32m   1325\u001b[0m     args,\n\u001b[1;32m   1326\u001b[0m     possible_gradient_type,\n\u001b[1;32m   1327\u001b[0m     executing_eagerly)\n\u001b[1;32m   1328\u001b[0m forward_function, args_with_tangents \u001b[38;5;241m=\u001b[39m forward_backward\u001b[38;5;241m.\u001b[39mforward()\n",
      "File \u001b[0;32m/cluster/tufts/hugheslab/kheuto01/mambaforge/envs/pip_k2_tf/lib/python3.11/site-packages/tensorflow/python/eager/polymorphic_function/atomic_function.py:216\u001b[0m, in \u001b[0;36mAtomicFunction.call_preflattened\u001b[0;34m(self, args)\u001b[0m\n\u001b[1;32m    214\u001b[0m \u001b[38;5;28;01mdef\u001b[39;00m \u001b[38;5;21mcall_preflattened\u001b[39m(\u001b[38;5;28mself\u001b[39m, args: Sequence[core\u001b[38;5;241m.\u001b[39mTensor]) \u001b[38;5;241m-\u001b[39m\u001b[38;5;241m>\u001b[39m Any:\n\u001b[1;32m    215\u001b[0m \u001b[38;5;250m  \u001b[39m\u001b[38;5;124;03m\"\"\"Calls with flattened tensor inputs and returns the structured output.\"\"\"\u001b[39;00m\n\u001b[0;32m--> 216\u001b[0m   flat_outputs \u001b[38;5;241m=\u001b[39m \u001b[38;5;28;43mself\u001b[39;49m\u001b[38;5;241;43m.\u001b[39;49m\u001b[43mcall_flat\u001b[49m\u001b[43m(\u001b[49m\u001b[38;5;241;43m*\u001b[39;49m\u001b[43margs\u001b[49m\u001b[43m)\u001b[49m\n\u001b[1;32m    217\u001b[0m   \u001b[38;5;28;01mreturn\u001b[39;00m \u001b[38;5;28mself\u001b[39m\u001b[38;5;241m.\u001b[39mfunction_type\u001b[38;5;241m.\u001b[39mpack_output(flat_outputs)\n",
      "File \u001b[0;32m/cluster/tufts/hugheslab/kheuto01/mambaforge/envs/pip_k2_tf/lib/python3.11/site-packages/tensorflow/python/eager/polymorphic_function/atomic_function.py:251\u001b[0m, in \u001b[0;36mAtomicFunction.call_flat\u001b[0;34m(self, *args)\u001b[0m\n\u001b[1;32m    249\u001b[0m \u001b[38;5;28;01mwith\u001b[39;00m record\u001b[38;5;241m.\u001b[39mstop_recording():\n\u001b[1;32m    250\u001b[0m   \u001b[38;5;28;01mif\u001b[39;00m \u001b[38;5;28mself\u001b[39m\u001b[38;5;241m.\u001b[39m_bound_context\u001b[38;5;241m.\u001b[39mexecuting_eagerly():\n\u001b[0;32m--> 251\u001b[0m     outputs \u001b[38;5;241m=\u001b[39m \u001b[38;5;28;43mself\u001b[39;49m\u001b[38;5;241;43m.\u001b[39;49m\u001b[43m_bound_context\u001b[49m\u001b[38;5;241;43m.\u001b[39;49m\u001b[43mcall_function\u001b[49m\u001b[43m(\u001b[49m\n\u001b[1;32m    252\u001b[0m \u001b[43m        \u001b[49m\u001b[38;5;28;43mself\u001b[39;49m\u001b[38;5;241;43m.\u001b[39;49m\u001b[43mname\u001b[49m\u001b[43m,\u001b[49m\n\u001b[1;32m    253\u001b[0m \u001b[43m        \u001b[49m\u001b[38;5;28;43mlist\u001b[39;49m\u001b[43m(\u001b[49m\u001b[43margs\u001b[49m\u001b[43m)\u001b[49m\u001b[43m,\u001b[49m\n\u001b[1;32m    254\u001b[0m \u001b[43m        \u001b[49m\u001b[38;5;28;43mlen\u001b[39;49m\u001b[43m(\u001b[49m\u001b[38;5;28;43mself\u001b[39;49m\u001b[38;5;241;43m.\u001b[39;49m\u001b[43mfunction_type\u001b[49m\u001b[38;5;241;43m.\u001b[39;49m\u001b[43mflat_outputs\u001b[49m\u001b[43m)\u001b[49m\u001b[43m,\u001b[49m\n\u001b[1;32m    255\u001b[0m \u001b[43m    \u001b[49m\u001b[43m)\u001b[49m\n\u001b[1;32m    256\u001b[0m   \u001b[38;5;28;01melse\u001b[39;00m:\n\u001b[1;32m    257\u001b[0m     outputs \u001b[38;5;241m=\u001b[39m make_call_op_in_graph(\n\u001b[1;32m    258\u001b[0m         \u001b[38;5;28mself\u001b[39m,\n\u001b[1;32m    259\u001b[0m         \u001b[38;5;28mlist\u001b[39m(args),\n\u001b[1;32m    260\u001b[0m         \u001b[38;5;28mself\u001b[39m\u001b[38;5;241m.\u001b[39m_bound_context\u001b[38;5;241m.\u001b[39mfunction_call_options\u001b[38;5;241m.\u001b[39mas_attrs(),\n\u001b[1;32m    261\u001b[0m     )\n",
      "File \u001b[0;32m/cluster/tufts/hugheslab/kheuto01/mambaforge/envs/pip_k2_tf/lib/python3.11/site-packages/tensorflow/python/eager/context.py:1486\u001b[0m, in \u001b[0;36mContext.call_function\u001b[0;34m(self, name, tensor_inputs, num_outputs)\u001b[0m\n\u001b[1;32m   1484\u001b[0m cancellation_context \u001b[38;5;241m=\u001b[39m cancellation\u001b[38;5;241m.\u001b[39mcontext()\n\u001b[1;32m   1485\u001b[0m \u001b[38;5;28;01mif\u001b[39;00m cancellation_context \u001b[38;5;129;01mis\u001b[39;00m \u001b[38;5;28;01mNone\u001b[39;00m:\n\u001b[0;32m-> 1486\u001b[0m   outputs \u001b[38;5;241m=\u001b[39m \u001b[43mexecute\u001b[49m\u001b[38;5;241;43m.\u001b[39;49m\u001b[43mexecute\u001b[49m\u001b[43m(\u001b[49m\n\u001b[1;32m   1487\u001b[0m \u001b[43m      \u001b[49m\u001b[43mname\u001b[49m\u001b[38;5;241;43m.\u001b[39;49m\u001b[43mdecode\u001b[49m\u001b[43m(\u001b[49m\u001b[38;5;124;43m\"\u001b[39;49m\u001b[38;5;124;43mutf-8\u001b[39;49m\u001b[38;5;124;43m\"\u001b[39;49m\u001b[43m)\u001b[49m\u001b[43m,\u001b[49m\n\u001b[1;32m   1488\u001b[0m \u001b[43m      \u001b[49m\u001b[43mnum_outputs\u001b[49m\u001b[38;5;241;43m=\u001b[39;49m\u001b[43mnum_outputs\u001b[49m\u001b[43m,\u001b[49m\n\u001b[1;32m   1489\u001b[0m \u001b[43m      \u001b[49m\u001b[43minputs\u001b[49m\u001b[38;5;241;43m=\u001b[39;49m\u001b[43mtensor_inputs\u001b[49m\u001b[43m,\u001b[49m\n\u001b[1;32m   1490\u001b[0m \u001b[43m      \u001b[49m\u001b[43mattrs\u001b[49m\u001b[38;5;241;43m=\u001b[39;49m\u001b[43mattrs\u001b[49m\u001b[43m,\u001b[49m\n\u001b[1;32m   1491\u001b[0m \u001b[43m      \u001b[49m\u001b[43mctx\u001b[49m\u001b[38;5;241;43m=\u001b[39;49m\u001b[38;5;28;43mself\u001b[39;49m\u001b[43m,\u001b[49m\n\u001b[1;32m   1492\u001b[0m \u001b[43m  \u001b[49m\u001b[43m)\u001b[49m\n\u001b[1;32m   1493\u001b[0m \u001b[38;5;28;01melse\u001b[39;00m:\n\u001b[1;32m   1494\u001b[0m   outputs \u001b[38;5;241m=\u001b[39m execute\u001b[38;5;241m.\u001b[39mexecute_with_cancellation(\n\u001b[1;32m   1495\u001b[0m       name\u001b[38;5;241m.\u001b[39mdecode(\u001b[38;5;124m\"\u001b[39m\u001b[38;5;124mutf-8\u001b[39m\u001b[38;5;124m\"\u001b[39m),\n\u001b[1;32m   1496\u001b[0m       num_outputs\u001b[38;5;241m=\u001b[39mnum_outputs,\n\u001b[0;32m   (...)\u001b[0m\n\u001b[1;32m   1500\u001b[0m       cancellation_manager\u001b[38;5;241m=\u001b[39mcancellation_context,\n\u001b[1;32m   1501\u001b[0m   )\n",
      "File \u001b[0;32m/cluster/tufts/hugheslab/kheuto01/mambaforge/envs/pip_k2_tf/lib/python3.11/site-packages/tensorflow/python/eager/execute.py:124\u001b[0m, in \u001b[0;36mexecute_with_callbacks\u001b[0;34m(op_name, num_outputs, inputs, attrs, ctx, name)\u001b[0m\n\u001b[1;32m    122\u001b[0m \u001b[38;5;28;01mdef\u001b[39;00m \u001b[38;5;21mexecute_with_callbacks\u001b[39m(op_name, num_outputs, inputs, attrs, ctx, name\u001b[38;5;241m=\u001b[39m\u001b[38;5;28;01mNone\u001b[39;00m):\n\u001b[1;32m    123\u001b[0m \u001b[38;5;250m  \u001b[39m\u001b[38;5;124;03m\"\"\"Monkey-patch to execute to enable execution callbacks.\"\"\"\u001b[39;00m\n\u001b[0;32m--> 124\u001b[0m   tensors \u001b[38;5;241m=\u001b[39m \u001b[43mquick_execute\u001b[49m\u001b[43m(\u001b[49m\u001b[43mop_name\u001b[49m\u001b[43m,\u001b[49m\u001b[43m \u001b[49m\u001b[43mnum_outputs\u001b[49m\u001b[43m,\u001b[49m\u001b[43m \u001b[49m\u001b[43minputs\u001b[49m\u001b[43m,\u001b[49m\u001b[43m \u001b[49m\u001b[43mattrs\u001b[49m\u001b[43m,\u001b[49m\u001b[43m \u001b[49m\u001b[43mctx\u001b[49m\u001b[43m,\u001b[49m\u001b[43m \u001b[49m\u001b[43mname\u001b[49m\u001b[43m)\u001b[49m\n\u001b[1;32m    125\u001b[0m   \u001b[38;5;28;01mfor\u001b[39;00m callback \u001b[38;5;129;01min\u001b[39;00m ctx\u001b[38;5;241m.\u001b[39mop_callbacks:\n\u001b[1;32m    126\u001b[0m     callback(op_name, \u001b[38;5;28mtuple\u001b[39m(inputs), attrs, tensors, name)\n",
      "File \u001b[0;32m/cluster/tufts/hugheslab/kheuto01/mambaforge/envs/pip_k2_tf/lib/python3.11/site-packages/tensorflow/python/eager/execute.py:53\u001b[0m, in \u001b[0;36mquick_execute\u001b[0;34m(op_name, num_outputs, inputs, attrs, ctx, name)\u001b[0m\n\u001b[1;32m     51\u001b[0m \u001b[38;5;28;01mtry\u001b[39;00m:\n\u001b[1;32m     52\u001b[0m   ctx\u001b[38;5;241m.\u001b[39mensure_initialized()\n\u001b[0;32m---> 53\u001b[0m   tensors \u001b[38;5;241m=\u001b[39m \u001b[43mpywrap_tfe\u001b[49m\u001b[38;5;241;43m.\u001b[39;49m\u001b[43mTFE_Py_Execute\u001b[49m\u001b[43m(\u001b[49m\u001b[43mctx\u001b[49m\u001b[38;5;241;43m.\u001b[39;49m\u001b[43m_handle\u001b[49m\u001b[43m,\u001b[49m\u001b[43m \u001b[49m\u001b[43mdevice_name\u001b[49m\u001b[43m,\u001b[49m\u001b[43m \u001b[49m\u001b[43mop_name\u001b[49m\u001b[43m,\u001b[49m\n\u001b[1;32m     54\u001b[0m \u001b[43m                                      \u001b[49m\u001b[43minputs\u001b[49m\u001b[43m,\u001b[49m\u001b[43m \u001b[49m\u001b[43mattrs\u001b[49m\u001b[43m,\u001b[49m\u001b[43m \u001b[49m\u001b[43mnum_outputs\u001b[49m\u001b[43m)\u001b[49m\n\u001b[1;32m     55\u001b[0m \u001b[38;5;28;01mexcept\u001b[39;00m core\u001b[38;5;241m.\u001b[39m_NotOkStatusException \u001b[38;5;28;01mas\u001b[39;00m e:\n\u001b[1;32m     56\u001b[0m   \u001b[38;5;28;01mif\u001b[39;00m name \u001b[38;5;129;01mis\u001b[39;00m \u001b[38;5;129;01mnot\u001b[39;00m \u001b[38;5;28;01mNone\u001b[39;00m:\n",
      "\u001b[0;31mKeyboardInterrupt\u001b[0m: "
     ]
    }
   ],
   "source": [
    "tf.debugging.enable_check_numerics()\n",
    "for epoch in range(num_epochs):\n",
    "    print(f'Epoch: {epoch}')\n",
    "    for step, (x_batch_train, y_batch_train) in enumerate(train_dataset):\n",
    "        print(f'Step:{step}')\n",
    "\n",
    "\n",
    "        with tf.GradientTape() as jacobian_tape, tf.GradientTape() as loss_tape:\n",
    "            prob_params_BSK, mixture_weights_KS = model(x_batch_train, training=True)\n",
    "            # for decision\n",
    "            # dims are ( batch, location, component) and (component, location)\n",
    "            # output is ( batch, location)\n",
    "            model_prediction_BS = tf.einsum('ijk,kj->ij', prob_params_BSK, mixture_weights_KS)\n",
    "            model_decision_BS = decision_func(model_prediction_BS)\n",
    "\n",
    "            model_loss = loss_func(y_batch_train, model_decision_BS)\n",
    "            \n",
    "\n",
    "            poisson = tfp.distributions.Poisson(rate=prob_params_BSK)\n",
    "\n",
    "            # add constant to avoid log 0\n",
    "            sample_ys = poisson.sample(num_score_func_samples)+1e-13\n",
    "            \n",
    "            # for decision\n",
    "            # dims are (samples, batch, location, component) and (component, location)\n",
    "            # output is (samples, batch, location)\n",
    "            sample_mixture_preds = tf.einsum('hijk,kj->hij', sample_ys, mixture_weights_KS)\n",
    "\n",
    "            sample_decisions = decision_func(sample_mixture_preds)\n",
    "            \n",
    "            # expand for sample dimension\n",
    "            # add constant to avoid log 0\n",
    "            prob_params_like_sample = tf.ones_like(sample_ys)*tf.expand_dims(prob_params_BSK, axis=0) + 1e-13\n",
    "            \n",
    "\n",
    "            \n",
    "            log_probs_MBSK =tf.nn.log_poisson_loss(sample_ys,\n",
    "                                                tf.math.log(prob_params_like_sample),\n",
    "                                                compute_full_loss=True)\n",
    "\n",
    "            # swap 2 axes of mixture weights\n",
    "            log_mixture_weights_SK = tf.math.log(tf.transpose(mixture_weights_KS, perm=[1,0]))\n",
    "            log_probs_MBSK = log_probs_MBSK + log_mixture_weights_SK\n",
    "\n",
    "            log_probs_MBS = tf.reduce_sum(log_probs_MBSK, axis=-1)\n",
    "\n",
    "        jacobian_MBSp = jacobian_tape.jacobian(log_probs_MBS, model.trainable_weights)\n",
    "        param_gradient_BSp = [score_function_trick(j, sample_decisions) for j in jacobian_MBSp]\n",
    "\n",
    "\n",
    "\n",
    "        #decisions = decision_func(sample_mixture_preds) \n",
    "        loss_gradients_BS = loss_tape.gradient(model_loss, model_decision_BS)\n",
    "\n",
    "        overall_gradient = [overall_gradient_calculation(g, loss_gradients_BS) for g in param_gradient_BSp]\n",
    "        optimizer.apply_gradients(zip(overall_gradient, model.trainable_weights))\n",
    "\n",
    "        y_preds = model(train_X_THS)\n",
    "        model_prediction = tf.einsum('ijk,kj->ij', y_preds[0], y_preds[1])\n",
    "        model_decision = decision_func(model_prediction)\n",
    "        loss = loss_func(train_y_TS, model_decision)\n",
    "        print(loss)"
   ]
  },
  {
   "cell_type": "code",
   "execution_count": 11,
   "metadata": {},
   "outputs": [
    {
     "data": {
      "text/plain": [
       "[<tf.Tensor: shape=(1, 3, 1), dtype=float32, numpy=\n",
       " array([[[-0.07151384],\n",
       "         [ 0.00599033],\n",
       "         [-0.02878893]]], dtype=float32)>,\n",
       " <tf.Tensor: shape=(1,), dtype=float32, numpy=array([-0.0008456], dtype=float32)>,\n",
       " <tf.Tensor: shape=(1, 3, 1), dtype=float32, numpy=\n",
       " array([[[-0.01441651],\n",
       "         [ 0.00780912],\n",
       "         [-0.01499521]]], dtype=float32)>,\n",
       " <tf.Tensor: shape=(1,), dtype=float32, numpy=array([0.00016303], dtype=float32)>,\n",
       " <tf.Tensor: shape=(1, 3, 1), dtype=float32, numpy=\n",
       " array([[[0.01353893],\n",
       "         [0.01015583],\n",
       "         [0.03353315]]], dtype=float32)>,\n",
       " <tf.Tensor: shape=(1,), dtype=float32, numpy=array([0.00071905], dtype=float32)>,\n",
       " <tf.Tensor: shape=(1, 3, 1), dtype=float32, numpy=\n",
       " array([[[ 0.00014254],\n",
       "         [-0.02144963],\n",
       "         [ 0.0005713 ]]], dtype=float32)>,\n",
       " <tf.Tensor: shape=(1,), dtype=float32, numpy=array([-0.00085787], dtype=float32)>,\n",
       " <tf.Tensor: shape=(4, 12), dtype=float32, numpy=\n",
       " array([[-1.36198614e-05,  1.21099329e-04,  1.08790176e-04,\n",
       "          1.22668687e-04, -2.66479456e-05, -8.87169008e-05,\n",
       "         -8.28109260e-05, -4.63376682e-06, -2.81986104e-05,\n",
       "          9.20807797e-05,  7.15684873e-05, -1.39917276e-04],\n",
       "        [-1.12998867e-04, -2.29736179e-04, -3.78882796e-05,\n",
       "          5.08755074e-05,  1.15471405e-04,  3.65909727e-05,\n",
       "          2.30759484e-04,  6.08733317e-05,  4.76717069e-05,\n",
       "          1.03457198e-04,  9.52904156e-05,  2.15373977e-04],\n",
       "        [-1.15229188e-04,  7.17755247e-05, -2.76153907e-04,\n",
       "         -1.13288108e-04, -1.25902288e-05, -7.29575140e-06,\n",
       "         -2.70242774e-04, -5.33905877e-05,  2.03859920e-04,\n",
       "         -1.90244609e-04, -9.10917006e-05,  2.17254696e-04],\n",
       "        [ 2.41851027e-04,  3.68606379e-05,  2.05250151e-04,\n",
       "         -6.02558684e-05, -7.62333730e-05,  5.94221383e-05,\n",
       "          1.22294718e-04, -2.84903831e-06, -2.23333671e-04,\n",
       "         -5.29521321e-06, -7.57673333e-05, -2.92709272e-04]], dtype=float32)>]"
      ]
     },
     "execution_count": 11,
     "metadata": {},
     "output_type": "execute_result"
    }
   ],
   "source": [
    "overall_gradient"
   ]
  },
  {
   "cell_type": "code",
   "execution_count": null,
   "metadata": {},
   "outputs": [],
   "source": [
    "overall_grad"
   ]
  },
  {
   "cell_type": "code",
   "execution_count": 89,
   "metadata": {},
   "outputs": [],
   "source": [
    "param_gradient_BSp = [score_function_trick(j, sample_decisions) for j in jacobian_MBSP]"
   ]
  },
  {
   "cell_type": "code",
   "execution_count": 63,
   "metadata": {},
   "outputs": [
    {
     "data": {
      "text/plain": [
       "TensorShape([2, 300, 12, 1, 1, 1])"
      ]
     },
     "execution_count": 63,
     "metadata": {},
     "output_type": "execute_result"
    }
   ],
   "source": [
    "sample_decisions.shape+[1,]"
   ]
  },
  {
   "cell_type": "code",
   "execution_count": 28,
   "metadata": {},
   "outputs": [
    {
     "data": {
      "text/plain": [
       "[<tf.Tensor: shape=(1, 3), dtype=float32, numpy=array([[  0.3403473, -37.81227  ,  -7.9126587]], dtype=float32)>,\n",
       " <tf.Tensor: shape=(1, 1), dtype=float32, numpy=array([[-3.5017319]], dtype=float32)>,\n",
       " <tf.Tensor: shape=(1, 3), dtype=float32, numpy=array([[-57.39868 , -30.255272, -13.497282]], dtype=float32)>,\n",
       " <tf.Tensor: shape=(1, 1), dtype=float32, numpy=array([[1.0436039]], dtype=float32)>,\n",
       " <tf.Tensor: shape=(1, 3), dtype=float32, numpy=array([[-111.691956, -708.1121  , -400.58032 ]], dtype=float32)>,\n",
       " <tf.Tensor: shape=(1, 1), dtype=float32, numpy=array([[-67.77326]], dtype=float32)>,\n",
       " <tf.Tensor: shape=(1, 3), dtype=float32, numpy=array([[ -11.833933, -154.68434 ,   11.667574]], dtype=float32)>,\n",
       " <tf.Tensor: shape=(1, 1), dtype=float32, numpy=array([[-20.540833]], dtype=float32)>,\n",
       " <tf.Tensor: shape=(4, 12), dtype=float32, numpy=\n",
       " array([[  1.6635876 , -12.89687   , -10.895559  , -11.756701  ,\n",
       "           4.4507465 ,  16.808748  ,   8.907337  ,   1.311276  ,\n",
       "          -3.2423413 ,  13.668484  ,  13.518417  , -14.446917  ],\n",
       "        [ 13.801986  ,  24.466497  ,   3.7945747 ,  -4.8759756 ,\n",
       "         -19.286037  ,  -6.932767  , -24.821104  , -17.225996  ,\n",
       "           5.481384  ,  15.357163  ,  17.999254  ,  22.237879  ],\n",
       "        [ 14.074396  ,  -7.6439486 ,  27.65746   ,  10.857697  ,\n",
       "           2.102834  ,   1.3822452 ,  29.067966  ,  15.108506  ,\n",
       "          23.440277  , -28.239927  , -17.206102  ,  22.432104  ],\n",
       "        [-29.540312  ,  -3.9256024 , -20.556307  ,   5.774991  ,\n",
       "          12.7324915 , -11.2585125 , -13.154401  ,   0.80622727,\n",
       "         -25.67937   ,  -0.78600144, -14.311564  , -30.223131  ]],\n",
       "       dtype=float32)>]"
      ]
     },
     "execution_count": 28,
     "metadata": {},
     "output_type": "execute_result"
    }
   ],
   "source": [
    "flattener = keras.layers.Flatten()\n",
    "flat_jacobian = [flattener(j) for j in flat_jacobian]\n",
    "flat_jacobian"
   ]
  },
  {
   "cell_type": "code",
   "execution_count": 17,
   "metadata": {},
   "outputs": [
    {
     "data": {
      "text/plain": [
       "<tf.Tensor: shape=(1,), dtype=float32, numpy=array([-3.5017319], dtype=float32)>"
      ]
     },
     "execution_count": 17,
     "metadata": {},
     "output_type": "execute_result"
    }
   ],
   "source": [
    "jacobian[1]"
   ]
  },
  {
   "cell_type": "code",
   "execution_count": 11,
   "metadata": {},
   "outputs": [
    {
     "data": {
      "text/plain": [
       "<tf.Tensor: shape=(300, 12), dtype=float32, numpy=\n",
       "array([[ 7.2934316e-04,  1.1512380e-03,  3.1422477e-04, ...,\n",
       "        -4.1794814e-03,  3.2868035e-04, -3.5045113e-04],\n",
       "       [ 7.2769716e-04,  7.0758373e-04,  5.4643239e-04, ...,\n",
       "        -3.5533882e-04, -4.1297339e-03,  3.2435090e-04],\n",
       "       [-1.1449133e-03, -4.1354785e-04, -4.5500961e-04, ...,\n",
       "         8.2411140e-04,  4.1348182e-04,  1.1702622e-03],\n",
       "       ...,\n",
       "       [ 3.6757754e-04,  1.3102517e-04, -2.8178840e-06, ...,\n",
       "        -5.0894036e-03,  2.2923536e-04,  5.0476985e-04],\n",
       "       [ 6.7625387e-04,  3.7381738e-05, -2.6694720e-04, ...,\n",
       "         5.3252059e-04,  8.1657775e-04,  2.1537433e-04],\n",
       "       [-3.7140571e-04, -6.3346478e-04,  5.0142215e-04, ...,\n",
       "         9.8311272e-04,  2.5420348e-04, -5.5796891e-03]], dtype=float32)>"
      ]
     },
     "execution_count": 11,
     "metadata": {},
     "output_type": "execute_result"
    }
   ],
   "source": [
    "loss_gradients"
   ]
  },
  {
   "cell_type": "code",
   "execution_count": 9,
   "metadata": {},
   "outputs": [
    {
     "data": {
      "text/plain": [
       "<tf.Tensor: shape=(), dtype=float32, numpy=-0.48294663>"
      ]
     },
     "execution_count": 9,
     "metadata": {},
     "output_type": "execute_result"
    }
   ],
   "source": [
    "model_loss"
   ]
  },
  {
   "cell_type": "code",
   "execution_count": 89,
   "metadata": {},
   "outputs": [
    {
     "ename": "AttributeError",
     "evalue": "'list' object has no attribute 'shape'",
     "output_type": "error",
     "traceback": [
      "\u001b[0;31m---------------------------------------------------------------------------\u001b[0m",
      "\u001b[0;31mAttributeError\u001b[0m                            Traceback (most recent call last)",
      "Cell \u001b[0;32mIn[89], line 1\u001b[0m\n\u001b[0;32m----> 1\u001b[0m \u001b[43mtape\u001b[49m\u001b[38;5;241;43m.\u001b[39;49m\u001b[43mbatch_jacobian\u001b[49m\u001b[43m(\u001b[49m\u001b[43mlog_probs\u001b[49m\u001b[43m,\u001b[49m\u001b[43m \u001b[49m\u001b[43mmodel\u001b[49m\u001b[38;5;241;43m.\u001b[39;49m\u001b[43mtrainable_weights\u001b[49m\u001b[43m)\u001b[49m\n",
      "File \u001b[0;32m/cluster/tufts/hugheslab/kheuto01/mambaforge/envs/pip_k2_tf/lib/python3.11/site-packages/tensorflow/python/eager/backprop.py:1274\u001b[0m, in \u001b[0;36mGradientTape.batch_jacobian\u001b[0;34m(self, target, source, unconnected_gradients, parallel_iterations, experimental_use_pfor)\u001b[0m\n\u001b[1;32m   1271\u001b[0m \u001b[38;5;28;01melse\u001b[39;00m:\n\u001b[1;32m   1272\u001b[0m   dim \u001b[38;5;241m=\u001b[39m target_shape\u001b[38;5;241m.\u001b[39mdims[\u001b[38;5;241m0\u001b[39m]\n\u001b[1;32m   1273\u001b[0m \u001b[38;5;28;01mif\u001b[39;00m \u001b[38;5;129;01mnot\u001b[39;00m (target_shape\u001b[38;5;241m.\u001b[39mwith_rank_at_least(\u001b[38;5;241m2\u001b[39m) \u001b[38;5;129;01mand\u001b[39;00m\n\u001b[0;32m-> 1274\u001b[0m         \u001b[43msource\u001b[49m\u001b[38;5;241;43m.\u001b[39;49m\u001b[43mshape\u001b[49m\u001b[38;5;241m.\u001b[39mwith_rank_at_least(\u001b[38;5;241m2\u001b[39m) \u001b[38;5;129;01mand\u001b[39;00m\n\u001b[1;32m   1275\u001b[0m         dim\u001b[38;5;241m.\u001b[39mis_compatible_with(source\u001b[38;5;241m.\u001b[39mshape[\u001b[38;5;241m0\u001b[39m])):\n\u001b[1;32m   1276\u001b[0m   \u001b[38;5;28;01mraise\u001b[39;00m \u001b[38;5;167;01mValueError\u001b[39;00m(\n\u001b[1;32m   1277\u001b[0m       \u001b[38;5;124m\"\u001b[39m\u001b[38;5;124mNeed first dimension of target shape (\u001b[39m\u001b[38;5;132;01m%s\u001b[39;00m\u001b[38;5;124m) and \u001b[39m\u001b[38;5;124m\"\u001b[39m\n\u001b[1;32m   1278\u001b[0m       \u001b[38;5;124m\"\u001b[39m\u001b[38;5;124msource shape (\u001b[39m\u001b[38;5;132;01m%s\u001b[39;00m\u001b[38;5;124m) to match.\u001b[39m\u001b[38;5;124m\"\u001b[39m \u001b[38;5;241m%\u001b[39m (target\u001b[38;5;241m.\u001b[39mshape, source\u001b[38;5;241m.\u001b[39mshape))\n\u001b[1;32m   1279\u001b[0m \u001b[38;5;28;01mif\u001b[39;00m target_shape\u001b[38;5;241m.\u001b[39mis_fully_defined():\n",
      "\u001b[0;31mAttributeError\u001b[0m: 'list' object has no attribute 'shape'"
     ]
    }
   ],
   "source": [
    "tape.batch_jacobian(log_probs, model.trainable_weights)"
   ]
  },
  {
   "cell_type": "code",
   "execution_count": 94,
   "metadata": {},
   "outputs": [],
   "source": [
    "gradient = tape.gradient(log_probs, model.trainable_weights)"
   ]
  },
  {
   "cell_type": "code",
   "execution_count": 93,
   "metadata": {},
   "outputs": [],
   "source": [
    "jacobian = tape.jacobian(log_probs, model.trainable_weights)"
   ]
  },
  {
   "cell_type": "code",
   "execution_count": 96,
   "metadata": {},
   "outputs": [
    {
     "data": {
      "text/plain": [
       "TensorShape([1, 300, 12, 1, 3, 1])"
      ]
     },
     "execution_count": 96,
     "metadata": {},
     "output_type": "execute_result"
    }
   ],
   "source": [
    "jacobian[0].shape"
   ]
  },
  {
   "cell_type": "code",
   "execution_count": 100,
   "metadata": {},
   "outputs": [
    {
     "data": {
      "text/plain": [
       "True"
      ]
     },
     "execution_count": 100,
     "metadata": {},
     "output_type": "execute_result"
    }
   ],
   "source": [
    "np.allclose(gradient[0].numpy(), tf.reduce_sum(jacobian[0],axis=[0,1,2]).numpy(), rtol=1e-4)"
   ]
  },
  {
   "cell_type": "code",
   "execution_count": 99,
   "metadata": {},
   "outputs": [
    {
     "data": {
      "text/plain": [
       "array([[[ 55.352844],\n",
       "        [-27.209534],\n",
       "        [-50.069534]]], dtype=float32)"
      ]
     },
     "execution_count": 99,
     "metadata": {},
     "output_type": "execute_result"
    }
   ],
   "source": [
    "gradient[0].numpy()"
   ]
  },
  {
   "cell_type": "code",
   "execution_count": 98,
   "metadata": {},
   "outputs": [
    {
     "data": {
      "text/plain": [
       "array([[[ 55.35452],\n",
       "        [-27.2091 ],\n",
       "        [-50.07021]]], dtype=float32)"
      ]
     },
     "execution_count": 98,
     "metadata": {},
     "output_type": "execute_result"
    }
   ],
   "source": [
    "tf.reduce_sum(jacobian[0],axis=[0,1,2]).numpy()"
   ]
  },
  {
   "cell_type": "code",
   "execution_count": 53,
   "metadata": {},
   "outputs": [
    {
     "name": "stdout",
     "output_type": "stream",
     "text": [
      "INFO:tensorflow:Disabled check-numerics callback in thread MainThread\n"
     ]
    }
   ],
   "source": [
    "tf.debugging.disable_check_numerics()\n",
    "log_probs = poisson.log_prob(sample_ys)"
   ]
  },
  {
   "cell_type": "code",
   "execution_count": 80,
   "metadata": {},
   "outputs": [
    {
     "data": {
      "text/plain": [
       "<tf.Tensor: shape=(1, 300, 12, 4), dtype=float32, numpy=\n",
       "array([[[[ -2.7427397 ,   3.1057425 ,   2.2696664 , -11.362669  ],\n",
       "         [ -2.7427397 ,   3.1057425 ,   2.2696664 , -11.362669  ],\n",
       "         [ -2.7427397 ,   3.1057425 ,   2.2696664 , -11.362669  ],\n",
       "         ...,\n",
       "         [-24.726921  ,   4.753423  ,   4.560614  , -29.933605  ],\n",
       "         [ -0.36651292,  -0.36651292,  -0.36651292,  -0.36651292],\n",
       "         [ -0.36651292,  -0.36651292,  -0.36651292,  -0.36651292]],\n",
       "\n",
       "        [[ -2.7427397 ,   3.1057425 ,   2.2696664 , -11.362669  ],\n",
       "         [ -2.7427397 ,   3.1057425 ,   2.2696664 , -11.362669  ],\n",
       "         [ -2.7427397 ,   3.1057425 ,   2.2696664 , -11.362669  ],\n",
       "         ...,\n",
       "         [  3.4848926 ,   4.772131  ,   3.844227  , -29.933605  ],\n",
       "         [ -0.36651292,  -0.36651292,  -0.36651292,  -0.36651292],\n",
       "         [ -0.36651292,  -0.36651292,  -0.36651292,  -0.36651292]],\n",
       "\n",
       "        [[ -2.7427397 ,   3.1057425 ,   2.2696664 , -11.362669  ],\n",
       "         [ -2.7427397 ,   3.1057425 ,   2.2696664 , -11.362669  ],\n",
       "         [ -2.7427397 ,   3.1057425 ,   2.2696664 , -11.362669  ],\n",
       "         ...,\n",
       "         [ -0.36651292,  -0.36651292,  -0.36651292,  -0.36651292],\n",
       "         [ -0.36651292,  -0.36651292,  -0.36651292,  -0.36651292],\n",
       "         [ -0.36651292,  -0.36651292,  -0.36651292,  -0.36651292]],\n",
       "\n",
       "        ...,\n",
       "\n",
       "        [[ -2.7427397 ,   3.1057425 ,   2.2696664 , -11.362669  ],\n",
       "         [ -2.7427397 ,   3.1057425 ,   2.2696664 , -11.362669  ],\n",
       "         [ -2.7427397 ,   3.1057425 ,   2.2696664 , -11.362669  ],\n",
       "         ...,\n",
       "         [  3.4848926 ,   4.772131  ,   3.844227  , -29.933605  ],\n",
       "         [  2.0652013 ,   5.455968  ,   4.9583926 , -29.933605  ],\n",
       "         [-24.726921  ,   4.753423  ,   4.560614  , -29.933605  ]],\n",
       "\n",
       "        [[ -2.7427397 ,   3.1057425 ,   2.2696664 , -11.362669  ],\n",
       "         [ -2.7427397 ,   3.1057425 ,   2.2696664 , -11.362669  ],\n",
       "         [ -2.7427397 ,   3.1057425 ,   2.2696664 , -11.362669  ],\n",
       "         ...,\n",
       "         [ -0.36651292,  -0.36651292,  -0.36651292,  -0.36651292],\n",
       "         [ -0.36651292,  -0.36651292,  -0.36651292,  -0.36651292],\n",
       "         [ -0.36651292,  -0.36651292,  -0.36651292,  -0.36651292]],\n",
       "\n",
       "        [[ -2.7427397 ,   3.1057425 ,   2.2696664 , -11.362669  ],\n",
       "         [ -2.7427397 ,   3.1057425 ,   2.2696664 , -11.362669  ],\n",
       "         [ -2.7427397 ,   3.1057425 ,   2.2696664 , -11.362669  ],\n",
       "         ...,\n",
       "         [ -0.36651292,  -0.36651292,  -0.36651292,  -0.36651292],\n",
       "         [ -0.36651292,  -0.36651292,  -0.36651292,  -0.36651292],\n",
       "         [ -0.36651292,  -0.36651292,  -0.36651292,  -0.36651292]]]],\n",
       "      dtype=float32)>"
      ]
     },
     "execution_count": 80,
     "metadata": {},
     "output_type": "execute_result"
    }
   ],
   "source": [
    "tf.math.log(tf.expand_dims(prob_params, axis=0)+1e-13)"
   ]
  },
  {
   "cell_type": "code",
   "execution_count": 74,
   "metadata": {},
   "outputs": [
    {
     "ename": "InvalidArgumentError",
     "evalue": "{{function_node __wrapped__CheckNumericsV2_device_/job:localhost/replica:0/task:0/device:CPU:0}} \n\n!!! Detected Infinity or NaN in output 0 of eagerly-executing op \"Log\" (# of outputs: 1) !!!\n  dtype: <dtype: 'float32'>\n  shape: (1, 300, 12, 4)\n  # of -Inf elements: 6787\n\n  Input tensor: tf.Tensor(\n[[[[  0.  22.   7.   0.]\n   [  0.  18.   9.   0.]\n   [  0.  25.   3.   0.]\n   ...\n   [  0. 112.  84.   0.]\n   [  0.   1.   0.   0.]\n   [  3.   0.   1.   0.]]\n\n  [[  0.  26.  12.   0.]\n   [  0.  24.  10.   0.]\n   [  0.  18.  11.   0.]\n   ...\n   [ 35. 119.  40.   0.]\n   [  0.   0.   1.   2.]\n   [  1.   0.   0.   1.]]\n\n  [[  0.  23.  14.   0.]\n   [  0.  22.   8.   0.]\n   [  0.  23.  10.   0.]\n   ...\n   [  3.   1.   4.   0.]\n   [  0.   1.   1.   1.]\n   [  1.   0.   0.   1.]]\n\n  ...\n\n  [[  0.  26.   8.   0.]\n   [  0.  26.  12.   0.]\n   [  0.  27.   8.   0.]\n   ...\n   [ 34. 118.  44.   0.]\n   [  5. 237. 147.   0.]\n   [  0. 103. 101.   0.]]\n\n  [[  0.  28.   7.   0.]\n   [  0.  24.  10.   0.]\n   [  0.  18.   7.   0.]\n   ...\n   [  1.   0.   0.   0.]\n   [  1.   0.   0.   1.]\n   [  1.   0.   0.   0.]]\n\n  [[  0.  20.  13.   0.]\n   [  0.  25.   7.   0.]\n   [  0.  22.  11.   0.]\n   ...\n   [  2.   0.   0.   0.]\n   [  0.   0.   0.   0.]\n   [  2.   1.   1.   0.]]]], shape=(1, 300, 12, 4), dtype=float32)\n\n : Tensor had -Inf values [Op:CheckNumericsV2] name: ",
     "output_type": "error",
     "traceback": [
      "\u001b[0;31m---------------------------------------------------------------------------\u001b[0m",
      "\u001b[0;31mInvalidArgumentError\u001b[0m                      Traceback (most recent call last)",
      "Cell \u001b[0;32mIn[74], line 1\u001b[0m\n\u001b[0;32m----> 1\u001b[0m my_log_probs \u001b[38;5;241m=\u001b[39m\u001b[43mtf\u001b[49m\u001b[38;5;241;43m.\u001b[39;49m\u001b[43mnn\u001b[49m\u001b[38;5;241;43m.\u001b[39;49m\u001b[43mlog_poisson_loss\u001b[49m\u001b[43m(\u001b[49m\u001b[43msample_ys\u001b[49m\u001b[43m,\u001b[49m\u001b[43m \u001b[49m\u001b[43mtf\u001b[49m\u001b[38;5;241;43m.\u001b[39;49m\u001b[43mmath\u001b[49m\u001b[38;5;241;43m.\u001b[39;49m\u001b[43mlog\u001b[49m\u001b[43m(\u001b[49m\u001b[43mtf\u001b[49m\u001b[38;5;241;43m.\u001b[39;49m\u001b[43mexpand_dims\u001b[49m\u001b[43m(\u001b[49m\u001b[43mprob_params\u001b[49m\u001b[38;5;241;43m+\u001b[39;49m\u001b[38;5;241;43m1e2\u001b[39;49m\u001b[43m,\u001b[49m\u001b[43m \u001b[49m\u001b[43maxis\u001b[49m\u001b[38;5;241;43m=\u001b[39;49m\u001b[38;5;241;43m0\u001b[39;49m\u001b[43m)\u001b[49m\u001b[43m)\u001b[49m\u001b[43m,\u001b[49m\u001b[43m \u001b[49m\u001b[43mcompute_full_loss\u001b[49m\u001b[38;5;241;43m=\u001b[39;49m\u001b[38;5;28;43;01mTrue\u001b[39;49;00m\u001b[43m)\u001b[49m\n",
      "File \u001b[0;32m/cluster/tufts/hugheslab/kheuto01/mambaforge/envs/pip_k2_tf/lib/python3.11/site-packages/tensorflow/python/util/traceback_utils.py:153\u001b[0m, in \u001b[0;36mfilter_traceback.<locals>.error_handler\u001b[0;34m(*args, **kwargs)\u001b[0m\n\u001b[1;32m    151\u001b[0m \u001b[38;5;28;01mexcept\u001b[39;00m \u001b[38;5;167;01mException\u001b[39;00m \u001b[38;5;28;01mas\u001b[39;00m e:\n\u001b[1;32m    152\u001b[0m   filtered_tb \u001b[38;5;241m=\u001b[39m _process_traceback_frames(e\u001b[38;5;241m.\u001b[39m__traceback__)\n\u001b[0;32m--> 153\u001b[0m   \u001b[38;5;28;01mraise\u001b[39;00m e\u001b[38;5;241m.\u001b[39mwith_traceback(filtered_tb) \u001b[38;5;28;01mfrom\u001b[39;00m \u001b[38;5;28;01mNone\u001b[39;00m\n\u001b[1;32m    154\u001b[0m \u001b[38;5;28;01mfinally\u001b[39;00m:\n\u001b[1;32m    155\u001b[0m   \u001b[38;5;28;01mdel\u001b[39;00m filtered_tb\n",
      "File \u001b[0;32m/cluster/tufts/hugheslab/kheuto01/mambaforge/envs/pip_k2_tf/lib/python3.11/site-packages/tensorflow/python/framework/ops.py:5883\u001b[0m, in \u001b[0;36mraise_from_not_ok_status\u001b[0;34m(e, name)\u001b[0m\n\u001b[1;32m   5881\u001b[0m \u001b[38;5;28;01mdef\u001b[39;00m \u001b[38;5;21mraise_from_not_ok_status\u001b[39m(e, name) \u001b[38;5;241m-\u001b[39m\u001b[38;5;241m>\u001b[39m NoReturn:\n\u001b[1;32m   5882\u001b[0m   e\u001b[38;5;241m.\u001b[39mmessage \u001b[38;5;241m+\u001b[39m\u001b[38;5;241m=\u001b[39m (\u001b[38;5;124m\"\u001b[39m\u001b[38;5;124m name: \u001b[39m\u001b[38;5;124m\"\u001b[39m \u001b[38;5;241m+\u001b[39m \u001b[38;5;28mstr\u001b[39m(name \u001b[38;5;28;01mif\u001b[39;00m name \u001b[38;5;129;01mis\u001b[39;00m \u001b[38;5;129;01mnot\u001b[39;00m \u001b[38;5;28;01mNone\u001b[39;00m \u001b[38;5;28;01melse\u001b[39;00m \u001b[38;5;124m\"\u001b[39m\u001b[38;5;124m\"\u001b[39m))\n\u001b[0;32m-> 5883\u001b[0m   \u001b[38;5;28;01mraise\u001b[39;00m core\u001b[38;5;241m.\u001b[39m_status_to_exception(e) \u001b[38;5;28;01mfrom\u001b[39;00m \u001b[38;5;28;01mNone\u001b[39;00m\n",
      "\u001b[0;31mInvalidArgumentError\u001b[0m: {{function_node __wrapped__CheckNumericsV2_device_/job:localhost/replica:0/task:0/device:CPU:0}} \n\n!!! Detected Infinity or NaN in output 0 of eagerly-executing op \"Log\" (# of outputs: 1) !!!\n  dtype: <dtype: 'float32'>\n  shape: (1, 300, 12, 4)\n  # of -Inf elements: 6787\n\n  Input tensor: tf.Tensor(\n[[[[  0.  22.   7.   0.]\n   [  0.  18.   9.   0.]\n   [  0.  25.   3.   0.]\n   ...\n   [  0. 112.  84.   0.]\n   [  0.   1.   0.   0.]\n   [  3.   0.   1.   0.]]\n\n  [[  0.  26.  12.   0.]\n   [  0.  24.  10.   0.]\n   [  0.  18.  11.   0.]\n   ...\n   [ 35. 119.  40.   0.]\n   [  0.   0.   1.   2.]\n   [  1.   0.   0.   1.]]\n\n  [[  0.  23.  14.   0.]\n   [  0.  22.   8.   0.]\n   [  0.  23.  10.   0.]\n   ...\n   [  3.   1.   4.   0.]\n   [  0.   1.   1.   1.]\n   [  1.   0.   0.   1.]]\n\n  ...\n\n  [[  0.  26.   8.   0.]\n   [  0.  26.  12.   0.]\n   [  0.  27.   8.   0.]\n   ...\n   [ 34. 118.  44.   0.]\n   [  5. 237. 147.   0.]\n   [  0. 103. 101.   0.]]\n\n  [[  0.  28.   7.   0.]\n   [  0.  24.  10.   0.]\n   [  0.  18.   7.   0.]\n   ...\n   [  1.   0.   0.   0.]\n   [  1.   0.   0.   1.]\n   [  1.   0.   0.   0.]]\n\n  [[  0.  20.  13.   0.]\n   [  0.  25.   7.   0.]\n   [  0.  22.  11.   0.]\n   ...\n   [  2.   0.   0.   0.]\n   [  0.   0.   0.   0.]\n   [  2.   1.   1.   0.]]]], shape=(1, 300, 12, 4), dtype=float32)\n\n : Tensor had -Inf values [Op:CheckNumericsV2] name: "
     ]
    }
   ],
   "source": [
    "my_log_probs =tf.nn.log_poisson_loss(sample_ys, tf.math.log(tf.expand_dims(prob_params, axis=0)), compute_full_loss=True)"
   ]
  },
  {
   "cell_type": "code",
   "execution_count": 60,
   "metadata": {},
   "outputs": [
    {
     "data": {
      "text/plain": [
       "<tf.Tensor: shape=(300, 12, 4), dtype=float32, numpy=\n",
       "array([[[6.4393684e-02, 2.2325790e+01, 9.6761732e+00, 1.1621321e-05],\n",
       "        [6.4393684e-02, 2.2325790e+01, 9.6761732e+00, 1.1621321e-05],\n",
       "        [6.4393684e-02, 2.2325790e+01, 9.6761732e+00, 1.1621321e-05],\n",
       "        ...,\n",
       "        [3.2618927e+01, 1.1817080e+02, 4.6722557e+01, 0.0000000e+00],\n",
       "        [5.7442770e-21, 8.4788452e+01, 1.5882159e-02, 4.4143806e+01],\n",
       "        [1.8148809e-11, 1.1598061e+02, 9.5642197e+01, 0.0000000e+00]],\n",
       "\n",
       "       [[6.4393684e-02, 2.2325790e+01, 9.6761732e+00, 1.1621321e-05],\n",
       "        [6.4393684e-02, 2.2325790e+01, 9.6761732e+00, 1.1621321e-05],\n",
       "        [6.4393684e-02, 2.2325790e+01, 9.6761732e+00, 1.1621321e-05],\n",
       "        ...,\n",
       "        [6.9314718e-01, 6.9314718e-01, 6.9314718e-01, 6.9314718e-01],\n",
       "        [6.9314718e-01, 6.9314718e-01, 6.9314718e-01, 6.9314718e-01],\n",
       "        [1.8148809e-11, 1.1598061e+02, 9.5642197e+01, 0.0000000e+00]],\n",
       "\n",
       "       [[6.4393684e-02, 2.2325790e+01, 9.6761732e+00, 1.1621321e-05],\n",
       "        [6.4393684e-02, 2.2325790e+01, 9.6761732e+00, 1.1621321e-05],\n",
       "        [6.4393684e-02, 2.2325790e+01, 9.6761732e+00, 1.1621321e-05],\n",
       "        ...,\n",
       "        [6.9314718e-01, 6.9314718e-01, 6.9314718e-01, 6.9314718e-01],\n",
       "        [5.7442770e-21, 8.4788452e+01, 1.5882159e-02, 4.4143806e+01],\n",
       "        [6.9314718e-01, 6.9314718e-01, 6.9314718e-01, 6.9314718e-01]],\n",
       "\n",
       "       ...,\n",
       "\n",
       "       [[6.4393684e-02, 2.2325790e+01, 9.6761732e+00, 1.1621321e-05],\n",
       "        [6.4393684e-02, 2.2325790e+01, 9.6761732e+00, 1.1621321e-05],\n",
       "        [6.4393684e-02, 2.2325790e+01, 9.6761732e+00, 1.1621321e-05],\n",
       "        ...,\n",
       "        [6.9314718e-01, 6.9314718e-01, 6.9314718e-01, 6.9314718e-01],\n",
       "        [6.9314718e-01, 6.9314718e-01, 6.9314718e-01, 6.9314718e-01],\n",
       "        [1.8148809e-11, 1.1598061e+02, 9.5642197e+01, 0.0000000e+00]],\n",
       "\n",
       "       [[6.4393684e-02, 2.2325790e+01, 9.6761732e+00, 1.1621321e-05],\n",
       "        [6.4393684e-02, 2.2325790e+01, 9.6761732e+00, 1.1621321e-05],\n",
       "        [6.4393684e-02, 2.2325790e+01, 9.6761732e+00, 1.1621321e-05],\n",
       "        ...,\n",
       "        [6.9314718e-01, 6.9314718e-01, 6.9314718e-01, 6.9314718e-01],\n",
       "        [6.9314718e-01, 6.9314718e-01, 6.9314718e-01, 6.9314718e-01],\n",
       "        [6.9314718e-01, 6.9314718e-01, 6.9314718e-01, 6.9314718e-01]],\n",
       "\n",
       "       [[6.4393684e-02, 2.2325790e+01, 9.6761732e+00, 1.1621321e-05],\n",
       "        [6.4393684e-02, 2.2325790e+01, 9.6761732e+00, 1.1621321e-05],\n",
       "        [6.4393684e-02, 2.2325790e+01, 9.6761732e+00, 1.1621321e-05],\n",
       "        ...,\n",
       "        [6.9314718e-01, 6.9314718e-01, 6.9314718e-01, 6.9314718e-01],\n",
       "        [6.9314718e-01, 6.9314718e-01, 6.9314718e-01, 6.9314718e-01],\n",
       "        [6.9314718e-01, 6.9314718e-01, 6.9314718e-01, 6.9314718e-01]]],\n",
       "      dtype=float32)>"
      ]
     },
     "execution_count": 60,
     "metadata": {},
     "output_type": "execute_result"
    }
   ],
   "source": [
    "prob_params"
   ]
  },
  {
   "cell_type": "code",
   "execution_count": 59,
   "metadata": {},
   "outputs": [
    {
     "data": {
      "text/plain": [
       "<tf.Tensor: shape=(1, 300, 12, 4), dtype=float32, numpy=\n",
       "array([[[[-6.4393684e-02, -2.6565647e+00, -2.0510015e+00,\n",
       "          -1.1621323e-05],\n",
       "         [-6.4393684e-02, -2.6858273e+00, -2.0510015e+00,\n",
       "          -1.1621323e-05],\n",
       "         [-6.4393684e-02, -2.6565647e+00, -2.0510015e+00,\n",
       "          -1.1621323e-05],\n",
       "         ...,\n",
       "         [-3.1611977e+00, -4.6970673e+00, -3.0369034e+00,\n",
       "           0.0000000e+00],\n",
       "         [-5.7442770e-21, -3.1557007e+00, -1.5882157e-02,\n",
       "          -2.8735771e+00],\n",
       "         [-1.8148809e-11, -3.2962418e+00, -3.2509613e+00,\n",
       "           0.0000000e+00]],\n",
       "\n",
       "        [[-6.4393684e-02, -2.8178692e+00, -2.1234436e+00,\n",
       "          -1.1621323e-05],\n",
       "         [-6.4393684e-02, -3.2547436e+00, -2.0839205e+00,\n",
       "          -1.1621323e-05],\n",
       "         [-6.4393684e-02, -3.0332394e+00, -2.7226753e+00,\n",
       "          -1.1621323e-05],\n",
       "         ...,\n",
       "         [-6.9314718e-01, -6.9314718e-01, -1.0596601e+00,\n",
       "          -6.9314718e-01],\n",
       "         [-1.0596601e+00, -6.9314718e-01, -6.9314718e-01,\n",
       "          -6.9314718e-01],\n",
       "         [-1.8148809e-11, -3.5419083e+00, -3.2167511e+00,\n",
       "           0.0000000e+00]],\n",
       "\n",
       "        [[-6.4393684e-02, -4.4999905e+00, -2.6374254e+00,\n",
       "          -1.1621323e-05],\n",
       "         [-6.4393684e-02, -4.1399975e+00, -2.3136692e+00,\n",
       "          -1.1621323e-05],\n",
       "         [-6.4393684e-02, -3.3057690e+00, -2.3136692e+00,\n",
       "          -1.1621323e-05],\n",
       "         ...,\n",
       "         [-1.0596601e+00, -6.9314718e-01, -6.9314718e-01,\n",
       "          -1.0596601e+00],\n",
       "         [-5.7442770e-21, -3.3069763e+00, -1.5882157e-02,\n",
       "          -3.2489433e+00],\n",
       "         [-1.0596601e+00, -6.9314718e-01, -2.1193202e+00,\n",
       "          -2.1193202e+00]],\n",
       "\n",
       "        ...,\n",
       "\n",
       "        [[-6.4393684e-02, -2.8178692e+00, -3.0920658e+00,\n",
       "          -1.1621323e-05],\n",
       "         [-2.8071334e+00, -3.0282803e+00, -3.1153316e+00,\n",
       "          -1.1621323e-05],\n",
       "         [-6.4393684e-02, -3.0282803e+00, -2.1234436e+00,\n",
       "          -1.1621323e-05],\n",
       "         ...,\n",
       "         [-6.9314718e-01, -6.9314718e-01, -1.0596601e+00,\n",
       "          -6.9314718e-01],\n",
       "         [-2.1193202e+00, -6.9314718e-01, -6.9314718e-01,\n",
       "          -2.1193202e+00],\n",
       "         [-1.8148809e-11, -4.8526993e+00, -3.3395844e+00,\n",
       "           0.0000000e+00]],\n",
       "\n",
       "        [[-2.8071334e+00, -2.4853382e+00, -2.0839205e+00,\n",
       "          -1.1621323e-05],\n",
       "         [-2.8071334e+00, -2.4706402e+00, -3.0920658e+00,\n",
       "          -1.1621323e-05],\n",
       "         [-6.4393684e-02, -2.4706402e+00, -2.0510015e+00,\n",
       "          -1.1621323e-05],\n",
       "         ...,\n",
       "         [-6.9314718e-01, -6.9314718e-01, -1.0596601e+00,\n",
       "          -3.5844455e+00],\n",
       "         [-6.9314718e-01, -6.9314718e-01, -6.9314718e-01,\n",
       "          -6.9314718e-01],\n",
       "         [-6.9314718e-01, -6.9314718e-01, -6.9314718e-01,\n",
       "          -6.9314718e-01]],\n",
       "\n",
       "        [[-6.4393684e-02, -2.4853382e+00, -2.7226753e+00,\n",
       "          -1.1621323e-05],\n",
       "         [-6.4393684e-02, -2.5465565e+00, -2.0510015e+00,\n",
       "          -1.1621323e-05],\n",
       "         [-6.4393684e-02, -2.5726986e+00, -2.0510015e+00,\n",
       "          -1.1621323e-05],\n",
       "         ...,\n",
       "         [-2.1193202e+00, -6.9314718e-01, -6.9314718e-01,\n",
       "          -6.9314718e-01],\n",
       "         [-6.9314718e-01, -1.0596601e+00, -1.0596601e+00,\n",
       "          -2.1193202e+00],\n",
       "         [-1.0596601e+00, -6.9314718e-01, -6.9314718e-01,\n",
       "          -6.9314718e-01]]]], dtype=float32)>"
      ]
     },
     "execution_count": 59,
     "metadata": {},
     "output_type": "execute_result"
    }
   ],
   "source": [
    "log_probs"
   ]
  },
  {
   "cell_type": "code",
   "execution_count": 65,
   "metadata": {},
   "outputs": [
    {
     "data": {
      "text/plain": [
       "<tf.Tensor: shape=(12, 4), dtype=float32, numpy=\n",
       "array([[6.4393684e-02, 2.6521797e+00, 2.0417461e+00, 1.1621323e-05],\n",
       "       [6.4393684e-02, 2.6824989e+00, 2.0417461e+00, 1.1621323e-05],\n",
       "       [6.4393684e-02, 2.6521797e+00, 2.0417461e+00, 1.1621323e-05],\n",
       "       [6.4393684e-02, 3.2517700e+00, 2.4204483e+00, 1.1621323e-05],\n",
       "       [2.0603862e-02, 5.5735474e+00, 2.2872677e+00, 8.9200782e-08],\n",
       "       [8.0944866e-02, 2.1682796e+00, 2.0345354e+00, 3.9605020e-05],\n",
       "       [2.0603862e-02, 2.9631653e+00, 2.3217087e+00, 8.9200782e-08],\n",
       "       [2.0603862e-02, 3.1296272e+00, 2.4280634e+00, 8.9200782e-08],\n",
       "       [6.9314718e-01, 6.9314718e-01, 6.9314718e-01, 1.0596601e+00],\n",
       "       [3.1590118e+00, 4.6962585e+00, 3.0349274e+00,           nan],\n",
       "       [5.7442770e-21, 3.1547241e+00, 1.5882157e-02, 2.8717499e+00],\n",
       "       [1.8148809e-11, 3.2955322e+00, 3.2500610e+00,           nan]],\n",
       "      dtype=float32)>"
      ]
     },
     "execution_count": 65,
     "metadata": {},
     "output_type": "execute_result"
    }
   ],
   "source": [
    "my_log_probs[0,0,:,:]"
   ]
  },
  {
   "cell_type": "code",
   "execution_count": 66,
   "metadata": {},
   "outputs": [
    {
     "data": {
      "text/plain": [
       "<tf.Tensor: shape=(12, 4), dtype=float32, numpy=\n",
       "array([[6.4393684e-02, 2.2325790e+01, 9.6761732e+00, 1.1621321e-05],\n",
       "       [6.4393684e-02, 2.2325790e+01, 9.6761732e+00, 1.1621321e-05],\n",
       "       [6.4393684e-02, 2.2325790e+01, 9.6761732e+00, 1.1621321e-05],\n",
       "       [6.4393684e-02, 2.2325790e+01, 9.6761732e+00, 1.1621321e-05],\n",
       "       [2.0603864e-02, 3.1893986e+01, 1.3823015e+01, 8.9200782e-08],\n",
       "       [8.0944851e-02, 1.1598071e+01, 9.5642900e+00, 3.9604991e-05],\n",
       "       [2.0603864e-02, 3.1893986e+01, 1.3823015e+01, 8.9200782e-08],\n",
       "       [2.0603864e-02, 3.1893986e+01, 1.3823015e+01, 8.9200782e-08],\n",
       "       [6.9314718e-01, 6.9314718e-01, 6.9314718e-01, 6.9314718e-01],\n",
       "       [3.2618927e+01, 1.1817080e+02, 4.6722557e+01, 0.0000000e+00],\n",
       "       [5.7442770e-21, 8.4788452e+01, 1.5882159e-02, 4.4143806e+01],\n",
       "       [1.8148809e-11, 1.1598061e+02, 9.5642197e+01, 0.0000000e+00]],\n",
       "      dtype=float32)>"
      ]
     },
     "execution_count": 66,
     "metadata": {},
     "output_type": "execute_result"
    }
   ],
   "source": [
    "prob_params[0,:,:]"
   ]
  },
  {
   "cell_type": "code",
   "execution_count": 24,
   "metadata": {},
   "outputs": [
    {
     "ename": "InvalidArgumentError",
     "evalue": "{{function_node __wrapped__Mul_device_/job:localhost/replica:0/task:0/device:CPU:0}} Incompatible shapes: [3,1,1] vs. [2,200,12] [Op:Mul] name: ",
     "output_type": "error",
     "traceback": [
      "\u001b[0;31m---------------------------------------------------------------------------\u001b[0m",
      "\u001b[0;31mInvalidArgumentError\u001b[0m                      Traceback (most recent call last)",
      "Cell \u001b[0;32mIn[24], line 11\u001b[0m\n\u001b[1;32m      7\u001b[0m A_expanded \u001b[38;5;241m=\u001b[39m tf\u001b[38;5;241m.\u001b[39mexpand_dims(A, axis\u001b[38;5;241m=\u001b[39m\u001b[38;5;241m-\u001b[39m\u001b[38;5;241m1\u001b[39m)\n\u001b[1;32m      9\u001b[0m \u001b[38;5;66;03m# Multiply A_expanded by B\u001b[39;00m\n\u001b[1;32m     10\u001b[0m \u001b[38;5;66;03m# Result shape will be (2, 200, 3, 12)\u001b[39;00m\n\u001b[0;32m---> 11\u001b[0m result \u001b[38;5;241m=\u001b[39m \u001b[43mA_expanded\u001b[49m\u001b[43m \u001b[49m\u001b[38;5;241;43m*\u001b[39;49m\u001b[43m \u001b[49m\u001b[43mB\u001b[49m\n",
      "File \u001b[0;32m/cluster/tufts/hugheslab/kheuto01/mambaforge/envs/pip_k2_tf/lib/python3.11/site-packages/tensorflow/python/util/traceback_utils.py:153\u001b[0m, in \u001b[0;36mfilter_traceback.<locals>.error_handler\u001b[0;34m(*args, **kwargs)\u001b[0m\n\u001b[1;32m    151\u001b[0m \u001b[38;5;28;01mexcept\u001b[39;00m \u001b[38;5;167;01mException\u001b[39;00m \u001b[38;5;28;01mas\u001b[39;00m e:\n\u001b[1;32m    152\u001b[0m   filtered_tb \u001b[38;5;241m=\u001b[39m _process_traceback_frames(e\u001b[38;5;241m.\u001b[39m__traceback__)\n\u001b[0;32m--> 153\u001b[0m   \u001b[38;5;28;01mraise\u001b[39;00m e\u001b[38;5;241m.\u001b[39mwith_traceback(filtered_tb) \u001b[38;5;28;01mfrom\u001b[39;00m \u001b[38;5;28;01mNone\u001b[39;00m\n\u001b[1;32m    154\u001b[0m \u001b[38;5;28;01mfinally\u001b[39;00m:\n\u001b[1;32m    155\u001b[0m   \u001b[38;5;28;01mdel\u001b[39;00m filtered_tb\n",
      "File \u001b[0;32m/cluster/tufts/hugheslab/kheuto01/mambaforge/envs/pip_k2_tf/lib/python3.11/site-packages/tensorflow/python/framework/ops.py:5883\u001b[0m, in \u001b[0;36mraise_from_not_ok_status\u001b[0;34m(e, name)\u001b[0m\n\u001b[1;32m   5881\u001b[0m \u001b[38;5;28;01mdef\u001b[39;00m \u001b[38;5;21mraise_from_not_ok_status\u001b[39m(e, name) \u001b[38;5;241m-\u001b[39m\u001b[38;5;241m>\u001b[39m NoReturn:\n\u001b[1;32m   5882\u001b[0m   e\u001b[38;5;241m.\u001b[39mmessage \u001b[38;5;241m+\u001b[39m\u001b[38;5;241m=\u001b[39m (\u001b[38;5;124m\"\u001b[39m\u001b[38;5;124m name: \u001b[39m\u001b[38;5;124m\"\u001b[39m \u001b[38;5;241m+\u001b[39m \u001b[38;5;28mstr\u001b[39m(name \u001b[38;5;28;01mif\u001b[39;00m name \u001b[38;5;129;01mis\u001b[39;00m \u001b[38;5;129;01mnot\u001b[39;00m \u001b[38;5;28;01mNone\u001b[39;00m \u001b[38;5;28;01melse\u001b[39;00m \u001b[38;5;124m\"\u001b[39m\u001b[38;5;124m\"\u001b[39m))\n\u001b[0;32m-> 5883\u001b[0m   \u001b[38;5;28;01mraise\u001b[39;00m core\u001b[38;5;241m.\u001b[39m_status_to_exception(e) \u001b[38;5;28;01mfrom\u001b[39;00m \u001b[38;5;28;01mNone\u001b[39;00m\n",
      "\u001b[0;31mInvalidArgumentError\u001b[0m: {{function_node __wrapped__Mul_device_/job:localhost/replica:0/task:0/device:CPU:0}} Incompatible shapes: [3,1,1] vs. [2,200,12] [Op:Mul] name: "
     ]
    }
   ],
   "source": [
    "# Define your tensors as Python variables\n",
    "A = tf.Variable(tf.random.normal([3, 1]))  # Example random initialization\n",
    "B = tf.Variable(tf.random.normal([2, 200, 12]))  # Example random initialization\n",
    "\n",
    "# Expand dimensions of A to match the shape of B\n",
    "# The new shape will be (3, 1, 1)\n",
    "A_expanded = tf.expand_dims(A, axis=-1)\n",
    "\n",
    "# Multiply A_expanded by B\n",
    "# Result shape will be (2, 200, 3, 12)\n",
    "result = A_expanded * B\n",
    "result.shape"
   ]
  },
  {
   "cell_type": "code",
   "execution_count": 29,
   "metadata": {},
   "outputs": [
    {
     "data": {
      "text/plain": [
       "<tf.Tensor: shape=(300, 12), dtype=float32, numpy=\n",
       "array([[ 9.5758314e-04, -1.4900744e-04, -4.4442251e-04, ...,\n",
       "         1.3997008e-03,  1.5834172e-03,  8.3316190e-05],\n",
       "       [ 4.2887675e-04,  1.8113095e-04,  3.8881294e-04, ...,\n",
       "        -2.5158492e-04, -5.4394361e-03,  6.2560267e-04],\n",
       "       [-1.3380859e-03, -4.1314977e-04,  2.1057956e-04, ...,\n",
       "         2.4359687e-03,  1.0059469e-03,  5.8637129e-04],\n",
       "       ...,\n",
       "       [-1.6016867e-04,  6.7898765e-04,  3.1120621e-04, ...,\n",
       "        -4.1304049e-03,  7.4906932e-04,  1.1425787e-03],\n",
       "       [ 3.8880884e-04,  5.5720104e-04, -2.1608907e-04, ...,\n",
       "         9.8572788e-04, -4.6086917e-03,  1.0958280e-03],\n",
       "       [-1.2019272e-03, -1.9123746e-04, -5.3372973e-04, ...,\n",
       "         3.8452941e-04,  1.2894482e-03,  1.0369413e-03]], dtype=float32)>"
      ]
     },
     "execution_count": 29,
     "metadata": {},
     "output_type": "execute_result"
    }
   ],
   "source": [
    "loss_gradients"
   ]
  },
  {
   "cell_type": "code",
   "execution_count": null,
   "metadata": {},
   "outputs": [],
   "source": []
  }
 ],
 "metadata": {
  "kernelspec": {
   "display_name": "pip_k2_tf",
   "language": "python",
   "name": "python3"
  },
  "language_info": {
   "codemirror_mode": {
    "name": "ipython",
    "version": 3
   },
   "file_extension": ".py",
   "mimetype": "text/x-python",
   "name": "python",
   "nbconvert_exporter": "python",
   "pygments_lexer": "ipython3",
   "version": "3.11.7"
  }
 },
 "nbformat": 4,
 "nbformat_minor": 2
}
