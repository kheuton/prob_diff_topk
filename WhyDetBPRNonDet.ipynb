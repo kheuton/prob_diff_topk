{
 "cells": [
  {
   "cell_type": "code",
   "execution_count": 3,
   "metadata": {},
   "outputs": [],
   "source": [
    "import os\n",
    "import glob\n",
    "import torch\n",
    "import pandas as pd\n",
    "import numpy as np\n",
    "from pathlib import Path\n",
    "\n",
    "# add code directory to path\n",
    "import sys\n",
    "sys.path.append('/cluster/home/kheuto01/code/prob_diff_topk')\n",
    "\n",
    "from torch_models import NegativeBinomialRegressionModel\n",
    "from metrics import top_k_onehot_indicator\n",
    "from functools import partial\n",
    "from torch_models import NegativeBinomialRegressionModel\n",
    "from metrics import top_k_onehot_indicator\n",
    "from torch_perturb.perturbations import perturbed\n",
    "from torch_models import torch_bpr_uncurried, deterministic_bpr\n",
    "from matplotlib import pyplot as plt\n"
   ]
  },
  {
   "cell_type": "code",
   "execution_count": 4,
   "metadata": {},
   "outputs": [],
   "source": [
    "\n",
    "def load_data(data_dir):\n",
    "    \"\"\"Load and process training, validation, and test data.\"\"\"\n",
    "    # Load data\n",
    "    train_X_df = pd.read_csv(os.path.join(data_dir, 'train_x.csv'), index_col=[0,1])\n",
    "    train_Y_df = pd.read_csv(os.path.join(data_dir, 'train_y.csv'), index_col=[0,1])\n",
    "    val_X_df = pd.read_csv(os.path.join(data_dir, 'valid_x.csv'), index_col=[0,1])\n",
    "    val_Y_df = pd.read_csv(os.path.join(data_dir, 'valid_y.csv'), index_col=[0,1])\n",
    "    test_X_df = pd.read_csv(os.path.join(data_dir, 'test_x.csv'), index_col=[0,1])\n",
    "    test_Y_df = pd.read_csv(os.path.join(data_dir, 'test_y.csv'), index_col=[0,1])\n",
    "    \n",
    "    def convert_df_to_3d_array(df):\n",
    "        geoids = sorted(df.index.get_level_values('geoid').unique())\n",
    "        timesteps = sorted(df.index.get_level_values('timestep').unique())\n",
    "        geoid_to_idx = {geoid: idx for idx, geoid in enumerate(geoids)}\n",
    "        \n",
    "        num_timesteps = len(timesteps)\n",
    "        num_locations = len(geoids)\n",
    "        num_features = len(df.columns)\n",
    "        X = np.zeros((num_timesteps, num_locations, num_features))\n",
    "        \n",
    "        for (geoid, timestep), row in df.iterrows():\n",
    "            t_idx = timesteps.index(timestep)\n",
    "            g_idx = geoid_to_idx[geoid]\n",
    "            X[t_idx, g_idx, :] = row.values\n",
    "            \n",
    "        return X, geoids, timesteps\n",
    "\n",
    "    def convert_y_df_to_2d_array(y_df, geoids, timesteps):\n",
    "        num_timesteps = len(timesteps)\n",
    "        num_locations = len(geoids)\n",
    "        y = np.zeros((num_timesteps, num_locations))\n",
    "        geoid_to_idx = {geoid: idx for idx, geoid in enumerate(geoids)}\n",
    "        \n",
    "        for (geoid, timestep), value in y_df.iloc[:, 0].items():\n",
    "            t_idx = timesteps.index(timestep)\n",
    "            g_idx = geoid_to_idx[geoid]\n",
    "            y[t_idx, g_idx] = value\n",
    "            \n",
    "        return y\n",
    "\n",
    "    # Process training data\n",
    "    train_X, geoids, timesteps = convert_df_to_3d_array(train_X_df)#.drop(columns='timestep.1'))\n",
    "    train_time = np.array([timesteps] * len(geoids)).T\n",
    "    train_y = convert_y_df_to_2d_array(train_Y_df, geoids, timesteps)\n",
    "\n",
    "    # Process validation data\n",
    "    val_X, val_geoids, val_timesteps = convert_df_to_3d_array(val_X_df)#.drop(columns='timestep.1'))\n",
    "    val_time = np.array([val_timesteps] * len(val_geoids)).T\n",
    "    val_y = convert_y_df_to_2d_array(val_Y_df, val_geoids, val_timesteps)\n",
    "\n",
    "    # Process test data\n",
    "    test_X, test_geoids, test_timesteps = convert_df_to_3d_array(test_X_df)#.drop(columns='timestep.1'))\n",
    "    test_time = np.array([test_timesteps] * len(test_geoids)).T\n",
    "    test_y = convert_y_df_to_2d_array(test_Y_df, test_geoids, test_timesteps)\n",
    "\n",
    "    return {\n",
    "        'train': (torch.tensor(train_X, dtype=torch.float32), \n",
    "                 torch.tensor(train_time, dtype=torch.float32),\n",
    "                 torch.tensor(train_y, dtype=torch.float32)),\n",
    "        'val': (torch.tensor(val_X, dtype=torch.float32),\n",
    "               torch.tensor(val_time, dtype=torch.float32),\n",
    "               torch.tensor(val_y, dtype=torch.float32)),\n",
    "        'test': (torch.tensor(test_X, dtype=torch.float32),\n",
    "                torch.tensor(test_time, dtype=torch.float32),\n",
    "                torch.tensor(test_y, dtype=torch.float32))\n",
    "    }"
   ]
  },
  {
   "cell_type": "code",
   "execution_count": 5,
   "metadata": {},
   "outputs": [],
   "source": [
    "data_dir = '/cluster/tufts/hugheslab/datasets/NSF_OD/cleaned/long/MA'\n",
    "base_dir = '/cluster/tufts/hugheslab/kheuto01/opioid_hpc_test_long_big/MA/'"
   ]
  },
  {
   "cell_type": "code",
   "execution_count": 6,
   "metadata": {},
   "outputs": [],
   "source": [
    "model_path = '/cluster/tufts/hugheslab/kheuto01/opioid_hpc_test_long_big/MA/K100_bw30_nw1_ss0.001_nss100_nps100_seed123_sig0.1_tr1/best_model.pth'"
   ]
  },
  {
   "cell_type": "code",
   "execution_count": 7,
   "metadata": {},
   "outputs": [],
   "source": [
    "device = 'cuda'\n",
    "K=100"
   ]
  },
  {
   "cell_type": "code",
   "execution_count": 8,
   "metadata": {},
   "outputs": [],
   "source": [
    "data = load_data(data_dir)\n",
    "\n",
    "# Move data to device\n",
    "val_data = tuple(x.to(device) for x in data['val'])\n",
    "test_data = tuple(x.to(device) for x in data['test'])"
   ]
  },
  {
   "cell_type": "code",
   "execution_count": 9,
   "metadata": {},
   "outputs": [
    {
     "data": {
      "text/plain": [
       "NegativeBinomialRegressionModel()"
      ]
     },
     "execution_count": 9,
     "metadata": {},
     "output_type": "execute_result"
    }
   ],
   "source": [
    "model = NegativeBinomialRegressionModel(\n",
    "    num_locations=data['train'][0].shape[1],\n",
    "    num_fixed_effects=data['train'][0].shape[2]\n",
    ").to(device)\n",
    "\n",
    "\n",
    "# Load saved weights\n",
    "model.load_state_dict(torch.load(model_path, map_location=device))\n",
    "model.eval()"
   ]
  },
  {
   "cell_type": "code",
   "execution_count": 10,
   "metadata": {},
   "outputs": [
    {
     "name": "stdout",
     "output_type": "stream",
     "text": [
      "unconstrained theta: Parameter containing:\n",
      "tensor([-1.5398], device='cuda:0', requires_grad=True)\n",
      "Theta: tensor([0.1766], device='cuda:0', grad_fn=<SigmoidBackward0>)\n"
     ]
    }
   ],
   "source": [
    "dist = model(val_data[0], val_data[1])"
   ]
  },
  {
   "cell_type": "code",
   "execution_count": 11,
   "metadata": {},
   "outputs": [],
   "source": [
    "num_score_samples = 1000000"
   ]
  },
  {
   "cell_type": "code",
   "execution_count": 51,
   "metadata": {},
   "outputs": [
    {
     "name": "stdout",
     "output_type": "stream",
     "text": [
      "torch.Size([1])\n",
      "Det BP: 0.6191489100456238\n"
     ]
    }
   ],
   "source": [
    "y_sample_TMS = dist.sample((num_score_samples,)).permute(1, 0, 2)\n",
    "ratio_rating_TMS = y_sample_TMS/y_sample_TMS.sum(dim=-1, keepdim=True)\n",
    "ratio_rating_TS = ratio_rating_TMS.mean(dim=1)\n",
    "\n",
    "# Calculate deterministic BPR\n",
    "det_bpr = deterministic_bpr(ratio_rating_TS, val_data[2], K=K)\n",
    "det_bpr = torch.mean(det_bpr)\n",
    "print(f'Det BP: {det_bpr.item()}')"
   ]
  },
  {
   "cell_type": "code",
   "execution_count": 31,
   "metadata": {},
   "outputs": [],
   "source": [
    "# Repeat the above cell 1000 times\n",
    "# at each iteration, record the indicies of the top K entries in ratio_rating_TS\n",
    "# count how many times each location is in the top K entries\n",
    "\n",
    "num_iters = 1000\n",
    "top_k_counts = torch.zeros_like(val_data[2])\n",
    "for i in range(num_iters):\n",
    "    y_sample_TMS = dist.sample((num_score_samples,)).permute(1, 0, 2)\n",
    "    ratio_rating_TMS = y_sample_TMS/y_sample_TMS.sum(dim=-1, keepdim=True)\n",
    "    ratio_rating_TS = ratio_rating_TMS.mean(dim=1)\n",
    "    top_k_indices = top_k_onehot_indicator(ratio_rating_TS, K)\n",
    "    top_k_counts += top_k_indices.sum(dim=1)"
   ]
  },
  {
   "cell_type": "code",
   "execution_count": 48,
   "metadata": {},
   "outputs": [
    {
     "data": {
      "text/plain": [
       "<matplotlib.collections.PathCollection at 0x2b5316511fd0>"
      ]
     },
     "execution_count": 48,
     "metadata": {},
     "output_type": "execute_result"
    },
    {
     "data": {
      "image/png": "[encoded data removed]",
      "text/plain": [
       "<Figure size 640x480 with 1 Axes>"
      ]
     },
     "metadata": {},
     "output_type": "display_data"
    }
   ],
   "source": [
    "# graph the unique values of the counts and their relative frequency\n",
    "# dont plot 0's\n",
    "unique, counts = top_k_counts.unique(return_counts=True)\n",
    "# set to cpu\n",
    "unique = unique.cpu().numpy()\n",
    "counts = counts.cpu().numpy()\n",
    "unique = unique[1:]\n",
    "counts = counts[1:]\n",
    "plt.scatter(unique, counts/num_iters)"
   ]
  },
  {
   "cell_type": "code",
   "execution_count": 49,
   "metadata": {},
   "outputs": [
    {
     "data": {
      "text/plain": [
       "array([ 1,  1,  1,  1, 99])"
      ]
     },
     "execution_count": 49,
     "metadata": {},
     "output_type": "execute_result"
    }
   ],
   "source": [
    "counts"
   ]
  },
  {
   "cell_type": "code",
   "execution_count": 53,
   "metadata": {},
   "outputs": [],
   "source": [
    "# count distinct values in ratio_rating_TS\n",
    "unique, counts = torch.unique(ratio_rating_TS, return_counts=True)"
   ]
  },
  {
   "cell_type": "code",
   "execution_count": 50,
   "metadata": {},
   "outputs": [
    {
     "data": {
      "text/plain": [
       "array([   9.,  165.,  224.,  602., 1000.], dtype=float32)"
      ]
     },
     "execution_count": 50,
     "metadata": {},
     "output_type": "execute_result"
    }
   ],
   "source": [
    "unique"
   ]
  },
  {
   "cell_type": "code",
   "execution_count": 55,
   "metadata": {},
   "outputs": [
    {
     "data": {
      "text/plain": [
       "tensor(1979., device='cuda:0')"
      ]
     },
     "execution_count": 55,
     "metadata": {},
     "output_type": "execute_result"
    }
   ],
   "source": [
    "y_sample_TMS.sum(dim=-1, keepdim=True).min()"
   ]
  },
  {
   "cell_type": "code",
   "execution_count": null,
   "metadata": {},
   "outputs": [],
   "source": []
  }
 ],
 "metadata": {
  "kernelspec": {
   "display_name": "pip_k3",
   "language": "python",
   "name": "python3"
  },
  "language_info": {
   "codemirror_mode": {
    "name": "ipython",
    "version": 3
   },
   "file_extension": ".py",
   "mimetype": "text/x-python",
   "name": "python",
   "nbconvert_exporter": "python",
   "pygments_lexer": "ipython3",
   "version": "3.11.8"
  }
 },
 "nbformat": 4,
 "nbformat_minor": 2
}
