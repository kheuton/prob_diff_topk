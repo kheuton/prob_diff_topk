{
 "cells": [
  {
   "cell_type": "code",
   "execution_count": 1,
   "metadata": {},
   "outputs": [
    {
     "name": "stderr",
     "output_type": "stream",
     "text": [
      "2024-08-23 12:32:07.067848: I tensorflow/core/util/port.cc:113] oneDNN custom operations are on. You may see slightly different numerical results due to floating-point round-off errors from different computation orders. To turn them off, set the environment variable `TF_ENABLE_ONEDNN_OPTS=0`.\n",
      "2024-08-23 12:32:08.147754: E external/local_xla/xla/stream_executor/cuda/cuda_dnn.cc:9261] Unable to register cuDNN factory: Attempting to register factory for plugin cuDNN when one has already been registered\n",
      "2024-08-23 12:32:08.147819: E external/local_xla/xla/stream_executor/cuda/cuda_fft.cc:607] Unable to register cuFFT factory: Attempting to register factory for plugin cuFFT when one has already been registered\n",
      "2024-08-23 12:32:08.323680: E external/local_xla/xla/stream_executor/cuda/cuda_blas.cc:1515] Unable to register cuBLAS factory: Attempting to register factory for plugin cuBLAS when one has already been registered\n",
      "2024-08-23 12:32:08.717141: I tensorflow/core/platform/cpu_feature_guard.cc:182] This TensorFlow binary is optimized to use available CPU instructions in performance-critical operations.\n",
      "To enable the following instructions: AVX2 AVX512F AVX512_VNNI AVX512_BF16 AVX_VNNI AMX_TILE AMX_INT8 AMX_BF16 FMA, in other operations, rebuild TensorFlow with the appropriate compiler flags.\n",
      "2024-08-23 12:32:12.483032: W tensorflow/compiler/tf2tensorrt/utils/py_utils.cc:38] TF-TRT Warning: Could not find TensorRT\n"
     ]
    }
   ],
   "source": [
    "%load_ext autoreload\n",
    "%autoreload 2\n",
    "import scipy\n",
    "import numpy as np\n",
    "import tensorflow as tf\n",
    "import tensorflow_probability as tfp\n",
    "import matplotlib.pyplot as plt\n",
    "import keras\n",
    "\n",
    "import time"
   ]
  },
  {
   "cell_type": "markdown",
   "metadata": {},
   "source": [
    "## Observations\n",
    "At each timestep $t$, we observe $S=1$ artificial locations. The observed value $y_{s,t}$ is realization of random variable $Y_s$, which is normally distributed with unit variance and a location-specific mean: $Y_{s,t} \\sim \\mathcal{N}(\\mu_s, 1)$. The mean is $\\mu = [10]$."
   ]
  },
  {
   "cell_type": "code",
   "execution_count": 2,
   "metadata": {},
   "outputs": [],
   "source": [
    "S=1\n",
    "scale = 1\n",
    "means = [10]\n",
    "# simulate data for each location\n",
    "data_distributions = [scipy.stats.norm(loc=mean, scale=scale) for mean in means]"
   ]
  },
  {
   "cell_type": "markdown",
   "metadata": {},
   "source": [
    "In total, we observe $T=1000$ examples. We frame this as a machine learning problem and our goal is to train a model to accurately predict $y$."
   ]
  },
  {
   "cell_type": "code",
   "execution_count": 3,
   "metadata": {},
   "outputs": [],
   "source": [
    "T=1000\n",
    "# create random state for sampling\n",
    "seed=360\n",
    "rng = np.random.RandomState(seed)\n",
    "y_TS = np.array([dist.rvs(size=T, random_state=rng) for dist in data_distributions]).T\n",
    "assert(y_TS.shape == (T, S))"
   ]
  },
  {
   "cell_type": "code",
   "execution_count": 4,
   "metadata": {},
   "outputs": [
    {
     "data": {
      "text/plain": [
       "<matplotlib.legend.Legend at 0x14bb6d5a16d0>"
      ]
     },
     "execution_count": 4,
     "metadata": {},
     "output_type": "execute_result"
    },
    {
     "data": {
      "image/png": "[encoded data removed]",
      "text/plain": [
       "<Figure size 640x480 with 1 Axes>"
      ]
     },
     "metadata": {},
     "output_type": "display_data"
    }
   ],
   "source": [
    "plt.hist(tf.reshape(y_TS, [-1]).numpy(),alpha=0.5, bins=45, label='y true')\n",
    "plt.legend()"
   ]
  },
  {
   "cell_type": "markdown",
   "metadata": {},
   "source": [
    "## Model\n",
    "We will model this with the true model: predictions $\\hat{y}_{s,t}$ will come from S, location-specific normal distributions, where the mean is determined by a function $f_{\\phi_s}(x)$ with location-specific parameters $\\phi_s$, and the variance is fixed to the true value of 1.\n",
    "\n",
    "$$p(\\hat{y}_{s,t}) = \\mathcal{N}(\\hat{y}_{s,t}| \\phi_s, 1)$$\n",
    "All locations are independent:\n",
    "$$p(\\hat{y}_{t}) = \\prod_{s=1}^S \\mathcal{N}(\\hat{y}_{s,t}| \\phi_s, 1)$$\n",
    "\n",
    "\n",
    "Our model can trivially recover the true data generating process by setting the parameter to the true mean $\\phi_s = \\mu_s$\n",
    "\n",
    "## Objective\n",
    "We will use our model's predictions $\\hat{y}$ in order to choose some action $\\theta$, which can be calculated by a deterministic but not necessarily differentiable function $a$ of $\\hat{y}$:\n",
    "$$\\theta_t = a(\\hat{y}_t)$$\n",
    "\n",
    "Given a decision $\\theta$, we can calculate a loss between our action and the observed outcome $\\mathcal{L}(\\theta_t, y_t)$. Our goal is to calculate gradients of that loss with respect to our model parameters. We can use the chain rule to decompose the gradient into two parts:\n",
    "$$ \\nabla_\\phi \\mathcal{L}(\\theta_t, y_t) = \\nabla_\\phi \\theta \\nabla_\\theta  \\mathcal{L}(\\theta_t, y_t)$$\n",
    "\n",
    "When $\\theta$ is non-differentiable, we can obtain gradients using the score-function trick, where we can approximate the gradient using $M$ samples from our probabilistic model $p$\n",
    "$$\\nabla_\\phi \\theta = \\frac{1}{M} \\sum_{m=1}^M \\nabla_\\phi \\log p(y^m) a(y^m)$$\n",
    "\n",
    "Our loss is mean-squared error and easy to differentiate: \n",
    "$$\\mathcal{L} (\\theta_t, y_t) = \\frac{1}{S}\\sum_{s=1}^S(y_t-\\theta_t)^2$$"
   ]
  },
  {
   "cell_type": "markdown",
   "metadata": {},
   "source": [
    "## Implementing the model"
   ]
  },
  {
   "cell_type": "code",
   "execution_count": 5,
   "metadata": {},
   "outputs": [],
   "source": [
    "inputs = keras.Input(shape=0)\n",
    "linear_layer = keras.layers.Dense(S, activation = None)\n",
    "distribution_layer = tfp.layers.DistributionLambda(lambda t: tfp.distributions.Normal(loc=t, scale=1))"
   ]
  },
  {
   "cell_type": "code",
   "execution_count": 6,
   "metadata": {},
   "outputs": [],
   "source": [
    "predicted_means = linear_layer(inputs)\n",
    "distributions = distribution_layer(predicted_means)\n",
    "model = keras.Model(inputs=inputs, outputs=distributions)"
   ]
  },
  {
   "cell_type": "code",
   "execution_count": 7,
   "metadata": {},
   "outputs": [
    {
     "name": "stdout",
     "output_type": "stream",
     "text": [
      "Model parameter shapes: [(0, 1), (1,)]\n"
     ]
    }
   ],
   "source": [
    "x_TF = np.zeros(shape=(1000,0))\n",
    "model_distributions = model(x_TF)\n",
    "print(f'Model parameter shapes: {[w.shape for w in model.get_weights()]}')"
   ]
  },
  {
   "cell_type": "markdown",
   "metadata": {},
   "source": [
    "### Set weights to true values\n",
    "Just set the bias to the true mean"
   ]
  },
  {
   "cell_type": "code",
   "execution_count": 8,
   "metadata": {},
   "outputs": [
    {
     "name": "stdout",
     "output_type": "stream",
     "text": [
      "Biases [10.]\n"
     ]
    }
   ],
   "source": [
    "biases = model.trainable_variables[1]\n",
    "biases.assign(means)\n",
    "\n",
    "print(f'Biases {model.get_weights()[1]}')"
   ]
  },
  {
   "cell_type": "code",
   "execution_count": 9,
   "metadata": {},
   "outputs": [],
   "source": [
    "M=500\n",
    "model_distributions = model(x_TF)\n",
    "sample_y_MTS = model_distributions.sample(M)\n",
    "assert(sample_y_MTS.shape == (M, T, S))\n",
    "\n",
    "sample_log_probs_MTS = model_distributions.log_prob(sample_y_MTS)\n",
    "sample_actions_MTS = tf.identity(sample_y_MTS)\n",
    "expected_actions_TS = tf.reduce_mean(sample_actions_MTS, axis=0)\n",
    "loss_T = keras.losses.mean_squared_error(y_TS, expected_actions_TS)\n",
    "loss = tf.reduce_mean(loss_T)"
   ]
  },
  {
   "cell_type": "code",
   "execution_count": 10,
   "metadata": {},
   "outputs": [
    {
     "data": {
      "text/plain": [
       "<matplotlib.legend.Legend at 0x14bb694f9610>"
      ]
     },
     "execution_count": 10,
     "metadata": {},
     "output_type": "execute_result"
    },
    {
     "data": {
      "image/png": "[encoded data removed]",
      "text/plain": [
       "<Figure size 640x480 with 1 Axes>"
      ]
     },
     "metadata": {},
     "output_type": "display_data"
    }
   ],
   "source": [
    "plt.hist(tf.reshape(expected_actions_TS, [-1]).numpy(),alpha=0.5, bins=45, label=f'expected decision {M} samples')\n",
    "plt.hist(tf.reshape(y_TS, [-1]).numpy(),alpha=0.5, bins=45, label='y true')\n",
    "plt.legend()"
   ]
  },
  {
   "cell_type": "markdown",
   "metadata": {},
   "source": [
    "### Differentiate the score function trick\n",
    "We'll take $M=5$ samples, and use the identity function as our action $a(y)=y$\n",
    "$$ \\nabla_\\phi \\mathcal{L}(\\theta_t, y_t) = \\nabla_\\phi \\theta \\nabla_\\theta  \\mathcal{L}(\\theta_t, y_t)$$\n",
    "\n",
    "When $\\theta$ is non-differentiable, we can obtain gradients using the score-function trick, where we can approximate the gradient using $M$ samples from our probabilistic model $p$\n",
    "$$\\nabla_\\phi \\theta = \\frac{1}{M} \\sum_{m=1}^M \\nabla_\\phi \\log p(y^m) a(y)$$\n",
    "\n",
    "Our loss is mean-squared error and easy to differentiate: \n",
    "$$\\mathcal{L} (\\theta_t, y_t) = \\frac{1}{S}\\sum_{s=1}^S(y_t-\\theta_t)^2$$"
   ]
  },
  {
   "cell_type": "markdown",
   "metadata": {},
   "source": [
    "$$\\nabla_\\phi \\log p(y^m) = \\nabla_\\phi \\left( -\\log (\\sigma) - \\frac{1}{2}\\log (2\\pi) - \\frac{1}{2}(\\frac{y^m-\\phi_\\mu}{\\sigma})^2 \\right)$$"
   ]
  },
  {
   "cell_type": "markdown",
   "metadata": {},
   "source": [
    "$$ \\nabla_\\phi \\log p(y^m) = \\frac{y^m-\\phi_\\mu}{\\sigma^2} = y^m -\\phi_\\mu$$"
   ]
  },
  {
   "cell_type": "markdown",
   "metadata": {},
   "source": [
    "$$\\nabla_\\phi \\theta = \\frac{1}{M} \\sum_{m=1}^M (y^m - \\phi_\\mu) a(y)$$"
   ]
  },
  {
   "cell_type": "markdown",
   "metadata": {},
   "source": [
    " $$\\nabla_\\theta  \\mathcal{L}(\\theta_t, y_t) =  \\nabla_\\theta   \\frac{1}{S}\\sum_{s=1}^S(y_t-\\theta_t)^2$$"
   ]
  },
  {
   "cell_type": "markdown",
   "metadata": {},
   "source": [
    "$$ = \\frac{1}{S}\\sum_{s=1}^S-2(y_t-\\theta_t)$$"
   ]
  },
  {
   "cell_type": "code",
   "execution_count": 11,
   "metadata": {},
   "outputs": [],
   "source": [
    "M=3\n",
    "model_distributions = model(x_TF)\n",
    "sample_y_MTS = model_distributions.sample(M)\n",
    "grad_theta_wrt_phi_TS = tf.reduce_mean((sample_y_MTS - model.trainable_variables[1])*sample_y_MTS, axis=0)\n",
    "\n",
    "sample_actions_MTS = tf.identity(sample_y_MTS)\n",
    "expected_actions_TS = tf.reduce_mean(sample_actions_MTS, axis=0)\n",
    "loss_T = keras.losses.mean_squared_error(y_TS, expected_actions_TS)\n",
    "loss = tf.reduce_mean(loss_T)\n",
    "grad_L_wrt_theta_TS = -2.0*(y_TS-expected_actions_TS)\n",
    "\n",
    "analytical_gradient_TS = grad_theta_wrt_phi_TS*grad_L_wrt_theta_TS"
   ]
  },
  {
   "cell_type": "code",
   "execution_count": 17,
   "metadata": {},
   "outputs": [
    {
     "name": "stdout",
     "output_type": "stream",
     "text": [
      "5.0\n",
      "Elapsed time 0.9904525279998779\n",
      "5.5\n",
      "Elapsed time 0.9966263771057129\n",
      "6.0\n",
      "Elapsed time 1.0462169647216797\n",
      "6.5\n",
      "Elapsed time 0.9944169521331787\n",
      "7.0\n",
      "Elapsed time 1.003328561782837\n",
      "7.5\n",
      "Elapsed time 1.020573377609253\n",
      "8.0\n",
      "Elapsed time 0.9880342483520508\n",
      "8.5\n",
      "Elapsed time 1.0469276905059814\n",
      "9.0\n",
      "Elapsed time 0.9815807342529297\n",
      "9.5\n",
      "Elapsed time 0.9819033145904541\n",
      "10.0\n",
      "Elapsed time 1.0449340343475342\n",
      "10.5\n",
      "Elapsed time 0.9852910041809082\n",
      "11.0\n",
      "Elapsed time 1.0575766563415527\n",
      "11.5\n",
      "Elapsed time 0.9810001850128174\n",
      "12.0\n",
      "Elapsed time 0.9815948009490967\n",
      "12.5\n",
      "Elapsed time 1.0545272827148438\n",
      "13.0\n",
      "Elapsed time 1.023348093032837\n",
      "13.5\n",
      "Elapsed time 1.0518264770507812\n",
      "14.0\n",
      "Elapsed time 0.9839260578155518\n",
      "14.5\n",
      "Elapsed time 0.9809021949768066\n",
      "15.0\n",
      "Elapsed time 1.043529748916626\n"
     ]
    }
   ],
   "source": [
    "M=2\n",
    "\n",
    "analytical_grads, autodiff_grads, losses, param_vals,big_analytical, big_sample, big_grad_theta, big_grad_L = [], [], [], [], [], [], [], []\n",
    "\n",
    "\n",
    "for param_value in np.linspace(5, 15, 21, dtype=np.float32):\n",
    "    print(param_value)\n",
    "    mean_param = [param_value]\n",
    "    variable = model.trainable_variables[1]\n",
    "    variable.assign(mean_param)\n",
    "\n",
    "    start = time.time()\n",
    "\n",
    "    for trial in range(100):\n",
    "        with tf.GradientTape() as master_tape:\n",
    "            model_distributions = model(x_TF)\n",
    "            sample_y_MTS = model_distributions.sample(M)\n",
    "            stopped_samples_MTS = tf.stop_gradient(sample_y_MTS)\n",
    "            sample_log_probs_MTS = model_distributions.log_prob(stopped_samples_MTS)\n",
    "            grad_theta_wrt_phi_MTS = (sample_y_MTS - model.trainable_variables[1])*sample_y_MTS\n",
    "            grad_theta_wrt_phi_TS = tf.reduce_mean(grad_theta_wrt_phi_MTS, axis=0)\n",
    "\n",
    "            sample_actions_MTS = tf.identity(sample_y_MTS)\n",
    "            expected_actions_TS = tf.reduce_mean(sample_actions_MTS, axis=0)\n",
    "            loss_T = keras.losses.mean_squared_error(y_TS, expected_actions_TS)\n",
    "            loss = tf.reduce_mean(loss_T)\n",
    "            grad_L_wrt_theta_TS = -2.0/S*(y_TS-expected_actions_TS)\n",
    "\n",
    "        analytical_gradient_MTS = grad_theta_wrt_phi_MTS*tf.expand_dims(grad_L_wrt_theta_TS,axis=0)\n",
    "        analytical_gradient_TS = grad_theta_wrt_phi_TS*grad_L_wrt_theta_TS\n",
    "        master_gradient = master_tape.gradient(loss_T, model.trainable_weights)\n",
    "        autodiff_grads.append(master_gradient[1][0])\n",
    "        losses.append(loss)\n",
    "        analytical_grads.append(tf.reduce_mean(analytical_gradient_TS, axis=0)[0])\n",
    "        big_analytical.append(analytical_gradient_MTS)\n",
    "        big_sample.append(sample_y_MTS)\n",
    "        big_grad_theta.append(grad_theta_wrt_phi_MTS)\n",
    "        big_grad_L.append(grad_L_wrt_theta_TS)\n",
    "        param_vals.append(param_value)\n",
    "    end = time.time()\n",
    "    elapsed = end - start\n",
    "    print(f'Elapsed time {elapsed}')"
   ]
  },
  {
   "cell_type": "code",
   "execution_count": 13,
   "metadata": {},
   "outputs": [
    {
     "name": "stdout",
     "output_type": "stream",
     "text": [
      "5.0\n",
      "Elapsed time 2.754251003265381\n",
      "5.5\n",
      "Elapsed time 2.8061342239379883\n",
      "6.0\n",
      "Elapsed time 2.7656116485595703\n",
      "6.5\n",
      "Elapsed time 2.655526638031006\n",
      "7.0\n",
      "Elapsed time 2.7829625606536865\n",
      "7.5\n",
      "Elapsed time 2.6928539276123047\n",
      "8.0\n",
      "Elapsed time 2.7095727920532227\n",
      "8.5\n",
      "Elapsed time 2.7565133571624756\n",
      "9.0\n",
      "Elapsed time 2.6590819358825684\n",
      "9.5\n",
      "Elapsed time 2.75555419921875\n",
      "10.0\n",
      "Elapsed time 2.704904317855835\n",
      "10.5\n",
      "Elapsed time 2.6817545890808105\n",
      "11.0\n",
      "Elapsed time 2.765117645263672\n",
      "11.5\n",
      "Elapsed time 2.6305992603302\n",
      "12.0\n",
      "Elapsed time 3.014390707015991\n",
      "12.5\n",
      "Elapsed time 2.8692257404327393\n",
      "13.0\n",
      "Elapsed time 2.6423683166503906\n",
      "13.5\n",
      "Elapsed time 2.747086763381958\n",
      "14.0\n",
      "Elapsed time 2.634608745574951\n",
      "14.5\n",
      "Elapsed time 2.900280714035034\n",
      "15.0\n",
      "Elapsed time 2.9431681632995605\n"
     ]
    }
   ],
   "source": [
    "\n",
    "M=1000\n",
    "\n",
    "analytical_grads1k, autodiff_grads1k, losses1k, param_vals1k, big_analytical1k, big_sample1k, big_grad_theta1k, big_grad_L1k = [], [], [], [], [], [], [], []\n",
    "\n",
    "\n",
    "for param_value in np.linspace(5, 15, 21, dtype=np.float32):\n",
    "    print(param_value)\n",
    "    mean_param = [param_value]\n",
    "    variable = model.trainable_variables[1]\n",
    "    variable.assign(mean_param)\n",
    "\n",
    "    start = time.time()\n",
    "\n",
    "    for trial in range(100):\n",
    "        with tf.GradientTape() as master_tape:\n",
    "            model_distributions = model(x_TF)\n",
    "            sample_y_MTS = model_distributions.sample(M)\n",
    "            sample_y_MTS = sample_y_MTS[:2,:,:]\n",
    "            stopped_samples_MTS = tf.stop_gradient(sample_y_MTS)\n",
    "            sample_log_probs_MTS = model_distributions.log_prob(stopped_samples_MTS)\n",
    "            grad_theta_wrt_phi_MTS = (sample_y_MTS - model.trainable_variables[1])*sample_y_MTS\n",
    "            grad_theta_wrt_phi_TS = tf.reduce_mean(grad_theta_wrt_phi_MTS, axis=0)\n",
    "\n",
    "            sample_actions_MTS = tf.identity(sample_y_MTS)\n",
    "            expected_actions_TS = tf.reduce_mean(sample_actions_MTS, axis=0)\n",
    "            loss_T = keras.losses.mean_squared_error(y_TS, expected_actions_TS)\n",
    "            loss = tf.reduce_mean(loss_T)\n",
    "            grad_L_wrt_theta_TS = -2.0/S*(y_TS-expected_actions_TS)\n",
    "\n",
    "        analytical_gradient_MTS = grad_theta_wrt_phi_MTS*tf.expand_dims(grad_L_wrt_theta_TS,axis=0)\n",
    "        analytical_gradient_TS = grad_theta_wrt_phi_TS*grad_L_wrt_theta_TS\n",
    "        master_gradient = master_tape.gradient(loss_T, model.trainable_weights)\n",
    "        autodiff_grads1k.append(master_gradient[1][0])\n",
    "        losses1k.append(loss)\n",
    "        analytical_grads1k.append(tf.reduce_mean(analytical_gradient_TS, axis=0)[0])\n",
    "        big_analytical1k.append(analytical_gradient_MTS)\n",
    "        big_sample1k.append(sample_y_MTS)\n",
    "        big_grad_theta1k.append(grad_theta_wrt_phi_MTS)\n",
    "        big_grad_L1k.append(grad_L_wrt_theta_TS)\n",
    "        param_vals1k.append(param_value)\n",
    "    end = time.time()\n",
    "    elapsed = end - start\n",
    "    print(f'Elapsed time {elapsed}')"
   ]
  },
  {
   "cell_type": "code",
   "execution_count": 13,
   "metadata": {},
   "outputs": [],
   "source": [
    "def plot_big_results(analytical_grads_MTS, autodiff_grads, losses, param_vals, T,M, num_rows=2, title=None, limit_y=True):\n",
    "    analytical_grads = [tf.reduce_mean(tf.reduce_mean(grad_MTS[:num_rows,:,:], axis=0), axis=0) [0] for grad_MTS in analytical_grads_MTS]\n",
    "\n",
    "    # plot with 2 different scales, 1 y axis for each graph:\n",
    "    fig, ax1 = plt.subplots()\n",
    "\n",
    "    # Plot the first line on ax1\n",
    "    ax1.set_xlabel('3rd cluster mean')\n",
    "    #ax1.set_ylabel('loss')\n",
    "    ax1.plot(param_vals, losses, label='loss')\n",
    "    \n",
    "    ax1.tick_params(axis='y')\n",
    "    if limit_y:\n",
    "        ax1.set_ylim([-10, 10])\n",
    "    plt.legend()\n",
    "    # Create ax2, which shares the same x-axis as ax1\n",
    "    ax2 = ax1#.twinx()\n",
    "    #ax2.set_ylabel('gradient')\n",
    "    # divide by 1000 because autodiff is summing over samples\n",
    "    ax2.plot(param_vals, [mag/T for mag in autodiff_grads], 'g-', label='autodiff gradient')\n",
    "    ax2.plot(param_vals, analytical_grads,'k*',label='score func gradient', )\n",
    "    ax2.tick_params(axis='y')\n",
    "    #ax2.set_ylim([-10,10])\n",
    "\n",
    "    #ax2.set_ylim([-1000, 1000])\n",
    "    #plot vertical line at x=25\n",
    "    plt.axvline(x=10, color='r', linestyle='--', label='true mean')\n",
    "    plt.axhline(y=0, color='r', linestyle=':', label='0 gradient')\n",
    "    fig.tight_layout()\n",
    "    plt.legend()\n",
    "\n",
    "    if title is None:\n",
    "        title = f'Loss and gradients score_func samples M={M}, first {num_rows} taken'\n",
    "\n",
    "    plt.title(title)\n",
    "    plt.show()\n"
   ]
  },
  {
   "cell_type": "code",
   "execution_count": 18,
   "metadata": {},
   "outputs": [
    {
     "data": {
      "image/png": "[encoded data removed]",
      "text/plain": [
       "<Figure size 640x480 with 1 Axes>"
      ]
     },
     "metadata": {},
     "output_type": "display_data"
    },
    {
     "ename": "NameError",
     "evalue": "name 'big_analytical1k' is not defined",
     "output_type": "error",
     "traceback": [
      "\u001b[0;31m---------------------------------------------------------------------------\u001b[0m",
      "\u001b[0;31mNameError\u001b[0m                                 Traceback (most recent call last)",
      "Cell \u001b[0;32mIn[18], line 2\u001b[0m\n\u001b[1;32m      1\u001b[0m plot_big_results(big_analytical, autodiff_grads, losses, param_vals, T, M\u001b[38;5;241m=\u001b[39m\u001b[38;5;241m2\u001b[39m, limit_y\u001b[38;5;241m=\u001b[39m\u001b[38;5;28;01mFalse\u001b[39;00m)\n\u001b[0;32m----> 2\u001b[0m plot_big_results(\u001b[43mbig_analytical1k\u001b[49m, autodiff_grads1k, losses1k, param_vals1k, T, M\u001b[38;5;241m=\u001b[39m\u001b[38;5;241m1000\u001b[39m, num_rows\u001b[38;5;241m=\u001b[39m\u001b[38;5;241m2\u001b[39m, limit_y\u001b[38;5;241m=\u001b[39m\u001b[38;5;28;01mFalse\u001b[39;00m)\n",
      "\u001b[0;31mNameError\u001b[0m: name 'big_analytical1k' is not defined"
     ]
    }
   ],
   "source": [
    "plot_big_results(big_analytical, autodiff_grads, losses, param_vals, T, M=2, limit_y=False)\n",
    "plot_big_results(big_analytical1k, autodiff_grads1k, losses1k, param_vals1k, T, M=1000, num_rows=2, limit_y=False)"
   ]
  },
  {
   "cell_type": "code",
   "execution_count": null,
   "metadata": {},
   "outputs": [],
   "source": [
    " "
   ]
  }
 ],
 "metadata": {
  "kernelspec": {
   "display_name": "pip_k2_tf",
   "language": "python",
   "name": "python3"
  },
  "language_info": {
   "codemirror_mode": {
    "name": "ipython",
    "version": 3
   },
   "file_extension": ".py",
   "mimetype": "text/x-python",
   "name": "python",
   "nbconvert_exporter": "python",
   "pygments_lexer": "ipython3",
   "version": "3.11.7"
  }
 },
 "nbformat": 4,
 "nbformat_minor": 2
}
